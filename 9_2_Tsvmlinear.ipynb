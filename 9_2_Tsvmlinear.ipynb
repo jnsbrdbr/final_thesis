{
  "cells": [
    {
      "cell_type": "markdown",
      "metadata": {
        "id": "view-in-github",
        "colab_type": "text"
      },
      "source": [
        "<a href=\"https://colab.research.google.com/github/jnsbrdbr/final_thesis/blob/main/9_2_Tsvmlinear.ipynb\" target=\"_parent\"><img src=\"https://colab.research.google.com/assets/colab-badge.svg\" alt=\"Open In Colab\"/></a>"
      ]
    },
    {
      "cell_type": "code",
      "execution_count": null,
      "metadata": {
        "id": "u-lnAztSUsmV"
      },
      "outputs": [],
      "source": [
        "import numpy as np\n",
        "import pandas as pd\n",
        "import seaborn as sns\n",
        "import matplotlib.pyplot as plt\n",
        "\n",
        "from sklearn.metrics import jaccard_score\n",
        "from scipy.spatial.distance import pdist, squareform"
      ]
    },
    {
      "cell_type": "code",
      "execution_count": null,
      "metadata": {
        "colab": {
          "base_uri": "https://localhost:8080/"
        },
        "id": "N4UwTF0GUwmZ",
        "outputId": "ac896715-1b8b-49a6-9ed6-23eac729df24"
      },
      "outputs": [
        {
          "output_type": "stream",
          "name": "stdout",
          "text": [
            "Mounted at /content/drive\n"
          ]
        }
      ],
      "source": [
        "from google.colab import drive\n",
        "drive.mount('/content/drive') "
      ]
    },
    {
      "cell_type": "code",
      "execution_count": null,
      "metadata": {
        "colab": {
          "base_uri": "https://localhost:8080/"
        },
        "id": "np9n02DsU3-z",
        "outputId": "a7c5c71a-b970-4ba8-df71-ad061cab5a36"
      },
      "outputs": [
        {
          "output_type": "stream",
          "name": "stdout",
          "text": [
            "Collecting pickle5\n",
            "  Downloading pickle5-0.0.12-cp37-cp37m-manylinux_2_5_x86_64.manylinux1_x86_64.whl (256 kB)\n",
            "\u001b[?25l\r\u001b[K     |█▎                              | 10 kB 19.5 MB/s eta 0:00:01\r\u001b[K     |██▋                             | 20 kB 10.9 MB/s eta 0:00:01\r\u001b[K     |███▉                            | 30 kB 8.4 MB/s eta 0:00:01\r\u001b[K     |█████▏                          | 40 kB 3.7 MB/s eta 0:00:01\r\u001b[K     |██████▍                         | 51 kB 3.7 MB/s eta 0:00:01\r\u001b[K     |███████▊                        | 61 kB 4.4 MB/s eta 0:00:01\r\u001b[K     |█████████                       | 71 kB 4.6 MB/s eta 0:00:01\r\u001b[K     |██████████▎                     | 81 kB 4.9 MB/s eta 0:00:01\r\u001b[K     |███████████▌                    | 92 kB 5.4 MB/s eta 0:00:01\r\u001b[K     |████████████▉                   | 102 kB 4.3 MB/s eta 0:00:01\r\u001b[K     |██████████████                  | 112 kB 4.3 MB/s eta 0:00:01\r\u001b[K     |███████████████▍                | 122 kB 4.3 MB/s eta 0:00:01\r\u001b[K     |████████████████▋               | 133 kB 4.3 MB/s eta 0:00:01\r\u001b[K     |██████████████████              | 143 kB 4.3 MB/s eta 0:00:01\r\u001b[K     |███████████████████▏            | 153 kB 4.3 MB/s eta 0:00:01\r\u001b[K     |████████████████████▌           | 163 kB 4.3 MB/s eta 0:00:01\r\u001b[K     |█████████████████████▊          | 174 kB 4.3 MB/s eta 0:00:01\r\u001b[K     |███████████████████████         | 184 kB 4.3 MB/s eta 0:00:01\r\u001b[K     |████████████████████████▎       | 194 kB 4.3 MB/s eta 0:00:01\r\u001b[K     |█████████████████████████▋      | 204 kB 4.3 MB/s eta 0:00:01\r\u001b[K     |██████████████████████████▉     | 215 kB 4.3 MB/s eta 0:00:01\r\u001b[K     |████████████████████████████▏   | 225 kB 4.3 MB/s eta 0:00:01\r\u001b[K     |█████████████████████████████▍  | 235 kB 4.3 MB/s eta 0:00:01\r\u001b[K     |██████████████████████████████▊ | 245 kB 4.3 MB/s eta 0:00:01\r\u001b[K     |████████████████████████████████| 256 kB 4.3 MB/s eta 0:00:01\r\u001b[K     |████████████████████████████████| 256 kB 4.3 MB/s \n",
            "\u001b[?25hInstalling collected packages: pickle5\n",
            "Successfully installed pickle5-0.0.12\n"
          ]
        }
      ],
      "source": [
        "!pip3 install pickle5\n",
        "import pickle5 as pickle"
      ]
    },
    {
      "cell_type": "code",
      "execution_count": null,
      "metadata": {
        "id": "-4854qLoU6Kc"
      },
      "outputs": [],
      "source": [
        "with open('/content/drive/MyDrive/10000/Tresult.pkl', \"rb\") as fh:\n",
        "  result = pickle.load(fh)"
      ]
    },
    {
      "cell_type": "code",
      "execution_count": null,
      "metadata": {
        "colab": {
          "base_uri": "https://localhost:8080/"
        },
        "id": "WicELcCoVE95",
        "outputId": "e6e62087-475b-47f0-fed0-a69356f4390a"
      },
      "outputs": [
        {
          "output_type": "stream",
          "name": "stdout",
          "text": [
            "               0         1         2         3         4         5         6  \\\n",
            "0      -2.178515 -3.260148 -0.698552 -1.030417 -0.723180 -1.027433 -0.405889   \n",
            "1      -2.178515 -3.260148 -0.698552 -1.030417 -0.723180 -1.027433 -0.405889   \n",
            "2      -2.178515 -3.260148 -0.698552 -1.030417 -0.723180 -1.027433 -0.405889   \n",
            "3      -2.178515 -3.260148 -0.698552 -1.030417 -0.723180 -1.027433 -0.405889   \n",
            "4      -2.178710 -3.260547 -0.698874 -1.030967 -0.723695 -1.028303 -0.406622   \n",
            "...          ...       ...       ...       ...       ...       ...       ...   \n",
            "13209  -2.178515 -3.260148 -0.698552 -1.030417 -0.723180 -1.027433 -0.405889   \n",
            "13210  -2.178515 -3.260148 -0.698552 -1.030417 -0.723180 -1.027433 -0.405889   \n",
            "13211  -2.178515 -3.260148 -0.698552 -1.030417 -0.723180 -1.027433 -0.405889   \n",
            "13212  -2.178515 -3.260148 -0.698552 -1.030417 -0.723180 -1.027433 -0.405889   \n",
            "13213  27.606119  6.905609  0.154864  0.191890  0.097248  0.114301  0.021144   \n",
            "\n",
            "              7         8         9  ...          1         2         3  \\\n",
            "0     -0.059185 -0.526790 -0.190040  ...   0.452139 -1.203407 -0.183899   \n",
            "1     -0.059185 -0.526790 -0.190040  ...   0.452139 -1.203407 -0.183899   \n",
            "2     -0.059185 -0.526790 -0.190040  ...   0.452139 -1.203407 -0.183899   \n",
            "3     -0.059185 -0.526790 -0.190040  ...   0.452139 -1.203407 -0.183899   \n",
            "4     -0.059394 -0.528048 -0.191038  ...  -7.508892  7.994602  0.226101   \n",
            "...         ...       ...       ...  ...        ...       ...       ...   \n",
            "13209 -0.059185 -0.526790 -0.190040  ...   1.554089 -4.346298  9.404540   \n",
            "13210 -0.059185 -0.526790 -0.190040  ...   0.599942 -1.505019 -0.218230   \n",
            "13211 -0.059185 -0.526790 -0.190040  ...  -8.533632  9.178701  0.278730   \n",
            "13212 -0.059185 -0.526790 -0.190040  ...  -8.533631  9.178698  0.278730   \n",
            "13213  0.002302  0.020160  0.004991  ... -11.890588  4.271539  0.100003   \n",
            "\n",
            "              4         5         6         7         8         9  label  \n",
            "0     -0.438911 -0.266164 -0.544673 -0.224884 -0.068575 -0.230930      1  \n",
            "1     -0.438911 -0.266164 -0.544673 -0.224884 -0.068575 -0.230930      1  \n",
            "2     -0.438911 -0.266164 -0.544673 -0.224884 -0.068575 -0.230930      1  \n",
            "3     -0.438911 -0.266164 -0.544673 -0.224884 -0.068575 -0.230930      1  \n",
            "4      0.991238  0.482262  0.829106  0.246306  0.048557  0.160622      1  \n",
            "...         ...       ...       ...       ...       ...       ...    ...  \n",
            "13209  4.676083  1.038614  1.272721  0.249463  0.046943  0.150109      0  \n",
            "13210 -0.586787 -0.370000 -0.787776 -0.380601 -0.129873 -0.451315      0  \n",
            "13211  1.177091  0.579516  1.007372  0.308708  0.063843  0.211098      0  \n",
            "13212  1.177090  0.579515  1.007370  0.308707  0.063843  0.211097      0  \n",
            "13213  0.324583  0.150424  0.249943  0.068055  0.013998  0.046459      0  \n",
            "\n",
            "[13214 rows x 101 columns]\n"
          ]
        }
      ],
      "source": [
        "#final data\n",
        "print(result)"
      ]
    },
    {
      "cell_type": "code",
      "execution_count": null,
      "metadata": {
        "id": "k4LiMQpkVPiz"
      },
      "outputs": [],
      "source": [
        "import copy\n",
        "result_nonlabel=copy.deepcopy(result)\n",
        "del result_nonlabel['label']\n",
        "X=result_nonlabel\n",
        "y=result.label"
      ]
    },
    {
      "cell_type": "code",
      "execution_count": null,
      "metadata": {
        "id": "kLusAQHMVRMy"
      },
      "outputs": [],
      "source": [
        "from sklearn.model_selection import train_test_split\n",
        "x_train, x_test, y_train, y_test = train_test_split(X, y, test_size=0.3,shuffle=True)#"
      ]
    },
    {
      "cell_type": "code",
      "execution_count": null,
      "metadata": {
        "id": "CJYiJ-NVVPcz",
        "colab": {
          "base_uri": "https://localhost:8080/"
        },
        "outputId": "824e1b9f-c09b-465b-eeb7-923951c259f7"
      },
      "outputs": [
        {
          "output_type": "stream",
          "name": "stdout",
          "text": [
            "0.8670870113493064\n"
          ]
        }
      ],
      "source": [
        "from sklearn.svm import SVC\n",
        "from sklearn import svm\n",
        "from sklearn.svm import LinearSVC\n",
        "import warnings\n",
        "warnings.filterwarnings('ignore')\n",
        "\n",
        "\n",
        "svclassifier=svm.LinearSVC(C=0.001,max_iter=50000)#,random_state=42,\n",
        "svclassifier.fit(x_train, y_train)\n",
        "y_pred = svclassifier.predict(x_test)\n",
        "score = svclassifier.score(x_test, y_test)\n",
        "print(score)"
      ]
    },
    {
      "cell_type": "code",
      "execution_count": null,
      "metadata": {
        "id": "Q1_VnbP7VbTL",
        "colab": {
          "base_uri": "https://localhost:8080/",
          "height": 297
        },
        "outputId": "b4bc070a-31a5-4b29-f108-fa469af01adc"
      },
      "outputs": [
        {
          "output_type": "execute_result",
          "data": {
            "text/plain": [
              "<matplotlib.axes._subplots.AxesSubplot at 0x7f1f93415750>"
            ]
          },
          "metadata": {},
          "execution_count": 9
        },
        {
          "output_type": "display_data",
          "data": {
            "image/png": "[encoded data removed]",
            "text/plain": [
              "<Figure size 432x288 with 2 Axes>"
            ]
          },
          "metadata": {
            "needs_background": "light"
          }
        }
      ],
      "source": [
        "import matplotlib.pyplot as plt\n",
        "import seaborn as sns\n",
        "from sklearn import metrics\n",
        "\n",
        "confusion_matrix = pd.crosstab(y_test, y_pred, rownames=['Actual'], colnames=['Predicted'])\n",
        "sns.heatmap(confusion_matrix, annot=True)"
      ]
    },
    {
      "cell_type": "code",
      "execution_count": null,
      "metadata": {
        "id": "mDBtshgIViWi",
        "colab": {
          "base_uri": "https://localhost:8080/"
        },
        "outputId": "e85e2164-d399-4e55-92f6-41d675d8fbfc"
      },
      "outputs": [
        {
          "output_type": "stream",
          "name": "stdout",
          "text": [
            "True Positives: 2920\n",
            "False Positives: 485\n",
            "True Negatives: 518\n",
            "False Negatives: 42\n"
          ]
        }
      ],
      "source": [
        "from sklearn.metrics import confusion_matrix\n",
        "\n",
        "tn, fp, fn, tp = confusion_matrix(y_test, y_pred).ravel()\n",
        "print(f'True Positives: {tp}')\n",
        "print(f'False Positives: {fp}')\n",
        "print(f'True Negatives: {tn}')\n",
        "print(f'False Negatives: {fn}')"
      ]
    },
    {
      "cell_type": "code",
      "execution_count": null,
      "metadata": {
        "id": "-4Bb_MwHViUi",
        "colab": {
          "base_uri": "https://localhost:8080/"
        },
        "outputId": "8086981e-c790-44b7-866b-68c4c04c4733"
      },
      "outputs": [
        {
          "output_type": "stream",
          "name": "stdout",
          "text": [
            "Accuracy:  0.8670870113493064\n"
          ]
        }
      ],
      "source": [
        "print('Accuracy: ',metrics.accuracy_score(y_test, y_pred))\n"
      ]
    },
    {
      "cell_type": "code",
      "execution_count": null,
      "metadata": {
        "id": "wAwVFadTKOlQ",
        "colab": {
          "base_uri": "https://localhost:8080/"
        },
        "outputId": "747a2da7-de31-4169-c0e0-ddbfd01239b7"
      },
      "outputs": [
        {
          "output_type": "stream",
          "name": "stdout",
          "text": [
            "Accuracy: 0.879 (0.008)\n"
          ]
        }
      ],
      "source": [
        "from numpy import mean\n",
        "from numpy import std\n",
        "from sklearn.model_selection import KFold\n",
        "from sklearn.model_selection import cross_val_score\n",
        "import warnings\n",
        "warnings.filterwarnings('ignore')\n",
        "\n",
        "cv = KFold(n_splits=10,shuffle=True)# shuffle=True,, random_state=42\n",
        "scores = cross_val_score(svclassifier, X, y, scoring='accuracy', cv=cv)#,n_jobs=-1\n",
        "\n",
        "print('Accuracy: %.3f (%.3f)' % (mean(scores), std(scores)))"
      ]
    },
    {
      "cell_type": "code",
      "execution_count": null,
      "metadata": {
        "id": "SSmSunRhViP7",
        "colab": {
          "base_uri": "https://localhost:8080/"
        },
        "outputId": "bbbaebcd-58d6-47ca-c47b-d5e4c7ce5d13"
      },
      "outputs": [
        {
          "output_type": "stream",
          "name": "stdout",
          "text": [
            "scores_recall: 0.983 (0.003)\n"
          ]
        }
      ],
      "source": [
        "#recall\n",
        "\n",
        "from numpy import mean\n",
        "from numpy import std\n",
        "from sklearn.model_selection import KFold\n",
        "from sklearn.model_selection import cross_val_score,cross_val_predict\n",
        "import warnings\n",
        "warnings.filterwarnings('ignore')\n",
        "\n",
        "cv = KFold(n_splits=10, shuffle=True)#, shuffle=True, random_state=42\n",
        "scores_recall = cross_val_score(svclassifier,X, y, scoring='recall', cv=cv)#,n_jobs=-1\n",
        "\n",
        "print('scores_recall: %.3f (%.3f)' % (mean(scores_recall), std(scores_recall)))"
      ]
    },
    {
      "cell_type": "code",
      "execution_count": null,
      "metadata": {
        "id": "jR6gNiaSViNJ",
        "colab": {
          "base_uri": "https://localhost:8080/"
        },
        "outputId": "751eb695-4d36-450c-c932-8af027f5ad96"
      },
      "outputs": [
        {
          "output_type": "stream",
          "name": "stdout",
          "text": [
            "scores_precision: 0.871 (0.008)\n"
          ]
        }
      ],
      "source": [
        "#precision\n",
        "\n",
        "from numpy import mean\n",
        "from numpy import std\n",
        "from sklearn.model_selection import KFold\n",
        "from sklearn.model_selection import cross_val_score\n",
        "import warnings\n",
        "warnings.filterwarnings('ignore')\n",
        "\n",
        "cv = KFold(n_splits=10, shuffle=True)#, random_state=42, shuffle=True\n",
        "scores_precision = cross_val_score(svclassifier, X, y, scoring='precision', cv=cv)#,n_jobs=-1\n",
        "\n",
        "print('scores_precision: %.3f (%.3f)' % (mean(scores_precision), std(scores_precision)))"
      ]
    },
    {
      "cell_type": "code",
      "execution_count": null,
      "metadata": {
        "id": "i6P9sB07ViKr",
        "colab": {
          "base_uri": "https://localhost:8080/",
          "height": 316
        },
        "outputId": "3a3ae2c9-eb97-4149-fb74-280236f1f5e4"
      },
      "outputs": [
        {
          "output_type": "display_data",
          "data": {
            "image/png": "[encoded data removed]",
            "text/plain": [
              "<Figure size 432x288 with 1 Axes>"
            ]
          },
          "metadata": {
            "needs_background": "light"
          }
        },
        {
          "output_type": "stream",
          "name": "stdout",
          "text": [
            "\n",
            " SVM ROC AUC 0.829\n"
          ]
        }
      ],
      "source": [
        "from sklearn.datasets import make_classification\n",
        "from sklearn.linear_model import LogisticRegression\n",
        "from sklearn.model_selection import train_test_split\n",
        "from matplotlib import pyplot\n",
        "from sklearn.metrics import roc_auc_score\n",
        "from sklearn.metrics import roc_curve\n",
        "import warnings\n",
        "warnings.filterwarnings('ignore')\n",
        "\n",
        "\n",
        "k=svm.LinearSVC(C=0.0001,max_iter=50000)#,max_iter=1000000,random_state=42\n",
        "k.fit(x_train, y_train)\n",
        "yhat = k._predict_proba_lr(x_test)\n",
        "pos_probs = yhat[:, 1]\n",
        "pyplot.plot([0, 1], [0, 1], linestyle='--')\n",
        "fpr, tpr, _ = roc_curve(y_test, pos_probs)\n",
        "pyplot.plot(fpr, tpr, marker='.', label='SVM')\n",
        "pyplot.xlabel('False Positive Rate')\n",
        "pyplot.ylabel('True Positive Rate')\n",
        "pyplot.legend()\n",
        "pyplot.show()\n",
        "roc_auc = roc_auc_score(y_test, pos_probs)\n",
        "print('\\n','SVM ROC AUC %.3f' % roc_auc)"
      ]
    },
    {
      "cell_type": "code",
      "execution_count": null,
      "metadata": {
        "id": "QNsPqro6ViHZ",
        "colab": {
          "base_uri": "https://localhost:8080/"
        },
        "outputId": "78720643-535f-4d90-f980-3e0ebf21d5e9"
      },
      "outputs": [
        {
          "output_type": "stream",
          "name": "stdout",
          "text": [
            "True Positives: 2935\n",
            "False Positives: 459\n",
            "True Negatives: 528\n",
            "False Negatives: 43\n",
            "fpr=0.465\n",
            "x\n",
            "---------------------\n",
            "True Positives: 2908\n",
            "False Positives: 482\n",
            "True Negatives: 529\n",
            "False Negatives: 46\n",
            "fpr=0.477\n",
            "x\n",
            "---------------------\n",
            "True Positives: 2905\n",
            "False Positives: 457\n",
            "True Negatives: 551\n",
            "False Negatives: 52\n",
            "fpr=0.453\n",
            "x\n",
            "---------------------\n",
            "True Positives: 2908\n",
            "False Positives: 490\n",
            "True Negatives: 516\n",
            "False Negatives: 51\n",
            "fpr=0.487\n",
            "x\n",
            "---------------------\n",
            "True Positives: 2905\n",
            "False Positives: 488\n",
            "True Negatives: 521\n",
            "False Negatives: 51\n",
            "fpr=0.484\n",
            "x\n",
            "---------------------\n",
            "True Positives: 2927\n",
            "False Positives: 484\n",
            "True Negatives: 507\n",
            "False Negatives: 47\n",
            "fpr=0.488\n",
            "x\n",
            "---------------------\n",
            "True Positives: 2925\n",
            "False Positives: 464\n",
            "True Negatives: 528\n",
            "False Negatives: 48\n",
            "fpr=0.468\n",
            "x\n",
            "---------------------\n",
            "True Positives: 2941\n",
            "False Positives: 432\n",
            "True Negatives: 525\n",
            "False Negatives: 67\n",
            "fpr=0.451\n",
            "x\n",
            "---------------------\n",
            "True Positives: 2906\n",
            "False Positives: 446\n",
            "True Negatives: 555\n",
            "False Negatives: 58\n",
            "fpr=0.446\n",
            "x\n",
            "---------------------\n",
            "True Positives: 2888\n",
            "False Positives: 494\n",
            "True Negatives: 536\n",
            "False Negatives: 47\n",
            "fpr=0.480\n",
            "x\n",
            "---------------------\n",
            "\n",
            "\n",
            "  total_fpr=0.470\n"
          ]
        }
      ],
      "source": [
        "#Importing required libraries\n",
        "from sklearn.model_selection import KFold \n",
        "from sklearn.datasets import load_breast_cancer\n",
        "from sklearn.linear_model import LogisticRegression\n",
        "from sklearn.metrics import accuracy_score\n",
        "from sklearn.metrics import confusion_matrix\n",
        "import warnings\n",
        "warnings.filterwarnings('ignore')\n",
        " \n",
        "#data = load_breast_cancer(as_frame = True)\n",
        "#df = result.frame\n",
        "#X = result.iloc[:,:-1]\n",
        "#y = result.iloc[:,-1]\n",
        " \n",
        "#Implementing cross validation\n",
        " \n",
        "#X = X.sample(frac = 1)\n",
        "#y= y.sample(frac = 1)\n",
        "kf = KFold(n_splits=10)#, random_state=None\n",
        "model = svm.LinearSVC(C=0.001,max_iter=50000)#(solver= 'liblinear')#,max_iter=1000000,random_state=42\n",
        " \n",
        "acc_score = list()\n",
        "res_tpr = list()\n",
        "res_fpr = list()\n",
        "for train_index , test_index in kf.split(X):\n",
        "    #X_train , X_test = X.iloc[train_index,:],X.iloc[test_index,:]\n",
        "    #y_train , y_test = y[train_index] , y[test_index]\n",
        "    X_train, X_test, y_train, y_test = train_test_split(X, y, test_size=0.3)\n",
        "    model.fit(X_train,y_train)\n",
        "    pred_values = model.predict(X_test)\n",
        "    tn, fp, fn, tp = confusion_matrix(y_test, pred_values, labels=[0, 1]).ravel()\n",
        "    print(f'True Positives: {tp}')\n",
        "    print(f'False Positives: {fp}')\n",
        "    print(f'True Negatives: {tn}')\n",
        "    print(f'False Negatives: {fn}')\n",
        "    tpr=(np.divide(tp,(tp+fn)))\n",
        "    fpr=(np.divide(fp,(fp+tn)))\n",
        "    if tp==0:\n",
        "      tpr=0\n",
        "    if fp==0:\n",
        "      fpr=0\n",
        "\n",
        "    print('fpr=%.3f' % (  mean(fpr)))#tpr=%.4f :mean(tpr),\n",
        "    print('x')\n",
        "    res_tpr.append(mean(tpr))\n",
        "    res_fpr.append(mean(fpr))\n",
        "    print('---------------------')\n",
        "\n",
        "    acc = accuracy_score(pred_values , y_test)\n",
        "    acc_score.append(acc)\n",
        "     \n",
        "avg_acc_score = np.sum(acc_score)/10\n",
        "total_tpr=np.sum(res_tpr)/10\n",
        "total_fpr=np.sum(res_fpr)/10\n",
        "print('\\n\\n',' total_fpr=%.3f' % (total_fpr))#total_tpr=%.4f )total_tpr,)"
      ]
    }
  ],
  "metadata": {
    "accelerator": "GPU",
    "colab": {
      "collapsed_sections": [],
      "name": "9.2_Tsvmlinear.ipynb",
      "provenance": [],
      "authorship_tag": "ABX9TyPzPqfSsAoWUgfU8wroRHob",
      "include_colab_link": true
    },
    "kernelspec": {
      "display_name": "Python 3",
      "name": "python3"
    },
    "language_info": {
      "name": "python"
    }
  },
  "nbformat": 4,
  "nbformat_minor": 0
}