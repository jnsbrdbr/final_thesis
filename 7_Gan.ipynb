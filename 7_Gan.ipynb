{
  "nbformat": 4,
  "nbformat_minor": 0,
  "metadata": {
    "colab": {
      "name": "7_Gan.ipynb",
      "provenance": [],
      "authorship_tag": "ABX9TyOpW6+ul9uZanW3qrzPMrm4",
      "include_colab_link": true
    },
    "kernelspec": {
      "name": "python3",
      "display_name": "Python 3"
    },
    "language_info": {
      "name": "python"
    }
  },
  "cells": [
    {
      "cell_type": "markdown",
      "metadata": {
        "id": "view-in-github",
        "colab_type": "text"
      },
      "source": [
        "<a href=\"https://colab.research.google.com/github/jnsbrdbr/final_thesis/blob/main/7_Gan.ipynb\" target=\"_parent\"><img src=\"https://colab.research.google.com/assets/colab-badge.svg\" alt=\"Open In Colab\"/></a>"
      ]
    },
    {
      "cell_type": "code",
      "execution_count": 1,
      "metadata": {
        "colab": {
          "base_uri": "https://localhost:8080/"
        },
        "id": "yxDlz0f99AA3",
        "outputId": "5c2b29c8-8ad5-4339-e41c-9232194f1e1b"
      },
      "outputs": [
        {
          "output_type": "stream",
          "name": "stdout",
          "text": [
            "`%tensorflow_version` only switches the major version: 1.x or 2.x.\n",
            "You set: `2.x  # Colab only.`. This will be interpreted as: `2.x`.\n",
            "\n",
            "\n",
            "TensorFlow 2.x selected.\n",
            "2.8.0\n"
          ]
        }
      ],
      "source": [
        "# Install TensorFlow\n",
        "# !pip install -q tensorflow-gpu==2.0.0-rc0\n",
        "\n",
        "try:\n",
        "  %tensorflow_version 2.x  # Colab only.\n",
        "except Exception:\n",
        "  pass\n",
        "\n",
        "import tensorflow as tf\n",
        "print(tf.__version__)"
      ]
    },
    {
      "cell_type": "code",
      "source": [
        "import keras\n",
        "from keras.layers import Input, Dense, Activation, LeakyReLU, BatchNormalization\n",
        "from keras.models import Sequential\n",
        "from tensorflow.keras.optimizers import Adam\n",
        "from sklearn.model_selection import train_test_split\n",
        "from tensorflow.keras.models import Model\n",
        "import keras.backend as K\n",
        "import numpy as np\n",
        "import pandas as pd\n",
        "import matplotlib.pyplot as plt\n",
        "import sys, os\n",
        "\n",
        "%matplotlib inline"
      ],
      "metadata": {
        "id": "A_hoVr_P9HG7"
      },
      "execution_count": 2,
      "outputs": []
    },
    {
      "cell_type": "code",
      "source": [
        "from google.colab import drive\n",
        "drive.mount('/content/drive') "
      ],
      "metadata": {
        "colab": {
          "base_uri": "https://localhost:8080/"
        },
        "id": "BGEQJ7nc9KOO",
        "outputId": "fa804010-e470-4521-bb5e-2114396daa72"
      },
      "execution_count": 3,
      "outputs": [
        {
          "output_type": "stream",
          "name": "stdout",
          "text": [
            "Mounted at /content/drive\n"
          ]
        }
      ]
    },
    {
      "cell_type": "code",
      "source": [
        "!pip install --upgrade tables"
      ],
      "metadata": {
        "colab": {
          "base_uri": "https://localhost:8080/"
        },
        "id": "C9_JtGAQ9QfZ",
        "outputId": "141479f2-3e85-412f-b60a-0acc95010308"
      },
      "execution_count": 4,
      "outputs": [
        {
          "output_type": "stream",
          "name": "stdout",
          "text": [
            "Requirement already satisfied: tables in /usr/local/lib/python3.7/dist-packages (3.7.0)\n",
            "Requirement already satisfied: packaging in /usr/local/lib/python3.7/dist-packages (from tables) (21.3)\n",
            "Requirement already satisfied: numexpr>=2.6.2 in /usr/local/lib/python3.7/dist-packages (from tables) (2.8.1)\n",
            "Requirement already satisfied: numpy>=1.19.0 in /usr/local/lib/python3.7/dist-packages (from tables) (1.21.5)\n",
            "Requirement already satisfied: pyparsing!=3.0.5,>=2.0.2 in /usr/local/lib/python3.7/dist-packages (from packaging->tables) (3.0.7)\n"
          ]
        }
      ]
    },
    {
      "cell_type": "code",
      "source": [
        "with pd.HDFStore('/content/drive/MyDrive/1000/part2_result',  mode='r') as newstore:\n",
        "    result = newstore.select('result')"
      ],
      "metadata": {
        "id": "-1JPJJAm9TQ_"
      },
      "execution_count": 5,
      "outputs": []
    },
    {
      "cell_type": "code",
      "source": [
        "#final data\n",
        "print(result)"
      ],
      "metadata": {
        "colab": {
          "base_uri": "https://localhost:8080/"
        },
        "id": "nSg9yRXO9cG_",
        "outputId": "cd35cc54-7e8c-4770-f285-ca6b87b6c76d"
      },
      "execution_count": 6,
      "outputs": [
        {
          "output_type": "stream",
          "name": "stdout",
          "text": [
            "             0         1         2             3             4         5  \\\n",
            "0    -1.468407 -3.098769 -0.040978  6.204485e-14  2.991009e-14  0.078341   \n",
            "1    -1.468407 -3.098769 -0.040978 -1.233238e-14  2.951113e-14  0.078341   \n",
            "2    -1.468407 -3.098769 -0.040978 -7.431131e-14  3.860443e-14  0.078341   \n",
            "3    -1.468407 -3.098769 -0.040978  1.650248e-14 -1.360452e-14  0.078341   \n",
            "4    -1.468407 -3.098769 -0.040978  8.579407e-15  2.671601e-14  0.078341   \n",
            "...        ...       ...       ...           ...           ...       ...   \n",
            "1315 -1.468407 -3.098769 -0.040978  1.269764e-14  2.287279e-14  0.078341   \n",
            "1316 -1.468407 -3.098769 -0.040978  1.269764e-14  2.287279e-14  0.078341   \n",
            "1317 -1.468407 -3.098769 -0.040978  1.269764e-14  2.287279e-14  0.078341   \n",
            "1318 -1.468407 -3.098769 -0.040978  1.269764e-14  2.287279e-14  0.078341   \n",
            "1319 -1.468407 -3.098769 -0.040978  1.269764e-14  2.287279e-14  0.078341   \n",
            "\n",
            "            6         7         8         9  ...         1         2  \\\n",
            "0     2.36865 -1.386898 -0.000551 -0.000425  ... -0.039493  0.002581   \n",
            "1     2.36865 -1.386898 -0.000551 -0.000425  ... -0.039493  0.002581   \n",
            "2     2.36865 -1.386898 -0.000551 -0.000425  ... -0.039493  0.002581   \n",
            "3     2.36865 -1.386898 -0.000551 -0.000425  ... -0.039493  0.002581   \n",
            "4     2.36865 -1.386898 -0.000551 -0.000425  ... -0.032130 -0.012159   \n",
            "...       ...       ...       ...       ...  ...       ...       ...   \n",
            "1315  2.36865 -1.386898 -0.000551 -0.000425  ...  0.032918  0.046306   \n",
            "1316  2.36865 -1.386898 -0.000551 -0.000425  ...  0.035148  0.062576   \n",
            "1317  2.36865 -1.386898 -0.000551 -0.000425  ...  0.099628 -0.083265   \n",
            "1318  2.36865 -1.386898 -0.000551 -0.000425  ...  0.023592 -0.050616   \n",
            "1319  2.36865 -1.386898 -0.000551 -0.000425  ...  0.101839 -0.125609   \n",
            "\n",
            "             3         4         5         6         7         8         9  \\\n",
            "0    -0.005026 -0.000115 -0.004540 -0.010420 -0.005894 -0.005817 -0.003177   \n",
            "1    -0.005026 -0.000115 -0.004540 -0.010420 -0.005894 -0.005817 -0.003177   \n",
            "2    -0.005026 -0.000115 -0.004540 -0.010420 -0.005894 -0.005817 -0.003176   \n",
            "3    -0.005026 -0.000115 -0.004540 -0.010420 -0.005894 -0.005817 -0.003177   \n",
            "4    -0.011785 -0.015593 -0.014991 -0.028055  0.006076  0.003190  0.002314   \n",
            "...        ...       ...       ...       ...       ...       ...       ...   \n",
            "1315  0.094631  0.124774  0.008972  0.001981 -0.052331  0.309602  0.009135   \n",
            "1316  0.099325  0.134425  0.015498  0.002026  0.311786  0.021678  0.006007   \n",
            "1317 -0.069888 -0.002082 -0.194672  0.297580  0.001217 -0.005709 -0.028393   \n",
            "1318 -0.007453 -0.021238  0.308253  0.150730 -0.027760 -0.031040  0.127378   \n",
            "1319 -0.142618  0.085227 -0.013546 -0.049724 -0.024447  0.240382  0.004047   \n",
            "\n",
            "      label  \n",
            "0         1  \n",
            "1         1  \n",
            "2         1  \n",
            "3         1  \n",
            "4         1  \n",
            "...     ...  \n",
            "1315      0  \n",
            "1316      0  \n",
            "1317      0  \n",
            "1318      0  \n",
            "1319      0  \n",
            "\n",
            "[1320 rows x 71 columns]\n"
          ]
        }
      ]
    },
    {
      "cell_type": "code",
      "source": [
        "#divide data in to data_label and non_data label\n",
        "\n",
        "import copy\n",
        "result_nonlabel=copy.deepcopy(result)\n",
        "del result_nonlabel['label']\n",
        "X=result_nonlabel\n",
        "y=result.label"
      ],
      "metadata": {
        "id": "frfKEoCs9gIQ"
      },
      "execution_count": 7,
      "outputs": []
    },
    {
      "cell_type": "code",
      "source": [
        "#splitting data in to test and train...\n",
        "\n",
        "from sklearn.model_selection import train_test_split\n",
        "X_train, X_test, y_train, y_test = train_test_split(X, y ,shuffle=True,test_size=0.3)#random_state=42"
      ],
      "metadata": {
        "id": "2QXtZVM39hmh"
      },
      "execution_count": 8,
      "outputs": []
    },
    {
      "cell_type": "code",
      "source": [
        "print('shape of x_train is:',X_train.shape)\n",
        "print('shape of x_test is:',X_test.shape)"
      ],
      "metadata": {
        "colab": {
          "base_uri": "https://localhost:8080/"
        },
        "id": "-uTNI9nu927y",
        "outputId": "fe528269-effa-4c0b-e447-a75baa263ece"
      },
      "execution_count": 9,
      "outputs": [
        {
          "output_type": "stream",
          "name": "stdout",
          "text": [
            "shape of x_train is: (924, 70)\n",
            "shape of x_test is: (396, 70)\n"
          ]
        }
      ]
    },
    {
      "cell_type": "code",
      "source": [
        "def make_latent_samples(n_samples, sample_size):\n",
        "    #return np.random.uniform(-1, 1, size=(n_samples, sample_size))\n",
        "    return np.random.normal(loc=0, scale=1, size=(n_samples, sample_size))"
      ],
      "metadata": {
        "id": "pqrUBIrH95mS"
      },
      "execution_count": 10,
      "outputs": []
    },
    {
      "cell_type": "code",
      "source": [
        "make_latent_samples(1, 100) # generates one sample"
      ],
      "metadata": {
        "colab": {
          "base_uri": "https://localhost:8080/"
        },
        "id": "ULk7h_Go97uH",
        "outputId": "1a4d8fe7-9763-45fb-f0b2-fe89d5f5edfd"
      },
      "execution_count": 11,
      "outputs": [
        {
          "output_type": "execute_result",
          "data": {
            "text/plain": [
              "array([[ 3.13711377, -2.75401806, -0.86520795,  0.49651997,  0.475996  ,\n",
              "        -0.08266008, -0.92082876,  0.21573349,  0.64416952,  0.56412663,\n",
              "         1.13216712, -0.62462009, -1.06856284, -0.39733453,  0.51073846,\n",
              "        -1.92557496,  0.68027778,  0.95986784,  0.38325471,  0.7235025 ,\n",
              "         0.07475169, -0.43691241, -0.28129122, -0.92370761,  0.10543058,\n",
              "         0.71136268,  0.15436304, -0.46411378, -1.30096741,  0.05764929,\n",
              "        -0.55596825,  0.61112887,  0.95034896,  0.03810997,  0.4241742 ,\n",
              "         1.46515753,  0.21794734,  0.57452581,  0.76359392,  0.70336849,\n",
              "        -0.82642445, -0.87597289, -0.21721021,  0.76336005,  1.78623542,\n",
              "         0.15605344,  0.21808498, -0.35985039, -0.20596653,  1.21159894,\n",
              "        -0.11593166, -1.32950318,  0.44220423,  1.35626521, -1.77978795,\n",
              "        -0.7693855 ,  0.67222425, -0.31367861, -0.87984708, -2.00664752,\n",
              "         1.20617634, -1.37329525,  0.46544502, -0.63011831, -0.88330124,\n",
              "        -1.254076  ,  0.36688617,  0.78721123,  0.31977034,  0.57989711,\n",
              "         0.66157435, -0.33305161,  2.19603837,  0.04518833, -0.03109697,\n",
              "         0.44862524,  0.68503905, -0.1789176 ,  2.86970528,  0.6570618 ,\n",
              "        -1.13614285,  0.68055883, -2.55241487,  0.60968947, -0.89598118,\n",
              "         0.90524635,  1.24604073, -1.7427177 , -1.16570123, -0.33418341,\n",
              "        -1.00746042,  0.54954785, -1.12279161, -0.40285607, -0.61501054,\n",
              "        -0.3047115 ,  0.50556883, -1.60016312,  1.410657  , -0.40917983]])"
            ]
          },
          "metadata": {},
          "execution_count": 11
        }
      ]
    },
    {
      "cell_type": "code",
      "source": [
        "generator = Sequential([\n",
        "    Dense(128, input_shape=(100,)),\n",
        "    LeakyReLU(alpha=0.2),\n",
        "    BatchNormalization(momentum=0.7),\n",
        "\n",
        "    #Dense(100),\n",
        "    #LeakyReLU(alpha=0.2),\n",
        "    #BatchNormalization(momentum=0.7),\n",
        "\n",
        "    #Dense(1024),\n",
        "    #LeakyReLU(alpha=0.2),\n",
        "    #BatchNormalization(momentum=0.7),\n",
        "\n",
        "    #Dense(2048),\n",
        "    #LeakyReLU(alpha=0.2),\n",
        "    #BatchNormalization(momentum=0.7),\n",
        "\n",
        "    Dense(70),\n",
        "    Activation('tanh')\n",
        "], name='generator')\n",
        "\n",
        "generator.summary()"
      ],
      "metadata": {
        "colab": {
          "base_uri": "https://localhost:8080/"
        },
        "id": "NRQCCamw-Ec5",
        "outputId": "ba1dc65b-e940-476b-d0e5-82db83f49f3f"
      },
      "execution_count": 12,
      "outputs": [
        {
          "output_type": "stream",
          "name": "stdout",
          "text": [
            "Model: \"generator\"\n",
            "_________________________________________________________________\n",
            " Layer (type)                Output Shape              Param #   \n",
            "=================================================================\n",
            " dense (Dense)               (None, 128)               12928     \n",
            "                                                                 \n",
            " leaky_re_lu (LeakyReLU)     (None, 128)               0         \n",
            "                                                                 \n",
            " batch_normalization (BatchN  (None, 128)              512       \n",
            " ormalization)                                                   \n",
            "                                                                 \n",
            " dense_1 (Dense)             (None, 70)                9030      \n",
            "                                                                 \n",
            " activation (Activation)     (None, 70)                0         \n",
            "                                                                 \n",
            "=================================================================\n",
            "Total params: 22,470\n",
            "Trainable params: 22,214\n",
            "Non-trainable params: 256\n",
            "_________________________________________________________________\n"
          ]
        }
      ]
    },
    {
      "cell_type": "code",
      "source": [
        "discriminator = Sequential([\n",
        "    Dense(64, input_shape=(70,)),\n",
        "    LeakyReLU(alpha=0.2),\n",
        "    #BatchNormalization(momentum=0.7),\n",
        "\n",
        "    Dense(32),\n",
        "    LeakyReLU(alpha=0.2),\n",
        "    #BatchNormalization(momentum=0.7),\n",
        "\n",
        "    #Dense(128),\n",
        "    #LeakyReLU(alpha=0.2),\n",
        "    #BatchNormalization(momentum=0.7),\n",
        "    #Dense(64),\n",
        "    #LeakyReLU(alpha=0.2),\n",
        "    #BatchNormalization(momentum=0.7),\n",
        "\n",
        "    #Dense(32),\n",
        "    #LeakyReLU(alpha=0.2),\n",
        "    #BatchNormalization(momentum=0.7),\n",
        "\n",
        "    #Dense(16),\n",
        "    #LeakyReLU(alpha=0.2),\n",
        "    #BatchNormalization(momentum=0.7),\n",
        "\n",
        "    Dense(1),\n",
        "    Activation('sigmoid')\n",
        "], name='discriminator')\n",
        "\n",
        "discriminator.summary()"
      ],
      "metadata": {
        "colab": {
          "base_uri": "https://localhost:8080/"
        },
        "id": "JRnsIE5B-KKa",
        "outputId": "8789c150-0e5e-4546-d3ed-f445d65f4050"
      },
      "execution_count": 13,
      "outputs": [
        {
          "output_type": "stream",
          "name": "stdout",
          "text": [
            "Model: \"discriminator\"\n",
            "_________________________________________________________________\n",
            " Layer (type)                Output Shape              Param #   \n",
            "=================================================================\n",
            " dense_2 (Dense)             (None, 64)                4544      \n",
            "                                                                 \n",
            " leaky_re_lu_1 (LeakyReLU)   (None, 64)                0         \n",
            "                                                                 \n",
            " dense_3 (Dense)             (None, 32)                2080      \n",
            "                                                                 \n",
            " leaky_re_lu_2 (LeakyReLU)   (None, 32)                0         \n",
            "                                                                 \n",
            " dense_4 (Dense)             (None, 1)                 33        \n",
            "                                                                 \n",
            " activation_1 (Activation)   (None, 1)                 0         \n",
            "                                                                 \n",
            "=================================================================\n",
            "Total params: 6,657\n",
            "Trainable params: 6,657\n",
            "Non-trainable params: 0\n",
            "_________________________________________________________________\n"
          ]
        }
      ]
    },
    {
      "cell_type": "code",
      "source": [
        "# maintain the same shared weights with the generator and the discriminator.\n",
        "gan = Sequential([\n",
        "    generator,\n",
        "    discriminator\n",
        "])\n",
        "\n",
        "gan.summary()"
      ],
      "metadata": {
        "colab": {
          "base_uri": "https://localhost:8080/"
        },
        "id": "MBUGC7Bb-SWv",
        "outputId": "898c0b7a-9598-4f99-f575-fcadf014e45d"
      },
      "execution_count": 14,
      "outputs": [
        {
          "output_type": "stream",
          "name": "stdout",
          "text": [
            "Model: \"sequential\"\n",
            "_________________________________________________________________\n",
            " Layer (type)                Output Shape              Param #   \n",
            "=================================================================\n",
            " generator (Sequential)      (None, 70)                22470     \n",
            "                                                                 \n",
            " discriminator (Sequential)  (None, 1)                 6657      \n",
            "                                                                 \n",
            "=================================================================\n",
            "Total params: 29,127\n",
            "Trainable params: 28,871\n",
            "Non-trainable params: 256\n",
            "_________________________________________________________________\n"
          ]
        }
      ]
    },
    {
      "cell_type": "code",
      "source": [
        "def make_trainable(model, trainable):\n",
        "    for layer in model.layers:\n",
        "        layer.trainable = trainable"
      ],
      "metadata": {
        "id": "5icOTO6Z-V2f"
      },
      "execution_count": 15,
      "outputs": []
    },
    {
      "cell_type": "code",
      "source": [
        "make_trainable(discriminator, False)\n",
        "discriminator.summary()"
      ],
      "metadata": {
        "colab": {
          "base_uri": "https://localhost:8080/"
        },
        "id": "gZNa6ouG-XqZ",
        "outputId": "258f30be-4d66-4871-81c2-377bb69e9573"
      },
      "execution_count": 16,
      "outputs": [
        {
          "output_type": "stream",
          "name": "stdout",
          "text": [
            "Model: \"discriminator\"\n",
            "_________________________________________________________________\n",
            " Layer (type)                Output Shape              Param #   \n",
            "=================================================================\n",
            " dense_2 (Dense)             (None, 64)                4544      \n",
            "                                                                 \n",
            " leaky_re_lu_1 (LeakyReLU)   (None, 64)                0         \n",
            "                                                                 \n",
            " dense_3 (Dense)             (None, 32)                2080      \n",
            "                                                                 \n",
            " leaky_re_lu_2 (LeakyReLU)   (None, 32)                0         \n",
            "                                                                 \n",
            " dense_4 (Dense)             (None, 1)                 33        \n",
            "                                                                 \n",
            " activation_1 (Activation)   (None, 1)                 0         \n",
            "                                                                 \n",
            "=================================================================\n",
            "Total params: 6,657\n",
            "Trainable params: 0\n",
            "Non-trainable params: 6,657\n",
            "_________________________________________________________________\n"
          ]
        }
      ]
    },
    {
      "cell_type": "code",
      "source": [
        "make_trainable(discriminator, True)\n",
        "discriminator.summary()"
      ],
      "metadata": {
        "colab": {
          "base_uri": "https://localhost:8080/"
        },
        "id": "uL0eVORe-ahE",
        "outputId": "d230625b-8fd7-4c6c-e794-3acc12adfccd"
      },
      "execution_count": 17,
      "outputs": [
        {
          "output_type": "stream",
          "name": "stdout",
          "text": [
            "Model: \"discriminator\"\n",
            "_________________________________________________________________\n",
            " Layer (type)                Output Shape              Param #   \n",
            "=================================================================\n",
            " dense_2 (Dense)             (None, 64)                4544      \n",
            "                                                                 \n",
            " leaky_re_lu_1 (LeakyReLU)   (None, 64)                0         \n",
            "                                                                 \n",
            " dense_3 (Dense)             (None, 32)                2080      \n",
            "                                                                 \n",
            " leaky_re_lu_2 (LeakyReLU)   (None, 32)                0         \n",
            "                                                                 \n",
            " dense_4 (Dense)             (None, 1)                 33        \n",
            "                                                                 \n",
            " activation_1 (Activation)   (None, 1)                 0         \n",
            "                                                                 \n",
            "=================================================================\n",
            "Total params: 6,657\n",
            "Trainable params: 6,657\n",
            "Non-trainable params: 0\n",
            "_________________________________________________________________\n"
          ]
        }
      ]
    },
    {
      "cell_type": "code",
      "source": [
        "def make_simple_GAN(sample_size, \n",
        "                    g_hidden_size_1,\n",
        "                    g_hidden_size_2,\n",
        "                    g_hidden_size_3,\n",
        "                    g_hidden_size_4,\n",
        "                    d_hidden_size_1,\n",
        "                    d_hidden_size_2, \n",
        "                    d_hidden_size_3,\n",
        "                    d_hidden_size_4,\n",
        "                    d_hidden_size_5,\n",
        "                    d_hidden_size_6,\n",
        "                    leaky_alpha, \n",
        "                    g_learning_rate,\n",
        "                    d_learning_rate):\n",
        "    K.clear_session()\n",
        "    \n",
        "    generator = Sequential([\n",
        "        Dense(g_hidden_size_1, input_shape=(sample_size,)),\n",
        "        LeakyReLU(alpha=leaky_alpha),\n",
        "        BatchNormalization(momentum=0.7),\n",
        "\n",
        "        #Dense(g_hidden_size_2),\n",
        "        #LeakyReLU(alpha=leaky_alpha),\n",
        "        #BatchNormalization(momentum=0.7),\n",
        "\n",
        "        #Dense(g_hidden_size_3),\n",
        "        #LeakyReLU(alpha=leaky_alpha),\n",
        "        #BatchNormalization(momentum=0.7),\n",
        "\n",
        "        #Dense(g_hidden_size_4),\n",
        "        #LeakyReLU(alpha=leaky_alpha),\n",
        "        #BatchNormalization(momentum=0.7),\n",
        "\n",
        "        Dense(70),        \n",
        "        Activation('tanh')\n",
        "    ], name='generator')    \n",
        "\n",
        "    discriminator = Sequential([\n",
        "        Dense(d_hidden_size_1, input_shape=(70,)),\n",
        "        LeakyReLU(alpha=leaky_alpha),\n",
        "        #BatchNormalization(momentum=0.7),\n",
        "\n",
        "        Dense(d_hidden_size_2),\n",
        "        LeakyReLU(alpha=leaky_alpha),\n",
        "        #BatchNormalization(momentum=0.7),\n",
        "\n",
        "        #Dense(d_hidden_size_3),\n",
        "        #LeakyReLU(alpha=leaky_alpha),\n",
        "        #BatchNormalization(momentum=0.7),\n",
        "\n",
        "        #Dense(d_hidden_size_4),\n",
        "        #LeakyReLU(alpha=leaky_alpha),\n",
        "        #BatchNormalization(momentum=0.7),\n",
        "\n",
        "        #Dense(d_hidden_size_5),\n",
        "        #LeakyReLU(alpha=leaky_alpha),\n",
        "        #BatchNormalization(momentum=0.7),\n",
        "\n",
        "        #Dense(d_hidden_size_6),\n",
        "        #LeakyReLU(alpha=leaky_alpha),\n",
        "        #BatchNormalization(momentum=0.7),\n",
        "\n",
        "        Dense(1),\n",
        "        Activation('sigmoid')\n",
        "    ], name='discriminator')    \n",
        "    \n",
        "    gan = Sequential([\n",
        "        generator,\n",
        "        discriminator\n",
        "    ])\n",
        "    \n",
        "    discriminator.compile(optimizer=Adam(lr=d_learning_rate), loss='binary_crossentropy')\n",
        "    gan.compile(optimizer=Adam(lr=g_learning_rate), loss='binary_crossentropy')\n",
        "    \n",
        "    return gan, generator, discriminator "
      ],
      "metadata": {
        "id": "rEp_1i09-dPu"
      },
      "execution_count": 18,
      "outputs": []
    },
    {
      "cell_type": "code",
      "source": [
        "from sklearn import preprocessing\n",
        "def preprocess(x):\n",
        "   x = preprocessing.scale(x)\n",
        "   return x"
      ],
      "metadata": {
        "id": "mI3nU-3_-lK-"
      },
      "execution_count": 19,
      "outputs": []
    },
    {
      "cell_type": "code",
      "source": [
        "X_train_real = np.array(preprocess(X_train))\n",
        "X_test_real  = np.array(preprocess(X_test))"
      ],
      "metadata": {
        "id": "SLCAacR--m1_"
      },
      "execution_count": 20,
      "outputs": []
    },
    {
      "cell_type": "code",
      "source": [
        "def make_labels(size):\n",
        "    return np.ones([size, 1]), np.zeros([size, 1])"
      ],
      "metadata": {
        "id": "WmJ4T1rT-pxE"
      },
      "execution_count": 21,
      "outputs": []
    },
    {
      "cell_type": "code",
      "source": [
        "y_real_10, y_fake_10 = make_labels(10)\n",
        "\n",
        "y_real_10, y_fake_10"
      ],
      "metadata": {
        "colab": {
          "base_uri": "https://localhost:8080/"
        },
        "id": "lO2LcRot-r8O",
        "outputId": "81c086de-9d2b-4471-cd22-bd8a0409678a"
      },
      "execution_count": 22,
      "outputs": [
        {
          "output_type": "execute_result",
          "data": {
            "text/plain": [
              "(array([[1.],\n",
              "        [1.],\n",
              "        [1.],\n",
              "        [1.],\n",
              "        [1.],\n",
              "        [1.],\n",
              "        [1.],\n",
              "        [1.],\n",
              "        [1.],\n",
              "        [1.]]), array([[0.],\n",
              "        [0.],\n",
              "        [0.],\n",
              "        [0.],\n",
              "        [0.],\n",
              "        [0.],\n",
              "        [0.],\n",
              "        [0.],\n",
              "        [0.],\n",
              "        [0.]]))"
            ]
          },
          "metadata": {},
          "execution_count": 22
        }
      ]
    },
    {
      "cell_type": "code",
      "source": [
        "# hyperparameters\n",
        "sample_size     = 100     # latent sample size (i.e., 100 random numbers)\n",
        "g_hidden_size_1 = 128\n",
        "g_hidden_size_2 = 0\n",
        "g_hidden_size_3 = 0\n",
        "g_hidden_size_4 = 0\n",
        "d_hidden_size_1 = 64\n",
        "d_hidden_size_2 = 32\n",
        "d_hidden_size_3 = 0\n",
        "d_hidden_size_4 = 0\n",
        "d_hidden_size_5 = 0\n",
        "d_hidden_size_6 = 0\n",
        "leaky_alpha     = 0.2\n",
        "g_learning_rate = 0.0001  # learning rate for the generator\n",
        "d_learning_rate = 0.0001   # learning rate for the discriminator\n",
        "epochs          = 100\n",
        "batch_size      = 64      # train batch size\n",
        "eval_size       = 16      # evaluate size\n",
        "smooth          = 0.1\n"
      ],
      "metadata": {
        "id": "7N6BKZv3-vZS"
      },
      "execution_count": 23,
      "outputs": []
    },
    {
      "cell_type": "code",
      "source": [
        "## labels for the batch size and the test size\n",
        "y_train_real, y_train_fake = make_labels(batch_size)\n",
        "y_eval_real,  y_eval_fake  = make_labels(eval_size)\n",
        "\n",
        "# create a GAN, a generator and a discriminator\n",
        "gan, generator, discriminator = make_simple_GAN(\n",
        "    sample_size, \n",
        "    g_hidden_size_1, \n",
        "    g_hidden_size_2,\n",
        "    g_hidden_size_3,\n",
        "    g_hidden_size_4, \n",
        "    d_hidden_size_1, \n",
        "    d_hidden_size_2,\n",
        "    d_hidden_size_3,\n",
        "    d_hidden_size_4,\n",
        "    d_hidden_size_5,\n",
        "    d_hidden_size_6,\n",
        "    leaky_alpha, \n",
        "    g_learning_rate,\n",
        "    d_learning_rate)\n",
        "\n",
        "\n",
        "losses = []\n",
        "losses1 = []\n",
        "for e in range(epochs):\n",
        "    for i in range(len(X_train_real)//batch_size):\n",
        "        # real MNIST digit images\n",
        "        X_batch_real = X_train_real[i*batch_size:(i+1)*batch_size]\n",
        "        \n",
        "        # latent samples and the generated digit images\n",
        "        latent_samples = make_latent_samples(batch_size, sample_size)\n",
        "        X_batch_fake = generator.predict_on_batch(latent_samples)\n",
        "        \n",
        "        # train the discriminator to detect real and fake images\n",
        "        make_trainable(discriminator, True)\n",
        "        discriminator.train_on_batch(X_batch_real, y_train_real * (1 - smooth))\n",
        "        discriminator.train_on_batch(X_batch_fake, y_train_fake)\n",
        "\n",
        "        # train the generator via GAN\n",
        "        make_trainable(discriminator, False)\n",
        "        gan.train_on_batch(latent_samples, y_train_real)\n",
        "   # evaluate\n",
        "    X_eval_real = X_test_real[np.random.choice(len(X_test_real), eval_size, replace=False)]\n",
        "    \n",
        "    latent_samples = make_latent_samples(eval_size, sample_size)\n",
        "    X_eval_fake = generator.predict_on_batch(latent_samples)\n",
        "\n",
        "    d_loss  = discriminator.test_on_batch(X_eval_real, y_eval_real)\n",
        "    d_loss += discriminator.test_on_batch(X_eval_fake, y_eval_fake)\n",
        "    g_loss  = gan.test_on_batch(latent_samples, y_eval_real) # we want the fake to be realistic!\n",
        "    \n",
        "    losses.append((d_loss, g_loss))\n",
        "\n",
        "    d_acc_real = discriminator.train_on_batch(X_batch_real, y_train_real * (1 - smooth))\n",
        "    d_acc_fake = discriminator.train_on_batch(X_batch_fake, y_train_fake)\n",
        "    d_acc  = 0.5 * (d_acc_real + d_acc_fake)\n",
        "\n",
        "    #losses1.append(( d_acc))\n",
        "    print(\"Epoch: {:>3}/{} Discriminator Loss: {:>6.4f} Generator Loss: {:>6.4f} Discriminator acc:{:>6.4f}:\".format(\n",
        "        e+1, epochs, d_loss, g_loss,d_acc)) #Discriminator acc: {:>6.4f}:,d_acc"
      ],
      "metadata": {
        "colab": {
          "base_uri": "https://localhost:8080/"
        },
        "id": "9SYobm6e-3f0",
        "outputId": "aba57aac-9272-4848-d49c-c5c0b622184d"
      },
      "execution_count": 24,
      "outputs": [
        {
          "output_type": "stream",
          "name": "stderr",
          "text": [
            "/usr/local/lib/python3.7/dist-packages/keras/optimizer_v2/adam.py:105: UserWarning: The `lr` argument is deprecated, use `learning_rate` instead.\n",
            "  super(Adam, self).__init__(name, **kwargs)\n"
          ]
        },
        {
          "output_type": "stream",
          "name": "stdout",
          "text": [
            "Epoch:   1/100 Discriminator Loss: 1.3959 Generator Loss: 0.6430 Discriminator acc:0.7603:\n",
            "Epoch:   2/100 Discriminator Loss: 1.4510 Generator Loss: 0.5976 Discriminator acc:0.7216:\n",
            "Epoch:   3/100 Discriminator Loss: 1.4209 Generator Loss: 0.5744 Discriminator acc:0.7208:\n",
            "Epoch:   4/100 Discriminator Loss: 1.4219 Generator Loss: 0.5346 Discriminator acc:0.7427:\n",
            "Epoch:   5/100 Discriminator Loss: 1.5596 Generator Loss: 0.4878 Discriminator acc:0.7408:\n",
            "Epoch:   6/100 Discriminator Loss: 1.5075 Generator Loss: 0.4717 Discriminator acc:0.7288:\n",
            "Epoch:   7/100 Discriminator Loss: 1.4406 Generator Loss: 0.4829 Discriminator acc:0.7455:\n",
            "Epoch:   8/100 Discriminator Loss: 1.4623 Generator Loss: 0.4626 Discriminator acc:0.7484:\n",
            "Epoch:   9/100 Discriminator Loss: 1.4092 Generator Loss: 0.4819 Discriminator acc:0.7870:\n",
            "Epoch:  10/100 Discriminator Loss: 1.3996 Generator Loss: 0.4447 Discriminator acc:0.7547:\n",
            "Epoch:  11/100 Discriminator Loss: 1.3745 Generator Loss: 0.4823 Discriminator acc:0.7807:\n",
            "Epoch:  12/100 Discriminator Loss: 1.3904 Generator Loss: 0.4536 Discriminator acc:0.7692:\n",
            "Epoch:  13/100 Discriminator Loss: 1.5255 Generator Loss: 0.4061 Discriminator acc:0.7889:\n",
            "Epoch:  14/100 Discriminator Loss: 1.4767 Generator Loss: 0.4127 Discriminator acc:0.7655:\n",
            "Epoch:  15/100 Discriminator Loss: 1.3538 Generator Loss: 0.4464 Discriminator acc:0.7589:\n",
            "Epoch:  16/100 Discriminator Loss: 1.4612 Generator Loss: 0.3964 Discriminator acc:0.7703:\n",
            "Epoch:  17/100 Discriminator Loss: 1.3580 Generator Loss: 0.4588 Discriminator acc:0.7892:\n",
            "Epoch:  18/100 Discriminator Loss: 1.4469 Generator Loss: 0.4146 Discriminator acc:0.7715:\n",
            "Epoch:  19/100 Discriminator Loss: 1.3856 Generator Loss: 0.4382 Discriminator acc:0.7745:\n",
            "Epoch:  20/100 Discriminator Loss: 1.4793 Generator Loss: 0.3963 Discriminator acc:0.7832:\n",
            "Epoch:  21/100 Discriminator Loss: 1.4985 Generator Loss: 0.3864 Discriminator acc:0.7956:\n",
            "Epoch:  22/100 Discriminator Loss: 1.5986 Generator Loss: 0.3629 Discriminator acc:0.7597:\n",
            "Epoch:  23/100 Discriminator Loss: 1.4264 Generator Loss: 0.4150 Discriminator acc:0.7915:\n",
            "Epoch:  24/100 Discriminator Loss: 1.4552 Generator Loss: 0.3938 Discriminator acc:0.7822:\n",
            "Epoch:  25/100 Discriminator Loss: 1.5063 Generator Loss: 0.3940 Discriminator acc:0.7870:\n",
            "Epoch:  26/100 Discriminator Loss: 1.5383 Generator Loss: 0.3574 Discriminator acc:0.7901:\n",
            "Epoch:  27/100 Discriminator Loss: 1.5741 Generator Loss: 0.3563 Discriminator acc:0.7996:\n",
            "Epoch:  28/100 Discriminator Loss: 1.4314 Generator Loss: 0.4170 Discriminator acc:0.7733:\n",
            "Epoch:  29/100 Discriminator Loss: 1.4392 Generator Loss: 0.3983 Discriminator acc:0.7982:\n",
            "Epoch:  30/100 Discriminator Loss: 1.6451 Generator Loss: 0.3230 Discriminator acc:0.7784:\n",
            "Epoch:  31/100 Discriminator Loss: 1.4616 Generator Loss: 0.4017 Discriminator acc:0.7739:\n",
            "Epoch:  32/100 Discriminator Loss: 1.4606 Generator Loss: 0.3895 Discriminator acc:0.7758:\n",
            "Epoch:  33/100 Discriminator Loss: 1.5711 Generator Loss: 0.3354 Discriminator acc:0.7926:\n",
            "Epoch:  34/100 Discriminator Loss: 1.4197 Generator Loss: 0.3965 Discriminator acc:0.7873:\n",
            "Epoch:  35/100 Discriminator Loss: 1.6006 Generator Loss: 0.3571 Discriminator acc:0.7818:\n",
            "Epoch:  36/100 Discriminator Loss: 1.3719 Generator Loss: 0.4327 Discriminator acc:0.7715:\n",
            "Epoch:  37/100 Discriminator Loss: 1.4787 Generator Loss: 0.3850 Discriminator acc:0.7853:\n",
            "Epoch:  38/100 Discriminator Loss: 1.3626 Generator Loss: 0.4284 Discriminator acc:0.7747:\n",
            "Epoch:  39/100 Discriminator Loss: 1.4112 Generator Loss: 0.4119 Discriminator acc:0.7767:\n",
            "Epoch:  40/100 Discriminator Loss: 1.4338 Generator Loss: 0.4007 Discriminator acc:0.7838:\n",
            "Epoch:  41/100 Discriminator Loss: 1.4648 Generator Loss: 0.3707 Discriminator acc:0.7930:\n",
            "Epoch:  42/100 Discriminator Loss: 1.4332 Generator Loss: 0.3992 Discriminator acc:0.7657:\n",
            "Epoch:  43/100 Discriminator Loss: 1.4155 Generator Loss: 0.4020 Discriminator acc:0.7992:\n",
            "Epoch:  44/100 Discriminator Loss: 1.4054 Generator Loss: 0.4187 Discriminator acc:0.7804:\n",
            "Epoch:  45/100 Discriminator Loss: 1.4795 Generator Loss: 0.3859 Discriminator acc:0.7603:\n",
            "Epoch:  46/100 Discriminator Loss: 1.4554 Generator Loss: 0.3758 Discriminator acc:0.7701:\n",
            "Epoch:  47/100 Discriminator Loss: 1.5045 Generator Loss: 0.3696 Discriminator acc:0.7784:\n",
            "Epoch:  48/100 Discriminator Loss: 1.4058 Generator Loss: 0.4061 Discriminator acc:0.7670:\n",
            "Epoch:  49/100 Discriminator Loss: 1.4225 Generator Loss: 0.3990 Discriminator acc:0.7726:\n",
            "Epoch:  50/100 Discriminator Loss: 1.4978 Generator Loss: 0.3523 Discriminator acc:0.7918:\n",
            "Epoch:  51/100 Discriminator Loss: 1.4673 Generator Loss: 0.3869 Discriminator acc:0.7670:\n",
            "Epoch:  52/100 Discriminator Loss: 1.4269 Generator Loss: 0.3852 Discriminator acc:0.7740:\n",
            "Epoch:  53/100 Discriminator Loss: 1.5195 Generator Loss: 0.3721 Discriminator acc:0.7777:\n",
            "Epoch:  54/100 Discriminator Loss: 1.4101 Generator Loss: 0.4014 Discriminator acc:0.7549:\n",
            "Epoch:  55/100 Discriminator Loss: 1.4666 Generator Loss: 0.3938 Discriminator acc:0.7532:\n",
            "Epoch:  56/100 Discriminator Loss: 1.5125 Generator Loss: 0.3646 Discriminator acc:0.7505:\n",
            "Epoch:  57/100 Discriminator Loss: 1.5002 Generator Loss: 0.3744 Discriminator acc:0.7534:\n",
            "Epoch:  58/100 Discriminator Loss: 1.4847 Generator Loss: 0.3624 Discriminator acc:0.7629:\n",
            "Epoch:  59/100 Discriminator Loss: 1.4538 Generator Loss: 0.3809 Discriminator acc:0.7626:\n",
            "Epoch:  60/100 Discriminator Loss: 1.5125 Generator Loss: 0.3594 Discriminator acc:0.7821:\n",
            "Epoch:  61/100 Discriminator Loss: 1.5260 Generator Loss: 0.3825 Discriminator acc:0.7542:\n",
            "Epoch:  62/100 Discriminator Loss: 1.5084 Generator Loss: 0.3629 Discriminator acc:0.7476:\n",
            "Epoch:  63/100 Discriminator Loss: 1.4223 Generator Loss: 0.3956 Discriminator acc:0.7758:\n",
            "Epoch:  64/100 Discriminator Loss: 1.4918 Generator Loss: 0.3741 Discriminator acc:0.7832:\n",
            "Epoch:  65/100 Discriminator Loss: 1.4486 Generator Loss: 0.3900 Discriminator acc:0.7714:\n",
            "Epoch:  66/100 Discriminator Loss: 1.3978 Generator Loss: 0.3903 Discriminator acc:0.7738:\n",
            "Epoch:  67/100 Discriminator Loss: 1.4442 Generator Loss: 0.3955 Discriminator acc:0.7785:\n",
            "Epoch:  68/100 Discriminator Loss: 1.5357 Generator Loss: 0.3765 Discriminator acc:0.7659:\n",
            "Epoch:  69/100 Discriminator Loss: 1.4858 Generator Loss: 0.3850 Discriminator acc:0.7928:\n",
            "Epoch:  70/100 Discriminator Loss: 1.4429 Generator Loss: 0.4068 Discriminator acc:0.7488:\n",
            "Epoch:  71/100 Discriminator Loss: 1.3498 Generator Loss: 0.4409 Discriminator acc:0.7655:\n",
            "Epoch:  72/100 Discriminator Loss: 1.4094 Generator Loss: 0.4154 Discriminator acc:0.7406:\n",
            "Epoch:  73/100 Discriminator Loss: 1.5261 Generator Loss: 0.3741 Discriminator acc:0.7814:\n",
            "Epoch:  74/100 Discriminator Loss: 1.5062 Generator Loss: 0.3884 Discriminator acc:0.7599:\n",
            "Epoch:  75/100 Discriminator Loss: 1.4571 Generator Loss: 0.3806 Discriminator acc:0.7433:\n",
            "Epoch:  76/100 Discriminator Loss: 1.4809 Generator Loss: 0.3759 Discriminator acc:0.7571:\n",
            "Epoch:  77/100 Discriminator Loss: 1.3826 Generator Loss: 0.3983 Discriminator acc:0.7666:\n",
            "Epoch:  78/100 Discriminator Loss: 1.3669 Generator Loss: 0.3931 Discriminator acc:0.7824:\n",
            "Epoch:  79/100 Discriminator Loss: 1.4468 Generator Loss: 0.3767 Discriminator acc:0.7564:\n",
            "Epoch:  80/100 Discriminator Loss: 1.4222 Generator Loss: 0.3973 Discriminator acc:0.7579:\n",
            "Epoch:  81/100 Discriminator Loss: 1.4307 Generator Loss: 0.4141 Discriminator acc:0.7468:\n",
            "Epoch:  82/100 Discriminator Loss: 1.5297 Generator Loss: 0.3802 Discriminator acc:0.7454:\n",
            "Epoch:  83/100 Discriminator Loss: 1.5367 Generator Loss: 0.3799 Discriminator acc:0.7537:\n",
            "Epoch:  84/100 Discriminator Loss: 1.5333 Generator Loss: 0.3693 Discriminator acc:0.7328:\n",
            "Epoch:  85/100 Discriminator Loss: 1.3976 Generator Loss: 0.4015 Discriminator acc:0.7895:\n",
            "Epoch:  86/100 Discriminator Loss: 1.4433 Generator Loss: 0.3969 Discriminator acc:0.7514:\n",
            "Epoch:  87/100 Discriminator Loss: 1.3846 Generator Loss: 0.4106 Discriminator acc:0.7512:\n",
            "Epoch:  88/100 Discriminator Loss: 1.4312 Generator Loss: 0.4018 Discriminator acc:0.7504:\n",
            "Epoch:  89/100 Discriminator Loss: 1.4307 Generator Loss: 0.3907 Discriminator acc:0.7838:\n",
            "Epoch:  90/100 Discriminator Loss: 1.4990 Generator Loss: 0.3721 Discriminator acc:0.7515:\n",
            "Epoch:  91/100 Discriminator Loss: 1.4633 Generator Loss: 0.3752 Discriminator acc:0.7576:\n",
            "Epoch:  92/100 Discriminator Loss: 1.4958 Generator Loss: 0.3657 Discriminator acc:0.7439:\n",
            "Epoch:  93/100 Discriminator Loss: 1.4193 Generator Loss: 0.4100 Discriminator acc:0.7477:\n",
            "Epoch:  94/100 Discriminator Loss: 1.4137 Generator Loss: 0.4098 Discriminator acc:0.7668:\n",
            "Epoch:  95/100 Discriminator Loss: 1.4108 Generator Loss: 0.3947 Discriminator acc:0.7451:\n",
            "Epoch:  96/100 Discriminator Loss: 1.4234 Generator Loss: 0.3909 Discriminator acc:0.7503:\n",
            "Epoch:  97/100 Discriminator Loss: 1.4131 Generator Loss: 0.3723 Discriminator acc:0.7358:\n",
            "Epoch:  98/100 Discriminator Loss: 1.4792 Generator Loss: 0.3891 Discriminator acc:0.7526:\n",
            "Epoch:  99/100 Discriminator Loss: 1.3696 Generator Loss: 0.4344 Discriminator acc:0.7578:\n",
            "Epoch: 100/100 Discriminator Loss: 1.4995 Generator Loss: 0.3846 Discriminator acc:0.7556:\n"
          ]
        }
      ]
    },
    {
      "cell_type": "code",
      "source": [
        "losses = np.array(losses)\n",
        "\n",
        "fig, ax = plt.subplots()\n",
        "plt.plot(losses.T[0], label='Discriminator')\n",
        "plt.plot(losses.T[1], label='Generator')\n",
        "plt.title(\"Training Losses\")\n",
        "plt.legend()\n",
        "plt.show()"
      ],
      "metadata": {
        "colab": {
          "base_uri": "https://localhost:8080/",
          "height": 281
        },
        "id": "-Pczfh-C_rC-",
        "outputId": "03e1c346-6153-41b0-f48d-aabb71dab75a"
      },
      "execution_count": 25,
      "outputs": [
        {
          "output_type": "display_data",
          "data": {
            "image/png": "[encoded data removed]",
            "text/plain": [
              "<Figure size 432x288 with 1 Axes>"
            ]
          },
          "metadata": {
            "needs_background": "light"
          }
        }
      ]
    },
    {
      "cell_type": "code",
      "source": [
        "rr = discriminator.predict_on_batch(X_test_real)"
      ],
      "metadata": {
        "id": "THaYGfNm_t7H"
      },
      "execution_count": 26,
      "outputs": []
    },
    {
      "cell_type": "code",
      "source": [
        "import keras\n",
        "#import keras_metrics\n",
        "\n",
        "r = tf.keras.metrics.Recall()#thresholds=rr.min())\n",
        "r.update_state(y_test,rr )\n",
        "r.result().numpy()\n"
      ],
      "metadata": {
        "colab": {
          "base_uri": "https://localhost:8080/"
        },
        "id": "y4YHTlv6_wKG",
        "outputId": "8084940a-3183-484b-f152-693656a9ec30"
      },
      "execution_count": 27,
      "outputs": [
        {
          "output_type": "execute_result",
          "data": {
            "text/plain": [
              "0.9896907"
            ]
          },
          "metadata": {},
          "execution_count": 27
        }
      ]
    },
    {
      "cell_type": "code",
      "source": [
        "p=tf.keras.metrics.Precision()#thresholds=rr.min())\n",
        "p.update_state(y_test,rr )\n",
        "p.result().numpy()"
      ],
      "metadata": {
        "colab": {
          "base_uri": "https://localhost:8080/"
        },
        "id": "4Wgx-224_yPg",
        "outputId": "83725fd3-6c28-457a-e349-2a269ebde14b"
      },
      "execution_count": 28,
      "outputs": [
        {
          "output_type": "execute_result",
          "data": {
            "text/plain": [
              "0.75789475"
            ]
          },
          "metadata": {},
          "execution_count": 28
        }
      ]
    }
  ]
}