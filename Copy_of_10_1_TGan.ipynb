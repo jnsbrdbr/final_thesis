{
  "cells": [
    {
      "cell_type": "markdown",
      "metadata": {
        "id": "view-in-github",
        "colab_type": "text"
      },
      "source": [
        "<a href=\"https://colab.research.google.com/github/jnsbrdbr/final_thesis/blob/main/Copy_of_10_1_TGan.ipynb\" target=\"_parent\"><img src=\"https://colab.research.google.com/assets/colab-badge.svg\" alt=\"Open In Colab\"/></a>"
      ]
    },
    {
      "cell_type": "code",
      "execution_count": null,
      "metadata": {
        "colab": {
          "base_uri": "https://localhost:8080/"
        },
        "id": "j70DTmCCYMm3",
        "outputId": "8a5a660a-73bb-4246-ce49-b37abc78229f"
      },
      "outputs": [
        {
          "output_type": "stream",
          "name": "stdout",
          "text": [
            "`%tensorflow_version` only switches the major version: 1.x or 2.x.\n",
            "You set: `2.x  # Colab only.`. This will be interpreted as: `2.x`.\n",
            "\n",
            "\n",
            "TensorFlow 2.x selected.\n",
            "2.8.0\n"
          ]
        }
      ],
      "source": [
        "# Install TensorFlow\n",
        "# !pip install -q tensorflow-gpu==2.0.0-rc0\n",
        "\n",
        "try:\n",
        "  %tensorflow_version 2.x  # Colab only.\n",
        "except Exception:\n",
        "  pass\n",
        "\n",
        "import tensorflow as tf\n",
        "print(tf.__version__)"
      ]
    },
    {
      "cell_type": "code",
      "execution_count": null,
      "metadata": {
        "id": "7i01N6ZIYXzE"
      },
      "outputs": [],
      "source": [
        "import keras\n",
        "from keras.layers import Input, Dense, Activation, LeakyReLU, BatchNormalization\n",
        "from keras.models import Sequential\n",
        "from tensorflow.keras.optimizers import Adam\n",
        "from sklearn.model_selection import train_test_split\n",
        "from tensorflow.keras.models import Model\n",
        "import keras.backend as K\n",
        "import numpy as np\n",
        "import pandas as pd\n",
        "import matplotlib.pyplot as plt\n",
        "import sys, os\n",
        "\n",
        "%matplotlib inline"
      ]
    },
    {
      "cell_type": "code",
      "execution_count": null,
      "metadata": {
        "colab": {
          "base_uri": "https://localhost:8080/"
        },
        "id": "ThkdPVsmYauJ",
        "outputId": "e8de3157-b689-4e03-e318-40359b468914"
      },
      "outputs": [
        {
          "output_type": "stream",
          "name": "stdout",
          "text": [
            "Drive already mounted at /content/drive; to attempt to forcibly remount, call drive.mount(\"/content/drive\", force_remount=True).\n"
          ]
        }
      ],
      "source": [
        "from google.colab import drive\n",
        "drive.mount('/content/drive') "
      ]
    },
    {
      "cell_type": "code",
      "execution_count": null,
      "metadata": {
        "colab": {
          "base_uri": "https://localhost:8080/"
        },
        "id": "5hfNf56TYyWQ",
        "outputId": "e51ecb34-7c05-4fd6-a785-1b509c65a038"
      },
      "outputs": [
        {
          "output_type": "stream",
          "name": "stdout",
          "text": [
            "Requirement already satisfied: pickle5 in /usr/local/lib/python3.7/dist-packages (0.0.12)\n"
          ]
        }
      ],
      "source": [
        "!pip3 install pickle5\n",
        "import pickle5 as pickle"
      ]
    },
    {
      "cell_type": "code",
      "execution_count": null,
      "metadata": {
        "id": "Z2blfCcpYkug"
      },
      "outputs": [],
      "source": [
        "with open('/content/drive/MyDrive/10000/Tresult.pkl', \"rb\") as fh:\n",
        "  result = pickle.load(fh)"
      ]
    },
    {
      "cell_type": "code",
      "execution_count": null,
      "metadata": {
        "id": "m0lk-Uz1Y2yl",
        "colab": {
          "base_uri": "https://localhost:8080/"
        },
        "outputId": "f5613343-f87e-4fed-80ff-7417f1c027cb"
      },
      "outputs": [
        {
          "output_type": "stream",
          "name": "stdout",
          "text": [
            "               0         1         2         3         4         5         6  \\\n",
            "0      -2.178515 -3.260148 -0.698552 -1.030417 -0.723180 -1.027433 -0.405889   \n",
            "1      -2.178515 -3.260148 -0.698552 -1.030417 -0.723180 -1.027433 -0.405889   \n",
            "2      -2.178515 -3.260148 -0.698552 -1.030417 -0.723180 -1.027433 -0.405889   \n",
            "3      -2.178515 -3.260148 -0.698552 -1.030417 -0.723180 -1.027433 -0.405889   \n",
            "4      -2.178710 -3.260547 -0.698874 -1.030967 -0.723695 -1.028303 -0.406622   \n",
            "...          ...       ...       ...       ...       ...       ...       ...   \n",
            "13209  -2.178515 -3.260148 -0.698552 -1.030417 -0.723180 -1.027433 -0.405889   \n",
            "13210  -2.178515 -3.260148 -0.698552 -1.030417 -0.723180 -1.027433 -0.405889   \n",
            "13211  -2.178515 -3.260148 -0.698552 -1.030417 -0.723180 -1.027433 -0.405889   \n",
            "13212  -2.178515 -3.260148 -0.698552 -1.030417 -0.723180 -1.027433 -0.405889   \n",
            "13213  27.606119  6.905609  0.154864  0.191890  0.097248  0.114301  0.021144   \n",
            "\n",
            "              7         8         9  ...          1         2         3  \\\n",
            "0     -0.059185 -0.526790 -0.190040  ...   0.452139 -1.203407 -0.183899   \n",
            "1     -0.059185 -0.526790 -0.190040  ...   0.452139 -1.203407 -0.183899   \n",
            "2     -0.059185 -0.526790 -0.190040  ...   0.452139 -1.203407 -0.183899   \n",
            "3     -0.059185 -0.526790 -0.190040  ...   0.452139 -1.203407 -0.183899   \n",
            "4     -0.059394 -0.528048 -0.191038  ...  -7.508892  7.994602  0.226101   \n",
            "...         ...       ...       ...  ...        ...       ...       ...   \n",
            "13209 -0.059185 -0.526790 -0.190040  ...   1.554089 -4.346298  9.404540   \n",
            "13210 -0.059185 -0.526790 -0.190040  ...   0.599942 -1.505019 -0.218230   \n",
            "13211 -0.059185 -0.526790 -0.190040  ...  -8.533632  9.178701  0.278730   \n",
            "13212 -0.059185 -0.526790 -0.190040  ...  -8.533631  9.178698  0.278730   \n",
            "13213  0.002302  0.020160  0.004991  ... -11.890588  4.271539  0.100003   \n",
            "\n",
            "              4         5         6         7         8         9  label  \n",
            "0     -0.438911 -0.266164 -0.544673 -0.224884 -0.068575 -0.230930      1  \n",
            "1     -0.438911 -0.266164 -0.544673 -0.224884 -0.068575 -0.230930      1  \n",
            "2     -0.438911 -0.266164 -0.544673 -0.224884 -0.068575 -0.230930      1  \n",
            "3     -0.438911 -0.266164 -0.544673 -0.224884 -0.068575 -0.230930      1  \n",
            "4      0.991238  0.482262  0.829106  0.246306  0.048557  0.160622      1  \n",
            "...         ...       ...       ...       ...       ...       ...    ...  \n",
            "13209  4.676083  1.038614  1.272721  0.249463  0.046943  0.150109      0  \n",
            "13210 -0.586787 -0.370000 -0.787776 -0.380601 -0.129873 -0.451315      0  \n",
            "13211  1.177091  0.579516  1.007372  0.308708  0.063843  0.211098      0  \n",
            "13212  1.177090  0.579515  1.007370  0.308707  0.063843  0.211097      0  \n",
            "13213  0.324583  0.150424  0.249943  0.068055  0.013998  0.046459      0  \n",
            "\n",
            "[13214 rows x 101 columns]\n"
          ]
        }
      ],
      "source": [
        "#final data\n",
        "print(result)"
      ]
    },
    {
      "cell_type": "code",
      "execution_count": null,
      "metadata": {
        "id": "QKmLf4jlY6LZ"
      },
      "outputs": [],
      "source": [
        "#divide data in to data_label and non_data label\n",
        "\n",
        "import copy\n",
        "result_nonlabel=copy.deepcopy(result)\n",
        "del result_nonlabel['label']\n",
        "X=result_nonlabel\n",
        "y=result.label"
      ]
    },
    {
      "cell_type": "code",
      "execution_count": null,
      "metadata": {
        "id": "XqPz3htaY8ZG"
      },
      "outputs": [],
      "source": [
        "#splitting data in to test and train...\n",
        "\n",
        "from sklearn.model_selection import train_test_split\n",
        "X_train, X_test, y_train, y_test = train_test_split(X, y ,test_size=0.3,shuffle=True)#random_state=42,"
      ]
    },
    {
      "cell_type": "code",
      "execution_count": null,
      "metadata": {
        "id": "vmtUmOHcY-ZD",
        "colab": {
          "base_uri": "https://localhost:8080/"
        },
        "outputId": "92164ed9-d5fc-491b-af30-d1ff9906c1a5"
      },
      "outputs": [
        {
          "output_type": "stream",
          "name": "stdout",
          "text": [
            "shape of x_train is: (9249, 100)\n",
            "shape of x_test is: (3965, 100)\n"
          ]
        }
      ],
      "source": [
        "print('shape of x_train is:',X_train.shape)\n",
        "print('shape of x_test is:',X_test.shape)"
      ]
    },
    {
      "cell_type": "code",
      "execution_count": null,
      "metadata": {
        "id": "4l1ZAOeBZGSw"
      },
      "outputs": [],
      "source": [
        "def make_latent_samples(n_samples, sample_size):\n",
        "    #return np.random.uniform(-1, 1, size=(n_samples, sample_size))\n",
        "    return np.random.normal(loc=0, scale=1, size=(n_samples, sample_size))"
      ]
    },
    {
      "cell_type": "code",
      "execution_count": null,
      "metadata": {
        "id": "ekh00To4ZHnF",
        "colab": {
          "base_uri": "https://localhost:8080/"
        },
        "outputId": "42f3e325-0fda-4366-b653-2857d292b66c"
      },
      "outputs": [
        {
          "output_type": "execute_result",
          "data": {
            "text/plain": [
              "array([[ 0.16238361, -0.86954788, -0.46346154, -1.35759539,  0.37640531,\n",
              "        -0.05871603,  0.90916935, -1.05856516, -1.04299106,  0.46843557,\n",
              "        -1.02948192, -0.24221514, -0.2062648 ,  0.0144202 ,  0.13621407,\n",
              "         0.49323829, -0.07839328,  0.8108153 , -1.18855871,  0.48772725,\n",
              "        -0.59810167, -1.1321132 ,  0.19632897,  0.07097712, -1.62607636,\n",
              "         1.2288311 , -0.39836116, -1.91380223,  1.11180853, -2.40070885,\n",
              "        -0.69312767,  1.0903598 , -1.01321658, -0.65283346, -1.14905357,\n",
              "        -0.95559931,  0.1345874 ,  0.91082615,  0.2050488 , -0.22398463,\n",
              "        -1.86238087,  1.55653201, -0.31301892,  1.2103562 , -0.11255434,\n",
              "        -0.36176889, -0.66991683,  1.21881156, -0.36488253, -0.48183039,\n",
              "        -0.1278282 , -0.90603392, -0.8418028 , -0.14732277,  0.30578198,\n",
              "        -0.1480757 , -0.58220577, -0.78861801,  0.18669888,  0.40786826,\n",
              "        -0.6897484 , -0.85283729,  0.88876775, -0.38479113, -1.37342134,\n",
              "         0.32721512, -1.32617031, -0.46594459, -0.10907406, -2.28130267,\n",
              "        -0.19078973, -0.26055138,  1.0229243 , -0.50826371, -0.739317  ,\n",
              "        -1.11235206,  0.76742862, -0.36889259, -0.97549108,  0.93352195,\n",
              "        -0.20004399, -0.76422396, -1.08370351, -0.38119796, -1.11423399,\n",
              "        -0.17131083, -0.44349859,  0.98006358, -0.22953872,  0.59867561,\n",
              "        -1.89665579, -1.11782964,  0.88679275,  2.26447955,  1.38416354,\n",
              "        -0.30358115,  0.46822249,  0.11023943,  0.29456414, -0.17189906]])"
            ]
          },
          "metadata": {},
          "execution_count": 11
        }
      ],
      "source": [
        "make_latent_samples(1, 100) # generates one sample"
      ]
    },
    {
      "cell_type": "code",
      "execution_count": null,
      "metadata": {
        "id": "6WhpSDsvthq9",
        "colab": {
          "base_uri": "https://localhost:8080/"
        },
        "outputId": "3ceb0f69-6ae2-48b4-f55a-89e837690a2a"
      },
      "outputs": [
        {
          "output_type": "stream",
          "name": "stdout",
          "text": [
            "Model: \"generator\"\n",
            "_________________________________________________________________\n",
            " Layer (type)                Output Shape              Param #   \n",
            "=================================================================\n",
            " dense (Dense)               (None, 128)               12928     \n",
            "                                                                 \n",
            " leaky_re_lu (LeakyReLU)     (None, 128)               0         \n",
            "                                                                 \n",
            " batch_normalization (BatchN  (None, 128)              512       \n",
            " ormalization)                                                   \n",
            "                                                                 \n",
            " dense_1 (Dense)             (None, 100)               12900     \n",
            "                                                                 \n",
            " activation (Activation)     (None, 100)               0         \n",
            "                                                                 \n",
            "=================================================================\n",
            "Total params: 26,340\n",
            "Trainable params: 26,084\n",
            "Non-trainable params: 256\n",
            "_________________________________________________________________\n"
          ]
        }
      ],
      "source": [
        "generator = Sequential([\n",
        "    Dense(128, input_shape=(100,)),\n",
        "    LeakyReLU(alpha=0.2),\n",
        "    BatchNormalization(momentum=0.7),\n",
        "\n",
        "    #Dense(100),\n",
        "    #LeakyReLU(alpha=0.2),\n",
        "    #BatchNormalization(momentum=0.7),\n",
        "\n",
        "    #Dense(1024),\n",
        "    #LeakyReLU(alpha=0.2),\n",
        "    #BatchNormalization(momentum=0.7),\n",
        "\n",
        "    #Dense(2048),\n",
        "    #LeakyReLU(alpha=0.2),\n",
        "    #BatchNormalization(momentum=0.7),\n",
        "\n",
        "    Dense(100),\n",
        "    Activation('tanh')\n",
        "], name='generator')\n",
        "\n",
        "generator.summary()"
      ]
    },
    {
      "cell_type": "code",
      "execution_count": null,
      "metadata": {
        "id": "ifDOM8XEtpTu",
        "colab": {
          "base_uri": "https://localhost:8080/"
        },
        "outputId": "a8dd093e-b41b-4677-e56f-6a0648078d8c"
      },
      "outputs": [
        {
          "output_type": "stream",
          "name": "stdout",
          "text": [
            "Model: \"discriminator\"\n",
            "_________________________________________________________________\n",
            " Layer (type)                Output Shape              Param #   \n",
            "=================================================================\n",
            " dense_2 (Dense)             (None, 64)                6464      \n",
            "                                                                 \n",
            " leaky_re_lu_1 (LeakyReLU)   (None, 64)                0         \n",
            "                                                                 \n",
            " dense_3 (Dense)             (None, 32)                2080      \n",
            "                                                                 \n",
            " leaky_re_lu_2 (LeakyReLU)   (None, 32)                0         \n",
            "                                                                 \n",
            " dense_4 (Dense)             (None, 1)                 33        \n",
            "                                                                 \n",
            " activation_1 (Activation)   (None, 1)                 0         \n",
            "                                                                 \n",
            "=================================================================\n",
            "Total params: 8,577\n",
            "Trainable params: 8,577\n",
            "Non-trainable params: 0\n",
            "_________________________________________________________________\n"
          ]
        }
      ],
      "source": [
        "discriminator = Sequential([\n",
        "    Dense(64, input_shape=(100,)),\n",
        "    LeakyReLU(alpha=0.2),\n",
        "    #BatchNormalization(momentum=0.7),\n",
        "\n",
        "    Dense(32),\n",
        "    LeakyReLU(alpha=0.2),\n",
        "    #BatchNormalization(momentum=0.7),\n",
        "\n",
        "    #Dense(128),\n",
        "    #LeakyReLU(alpha=0.2),\n",
        "    #BatchNormalization(momentum=0.7),\n",
        "    #Dense(64),\n",
        "    #LeakyReLU(alpha=0.2),\n",
        "    #BatchNormalization(momentum=0.7),\n",
        "\n",
        "    #Dense(32),\n",
        "    #LeakyReLU(alpha=0.2),\n",
        "    #BatchNormalization(momentum=0.7),\n",
        "\n",
        "    #Dense(16),\n",
        "    #LeakyReLU(alpha=0.2),\n",
        "    #BatchNormalization(momentum=0.7),\n",
        "\n",
        "    Dense(1),\n",
        "    Activation('sigmoid')\n",
        "], name='discriminator')\n",
        "\n",
        "discriminator.summary()"
      ]
    },
    {
      "cell_type": "code",
      "execution_count": null,
      "metadata": {
        "id": "xBOAGHy9tstz",
        "colab": {
          "base_uri": "https://localhost:8080/"
        },
        "outputId": "78d0babb-bfc4-46b1-d640-a385ab43f9f3"
      },
      "outputs": [
        {
          "output_type": "stream",
          "name": "stdout",
          "text": [
            "Model: \"sequential\"\n",
            "_________________________________________________________________\n",
            " Layer (type)                Output Shape              Param #   \n",
            "=================================================================\n",
            " generator (Sequential)      (None, 100)               26340     \n",
            "                                                                 \n",
            " discriminator (Sequential)  (None, 1)                 8577      \n",
            "                                                                 \n",
            "=================================================================\n",
            "Total params: 34,917\n",
            "Trainable params: 34,661\n",
            "Non-trainable params: 256\n",
            "_________________________________________________________________\n"
          ]
        }
      ],
      "source": [
        "# maintain the same shared weights with the generator and the discriminator.\n",
        "gan = Sequential([\n",
        "    generator,\n",
        "    discriminator\n",
        "])\n",
        "\n",
        "gan.summary()"
      ]
    },
    {
      "cell_type": "code",
      "execution_count": null,
      "metadata": {
        "id": "Bx2JFuiLtx1E"
      },
      "outputs": [],
      "source": [
        "def make_trainable(model, trainable):\n",
        "    for layer in model.layers:\n",
        "        layer.trainable = trainable"
      ]
    },
    {
      "cell_type": "code",
      "execution_count": null,
      "metadata": {
        "id": "X4hA_QQFtzxF",
        "colab": {
          "base_uri": "https://localhost:8080/"
        },
        "outputId": "e4c8d5db-5544-4bc9-b8a5-f9a2244c2ce3"
      },
      "outputs": [
        {
          "output_type": "stream",
          "name": "stdout",
          "text": [
            "Model: \"discriminator\"\n",
            "_________________________________________________________________\n",
            " Layer (type)                Output Shape              Param #   \n",
            "=================================================================\n",
            " dense_2 (Dense)             (None, 64)                6464      \n",
            "                                                                 \n",
            " leaky_re_lu_1 (LeakyReLU)   (None, 64)                0         \n",
            "                                                                 \n",
            " dense_3 (Dense)             (None, 32)                2080      \n",
            "                                                                 \n",
            " leaky_re_lu_2 (LeakyReLU)   (None, 32)                0         \n",
            "                                                                 \n",
            " dense_4 (Dense)             (None, 1)                 33        \n",
            "                                                                 \n",
            " activation_1 (Activation)   (None, 1)                 0         \n",
            "                                                                 \n",
            "=================================================================\n",
            "Total params: 8,577\n",
            "Trainable params: 0\n",
            "Non-trainable params: 8,577\n",
            "_________________________________________________________________\n"
          ]
        }
      ],
      "source": [
        "make_trainable(discriminator, False)\n",
        "discriminator.summary()"
      ]
    },
    {
      "cell_type": "code",
      "execution_count": null,
      "metadata": {
        "id": "X2qL4BJ6t1Rr",
        "colab": {
          "base_uri": "https://localhost:8080/"
        },
        "outputId": "5b806644-d2b6-4a8a-dc5d-7f86144e9c34"
      },
      "outputs": [
        {
          "output_type": "stream",
          "name": "stdout",
          "text": [
            "Model: \"discriminator\"\n",
            "_________________________________________________________________\n",
            " Layer (type)                Output Shape              Param #   \n",
            "=================================================================\n",
            " dense_2 (Dense)             (None, 64)                6464      \n",
            "                                                                 \n",
            " leaky_re_lu_1 (LeakyReLU)   (None, 64)                0         \n",
            "                                                                 \n",
            " dense_3 (Dense)             (None, 32)                2080      \n",
            "                                                                 \n",
            " leaky_re_lu_2 (LeakyReLU)   (None, 32)                0         \n",
            "                                                                 \n",
            " dense_4 (Dense)             (None, 1)                 33        \n",
            "                                                                 \n",
            " activation_1 (Activation)   (None, 1)                 0         \n",
            "                                                                 \n",
            "=================================================================\n",
            "Total params: 8,577\n",
            "Trainable params: 8,577\n",
            "Non-trainable params: 0\n",
            "_________________________________________________________________\n"
          ]
        }
      ],
      "source": [
        "make_trainable(discriminator, True)\n",
        "discriminator.summary()"
      ]
    },
    {
      "cell_type": "code",
      "execution_count": null,
      "metadata": {
        "id": "6AdYzOnguNYG"
      },
      "outputs": [],
      "source": [
        "def make_simple_GAN(sample_size, \n",
        "                    g_hidden_size_1,\n",
        "                    g_hidden_size_2,\n",
        "                    g_hidden_size_3,\n",
        "                    g_hidden_size_4,\n",
        "                    d_hidden_size_1,\n",
        "                    d_hidden_size_2, \n",
        "                    d_hidden_size_3,\n",
        "                    d_hidden_size_4,\n",
        "                    d_hidden_size_5,\n",
        "                    d_hidden_size_6,\n",
        "                    leaky_alpha, \n",
        "                    g_learning_rate,\n",
        "                    d_learning_rate):\n",
        "    K.clear_session()\n",
        "    \n",
        "    generator = Sequential([\n",
        "        Dense(g_hidden_size_1, input_shape=(sample_size,)),\n",
        "        LeakyReLU(alpha=leaky_alpha),\n",
        "        BatchNormalization(momentum=0.7),\n",
        "\n",
        "        #Dense(g_hidden_size_2),\n",
        "        #LeakyReLU(alpha=leaky_alpha),\n",
        "        #BatchNormalization(momentum=0.7),\n",
        "\n",
        "        #Dense(g_hidden_size_3),\n",
        "        #LeakyReLU(alpha=leaky_alpha),\n",
        "        #BatchNormalization(momentum=0.7),\n",
        "\n",
        "        #Dense(g_hidden_size_4),\n",
        "        #LeakyReLU(alpha=leaky_alpha),\n",
        "        #BatchNormalization(momentum=0.7),\n",
        "\n",
        "        Dense(100),        \n",
        "        Activation('tanh')\n",
        "    ], name='generator')    \n",
        "\n",
        "    discriminator = Sequential([\n",
        "        Dense(d_hidden_size_1, input_shape=(100,)),\n",
        "        LeakyReLU(alpha=leaky_alpha),\n",
        "        #BatchNormalization(momentum=0.7),\n",
        "\n",
        "        Dense(d_hidden_size_2),\n",
        "        LeakyReLU(alpha=leaky_alpha),\n",
        "        #BatchNormalization(momentum=0.7),\n",
        "\n",
        "        #Dense(d_hidden_size_3),\n",
        "        #LeakyReLU(alpha=leaky_alpha),\n",
        "        #BatchNormalization(momentum=0.7),\n",
        "\n",
        "        #Dense(d_hidden_size_4),\n",
        "        #LeakyReLU(alpha=leaky_alpha),\n",
        "        #BatchNormalization(momentum=0.7),\n",
        "\n",
        "        #Dense(d_hidden_size_5),\n",
        "        #LeakyReLU(alpha=leaky_alpha),\n",
        "        #BatchNormalization(momentum=0.7),\n",
        "\n",
        "        #Dense(d_hidden_size_6),\n",
        "        #LeakyReLU(alpha=leaky_alpha),\n",
        "        #BatchNormalization(momentum=0.7),\n",
        "\n",
        "        Dense(1),\n",
        "        Activation('sigmoid')\n",
        "    ], name='discriminator')    \n",
        "    \n",
        "    gan = Sequential([\n",
        "        generator,\n",
        "        discriminator\n",
        "    ])\n",
        "    \n",
        "    discriminator.compile(optimizer=Adam(lr=d_learning_rate), loss='binary_crossentropy')\n",
        "    gan.compile(optimizer=Adam(lr=g_learning_rate), loss='binary_crossentropy')\n",
        "    \n",
        "    return gan, generator, discriminator "
      ]
    },
    {
      "cell_type": "code",
      "execution_count": null,
      "metadata": {
        "id": "mYPaeZWCuQcN"
      },
      "outputs": [],
      "source": [
        "from sklearn import preprocessing\n",
        "def preprocess(x):\n",
        "   x = preprocessing.scale(x)\n",
        "   return x"
      ]
    },
    {
      "cell_type": "code",
      "execution_count": null,
      "metadata": {
        "id": "ECK1ZNgvuUDE"
      },
      "outputs": [],
      "source": [
        "X_train_real = np.array(preprocess(X_train))\n",
        "X_test_real  = np.array(preprocess(X_test))"
      ]
    },
    {
      "cell_type": "code",
      "execution_count": null,
      "metadata": {
        "id": "IEehFs-uuWu-"
      },
      "outputs": [],
      "source": [
        "while(False):\n",
        "\n",
        "  def deprocess(x):\n",
        "    x = (x / 2 + 1) * 7454.516836076623\n",
        "    x = np.clip(x, -127.3838709715454, 7454.516836076623)\n",
        "    x = np.uint8(x)\n",
        "    x = x.reshape(-1, 70)\n",
        "    return x"
      ]
    },
    {
      "cell_type": "code",
      "execution_count": null,
      "metadata": {
        "id": "pkBEmfCuuZVn"
      },
      "outputs": [],
      "source": [
        "def make_labels(size):\n",
        "    return np.ones([size, 1]), np.zeros([size, 1])"
      ]
    },
    {
      "cell_type": "code",
      "execution_count": null,
      "metadata": {
        "id": "fRn7LdmDub8I",
        "colab": {
          "base_uri": "https://localhost:8080/"
        },
        "outputId": "472deb29-51b4-45b5-d25f-f127480d6abe"
      },
      "outputs": [
        {
          "output_type": "execute_result",
          "data": {
            "text/plain": [
              "(array([[1.],\n",
              "        [1.],\n",
              "        [1.],\n",
              "        [1.],\n",
              "        [1.],\n",
              "        [1.],\n",
              "        [1.],\n",
              "        [1.],\n",
              "        [1.],\n",
              "        [1.]]), array([[0.],\n",
              "        [0.],\n",
              "        [0.],\n",
              "        [0.],\n",
              "        [0.],\n",
              "        [0.],\n",
              "        [0.],\n",
              "        [0.],\n",
              "        [0.],\n",
              "        [0.]]))"
            ]
          },
          "metadata": {},
          "execution_count": 23
        }
      ],
      "source": [
        "y_real_10, y_fake_10 = make_labels(10)\n",
        "\n",
        "y_real_10, y_fake_10"
      ]
    },
    {
      "cell_type": "code",
      "execution_count": null,
      "metadata": {
        "id": "lCK87MXyue6-"
      },
      "outputs": [],
      "source": [
        "# hyperparameters\n",
        "sample_size     = 100     # latent sample size (i.e., 100 random numbers)\n",
        "g_hidden_size_1 = 128\n",
        "g_hidden_size_2 = 0\n",
        "g_hidden_size_3 = 0\n",
        "g_hidden_size_4 = 0\n",
        "d_hidden_size_1 = 64\n",
        "d_hidden_size_2 = 32\n",
        "d_hidden_size_3 = 0\n",
        "d_hidden_size_4 = 0\n",
        "d_hidden_size_5 = 0\n",
        "d_hidden_size_6 = 0\n",
        "leaky_alpha     = 0.2\n",
        "g_learning_rate = 0.0001  # learning rate for the generator\n",
        "d_learning_rate = 0.0001   # learning rate for the discriminator\n",
        "epochs          = 100\n",
        "batch_size      = 64      # train batch size\n",
        "eval_size       = 16      # evaluate size\n",
        "smooth          = 0.1\n"
      ]
    },
    {
      "cell_type": "code",
      "execution_count": null,
      "metadata": {
        "id": "Tuk6T1qqujjW",
        "colab": {
          "base_uri": "https://localhost:8080/"
        },
        "outputId": "1a830216-1d20-4cfa-bfce-232169bacbed"
      },
      "outputs": [
        {
          "output_type": "stream",
          "name": "stderr",
          "text": [
            "/usr/local/lib/python3.7/dist-packages/keras/optimizer_v2/adam.py:105: UserWarning: The `lr` argument is deprecated, use `learning_rate` instead.\n",
            "  super(Adam, self).__init__(name, **kwargs)\n"
          ]
        },
        {
          "output_type": "stream",
          "name": "stdout",
          "text": [
            "Epoch:   1/100 Discriminator Loss: 1.6751 Generator Loss: 0.3264 Discriminator acc:0.8497\n",
            "Epoch:   2/100 Discriminator Loss: 1.8875 Generator Loss: 0.2715 Discriminator acc:0.8880\n",
            "Epoch:   3/100 Discriminator Loss: 1.7809 Generator Loss: 0.2776 Discriminator acc:0.9126\n",
            "Epoch:   4/100 Discriminator Loss: 1.8791 Generator Loss: 0.2690 Discriminator acc:0.9548\n",
            "Epoch:   5/100 Discriminator Loss: 1.7919 Generator Loss: 0.2784 Discriminator acc:0.9202\n",
            "Epoch:   6/100 Discriminator Loss: 1.7334 Generator Loss: 0.3028 Discriminator acc:0.9024\n",
            "Epoch:   7/100 Discriminator Loss: 1.6787 Generator Loss: 0.2880 Discriminator acc:0.9688\n",
            "Epoch:   8/100 Discriminator Loss: 1.7503 Generator Loss: 0.2774 Discriminator acc:0.9353\n",
            "Epoch:   9/100 Discriminator Loss: 1.9014 Generator Loss: 0.2488 Discriminator acc:0.9486\n",
            "Epoch:  10/100 Discriminator Loss: 1.7624 Generator Loss: 0.2898 Discriminator acc:0.9594\n",
            "Epoch:  11/100 Discriminator Loss: 1.7521 Generator Loss: 0.2812 Discriminator acc:0.9818\n",
            "Epoch:  12/100 Discriminator Loss: 1.8099 Generator Loss: 0.2566 Discriminator acc:0.9786\n",
            "Epoch:  13/100 Discriminator Loss: 1.7953 Generator Loss: 0.2657 Discriminator acc:0.9601\n",
            "Epoch:  14/100 Discriminator Loss: 1.8444 Generator Loss: 0.2576 Discriminator acc:0.9616\n",
            "Epoch:  15/100 Discriminator Loss: 1.7134 Generator Loss: 0.2995 Discriminator acc:0.9440\n",
            "Epoch:  16/100 Discriminator Loss: 1.8000 Generator Loss: 0.2783 Discriminator acc:0.9450\n",
            "Epoch:  17/100 Discriminator Loss: 1.7498 Generator Loss: 0.2833 Discriminator acc:0.9484\n",
            "Epoch:  18/100 Discriminator Loss: 1.7925 Generator Loss: 0.2822 Discriminator acc:0.9373\n",
            "Epoch:  19/100 Discriminator Loss: 1.7436 Generator Loss: 0.2860 Discriminator acc:0.9178\n",
            "Epoch:  20/100 Discriminator Loss: 1.7115 Generator Loss: 0.2925 Discriminator acc:0.9195\n",
            "Epoch:  21/100 Discriminator Loss: 1.6660 Generator Loss: 0.3066 Discriminator acc:0.9097\n",
            "Epoch:  22/100 Discriminator Loss: 1.6881 Generator Loss: 0.3071 Discriminator acc:0.9014\n",
            "Epoch:  23/100 Discriminator Loss: 1.6191 Generator Loss: 0.3209 Discriminator acc:0.8753\n",
            "Epoch:  24/100 Discriminator Loss: 1.7018 Generator Loss: 0.3008 Discriminator acc:0.8715\n",
            "Epoch:  25/100 Discriminator Loss: 1.5743 Generator Loss: 0.3185 Discriminator acc:0.8804\n",
            "Epoch:  26/100 Discriminator Loss: 1.7159 Generator Loss: 0.3033 Discriminator acc:0.8551\n",
            "Epoch:  27/100 Discriminator Loss: 1.5872 Generator Loss: 0.3366 Discriminator acc:0.8675\n",
            "Epoch:  28/100 Discriminator Loss: 1.5912 Generator Loss: 0.3563 Discriminator acc:0.8604\n",
            "Epoch:  29/100 Discriminator Loss: 1.5831 Generator Loss: 0.3434 Discriminator acc:0.8632\n",
            "Epoch:  30/100 Discriminator Loss: 1.5648 Generator Loss: 0.3483 Discriminator acc:0.8473\n",
            "Epoch:  31/100 Discriminator Loss: 1.5389 Generator Loss: 0.3489 Discriminator acc:0.8573\n",
            "Epoch:  32/100 Discriminator Loss: 1.6265 Generator Loss: 0.3497 Discriminator acc:0.8418\n",
            "Epoch:  33/100 Discriminator Loss: 1.5043 Generator Loss: 0.3466 Discriminator acc:0.8293\n",
            "Epoch:  34/100 Discriminator Loss: 1.4712 Generator Loss: 0.3498 Discriminator acc:0.8097\n",
            "Epoch:  35/100 Discriminator Loss: 1.5701 Generator Loss: 0.3560 Discriminator acc:0.8106\n",
            "Epoch:  36/100 Discriminator Loss: 1.4100 Generator Loss: 0.3987 Discriminator acc:0.8067\n",
            "Epoch:  37/100 Discriminator Loss: 1.3914 Generator Loss: 0.4109 Discriminator acc:0.7982\n",
            "Epoch:  38/100 Discriminator Loss: 1.4730 Generator Loss: 0.3803 Discriminator acc:0.8062\n",
            "Epoch:  39/100 Discriminator Loss: 1.4825 Generator Loss: 0.3972 Discriminator acc:0.7931\n",
            "Epoch:  40/100 Discriminator Loss: 1.4114 Generator Loss: 0.3879 Discriminator acc:0.7769\n",
            "Epoch:  41/100 Discriminator Loss: 1.3632 Generator Loss: 0.4220 Discriminator acc:0.7823\n",
            "Epoch:  42/100 Discriminator Loss: 1.3336 Generator Loss: 0.4339 Discriminator acc:0.7747\n",
            "Epoch:  43/100 Discriminator Loss: 1.4421 Generator Loss: 0.4170 Discriminator acc:0.7969\n",
            "Epoch:  44/100 Discriminator Loss: 1.3671 Generator Loss: 0.4421 Discriminator acc:0.7714\n",
            "Epoch:  45/100 Discriminator Loss: 1.3674 Generator Loss: 0.4082 Discriminator acc:0.7374\n",
            "Epoch:  46/100 Discriminator Loss: 1.3559 Generator Loss: 0.4304 Discriminator acc:0.7435\n",
            "Epoch:  47/100 Discriminator Loss: 1.4311 Generator Loss: 0.4048 Discriminator acc:0.7575\n",
            "Epoch:  48/100 Discriminator Loss: 1.2951 Generator Loss: 0.4621 Discriminator acc:0.7422\n",
            "Epoch:  49/100 Discriminator Loss: 1.2699 Generator Loss: 0.4530 Discriminator acc:0.7271\n",
            "Epoch:  50/100 Discriminator Loss: 1.2990 Generator Loss: 0.4489 Discriminator acc:0.7348\n",
            "Epoch:  51/100 Discriminator Loss: 1.3563 Generator Loss: 0.4489 Discriminator acc:0.7172\n",
            "Epoch:  52/100 Discriminator Loss: 1.2120 Generator Loss: 0.4528 Discriminator acc:0.7117\n",
            "Epoch:  53/100 Discriminator Loss: 1.2856 Generator Loss: 0.4637 Discriminator acc:0.7038\n",
            "Epoch:  54/100 Discriminator Loss: 1.2396 Generator Loss: 0.4908 Discriminator acc:0.6981\n",
            "Epoch:  55/100 Discriminator Loss: 1.2801 Generator Loss: 0.4670 Discriminator acc:0.6997\n",
            "Epoch:  56/100 Discriminator Loss: 1.3141 Generator Loss: 0.4443 Discriminator acc:0.6967\n",
            "Epoch:  57/100 Discriminator Loss: 1.2237 Generator Loss: 0.4773 Discriminator acc:0.6780\n",
            "Epoch:  58/100 Discriminator Loss: 1.2301 Generator Loss: 0.4792 Discriminator acc:0.6661\n",
            "Epoch:  59/100 Discriminator Loss: 1.2439 Generator Loss: 0.5019 Discriminator acc:0.6616\n",
            "Epoch:  60/100 Discriminator Loss: 1.1107 Generator Loss: 0.5231 Discriminator acc:0.6693\n",
            "Epoch:  61/100 Discriminator Loss: 1.2226 Generator Loss: 0.5173 Discriminator acc:0.6796\n",
            "Epoch:  62/100 Discriminator Loss: 1.1351 Generator Loss: 0.5108 Discriminator acc:0.6746\n",
            "Epoch:  63/100 Discriminator Loss: 1.1334 Generator Loss: 0.4899 Discriminator acc:0.6669\n",
            "Epoch:  64/100 Discriminator Loss: 1.0821 Generator Loss: 0.5082 Discriminator acc:0.6708\n",
            "Epoch:  65/100 Discriminator Loss: 1.1089 Generator Loss: 0.5689 Discriminator acc:0.6551\n",
            "Epoch:  66/100 Discriminator Loss: 1.0705 Generator Loss: 0.5263 Discriminator acc:0.6402\n",
            "Epoch:  67/100 Discriminator Loss: 1.1421 Generator Loss: 0.5029 Discriminator acc:0.6394\n",
            "Epoch:  68/100 Discriminator Loss: 1.0684 Generator Loss: 0.5538 Discriminator acc:0.6486\n",
            "Epoch:  69/100 Discriminator Loss: 1.0831 Generator Loss: 0.5390 Discriminator acc:0.6575\n",
            "Epoch:  70/100 Discriminator Loss: 1.1070 Generator Loss: 0.5468 Discriminator acc:0.6404\n",
            "Epoch:  71/100 Discriminator Loss: 1.1883 Generator Loss: 0.5277 Discriminator acc:0.6413\n",
            "Epoch:  72/100 Discriminator Loss: 1.2515 Generator Loss: 0.4934 Discriminator acc:0.6511\n",
            "Epoch:  73/100 Discriminator Loss: 1.0692 Generator Loss: 0.5388 Discriminator acc:0.6446\n",
            "Epoch:  74/100 Discriminator Loss: 1.2355 Generator Loss: 0.5361 Discriminator acc:0.6413\n",
            "Epoch:  75/100 Discriminator Loss: 1.2490 Generator Loss: 0.5610 Discriminator acc:0.6437\n",
            "Epoch:  76/100 Discriminator Loss: 1.0736 Generator Loss: 0.5549 Discriminator acc:0.6406\n",
            "Epoch:  77/100 Discriminator Loss: 1.1096 Generator Loss: 0.5335 Discriminator acc:0.6324\n",
            "Epoch:  78/100 Discriminator Loss: 1.1198 Generator Loss: 0.5820 Discriminator acc:0.6329\n",
            "Epoch:  79/100 Discriminator Loss: 1.2716 Generator Loss: 0.5165 Discriminator acc:0.6144\n",
            "Epoch:  80/100 Discriminator Loss: 1.1897 Generator Loss: 0.5255 Discriminator acc:0.6208\n",
            "Epoch:  81/100 Discriminator Loss: 1.0683 Generator Loss: 0.5981 Discriminator acc:0.6211\n",
            "Epoch:  82/100 Discriminator Loss: 1.0178 Generator Loss: 0.5954 Discriminator acc:0.6275\n",
            "Epoch:  83/100 Discriminator Loss: 1.1704 Generator Loss: 0.5881 Discriminator acc:0.6046\n",
            "Epoch:  84/100 Discriminator Loss: 1.0912 Generator Loss: 0.6169 Discriminator acc:0.6134\n",
            "Epoch:  85/100 Discriminator Loss: 1.1995 Generator Loss: 0.5578 Discriminator acc:0.6247\n",
            "Epoch:  86/100 Discriminator Loss: 1.0751 Generator Loss: 0.5786 Discriminator acc:0.6098\n",
            "Epoch:  87/100 Discriminator Loss: 0.9719 Generator Loss: 0.6012 Discriminator acc:0.5912\n",
            "Epoch:  88/100 Discriminator Loss: 1.1622 Generator Loss: 0.5511 Discriminator acc:0.5908\n",
            "Epoch:  89/100 Discriminator Loss: 1.0840 Generator Loss: 0.5842 Discriminator acc:0.6114\n",
            "Epoch:  90/100 Discriminator Loss: 0.9902 Generator Loss: 0.6296 Discriminator acc:0.5797\n",
            "Epoch:  91/100 Discriminator Loss: 1.1012 Generator Loss: 0.5956 Discriminator acc:0.6024\n",
            "Epoch:  92/100 Discriminator Loss: 1.0344 Generator Loss: 0.6152 Discriminator acc:0.5959\n",
            "Epoch:  93/100 Discriminator Loss: 1.0474 Generator Loss: 0.6487 Discriminator acc:0.5869\n",
            "Epoch:  94/100 Discriminator Loss: 0.9706 Generator Loss: 0.6595 Discriminator acc:0.5809\n",
            "Epoch:  95/100 Discriminator Loss: 1.0503 Generator Loss: 0.6367 Discriminator acc:0.5698\n",
            "Epoch:  96/100 Discriminator Loss: 1.0693 Generator Loss: 0.6250 Discriminator acc:0.5679\n",
            "Epoch:  97/100 Discriminator Loss: 0.9863 Generator Loss: 0.6356 Discriminator acc:0.5684\n",
            "Epoch:  98/100 Discriminator Loss: 1.1066 Generator Loss: 0.6254 Discriminator acc:0.5642\n",
            "Epoch:  99/100 Discriminator Loss: 0.9259 Generator Loss: 0.6740 Discriminator acc:0.5737\n",
            "Epoch: 100/100 Discriminator Loss: 0.9840 Generator Loss: 0.6671 Discriminator acc:0.5645\n"
          ]
        }
      ],
      "source": [
        "## labels for the batch size and the test size\n",
        "y_train_real, y_train_fake = make_labels(batch_size)\n",
        "y_eval_real,  y_eval_fake  = make_labels(eval_size)\n",
        "\n",
        "# create a GAN, a generator and a discriminator\n",
        "gan, generator, discriminator = make_simple_GAN(\n",
        "    sample_size, \n",
        "    g_hidden_size_1, \n",
        "    g_hidden_size_2,\n",
        "    g_hidden_size_3,\n",
        "    g_hidden_size_4, \n",
        "    d_hidden_size_1, \n",
        "    d_hidden_size_2,\n",
        "    d_hidden_size_3,\n",
        "    d_hidden_size_4,\n",
        "    d_hidden_size_5,\n",
        "    d_hidden_size_6,\n",
        "    leaky_alpha, \n",
        "    g_learning_rate,\n",
        "    d_learning_rate)\n",
        "\n",
        "\n",
        "losses = []\n",
        "losses1 = []\n",
        "for e in range(epochs):\n",
        "    for i in range(len(X_train_real)//batch_size):\n",
        "        # real MNIST digit images\n",
        "        X_batch_real = X_train_real[i*batch_size:(i+1)*batch_size]\n",
        "        \n",
        "        # latent samples and the generated digit images\n",
        "        latent_samples = make_latent_samples(batch_size, sample_size)\n",
        "        X_batch_fake = generator.predict_on_batch(latent_samples)\n",
        "        \n",
        "        # train the discriminator to detect real and fake images\n",
        "        make_trainable(discriminator, True)\n",
        "        discriminator.train_on_batch(X_batch_real, y_train_real * (1 - smooth))\n",
        "        discriminator.train_on_batch(X_batch_fake, y_train_fake)\n",
        "\n",
        "        # train the generator via GAN\n",
        "        make_trainable(discriminator, False)\n",
        "        gan.train_on_batch(latent_samples, y_train_real)\n",
        "   # evaluate\n",
        "    X_eval_real = X_test_real[np.random.choice(len(X_test_real), eval_size, replace=False)]\n",
        "    \n",
        "    latent_samples = make_latent_samples(eval_size, sample_size)\n",
        "    X_eval_fake = generator.predict_on_batch(latent_samples)\n",
        "\n",
        "    d_loss  = discriminator.test_on_batch(X_eval_real, y_eval_real)\n",
        "    d_loss += discriminator.test_on_batch(X_eval_fake, y_eval_fake)\n",
        "    g_loss  = gan.test_on_batch(latent_samples, y_eval_real) # we want the fake to be realistic!\n",
        "    \n",
        "    losses.append((d_loss, g_loss))\n",
        "\n",
        "    d_acc_real = discriminator.train_on_batch(X_batch_real, y_train_real * (1 - smooth))\n",
        "    d_acc_fake = discriminator.train_on_batch(X_batch_fake, y_train_fake)\n",
        "    d_acc  = 0.5 * (d_acc_real + d_acc_fake)\n",
        "\n",
        "    #losses1.append(( d_acc))\n",
        "    print(\"Epoch: {:>3}/{} Discriminator Loss: {:>6.4f} Generator Loss: {:>6.4f} Discriminator acc:{:>6.4f}\".format(\n",
        "        e+1, epochs, d_loss, g_loss,d_acc)) #Discriminator acc: {:>6.4f}:,d_acc"
      ]
    },
    {
      "cell_type": "code",
      "execution_count": null,
      "metadata": {
        "id": "_if6yg9SuoTQ",
        "colab": {
          "base_uri": "https://localhost:8080/",
          "height": 281
        },
        "outputId": "44f91cd4-74cf-47b2-c5e9-daa7317ba6a2"
      },
      "outputs": [
        {
          "output_type": "display_data",
          "data": {
            "image/png": "[encoded data removed]",
            "text/plain": [
              "<Figure size 432x288 with 1 Axes>"
            ]
          },
          "metadata": {
            "needs_background": "light"
          }
        }
      ],
      "source": [
        "losses = np.array(losses)\n",
        "\n",
        "fig, ax = plt.subplots()\n",
        "plt.plot(losses.T[0], label='Discriminator')\n",
        "plt.plot(losses.T[1], label='Generator')\n",
        "plt.title(\"Training Losses\")\n",
        "plt.legend()\n",
        "plt.show()"
      ]
    },
    {
      "cell_type": "code",
      "execution_count": null,
      "metadata": {
        "id": "w0je2222Q0Y-"
      },
      "outputs": [],
      "source": [
        "rr = discriminator.predict_on_batch(X_test_real)"
      ]
    },
    {
      "cell_type": "code",
      "execution_count": null,
      "metadata": {
        "id": "qYZfeRR5Z3Iu",
        "colab": {
          "base_uri": "https://localhost:8080/"
        },
        "outputId": "cfb17597-c39e-4362-d24f-34ac0198aa61"
      },
      "outputs": [
        {
          "output_type": "execute_result",
          "data": {
            "text/plain": [
              "11364    0\n",
              "5108     1\n",
              "5052     1\n",
              "12249    0\n",
              "1428     1\n",
              "        ..\n",
              "7849     1\n",
              "5529     1\n",
              "3665     1\n",
              "10484    0\n",
              "3053     1\n",
              "Name: label, Length: 3965, dtype: int64"
            ]
          },
          "metadata": {},
          "execution_count": 28
        }
      ],
      "source": [
        "y_test"
      ]
    },
    {
      "cell_type": "code",
      "execution_count": null,
      "metadata": {
        "id": "6GdJtSctZ5jm",
        "colab": {
          "base_uri": "https://localhost:8080/"
        },
        "outputId": "313f86d8-49cf-4d43-e643-7bd38add4a15"
      },
      "outputs": [
        {
          "output_type": "execute_result",
          "data": {
            "text/plain": [
              "array([[0.5091213 ],\n",
              "       [0.869325  ],\n",
              "       [0.88732284],\n",
              "       ...,\n",
              "       [0.9012601 ],\n",
              "       [0.37243176],\n",
              "       [0.8992696 ]], dtype=float32)"
            ]
          },
          "metadata": {},
          "execution_count": 29
        }
      ],
      "source": [
        "rr"
      ]
    },
    {
      "cell_type": "code",
      "execution_count": null,
      "metadata": {
        "id": "RkBPmhkdQ31J",
        "colab": {
          "base_uri": "https://localhost:8080/"
        },
        "outputId": "e3bc0492-dd4b-488a-f7a4-5272e15e6e30"
      },
      "outputs": [
        {
          "output_type": "execute_result",
          "data": {
            "text/plain": [
              "1.0"
            ]
          },
          "metadata": {},
          "execution_count": 30
        }
      ],
      "source": [
        "import keras\n",
        "#import keras_metrics\n",
        "\n",
        "r = tf.keras.metrics.Recall()#thresholds=rr.min())\n",
        "r.update_state(y_test,rr )\n",
        "r.result().numpy()\n"
      ]
    },
    {
      "cell_type": "code",
      "execution_count": null,
      "metadata": {
        "id": "cFiQ5wINQ-19",
        "colab": {
          "base_uri": "https://localhost:8080/"
        },
        "outputId": "e2313085-5595-402f-e6b6-5323a96ff53f"
      },
      "outputs": [
        {
          "output_type": "execute_result",
          "data": {
            "text/plain": [
              "0.8059498"
            ]
          },
          "metadata": {},
          "execution_count": 31
        }
      ],
      "source": [
        "p=tf.keras.metrics.Precision()#thresholds=rr.min())\n",
        "p.update_state(y_test,rr )\n",
        "p.result().numpy()"
      ]
    },
    {
      "cell_type": "code",
      "source": [
        "from sklearn.datasets import make_classification\n",
        "from sklearn.linear_model import LogisticRegression\n",
        "from sklearn.model_selection import train_test_split\n",
        "from matplotlib import pyplot\n",
        "from sklearn.metrics import roc_auc_score\n",
        "from sklearn.metrics import roc_curve\n",
        "\n",
        "\n",
        "\n",
        "yhat = discriminator.predict_on_batch(X_test_real)\n",
        "pos_probs = yhat[:, :]\n",
        "pyplot.plot([0, 1], [0, 1], linestyle='--')\n",
        "fpr, tpr, _ = roc_curve(y_test, pos_probs)\n",
        "pyplot.plot(fpr, tpr, marker='.', label='GAN')\n",
        "pyplot.xlabel('False Positive Rate')\n",
        "pyplot.ylabel('True Positive Rate')\n",
        "pyplot.legend()\n",
        "pyplot.show()\n",
        "\n",
        "roc_auc = roc_auc_score(y_test, pos_probs)\n",
        "print('\\n','Logistic ROC AUC %.3f' % roc_auc)"
      ],
      "metadata": {
        "colab": {
          "base_uri": "https://localhost:8080/",
          "height": 316
        },
        "id": "DgscwWtSnM_e",
        "outputId": "040fae1e-9ca9-41ef-ddf4-13500ffa8610"
      },
      "execution_count": null,
      "outputs": [
        {
          "output_type": "display_data",
          "data": {
            "image/png": "[encoded data removed]",
            "text/plain": [
              "<Figure size 432x288 with 1 Axes>"
            ]
          },
          "metadata": {
            "needs_background": "light"
          }
        },
        {
          "output_type": "stream",
          "name": "stdout",
          "text": [
            "\n",
            " Logistic ROC AUC 0.981\n"
          ]
        }
      ]
    }
  ],
  "metadata": {
    "accelerator": "GPU",
    "colab": {
      "collapsed_sections": [],
      "name": "Copy of 10.1_TGan.ipynb",
      "provenance": [],
      "authorship_tag": "ABX9TyPOiiHzYe5j7E8QsgrwqR/A",
      "include_colab_link": true
    },
    "kernelspec": {
      "display_name": "Python 3",
      "name": "python3"
    },
    "language_info": {
      "name": "python"
    }
  },
  "nbformat": 4,
  "nbformat_minor": 0
}