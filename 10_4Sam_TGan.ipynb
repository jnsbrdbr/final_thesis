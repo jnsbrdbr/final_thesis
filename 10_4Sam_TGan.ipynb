{
  "cells": [
    {
      "cell_type": "markdown",
      "metadata": {
        "id": "view-in-github",
        "colab_type": "text"
      },
      "source": [
        "<a href=\"https://colab.research.google.com/github/jnsbrdbr/final_thesis/blob/main/10_4Sam_TGan.ipynb\" target=\"_parent\"><img src=\"https://colab.research.google.com/assets/colab-badge.svg\" alt=\"Open In Colab\"/></a>"
      ]
    },
    {
      "cell_type": "code",
      "execution_count": 1,
      "metadata": {
        "colab": {
          "base_uri": "https://localhost:8080/"
        },
        "id": "j70DTmCCYMm3",
        "outputId": "df1c2b89-a82d-4c2b-f169-0079cb3ba207"
      },
      "outputs": [
        {
          "output_type": "stream",
          "name": "stdout",
          "text": [
            "`%tensorflow_version` only switches the major version: 1.x or 2.x.\n",
            "You set: `2.x  # Colab only.`. This will be interpreted as: `2.x`.\n",
            "\n",
            "\n",
            "TensorFlow 2.x selected.\n",
            "2.8.0\n"
          ]
        }
      ],
      "source": [
        "# Install TensorFlow\n",
        "# !pip install -q tensorflow-gpu==2.0.0-rc0\n",
        "\n",
        "try:\n",
        "  %tensorflow_version 2.x  # Colab only.\n",
        "except Exception:\n",
        "  pass\n",
        "\n",
        "import tensorflow as tf\n",
        "print(tf.__version__)"
      ]
    },
    {
      "cell_type": "code",
      "execution_count": 2,
      "metadata": {
        "id": "7i01N6ZIYXzE"
      },
      "outputs": [],
      "source": [
        "import keras\n",
        "from keras.layers import Input, Dense, Activation, LeakyReLU, BatchNormalization\n",
        "from keras.models import Sequential\n",
        "from tensorflow.keras.optimizers import Adam\n",
        "from sklearn.model_selection import train_test_split\n",
        "from tensorflow.keras.models import Model\n",
        "import keras.backend as K\n",
        "import numpy as np\n",
        "import pandas as pd\n",
        "import matplotlib.pyplot as plt\n",
        "import sys, os\n",
        "\n",
        "%matplotlib inline"
      ]
    },
    {
      "cell_type": "code",
      "execution_count": 3,
      "metadata": {
        "colab": {
          "base_uri": "https://localhost:8080/"
        },
        "id": "ThkdPVsmYauJ",
        "outputId": "aedb3f97-2a1b-4767-a165-71fa957cd373"
      },
      "outputs": [
        {
          "output_type": "stream",
          "name": "stdout",
          "text": [
            "Mounted at /content/drive\n"
          ]
        }
      ],
      "source": [
        "from google.colab import drive\n",
        "drive.mount('/content/drive') "
      ]
    },
    {
      "cell_type": "code",
      "execution_count": 4,
      "metadata": {
        "colab": {
          "base_uri": "https://localhost:8080/"
        },
        "id": "5hfNf56TYyWQ",
        "outputId": "33dc4e66-3bd0-4435-c819-e4fb02023671"
      },
      "outputs": [
        {
          "output_type": "stream",
          "name": "stdout",
          "text": [
            "Collecting pickle5\n",
            "  Downloading pickle5-0.0.12-cp37-cp37m-manylinux_2_5_x86_64.manylinux1_x86_64.whl (256 kB)\n",
            "\u001b[K     |████████████████████████████████| 256 kB 2.7 MB/s \n",
            "\u001b[?25hInstalling collected packages: pickle5\n",
            "Successfully installed pickle5-0.0.12\n"
          ]
        }
      ],
      "source": [
        "!pip3 install pickle5\n",
        "import pickle5 as pickle"
      ]
    },
    {
      "cell_type": "code",
      "execution_count": 5,
      "metadata": {
        "id": "Z2blfCcpYkug"
      },
      "outputs": [],
      "source": [
        "with open('/content/drive/MyDrive/10000/Tresult.pkl', \"rb\") as fh:\n",
        "  result = pickle.load(fh)"
      ]
    },
    {
      "cell_type": "code",
      "execution_count": 6,
      "metadata": {
        "id": "m0lk-Uz1Y2yl",
        "colab": {
          "base_uri": "https://localhost:8080/"
        },
        "outputId": "f060d6e7-db49-44d5-9b47-a4d41a1908ee"
      },
      "outputs": [
        {
          "output_type": "stream",
          "name": "stdout",
          "text": [
            "               0         1         2         3         4         5         6  \\\n",
            "0      -2.178515 -3.260148 -0.698552 -1.030417 -0.723180 -1.027433 -0.405889   \n",
            "1      -2.178515 -3.260148 -0.698552 -1.030417 -0.723180 -1.027433 -0.405889   \n",
            "2      -2.178515 -3.260148 -0.698552 -1.030417 -0.723180 -1.027433 -0.405889   \n",
            "3      -2.178515 -3.260148 -0.698552 -1.030417 -0.723180 -1.027433 -0.405889   \n",
            "4      -2.178710 -3.260547 -0.698874 -1.030967 -0.723695 -1.028303 -0.406622   \n",
            "...          ...       ...       ...       ...       ...       ...       ...   \n",
            "13209  -2.178515 -3.260148 -0.698552 -1.030417 -0.723180 -1.027433 -0.405889   \n",
            "13210  -2.178515 -3.260148 -0.698552 -1.030417 -0.723180 -1.027433 -0.405889   \n",
            "13211  -2.178515 -3.260148 -0.698552 -1.030417 -0.723180 -1.027433 -0.405889   \n",
            "13212  -2.178515 -3.260148 -0.698552 -1.030417 -0.723180 -1.027433 -0.405889   \n",
            "13213  27.606119  6.905609  0.154864  0.191890  0.097248  0.114301  0.021144   \n",
            "\n",
            "              7         8         9  ...          1         2         3  \\\n",
            "0     -0.059185 -0.526790 -0.190040  ...   0.452139 -1.203407 -0.183899   \n",
            "1     -0.059185 -0.526790 -0.190040  ...   0.452139 -1.203407 -0.183899   \n",
            "2     -0.059185 -0.526790 -0.190040  ...   0.452139 -1.203407 -0.183899   \n",
            "3     -0.059185 -0.526790 -0.190040  ...   0.452139 -1.203407 -0.183899   \n",
            "4     -0.059394 -0.528048 -0.191038  ...  -7.508892  7.994602  0.226101   \n",
            "...         ...       ...       ...  ...        ...       ...       ...   \n",
            "13209 -0.059185 -0.526790 -0.190040  ...   1.554089 -4.346298  9.404540   \n",
            "13210 -0.059185 -0.526790 -0.190040  ...   0.599942 -1.505019 -0.218230   \n",
            "13211 -0.059185 -0.526790 -0.190040  ...  -8.533632  9.178701  0.278730   \n",
            "13212 -0.059185 -0.526790 -0.190040  ...  -8.533631  9.178698  0.278730   \n",
            "13213  0.002302  0.020160  0.004991  ... -11.890588  4.271539  0.100003   \n",
            "\n",
            "              4         5         6         7         8         9  label  \n",
            "0     -0.438911 -0.266164 -0.544673 -0.224884 -0.068575 -0.230930      1  \n",
            "1     -0.438911 -0.266164 -0.544673 -0.224884 -0.068575 -0.230930      1  \n",
            "2     -0.438911 -0.266164 -0.544673 -0.224884 -0.068575 -0.230930      1  \n",
            "3     -0.438911 -0.266164 -0.544673 -0.224884 -0.068575 -0.230930      1  \n",
            "4      0.991238  0.482262  0.829106  0.246306  0.048557  0.160622      1  \n",
            "...         ...       ...       ...       ...       ...       ...    ...  \n",
            "13209  4.676083  1.038614  1.272721  0.249463  0.046943  0.150109      0  \n",
            "13210 -0.586787 -0.370000 -0.787776 -0.380601 -0.129873 -0.451315      0  \n",
            "13211  1.177091  0.579516  1.007372  0.308708  0.063843  0.211098      0  \n",
            "13212  1.177090  0.579515  1.007370  0.308707  0.063843  0.211097      0  \n",
            "13213  0.324583  0.150424  0.249943  0.068055  0.013998  0.046459      0  \n",
            "\n",
            "[13214 rows x 101 columns]\n"
          ]
        }
      ],
      "source": [
        "#final data\n",
        "print(result)"
      ]
    },
    {
      "cell_type": "code",
      "execution_count": 7,
      "metadata": {
        "id": "QKmLf4jlY6LZ"
      },
      "outputs": [],
      "source": [
        "#divide data in to data_label and non_data label\n",
        "\n",
        "import copy\n",
        "result_nonlabel=copy.deepcopy(result)\n",
        "del result_nonlabel['label']\n",
        "X=result_nonlabel\n",
        "y=result.label"
      ]
    },
    {
      "cell_type": "code",
      "execution_count": 8,
      "metadata": {
        "id": "XqPz3htaY8ZG"
      },
      "outputs": [],
      "source": [
        "#splitting data in to test and train...\n",
        "\n",
        "#from sklearn.model_selection import train_test_split\n",
        "#X_train, X_test, y_train, y_test = train_test_split(X, y ,test_size=0.3,shuffle=True)#random_state=42,"
      ]
    },
    {
      "cell_type": "code",
      "source": [
        "from sklearn.model_selection import train_test_split\n",
        "\n",
        "X_train, X_test, y_train, y_test = train_test_split(X, y, test_size=0.3,shuffle=True)\n",
        "\n",
        "#X_train, X_val, y_train, y_val = train_test_split(X_train, y_train, test_size=0.20,shuffle=True) # 0.25 x 0.8 = 0.2"
      ],
      "metadata": {
        "id": "yrMvawrMq3Nj"
      },
      "execution_count": 9,
      "outputs": []
    },
    {
      "cell_type": "code",
      "execution_count": 10,
      "metadata": {
        "id": "vmtUmOHcY-ZD",
        "colab": {
          "base_uri": "https://localhost:8080/"
        },
        "outputId": "e757b9d4-3d31-4cfd-acb5-645ddd2a5209"
      },
      "outputs": [
        {
          "output_type": "stream",
          "name": "stdout",
          "text": [
            "shape of x_train is: (9249, 100)\n",
            "shape of x_test is: (3965, 100)\n"
          ]
        }
      ],
      "source": [
        "print('shape of x_train is:',X_train.shape)\n",
        "print('shape of x_test is:',X_test.shape)\n",
        "#print('shape of x_val is:',X_val.shape)"
      ]
    },
    {
      "cell_type": "code",
      "execution_count": 11,
      "metadata": {
        "id": "4l1ZAOeBZGSw"
      },
      "outputs": [],
      "source": [
        "def make_latent_samples(n_samples, sample_size):\n",
        "    #return np.random.uniform(-1, 1, size=(n_samples, sample_size))\n",
        "    return np.random.normal(loc=0, scale=1, size=(n_samples, sample_size))"
      ]
    },
    {
      "cell_type": "code",
      "execution_count": 12,
      "metadata": {
        "id": "ekh00To4ZHnF",
        "colab": {
          "base_uri": "https://localhost:8080/"
        },
        "outputId": "10fc2384-25c9-4e1a-83ec-642aea028ad2"
      },
      "outputs": [
        {
          "output_type": "execute_result",
          "data": {
            "text/plain": [
              "array([[-1.11746902, -0.07717958,  0.43329368,  0.29933982,  1.1351215 ,\n",
              "        -0.35129724, -0.15766034, -0.99717628,  0.57720469, -0.67406221,\n",
              "         0.30902897,  1.14217718, -1.08826237,  0.12833247,  1.27550914,\n",
              "         0.3034464 ,  0.06371381, -0.25004301, -1.68146274,  1.47571663,\n",
              "         1.1010574 ,  1.60155238, -0.4925656 , -0.87466974,  0.80026912,\n",
              "        -0.17228705, -0.4104138 ,  0.74010513,  1.47538956, -0.86304333,\n",
              "         1.32132782,  0.42245774,  1.68955174, -0.3943898 , -0.7247365 ,\n",
              "        -0.24712854,  0.5658376 ,  2.81997097, -2.67485448, -0.36532227,\n",
              "        -1.77026305, -0.76187163, -0.31626204,  0.69242519,  0.54149567,\n",
              "        -1.46532441,  1.62115168, -0.58557553,  0.49312864,  0.85725321,\n",
              "         0.05382919, -2.21096509, -0.20116754,  1.14507456, -0.4534966 ,\n",
              "        -0.9362084 ,  0.42728289, -0.97027146,  1.74048321, -2.09514825,\n",
              "        -1.7608774 ,  0.48680333, -0.3170762 ,  0.51253185,  0.11577035,\n",
              "        -0.61489967, -0.05728946,  0.28118119,  1.36095496,  0.28216389,\n",
              "         0.84215926, -1.70814794,  0.49754344,  0.357801  , -0.8081504 ,\n",
              "        -0.04576191,  0.97231963,  0.76296096,  2.23472103, -0.61702942,\n",
              "        -0.5832628 , -0.37761165, -1.23382923, -0.96816096,  0.50780147,\n",
              "         0.63327421, -0.36527088,  1.03827928, -0.30839728, -0.61436589,\n",
              "        -1.07732572,  0.11077391,  2.76843947, -0.25397922, -0.24630612,\n",
              "         0.10035022,  1.69194394,  0.45314457,  0.70379028,  0.48113373]])"
            ]
          },
          "metadata": {},
          "execution_count": 12
        }
      ],
      "source": [
        "make_latent_samples(1, 100) # generates one sample"
      ]
    },
    {
      "cell_type": "code",
      "execution_count": 13,
      "metadata": {
        "id": "6WhpSDsvthq9",
        "colab": {
          "base_uri": "https://localhost:8080/"
        },
        "outputId": "b9b7a9fe-3376-4a17-a85d-f00bd3cb80ba"
      },
      "outputs": [
        {
          "output_type": "stream",
          "name": "stdout",
          "text": [
            "Model: \"generator\"\n",
            "_________________________________________________________________\n",
            " Layer (type)                Output Shape              Param #   \n",
            "=================================================================\n",
            " dense (Dense)               (None, 128)               12928     \n",
            "                                                                 \n",
            " leaky_re_lu (LeakyReLU)     (None, 128)               0         \n",
            "                                                                 \n",
            " batch_normalization (BatchN  (None, 128)              512       \n",
            " ormalization)                                                   \n",
            "                                                                 \n",
            " dense_1 (Dense)             (None, 100)               12900     \n",
            "                                                                 \n",
            " activation (Activation)     (None, 100)               0         \n",
            "                                                                 \n",
            "=================================================================\n",
            "Total params: 26,340\n",
            "Trainable params: 26,084\n",
            "Non-trainable params: 256\n",
            "_________________________________________________________________\n"
          ]
        }
      ],
      "source": [
        "generator = Sequential([\n",
        "    Dense(128, input_shape=(100,)),\n",
        "    LeakyReLU(alpha=0.2),\n",
        "    BatchNormalization(momentum=0.7),\n",
        "\n",
        "    #Dense(100),\n",
        "    #LeakyReLU(alpha=0.2),\n",
        "    #BatchNormalization(momentum=0.7),\n",
        "\n",
        "    #Dense(1024),\n",
        "    #LeakyReLU(alpha=0.2),\n",
        "    #BatchNormalization(momentum=0.7),\n",
        "\n",
        "    #Dense(2048),\n",
        "    #LeakyReLU(alpha=0.2),\n",
        "    #BatchNormalization(momentum=0.7),\n",
        "\n",
        "    Dense(100),\n",
        "    Activation('tanh')\n",
        "], name='generator')\n",
        "\n",
        "generator.summary()"
      ]
    },
    {
      "cell_type": "code",
      "execution_count": 14,
      "metadata": {
        "id": "ifDOM8XEtpTu",
        "colab": {
          "base_uri": "https://localhost:8080/"
        },
        "outputId": "ce794f0b-04af-4dab-b397-c28e004d8241"
      },
      "outputs": [
        {
          "output_type": "stream",
          "name": "stdout",
          "text": [
            "Model: \"discriminator\"\n",
            "_________________________________________________________________\n",
            " Layer (type)                Output Shape              Param #   \n",
            "=================================================================\n",
            " dense_2 (Dense)             (None, 64)                6464      \n",
            "                                                                 \n",
            " leaky_re_lu_1 (LeakyReLU)   (None, 64)                0         \n",
            "                                                                 \n",
            " dense_3 (Dense)             (None, 32)                2080      \n",
            "                                                                 \n",
            " leaky_re_lu_2 (LeakyReLU)   (None, 32)                0         \n",
            "                                                                 \n",
            " dense_4 (Dense)             (None, 1)                 33        \n",
            "                                                                 \n",
            " activation_1 (Activation)   (None, 1)                 0         \n",
            "                                                                 \n",
            "=================================================================\n",
            "Total params: 8,577\n",
            "Trainable params: 8,577\n",
            "Non-trainable params: 0\n",
            "_________________________________________________________________\n"
          ]
        }
      ],
      "source": [
        "discriminator = Sequential([\n",
        "    Dense(64, input_shape=(100,)),\n",
        "    LeakyReLU(alpha=0.2),\n",
        "    #BatchNormalization(momentum=0.7),\n",
        "\n",
        "    Dense(32),\n",
        "    LeakyReLU(alpha=0.2),\n",
        "    #BatchNormalization(momentum=0.7),\n",
        "\n",
        "    #Dense(128),\n",
        "    #LeakyReLU(alpha=0.2),\n",
        "    #BatchNormalization(momentum=0.7),\n",
        "    #Dense(64),\n",
        "    #LeakyReLU(alpha=0.2),\n",
        "    #BatchNormalization(momentum=0.7),\n",
        "\n",
        "    #Dense(32),\n",
        "    #LeakyReLU(alpha=0.2),\n",
        "    #BatchNormalization(momentum=0.7),\n",
        "\n",
        "    #Dense(16),\n",
        "    #LeakyReLU(alpha=0.2),\n",
        "    #BatchNormalization(momentum=0.7),\n",
        "\n",
        "    Dense(1),\n",
        "    Activation('sigmoid')\n",
        "], name='discriminator')\n",
        "\n",
        "discriminator.summary()"
      ]
    },
    {
      "cell_type": "code",
      "execution_count": 15,
      "metadata": {
        "id": "xBOAGHy9tstz",
        "colab": {
          "base_uri": "https://localhost:8080/"
        },
        "outputId": "22996294-8909-44eb-e868-959c48cd248b"
      },
      "outputs": [
        {
          "output_type": "stream",
          "name": "stdout",
          "text": [
            "Model: \"sequential\"\n",
            "_________________________________________________________________\n",
            " Layer (type)                Output Shape              Param #   \n",
            "=================================================================\n",
            " generator (Sequential)      (None, 100)               26340     \n",
            "                                                                 \n",
            " discriminator (Sequential)  (None, 1)                 8577      \n",
            "                                                                 \n",
            "=================================================================\n",
            "Total params: 34,917\n",
            "Trainable params: 34,661\n",
            "Non-trainable params: 256\n",
            "_________________________________________________________________\n"
          ]
        }
      ],
      "source": [
        "# maintain the same shared weights with the generator and the discriminator.\n",
        "gan = Sequential([\n",
        "    generator,\n",
        "    discriminator\n",
        "])\n",
        "\n",
        "gan.summary()"
      ]
    },
    {
      "cell_type": "code",
      "execution_count": 16,
      "metadata": {
        "id": "Bx2JFuiLtx1E"
      },
      "outputs": [],
      "source": [
        "def make_trainable(model, trainable):\n",
        "    for layer in model.layers:\n",
        "        layer.trainable = trainable"
      ]
    },
    {
      "cell_type": "code",
      "execution_count": 17,
      "metadata": {
        "id": "X4hA_QQFtzxF",
        "colab": {
          "base_uri": "https://localhost:8080/"
        },
        "outputId": "f611cfb1-6e17-459f-aa15-0a7386d66e4c"
      },
      "outputs": [
        {
          "output_type": "stream",
          "name": "stdout",
          "text": [
            "Model: \"discriminator\"\n",
            "_________________________________________________________________\n",
            " Layer (type)                Output Shape              Param #   \n",
            "=================================================================\n",
            " dense_2 (Dense)             (None, 64)                6464      \n",
            "                                                                 \n",
            " leaky_re_lu_1 (LeakyReLU)   (None, 64)                0         \n",
            "                                                                 \n",
            " dense_3 (Dense)             (None, 32)                2080      \n",
            "                                                                 \n",
            " leaky_re_lu_2 (LeakyReLU)   (None, 32)                0         \n",
            "                                                                 \n",
            " dense_4 (Dense)             (None, 1)                 33        \n",
            "                                                                 \n",
            " activation_1 (Activation)   (None, 1)                 0         \n",
            "                                                                 \n",
            "=================================================================\n",
            "Total params: 8,577\n",
            "Trainable params: 0\n",
            "Non-trainable params: 8,577\n",
            "_________________________________________________________________\n"
          ]
        }
      ],
      "source": [
        "make_trainable(discriminator, False)\n",
        "discriminator.summary()"
      ]
    },
    {
      "cell_type": "code",
      "execution_count": 18,
      "metadata": {
        "id": "X2qL4BJ6t1Rr",
        "colab": {
          "base_uri": "https://localhost:8080/"
        },
        "outputId": "5195ed3d-ad1d-4287-b1ba-7acf67cdc4bf"
      },
      "outputs": [
        {
          "output_type": "stream",
          "name": "stdout",
          "text": [
            "Model: \"discriminator\"\n",
            "_________________________________________________________________\n",
            " Layer (type)                Output Shape              Param #   \n",
            "=================================================================\n",
            " dense_2 (Dense)             (None, 64)                6464      \n",
            "                                                                 \n",
            " leaky_re_lu_1 (LeakyReLU)   (None, 64)                0         \n",
            "                                                                 \n",
            " dense_3 (Dense)             (None, 32)                2080      \n",
            "                                                                 \n",
            " leaky_re_lu_2 (LeakyReLU)   (None, 32)                0         \n",
            "                                                                 \n",
            " dense_4 (Dense)             (None, 1)                 33        \n",
            "                                                                 \n",
            " activation_1 (Activation)   (None, 1)                 0         \n",
            "                                                                 \n",
            "=================================================================\n",
            "Total params: 8,577\n",
            "Trainable params: 8,577\n",
            "Non-trainable params: 0\n",
            "_________________________________________________________________\n"
          ]
        }
      ],
      "source": [
        "make_trainable(discriminator, True)\n",
        "discriminator.summary()"
      ]
    },
    {
      "cell_type": "code",
      "execution_count": 19,
      "metadata": {
        "id": "6AdYzOnguNYG"
      },
      "outputs": [],
      "source": [
        "def make_simple_GAN(sample_size, \n",
        "                    g_hidden_size_1,\n",
        "                    g_hidden_size_2,\n",
        "                    g_hidden_size_3,\n",
        "                    g_hidden_size_4,\n",
        "                    d_hidden_size_1,\n",
        "                    d_hidden_size_2, \n",
        "                    d_hidden_size_3,\n",
        "                    d_hidden_size_4,\n",
        "                    d_hidden_size_5,\n",
        "                    d_hidden_size_6,\n",
        "                    leaky_alpha, \n",
        "                    g_learning_rate,\n",
        "                    d_learning_rate):\n",
        "    K.clear_session()\n",
        "    \n",
        "    generator = Sequential([\n",
        "        Dense(g_hidden_size_1, input_shape=(sample_size,)),\n",
        "        LeakyReLU(alpha=leaky_alpha),\n",
        "        BatchNormalization(momentum=0.7),\n",
        "\n",
        "        #Dense(g_hidden_size_2),\n",
        "        #LeakyReLU(alpha=leaky_alpha),\n",
        "        #BatchNormalization(momentum=0.7),\n",
        "\n",
        "        #Dense(g_hidden_size_3),\n",
        "        #LeakyReLU(alpha=leaky_alpha),\n",
        "        #BatchNormalization(momentum=0.7),\n",
        "\n",
        "        #Dense(g_hidden_size_4),\n",
        "        #LeakyReLU(alpha=leaky_alpha),\n",
        "        #BatchNormalization(momentum=0.7),\n",
        "\n",
        "        Dense(100),        \n",
        "        Activation('tanh')\n",
        "    ], name='generator')    \n",
        "\n",
        "    discriminator = Sequential([\n",
        "        Dense(d_hidden_size_1, input_shape=(100,)),\n",
        "        LeakyReLU(alpha=leaky_alpha),\n",
        "        #BatchNormalization(momentum=0.7),\n",
        "\n",
        "        Dense(d_hidden_size_2),\n",
        "        LeakyReLU(alpha=leaky_alpha),\n",
        "        #BatchNormalization(momentum=0.7),\n",
        "\n",
        "        #Dense(d_hidden_size_3),\n",
        "        #LeakyReLU(alpha=leaky_alpha),\n",
        "        #BatchNormalization(momentum=0.7),\n",
        "\n",
        "        #Dense(d_hidden_size_4),\n",
        "        #LeakyReLU(alpha=leaky_alpha),\n",
        "        #BatchNormalization(momentum=0.7),\n",
        "\n",
        "        #Dense(d_hidden_size_5),\n",
        "        #LeakyReLU(alpha=leaky_alpha),\n",
        "        #BatchNormalization(momentum=0.7),\n",
        "\n",
        "        #Dense(d_hidden_size_6),\n",
        "        #LeakyReLU(alpha=leaky_alpha),\n",
        "        #BatchNormalization(momentum=0.7),\n",
        "\n",
        "        Dense(1),\n",
        "        Activation('sigmoid')\n",
        "    ], name='discriminator')    \n",
        "    \n",
        "    gan = Sequential([\n",
        "        generator,\n",
        "        discriminator\n",
        "    ])\n",
        "    \n",
        "    discriminator.compile(optimizer=Adam(lr=d_learning_rate), loss='binary_crossentropy')\n",
        "    gan.compile(optimizer=Adam(lr=g_learning_rate), loss='binary_crossentropy')\n",
        "    \n",
        "    return gan, generator, discriminator "
      ]
    },
    {
      "cell_type": "code",
      "execution_count": 20,
      "metadata": {
        "id": "mYPaeZWCuQcN"
      },
      "outputs": [],
      "source": [
        "from sklearn import preprocessing\n",
        "def preprocess(x):\n",
        "   x = preprocessing.scale(x)\n",
        "   return x"
      ]
    },
    {
      "cell_type": "code",
      "execution_count": 21,
      "metadata": {
        "id": "ECK1ZNgvuUDE"
      },
      "outputs": [],
      "source": [
        "X_train_real = np.array(preprocess(X_train))\n",
        "#X_val_real  = np.array(preprocess(X_val))\n",
        "X_test_real  = np.array(preprocess(X_test))"
      ]
    },
    {
      "cell_type": "code",
      "execution_count": 22,
      "metadata": {
        "id": "IEehFs-uuWu-"
      },
      "outputs": [],
      "source": [
        "while(False):\n",
        "\n",
        "  def deprocess(x):\n",
        "    x = (x / 2 + 1) * 7454.516836076623\n",
        "    x = np.clip(x, -127.3838709715454, 7454.516836076623)\n",
        "    x = np.uint8(x)\n",
        "    x = x.reshape(-1, 70)\n",
        "    return x"
      ]
    },
    {
      "cell_type": "code",
      "execution_count": 23,
      "metadata": {
        "id": "pkBEmfCuuZVn"
      },
      "outputs": [],
      "source": [
        "def make_labels(size):\n",
        "    return np.ones([size, 1]), np.zeros([size, 1])"
      ]
    },
    {
      "cell_type": "code",
      "execution_count": 24,
      "metadata": {
        "id": "fRn7LdmDub8I",
        "colab": {
          "base_uri": "https://localhost:8080/"
        },
        "outputId": "45a9bacb-5c71-4f2f-e274-07a978d12357"
      },
      "outputs": [
        {
          "output_type": "execute_result",
          "data": {
            "text/plain": [
              "(array([[1.],\n",
              "        [1.],\n",
              "        [1.],\n",
              "        [1.],\n",
              "        [1.],\n",
              "        [1.],\n",
              "        [1.],\n",
              "        [1.],\n",
              "        [1.],\n",
              "        [1.]]), array([[0.],\n",
              "        [0.],\n",
              "        [0.],\n",
              "        [0.],\n",
              "        [0.],\n",
              "        [0.],\n",
              "        [0.],\n",
              "        [0.],\n",
              "        [0.],\n",
              "        [0.]]))"
            ]
          },
          "metadata": {},
          "execution_count": 24
        }
      ],
      "source": [
        "y_real_10, y_fake_10 = make_labels(10)\n",
        "\n",
        "y_real_10, y_fake_10"
      ]
    },
    {
      "cell_type": "code",
      "execution_count": 25,
      "metadata": {
        "id": "lCK87MXyue6-"
      },
      "outputs": [],
      "source": [
        "# hyperparameters\n",
        "sample_size     = 100     # latent sample size (i.e., 100 random numbers)\n",
        "g_hidden_size_1 = 128\n",
        "g_hidden_size_2 = 0\n",
        "g_hidden_size_3 = 0\n",
        "g_hidden_size_4 = 0\n",
        "d_hidden_size_1 = 64\n",
        "d_hidden_size_2 = 32\n",
        "d_hidden_size_3 = 0\n",
        "d_hidden_size_4 = 0\n",
        "d_hidden_size_5 = 0\n",
        "d_hidden_size_6 = 0\n",
        "leaky_alpha     = 0.2\n",
        "g_learning_rate = 0.0001  # learning rate for the generator\n",
        "d_learning_rate = 0.0001   # learning rate for the discriminator\n",
        "epochs          = 100\n",
        "batch_size      = 64      # train batch size\n",
        "eval_size       = 16      # evaluate size\n",
        "smooth          = 0.1\n"
      ]
    },
    {
      "cell_type": "code",
      "execution_count": 26,
      "metadata": {
        "id": "Tuk6T1qqujjW",
        "colab": {
          "base_uri": "https://localhost:8080/"
        },
        "outputId": "3f2bea2c-70ad-4607-c65e-ecb38c915811"
      },
      "outputs": [
        {
          "output_type": "stream",
          "name": "stderr",
          "text": [
            "/usr/local/lib/python3.7/dist-packages/keras/optimizer_v2/adam.py:105: UserWarning: The `lr` argument is deprecated, use `learning_rate` instead.\n",
            "  super(Adam, self).__init__(name, **kwargs)\n"
          ]
        },
        {
          "output_type": "stream",
          "name": "stdout",
          "text": [
            "Epoch:   1/100 Discriminator Loss: 1.4540   Generator Loss: 0.4261   Discriminator acc: 0.7690:\n",
            "Epoch:   2/100 Discriminator Loss: 1.5306   Generator Loss: 0.3537   Discriminator acc: 0.7940:\n",
            "Epoch:   3/100 Discriminator Loss: 1.5122   Generator Loss: 0.3542   Discriminator acc: 0.8319:\n",
            "Epoch:   4/100 Discriminator Loss: 1.6068   Generator Loss: 0.3258   Discriminator acc: 0.8274:\n",
            "Epoch:   5/100 Discriminator Loss: 1.5338   Generator Loss: 0.3785   Discriminator acc: 0.8573:\n",
            "Epoch:   6/100 Discriminator Loss: 1.6276   Generator Loss: 0.3375   Discriminator acc: 0.8736:\n",
            "Epoch:   7/100 Discriminator Loss: 1.6206   Generator Loss: 0.3320   Discriminator acc: 0.8741:\n",
            "Epoch:   8/100 Discriminator Loss: 1.7839   Generator Loss: 0.2726   Discriminator acc: 0.8748:\n",
            "Epoch:   9/100 Discriminator Loss: 1.6838   Generator Loss: 0.3289   Discriminator acc: 0.9047:\n",
            "Epoch:  10/100 Discriminator Loss: 1.8577   Generator Loss: 0.2612   Discriminator acc: 0.8692:\n",
            "Epoch:  11/100 Discriminator Loss: 1.7037   Generator Loss: 0.3165   Discriminator acc: 0.9204:\n",
            "Epoch:  12/100 Discriminator Loss: 1.6526   Generator Loss: 0.3157   Discriminator acc: 0.8789:\n",
            "Epoch:  13/100 Discriminator Loss: 1.6477   Generator Loss: 0.3147   Discriminator acc: 0.8848:\n",
            "Epoch:  14/100 Discriminator Loss: 1.7477   Generator Loss: 0.3066   Discriminator acc: 0.8935:\n",
            "Epoch:  15/100 Discriminator Loss: 1.5477   Generator Loss: 0.3541   Discriminator acc: 0.8697:\n",
            "Epoch:  16/100 Discriminator Loss: 1.6081   Generator Loss: 0.3565   Discriminator acc: 0.8797:\n",
            "Epoch:  17/100 Discriminator Loss: 1.5679   Generator Loss: 0.3533   Discriminator acc: 0.8645:\n",
            "Epoch:  18/100 Discriminator Loss: 1.6178   Generator Loss: 0.3378   Discriminator acc: 0.8749:\n",
            "Epoch:  19/100 Discriminator Loss: 1.5870   Generator Loss: 0.3565   Discriminator acc: 0.8414:\n",
            "Epoch:  20/100 Discriminator Loss: 1.5759   Generator Loss: 0.3241   Discriminator acc: 0.8497:\n",
            "Epoch:  21/100 Discriminator Loss: 1.5697   Generator Loss: 0.3353   Discriminator acc: 0.8461:\n",
            "Epoch:  22/100 Discriminator Loss: 1.5759   Generator Loss: 0.3518   Discriminator acc: 0.8458:\n",
            "Epoch:  23/100 Discriminator Loss: 1.7255   Generator Loss: 0.3200   Discriminator acc: 0.8395:\n",
            "Epoch:  24/100 Discriminator Loss: 1.6207   Generator Loss: 0.3552   Discriminator acc: 0.8346:\n",
            "Epoch:  25/100 Discriminator Loss: 1.5355   Generator Loss: 0.3678   Discriminator acc: 0.8246:\n",
            "Epoch:  26/100 Discriminator Loss: 1.5012   Generator Loss: 0.3735   Discriminator acc: 0.7995:\n",
            "Epoch:  27/100 Discriminator Loss: 1.5372   Generator Loss: 0.3827   Discriminator acc: 0.8061:\n",
            "Epoch:  28/100 Discriminator Loss: 1.4928   Generator Loss: 0.3738   Discriminator acc: 0.8007:\n",
            "Epoch:  29/100 Discriminator Loss: 1.5223   Generator Loss: 0.3722   Discriminator acc: 0.7741:\n",
            "Epoch:  30/100 Discriminator Loss: 1.5019   Generator Loss: 0.3869   Discriminator acc: 0.7917:\n",
            "Epoch:  31/100 Discriminator Loss: 1.4958   Generator Loss: 0.3846   Discriminator acc: 0.7711:\n",
            "Epoch:  32/100 Discriminator Loss: 1.3757   Generator Loss: 0.3974   Discriminator acc: 0.7586:\n",
            "Epoch:  33/100 Discriminator Loss: 1.4468   Generator Loss: 0.3902   Discriminator acc: 0.7697:\n",
            "Epoch:  34/100 Discriminator Loss: 1.3466   Generator Loss: 0.4421   Discriminator acc: 0.7424:\n",
            "Epoch:  35/100 Discriminator Loss: 1.3529   Generator Loss: 0.4429   Discriminator acc: 0.7416:\n",
            "Epoch:  36/100 Discriminator Loss: 1.4199   Generator Loss: 0.3906   Discriminator acc: 0.7491:\n",
            "Epoch:  37/100 Discriminator Loss: 1.3539   Generator Loss: 0.4268   Discriminator acc: 0.7388:\n",
            "Epoch:  38/100 Discriminator Loss: 1.3527   Generator Loss: 0.4460   Discriminator acc: 0.7340:\n",
            "Epoch:  39/100 Discriminator Loss: 1.3905   Generator Loss: 0.4396   Discriminator acc: 0.7218:\n",
            "Epoch:  40/100 Discriminator Loss: 1.3179   Generator Loss: 0.4237   Discriminator acc: 0.7216:\n",
            "Epoch:  41/100 Discriminator Loss: 1.2665   Generator Loss: 0.4735   Discriminator acc: 0.7039:\n",
            "Epoch:  42/100 Discriminator Loss: 1.2842   Generator Loss: 0.4369   Discriminator acc: 0.7033:\n",
            "Epoch:  43/100 Discriminator Loss: 1.2372   Generator Loss: 0.4730   Discriminator acc: 0.7035:\n",
            "Epoch:  44/100 Discriminator Loss: 1.2590   Generator Loss: 0.4467   Discriminator acc: 0.6990:\n",
            "Epoch:  45/100 Discriminator Loss: 1.2450   Generator Loss: 0.4748   Discriminator acc: 0.6802:\n",
            "Epoch:  46/100 Discriminator Loss: 1.2869   Generator Loss: 0.4686   Discriminator acc: 0.6906:\n",
            "Epoch:  47/100 Discriminator Loss: 1.1741   Generator Loss: 0.5226   Discriminator acc: 0.6726:\n",
            "Epoch:  48/100 Discriminator Loss: 1.2201   Generator Loss: 0.5012   Discriminator acc: 0.6676:\n",
            "Epoch:  49/100 Discriminator Loss: 1.2175   Generator Loss: 0.5073   Discriminator acc: 0.6619:\n",
            "Epoch:  50/100 Discriminator Loss: 1.1956   Generator Loss: 0.5027   Discriminator acc: 0.6550:\n",
            "Epoch:  51/100 Discriminator Loss: 1.1904   Generator Loss: 0.5051   Discriminator acc: 0.6658:\n",
            "Epoch:  52/100 Discriminator Loss: 1.2126   Generator Loss: 0.5045   Discriminator acc: 0.6520:\n",
            "Epoch:  53/100 Discriminator Loss: 1.1703   Generator Loss: 0.5336   Discriminator acc: 0.6687:\n",
            "Epoch:  54/100 Discriminator Loss: 1.1614   Generator Loss: 0.5180   Discriminator acc: 0.6604:\n",
            "Epoch:  55/100 Discriminator Loss: 1.1589   Generator Loss: 0.5487   Discriminator acc: 0.6346:\n",
            "Epoch:  56/100 Discriminator Loss: 1.1335   Generator Loss: 0.5414   Discriminator acc: 0.6402:\n",
            "Epoch:  57/100 Discriminator Loss: 1.1557   Generator Loss: 0.5286   Discriminator acc: 0.6416:\n",
            "Epoch:  58/100 Discriminator Loss: 1.2286   Generator Loss: 0.5093   Discriminator acc: 0.6426:\n",
            "Epoch:  59/100 Discriminator Loss: 1.1921   Generator Loss: 0.5028   Discriminator acc: 0.6388:\n",
            "Epoch:  60/100 Discriminator Loss: 1.1913   Generator Loss: 0.5411   Discriminator acc: 0.6522:\n",
            "Epoch:  61/100 Discriminator Loss: 1.0736   Generator Loss: 0.5953   Discriminator acc: 0.6330:\n",
            "Epoch:  62/100 Discriminator Loss: 1.0352   Generator Loss: 0.6003   Discriminator acc: 0.6127:\n",
            "Epoch:  63/100 Discriminator Loss: 1.1148   Generator Loss: 0.5614   Discriminator acc: 0.6116:\n",
            "Epoch:  64/100 Discriminator Loss: 1.0694   Generator Loss: 0.5566   Discriminator acc: 0.6296:\n",
            "Epoch:  65/100 Discriminator Loss: 1.0616   Generator Loss: 0.5655   Discriminator acc: 0.6080:\n",
            "Epoch:  66/100 Discriminator Loss: 1.0284   Generator Loss: 0.5907   Discriminator acc: 0.6030:\n",
            "Epoch:  67/100 Discriminator Loss: 1.0421   Generator Loss: 0.6125   Discriminator acc: 0.6173:\n",
            "Epoch:  68/100 Discriminator Loss: 0.9899   Generator Loss: 0.6432   Discriminator acc: 0.6189:\n",
            "Epoch:  69/100 Discriminator Loss: 1.0257   Generator Loss: 0.5904   Discriminator acc: 0.6191:\n",
            "Epoch:  70/100 Discriminator Loss: 1.1107   Generator Loss: 0.5138   Discriminator acc: 0.6130:\n",
            "Epoch:  71/100 Discriminator Loss: 1.0793   Generator Loss: 0.5616   Discriminator acc: 0.5999:\n",
            "Epoch:  72/100 Discriminator Loss: 1.0798   Generator Loss: 0.5878   Discriminator acc: 0.6157:\n",
            "Epoch:  73/100 Discriminator Loss: 0.9376   Generator Loss: 0.6140   Discriminator acc: 0.5926:\n",
            "Epoch:  74/100 Discriminator Loss: 0.9799   Generator Loss: 0.5996   Discriminator acc: 0.6093:\n",
            "Epoch:  75/100 Discriminator Loss: 1.0432   Generator Loss: 0.5855   Discriminator acc: 0.6026:\n",
            "Epoch:  76/100 Discriminator Loss: 1.0680   Generator Loss: 0.5913   Discriminator acc: 0.5914:\n",
            "Epoch:  77/100 Discriminator Loss: 0.9847   Generator Loss: 0.6018   Discriminator acc: 0.6272:\n",
            "Epoch:  78/100 Discriminator Loss: 0.9088   Generator Loss: 0.6417   Discriminator acc: 0.6127:\n",
            "Epoch:  79/100 Discriminator Loss: 1.2364   Generator Loss: 0.5009   Discriminator acc: 0.6201:\n",
            "Epoch:  80/100 Discriminator Loss: 1.0585   Generator Loss: 0.5501   Discriminator acc: 0.6293:\n",
            "Epoch:  81/100 Discriminator Loss: 1.0862   Generator Loss: 0.5646   Discriminator acc: 0.6335:\n",
            "Epoch:  82/100 Discriminator Loss: 1.0997   Generator Loss: 0.5471   Discriminator acc: 0.6049:\n",
            "Epoch:  83/100 Discriminator Loss: 1.0739   Generator Loss: 0.5712   Discriminator acc: 0.5991:\n",
            "Epoch:  84/100 Discriminator Loss: 0.9709   Generator Loss: 0.5867   Discriminator acc: 0.6096:\n",
            "Epoch:  85/100 Discriminator Loss: 1.1070   Generator Loss: 0.5401   Discriminator acc: 0.6183:\n",
            "Epoch:  86/100 Discriminator Loss: 0.9730   Generator Loss: 0.5825   Discriminator acc: 0.6102:\n",
            "Epoch:  87/100 Discriminator Loss: 1.0681   Generator Loss: 0.5467   Discriminator acc: 0.6149:\n",
            "Epoch:  88/100 Discriminator Loss: 0.9993   Generator Loss: 0.5897   Discriminator acc: 0.6021:\n",
            "Epoch:  89/100 Discriminator Loss: 0.9618   Generator Loss: 0.5761   Discriminator acc: 0.6148:\n",
            "Epoch:  90/100 Discriminator Loss: 1.0711   Generator Loss: 0.5853   Discriminator acc: 0.6049:\n",
            "Epoch:  91/100 Discriminator Loss: 1.0599   Generator Loss: 0.5692   Discriminator acc: 0.5991:\n",
            "Epoch:  92/100 Discriminator Loss: 1.0638   Generator Loss: 0.5898   Discriminator acc: 0.6070:\n",
            "Epoch:  93/100 Discriminator Loss: 1.0680   Generator Loss: 0.6159   Discriminator acc: 0.6111:\n",
            "Epoch:  94/100 Discriminator Loss: 1.0315   Generator Loss: 0.6012   Discriminator acc: 0.5992:\n",
            "Epoch:  95/100 Discriminator Loss: 1.0101   Generator Loss: 0.5924   Discriminator acc: 0.5912:\n",
            "Epoch:  96/100 Discriminator Loss: 1.0463   Generator Loss: 0.6383   Discriminator acc: 0.5875:\n",
            "Epoch:  97/100 Discriminator Loss: 0.9607   Generator Loss: 0.6302   Discriminator acc: 0.5925:\n",
            "Epoch:  98/100 Discriminator Loss: 1.0486   Generator Loss: 0.6160   Discriminator acc: 0.5830:\n",
            "Epoch:  99/100 Discriminator Loss: 1.0380   Generator Loss: 0.6000   Discriminator acc: 0.5797:\n",
            "Epoch: 100/100 Discriminator Loss: 1.0742   Generator Loss: 0.6289   Discriminator acc: 0.5824:\n"
          ]
        }
      ],
      "source": [
        "## labels for the batch size and the test size\n",
        "y_train_real, y_train_fake = make_labels(batch_size)\n",
        "y_eval_real,  y_eval_fake  = make_labels(eval_size)\n",
        "\n",
        "# create a GAN, a generator and a discriminator\n",
        "gan, generator, discriminator = make_simple_GAN(\n",
        "    sample_size, \n",
        "    g_hidden_size_1, \n",
        "    g_hidden_size_2,\n",
        "    g_hidden_size_3,\n",
        "    g_hidden_size_4, \n",
        "    d_hidden_size_1, \n",
        "    d_hidden_size_2,\n",
        "    d_hidden_size_3,\n",
        "    d_hidden_size_4,\n",
        "    d_hidden_size_5,\n",
        "    d_hidden_size_6,\n",
        "    leaky_alpha, \n",
        "    g_learning_rate,\n",
        "    d_learning_rate)\n",
        "\n",
        "\n",
        "losses = []\n",
        "losses1 = []\n",
        "for e in range(epochs):\n",
        "    for i in range(len(X_train_real)//batch_size):\n",
        "        # real MNIST digit images\n",
        "        X_batch_real = X_train_real[i*batch_size:(i+1)*batch_size]\n",
        "        \n",
        "        # latent samples and the generated digit images\n",
        "        latent_samples = make_latent_samples(batch_size, sample_size)\n",
        "        X_batch_fake = generator.predict_on_batch(latent_samples)\n",
        "        \n",
        "        # train the discriminator to detect real and fake images\n",
        "        make_trainable(discriminator, True)\n",
        "        #discriminator.train_on_batch(X_batch_real, y_train_real * (1 - smooth))\n",
        "        #discriminator.train_on_batch(X_batch_fake, y_train_fake)\n",
        "\n",
        "        d_acc_real = discriminator.train_on_batch(X_batch_real, y_train_real * (1 - smooth))\n",
        "        d_acc_fake = discriminator.train_on_batch(X_batch_fake, y_train_fake)\n",
        "        d_acc  = 0.5 * (d_acc_real + d_acc_fake)\n",
        "\n",
        "        # train the generator via GAN\n",
        "        make_trainable(discriminator, False)\n",
        "        gan.train_on_batch(latent_samples, y_train_real)\n",
        "   # evaluate\n",
        "    X_eval_real = X_test_real[np.random.choice(len(X_test_real), eval_size, replace=False)]\n",
        "    \n",
        "    latent_samples = make_latent_samples(eval_size, sample_size)\n",
        "    X_eval_fake = generator.predict_on_batch(latent_samples)\n",
        "\n",
        "    d_loss  = discriminator.test_on_batch(X_eval_real, y_eval_real)\n",
        "    d_loss += discriminator.test_on_batch(X_eval_fake, y_eval_fake)\n",
        "    g_loss  = gan.test_on_batch(latent_samples, y_eval_real) # we want the fake to be realistic!\n",
        "    \n",
        "    losses.append((d_loss, g_loss))\n",
        "\n",
        "    \n",
        "\n",
        "    #losses1.append(( d_acc))\n",
        "    print(\"Epoch: {:>3}/{} Discriminator Loss: {:>6.4f}   Generator Loss: {:>6.4f}   Discriminator acc: {:>6.4f}:\".format(\n",
        "        e+1, epochs, d_loss, g_loss, d_acc)) #Discriminator acc: {:>6.4f}:, d_acc"
      ]
    },
    {
      "cell_type": "code",
      "execution_count": 27,
      "metadata": {
        "id": "_if6yg9SuoTQ",
        "colab": {
          "base_uri": "https://localhost:8080/",
          "height": 281
        },
        "outputId": "ccc121f6-d265-4780-8c47-ab73bd861973"
      },
      "outputs": [
        {
          "output_type": "display_data",
          "data": {
            "image/png": "[encoded data removed]",
            "text/plain": [
              "<Figure size 432x288 with 1 Axes>"
            ]
          },
          "metadata": {
            "needs_background": "light"
          }
        }
      ],
      "source": [
        "losses = np.array(losses)\n",
        "\n",
        "fig, ax = plt.subplots()\n",
        "plt.plot(losses.T[0], label='Discriminator')\n",
        "plt.plot(losses.T[1], label='Generator')\n",
        "plt.title(\"Training Losses\")\n",
        "plt.legend()\n",
        "plt.show()"
      ]
    },
    {
      "cell_type": "code",
      "execution_count": 28,
      "metadata": {
        "id": "w0je2222Q0Y-"
      },
      "outputs": [],
      "source": [
        "rr = discriminator.predict_on_batch(X_test_real)"
      ]
    },
    {
      "cell_type": "code",
      "execution_count": 29,
      "metadata": {
        "id": "qYZfeRR5Z3Iu",
        "colab": {
          "base_uri": "https://localhost:8080/"
        },
        "outputId": "9193940c-3950-46b6-fda8-e312d243c8ba"
      },
      "outputs": [
        {
          "output_type": "execute_result",
          "data": {
            "text/plain": [
              "3917     1\n",
              "12345    0\n",
              "1121     1\n",
              "12288    0\n",
              "11748    0\n",
              "        ..\n",
              "11575    0\n",
              "12542    0\n",
              "6799     1\n",
              "12383    0\n",
              "9684     1\n",
              "Name: label, Length: 3965, dtype: int64"
            ]
          },
          "metadata": {},
          "execution_count": 29
        }
      ],
      "source": [
        "y_test"
      ]
    },
    {
      "cell_type": "code",
      "execution_count": 30,
      "metadata": {
        "id": "6GdJtSctZ5jm",
        "colab": {
          "base_uri": "https://localhost:8080/"
        },
        "outputId": "8a3f761d-c9ab-4eb4-812a-7e3de7949ea7"
      },
      "outputs": [
        {
          "output_type": "execute_result",
          "data": {
            "text/plain": [
              "array([[0.8959955 ],\n",
              "       [0.8101233 ],\n",
              "       [0.90512705],\n",
              "       ...,\n",
              "       [0.89374375],\n",
              "       [0.6673559 ],\n",
              "       [0.8718697 ]], dtype=float32)"
            ]
          },
          "metadata": {},
          "execution_count": 30
        }
      ],
      "source": [
        "rr"
      ]
    },
    {
      "cell_type": "code",
      "execution_count": 31,
      "metadata": {
        "id": "RkBPmhkdQ31J",
        "colab": {
          "base_uri": "https://localhost:8080/"
        },
        "outputId": "261986e7-82e6-4a65-c95b-bffd48e91e9a"
      },
      "outputs": [
        {
          "output_type": "execute_result",
          "data": {
            "text/plain": [
              "0.9993293"
            ]
          },
          "metadata": {},
          "execution_count": 31
        }
      ],
      "source": [
        "import keras\n",
        "#import keras_metrics\n",
        "\n",
        "r = tf.keras.metrics.Recall()#thresholds=rr.min())\n",
        "r.update_state(y_test,rr )\n",
        "r.result().numpy()\n"
      ]
    },
    {
      "cell_type": "code",
      "execution_count": 32,
      "metadata": {
        "id": "cFiQ5wINQ-19",
        "colab": {
          "base_uri": "https://localhost:8080/"
        },
        "outputId": "f913f4ed-7d6f-4a32-891c-331b57d34e07"
      },
      "outputs": [
        {
          "output_type": "execute_result",
          "data": {
            "text/plain": [
              "0.8164384"
            ]
          },
          "metadata": {},
          "execution_count": 32
        }
      ],
      "source": [
        "p=tf.keras.metrics.Precision()#thresholds=rr.min())\n",
        "p.update_state(y_test,rr )\n",
        "p.result().numpy()"
      ]
    },
    {
      "cell_type": "code",
      "source": [
        "from sklearn.datasets import make_classification\n",
        "from sklearn.linear_model import LogisticRegression\n",
        "from sklearn.model_selection import train_test_split\n",
        "from matplotlib import pyplot\n",
        "from sklearn.metrics import roc_auc_score\n",
        "from sklearn.metrics import roc_curve\n",
        "\n",
        "\n",
        "\n",
        "yhat = discriminator.predict_on_batch(X_test_real)\n",
        "pos_probs = yhat[:, :]\n",
        "pyplot.plot([0, 1], [0, 1], linestyle='--')\n",
        "fpr, tpr, _ = roc_curve(y_test, pos_probs)\n",
        "pyplot.plot(fpr, tpr, marker='.', label='GAN')\n",
        "pyplot.xlabel('False Positive Rate')\n",
        "pyplot.ylabel('True Positive Rate')\n",
        "pyplot.legend()\n",
        "pyplot.show()\n",
        "\n",
        "roc_auc = roc_auc_score(y_test, pos_probs)\n",
        "print('\\n','Logistic ROC AUC %.3f' % roc_auc)"
      ],
      "metadata": {
        "id": "DgscwWtSnM_e",
        "colab": {
          "base_uri": "https://localhost:8080/",
          "height": 316
        },
        "outputId": "ca654740-b49f-44dd-f2ff-0893135ba28a"
      },
      "execution_count": 33,
      "outputs": [
        {
          "output_type": "display_data",
          "data": {
            "image/png": "[encoded data removed]",
            "text/plain": [
              "<Figure size 432x288 with 1 Axes>"
            ]
          },
          "metadata": {
            "needs_background": "light"
          }
        },
        {
          "output_type": "stream",
          "name": "stdout",
          "text": [
            "\n",
            " Logistic ROC AUC 0.967\n"
          ]
        }
      ]
    },
    {
      "cell_type": "code",
      "source": [
        "import keras\n",
        "#import keras_metrics\n",
        "\n",
        "r = tf.keras.metrics.BinaryAccuracy()#thresholds=rr.min())\n",
        "r.update_state(y_test,rr )\n",
        "r.result().numpy()\n"
      ],
      "metadata": {
        "colab": {
          "base_uri": "https://localhost:8080/"
        },
        "id": "NBjY9yaGumll",
        "outputId": "0b916498-e0a0-4209-e195-6c75102f0cbc"
      },
      "execution_count": 34,
      "outputs": [
        {
          "output_type": "execute_result",
          "data": {
            "text/plain": [
              "0.83051705"
            ]
          },
          "metadata": {},
          "execution_count": 34
        }
      ]
    }
  ],
  "metadata": {
    "accelerator": "GPU",
    "colab": {
      "collapsed_sections": [],
      "name": "10.4Sam_TGan.ipynb",
      "provenance": [],
      "include_colab_link": true
    },
    "kernelspec": {
      "display_name": "Python 3",
      "name": "python3"
    },
    "language_info": {
      "name": "python"
    }
  },
  "nbformat": 4,
  "nbformat_minor": 0
}