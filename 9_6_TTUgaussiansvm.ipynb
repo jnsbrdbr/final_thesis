{
  "nbformat": 4,
  "nbformat_minor": 0,
  "metadata": {
    "colab": {
      "name": "9.6/TTUgaussiansvm.ipynb",
      "provenance": [],
      "authorship_tag": "ABX9TyOtxS112cOOUuwNsTyZEtSp",
      "include_colab_link": true
    },
    "kernelspec": {
      "name": "python3",
      "display_name": "Python 3"
    },
    "language_info": {
      "name": "python"
    }
  },
  "cells": [
    {
      "cell_type": "markdown",
      "metadata": {
        "id": "view-in-github",
        "colab_type": "text"
      },
      "source": [
        "<a href=\"https://colab.research.google.com/github/jnsbrdbr/final_thesis/blob/main/9_6_TTUgaussiansvm.ipynb\" target=\"_parent\"><img src=\"https://colab.research.google.com/assets/colab-badge.svg\" alt=\"Open In Colab\"/></a>"
      ]
    },
    {
      "cell_type": "code",
      "execution_count": 1,
      "metadata": {
        "id": "tjbLzBiDCCdd"
      },
      "outputs": [],
      "source": [
        "import numpy as np\n",
        "import pandas as pd\n",
        "import seaborn as sns\n",
        "import matplotlib.pyplot as plt\n",
        "\n",
        "from sklearn.metrics import jaccard_score\n",
        "from scipy.spatial.distance import pdist, squareform"
      ]
    },
    {
      "cell_type": "code",
      "source": [
        "from google.colab import drive\n",
        "drive.mount('/content/drive') "
      ],
      "metadata": {
        "colab": {
          "base_uri": "https://localhost:8080/"
        },
        "id": "jMW6ZH-NNjG6",
        "outputId": "e25e519d-4437-4879-a122-27c6f0cccdc4"
      },
      "execution_count": 2,
      "outputs": [
        {
          "output_type": "stream",
          "name": "stdout",
          "text": [
            "Mounted at /content/drive\n"
          ]
        }
      ]
    },
    {
      "cell_type": "code",
      "source": [
        "!pip3 install pickle5\n",
        "import pickle5 as pickle"
      ],
      "metadata": {
        "colab": {
          "base_uri": "https://localhost:8080/"
        },
        "id": "1ORF3K52Nq1f",
        "outputId": "89385a1a-e311-46f3-9eff-5759197e8177"
      },
      "execution_count": 3,
      "outputs": [
        {
          "output_type": "stream",
          "name": "stdout",
          "text": [
            "Collecting pickle5\n",
            "  Downloading pickle5-0.0.12-cp37-cp37m-manylinux_2_5_x86_64.manylinux1_x86_64.whl (256 kB)\n",
            "\u001b[?25l\r\u001b[K     |█▎                              | 10 kB 16.0 MB/s eta 0:00:01\r\u001b[K     |██▋                             | 20 kB 20.7 MB/s eta 0:00:01\r\u001b[K     |███▉                            | 30 kB 26.2 MB/s eta 0:00:01\r\u001b[K     |█████▏                          | 40 kB 27.4 MB/s eta 0:00:01\r\u001b[K     |██████▍                         | 51 kB 18.0 MB/s eta 0:00:01\r\u001b[K     |███████▊                        | 61 kB 20.7 MB/s eta 0:00:01\r\u001b[K     |█████████                       | 71 kB 15.6 MB/s eta 0:00:01\r\u001b[K     |██████████▎                     | 81 kB 14.2 MB/s eta 0:00:01\r\u001b[K     |███████████▌                    | 92 kB 15.5 MB/s eta 0:00:01\r\u001b[K     |████████████▉                   | 102 kB 15.9 MB/s eta 0:00:01\r\u001b[K     |██████████████                  | 112 kB 15.9 MB/s eta 0:00:01\r\u001b[K     |███████████████▍                | 122 kB 15.9 MB/s eta 0:00:01\r\u001b[K     |████████████████▋               | 133 kB 15.9 MB/s eta 0:00:01\r\u001b[K     |██████████████████              | 143 kB 15.9 MB/s eta 0:00:01\r\u001b[K     |███████████████████▏            | 153 kB 15.9 MB/s eta 0:00:01\r\u001b[K     |████████████████████▌           | 163 kB 15.9 MB/s eta 0:00:01\r\u001b[K     |█████████████████████▊          | 174 kB 15.9 MB/s eta 0:00:01\r\u001b[K     |███████████████████████         | 184 kB 15.9 MB/s eta 0:00:01\r\u001b[K     |████████████████████████▎       | 194 kB 15.9 MB/s eta 0:00:01\r\u001b[K     |█████████████████████████▋      | 204 kB 15.9 MB/s eta 0:00:01\r\u001b[K     |██████████████████████████▉     | 215 kB 15.9 MB/s eta 0:00:01\r\u001b[K     |████████████████████████████▏   | 225 kB 15.9 MB/s eta 0:00:01\r\u001b[K     |█████████████████████████████▍  | 235 kB 15.9 MB/s eta 0:00:01\r\u001b[K     |██████████████████████████████▊ | 245 kB 15.9 MB/s eta 0:00:01\r\u001b[K     |████████████████████████████████| 256 kB 15.9 MB/s eta 0:00:01\r\u001b[K     |████████████████████████████████| 256 kB 15.9 MB/s \n",
            "\u001b[?25hInstalling collected packages: pickle5\n",
            "Successfully installed pickle5-0.0.12\n"
          ]
        }
      ]
    },
    {
      "cell_type": "code",
      "source": [
        "with open('/content/drive/MyDrive/10000/unsmote/TUnsmote_Tresult.pkl', \"rb\") as fh:\n",
        "  result = pickle.load(fh)"
      ],
      "metadata": {
        "id": "mQcj7zNKNtjj"
      },
      "execution_count": 4,
      "outputs": []
    },
    {
      "cell_type": "code",
      "source": [
        "#final data\n",
        "print(result)"
      ],
      "metadata": {
        "colab": {
          "base_uri": "https://localhost:8080/"
        },
        "id": "wmFVzXWlNvY3",
        "outputId": "fb5badf5-814a-4b78-fdfe-13bf22257fc5"
      },
      "execution_count": 5,
      "outputs": [
        {
          "output_type": "stream",
          "name": "stdout",
          "text": [
            "             0         1         2         3         4          5         6  \\\n",
            "0    -0.018442 -4.220618 -0.916300 -0.715505 -0.868530  -1.348268 -0.474432   \n",
            "1    -0.018442 -4.220618 -0.916300 -0.715505 -0.868530  -1.348268 -0.474432   \n",
            "2    -0.018442 -4.220618 -0.916300 -0.715505 -0.868530  -1.348268 -0.474432   \n",
            "3    -0.018442 -4.220618 -0.916300 -0.715505 -0.868530  -1.348268 -0.474432   \n",
            "4    -0.018444 -4.221080 -0.916678 -0.715889 -0.869072  -1.349276 -0.475212   \n",
            "...        ...       ...       ...       ...       ...        ...       ...   \n",
            "9995 -0.264492 -4.771727 -2.334318 -2.416962 -8.513026  15.729413  0.366719   \n",
            "9996 -0.264492 -4.771727 -2.334318 -2.416962 -8.513026  15.729413  0.366719   \n",
            "9997 -0.264492 -4.771727 -2.334318 -2.416962 -8.513026  15.729413  0.366719   \n",
            "9998 -0.264492 -4.771727 -2.334318 -2.416962 -8.513026  15.729413  0.366719   \n",
            "9999 -0.264492 -4.771727 -2.334318 -2.416962 -8.513026  15.729413  0.366719   \n",
            "\n",
            "             7         8         9  ...          1          2          3  \\\n",
            "0    -0.004759 -0.581985 -0.079929  ...   2.287554   0.686930   0.100448   \n",
            "1    -0.004759 -0.581985 -0.079929  ...   2.287554   0.686930   0.100448   \n",
            "2    -0.004759 -0.581985 -0.079929  ...   2.287554   0.686930   0.100448   \n",
            "3    -0.004759 -0.581985 -0.079929  ...   2.287554   0.686930   0.100448   \n",
            "4    -0.004857 -0.583281 -0.080453  ...  16.547190  20.216481  11.292974   \n",
            "...        ...       ...       ...  ...        ...        ...        ...   \n",
            "9995 -0.128471  0.120291 -0.000607  ...   2.275919  -1.123127  -2.167888   \n",
            "9996 -0.128471  0.120291 -0.000607  ...   2.275919  -1.123127  -2.167888   \n",
            "9997 -0.128471  0.120291 -0.000607  ...   2.275919  -1.123127  -2.167888   \n",
            "9998 -0.128471  0.120291 -0.000607  ...   2.275919  -1.123127  -2.167888   \n",
            "9999 -0.128471  0.120291 -0.000607  ...   2.275919  -1.123127  -2.167888   \n",
            "\n",
            "             4         5         6         7         8         9  label  \n",
            "0    -0.062517  0.119028 -0.441208 -0.219285 -0.010241 -0.181514      1  \n",
            "1    -0.062517  0.119028 -0.441208 -0.219285 -0.010241 -0.181514      1  \n",
            "2    -0.062517  0.119028 -0.441208 -0.219285 -0.010241 -0.181514      1  \n",
            "3    -0.062517  0.119028 -0.441208 -0.219285 -0.010241 -0.181514      1  \n",
            "4     4.613619 -3.774325  6.601583  1.746854  0.057121  0.838856      1  \n",
            "...        ...       ...       ...       ...       ...       ...    ...  \n",
            "9995 -2.422360  8.098259  5.690624  0.623426  0.017370  0.231334      1  \n",
            "9996 -2.422360  8.098259  5.690624  0.623426  0.017370  0.231334      1  \n",
            "9997 -2.422360  8.098259  5.690624  0.623426  0.017370  0.231334      1  \n",
            "9998 -2.422360  8.098259  5.690624  0.623426  0.017370  0.231334      1  \n",
            "9999 -2.422360  8.098259  5.690624  0.623426  0.017370  0.231334      1  \n",
            "\n",
            "[10000 rows x 101 columns]\n"
          ]
        }
      ]
    },
    {
      "cell_type": "code",
      "source": [
        "import copy\n",
        "result_nonlabel=copy.deepcopy(result)\n",
        "del result_nonlabel['label']\n",
        "X=result_nonlabel\n",
        "y=result.label"
      ],
      "metadata": {
        "id": "u_zBIzwNN5tE"
      },
      "execution_count": 6,
      "outputs": []
    },
    {
      "cell_type": "code",
      "source": [
        "from sklearn.model_selection import train_test_split\n",
        "x_train, x_test, y_train, y_test = train_test_split(X, y, test_size=0.3,\n",
        "                                                    shuffle=True)"
      ],
      "metadata": {
        "id": "NjqqJyHnN8t9"
      },
      "execution_count": 7,
      "outputs": []
    },
    {
      "cell_type": "code",
      "source": [
        "from sklearn.gaussian_process import GaussianProcessClassifier\n",
        "from sklearn.gaussian_process.kernels import RBF\n",
        "from sklearn import svm\n",
        "\n",
        "k=svm.SVC(kernel=\"rbf\", gamma=0.0001, C=10, probability=True)#\n",
        "gpc = k.fit(x_train, y_train)"
      ],
      "metadata": {
        "id": "i7boPREdN-1l"
      },
      "execution_count": 8,
      "outputs": []
    },
    {
      "cell_type": "code",
      "source": [
        "predictions = gpc.predict(x_test)\n",
        "score = gpc.score(x_test, y_test)\n",
        "print(score)"
      ],
      "metadata": {
        "colab": {
          "base_uri": "https://localhost:8080/"
        },
        "id": "0nLQ18ygOBz1",
        "outputId": "fa35b955-9605-48c3-95f9-dde8ba430ccf"
      },
      "execution_count": 9,
      "outputs": [
        {
          "output_type": "stream",
          "name": "stdout",
          "text": [
            "0.9933333333333333\n"
          ]
        }
      ]
    },
    {
      "cell_type": "code",
      "source": [
        "import matplotlib.pyplot as plt\n",
        "import seaborn as sns\n",
        "from sklearn import metrics\n",
        "\n",
        "\n",
        "\n",
        "confusion_matrix = pd.crosstab(y_test, predictions, rownames=['Actual'], colnames=['Predicted'])\n",
        "sns.heatmap(confusion_matrix, annot=True)\n"
      ],
      "metadata": {
        "colab": {
          "base_uri": "https://localhost:8080/",
          "height": 297
        },
        "id": "Y3Vo9sYOOERO",
        "outputId": "65b93ca2-bdaa-4a9b-9002-06b8fa395f2d"
      },
      "execution_count": 10,
      "outputs": [
        {
          "output_type": "execute_result",
          "data": {
            "text/plain": [
              "<matplotlib.axes._subplots.AxesSubplot at 0x7f6d3d25bd90>"
            ]
          },
          "metadata": {},
          "execution_count": 10
        },
        {
          "output_type": "display_data",
          "data": {
            "image/png": "[encoded data removed]",
            "text/plain": [
              "<Figure size 432x288 with 2 Axes>"
            ]
          },
          "metadata": {
            "needs_background": "light"
          }
        }
      ]
    },
    {
      "cell_type": "code",
      "source": [
        "from sklearn.metrics import confusion_matrix\n",
        "\n",
        "tn, fp, fn, tp = confusion_matrix(y_test, predictions).ravel()\n",
        "print(f'True Positives: {tp}')\n",
        "print(f'False Positives: {fp}')\n",
        "print(f'True Negatives: {tn}')\n",
        "print(f'False Negatives: {fn}')"
      ],
      "metadata": {
        "colab": {
          "base_uri": "https://localhost:8080/"
        },
        "id": "2gXt9oc8OF5B",
        "outputId": "de934207-6002-42fd-fb1f-89657eea2ea5"
      },
      "execution_count": 11,
      "outputs": [
        {
          "output_type": "stream",
          "name": "stdout",
          "text": [
            "True Positives: 2980\n",
            "False Positives: 19\n",
            "True Negatives: 0\n",
            "False Negatives: 1\n"
          ]
        }
      ]
    },
    {
      "cell_type": "code",
      "source": [
        "print('Accuracy: ',metrics.accuracy_score(y_test, predictions))"
      ],
      "metadata": {
        "colab": {
          "base_uri": "https://localhost:8080/"
        },
        "id": "ppy0N96IOK11",
        "outputId": "11a8ea01-80df-4a5b-d4d3-c59c641531b9"
      },
      "execution_count": 12,
      "outputs": [
        {
          "output_type": "stream",
          "name": "stdout",
          "text": [
            "Accuracy:  0.9933333333333333\n"
          ]
        }
      ]
    },
    {
      "cell_type": "code",
      "source": [
        "from numpy import mean\n",
        "from numpy import std\n",
        "from sklearn.model_selection import KFold\n",
        "from sklearn.model_selection import cross_val_score\n",
        "import warnings\n",
        "warnings.filterwarnings('ignore') \n",
        "\n",
        "cv = KFold(n_splits=10, shuffle=True)# x_train, y_train, random_state=42\n",
        "scores = cross_val_score(k,X, y, scoring='accuracy', cv=cv)#,n_jobs=-1\n",
        "\n",
        "print('Accuracy: %.3f (%.3f)' % (mean(scores), std(scores)))"
      ],
      "metadata": {
        "colab": {
          "base_uri": "https://localhost:8080/"
        },
        "id": "JICx42I8ONVa",
        "outputId": "4c6bd156-e9ce-4f1f-8af5-294d0ddc5655"
      },
      "execution_count": 13,
      "outputs": [
        {
          "output_type": "stream",
          "name": "stdout",
          "text": [
            "Accuracy: 0.991 (0.003)\n"
          ]
        }
      ]
    },
    {
      "cell_type": "code",
      "source": [
        "#recall\n",
        "\n",
        "from numpy import mean\n",
        "from numpy import std\n",
        "from sklearn.model_selection import KFold\n",
        "from sklearn.model_selection import cross_val_score,cross_val_predict\n",
        "import warnings\n",
        "warnings.filterwarnings('ignore') \n",
        "\n",
        "cv = KFold(n_splits=10, shuffle=True)#, random_state=42\n",
        "scores_recall = cross_val_score(k,X, y, scoring='recall', cv=cv)#,n_jobs=-1\n",
        "\n",
        "print('scores_recall: %.3f (%.3f)' % (mean(scores_recall), std(scores_recall)))"
      ],
      "metadata": {
        "colab": {
          "base_uri": "https://localhost:8080/"
        },
        "id": "1O_xtPFjPQgY",
        "outputId": "7a2bbac6-4644-4049-be6c-ea8de8e28899"
      },
      "execution_count": 14,
      "outputs": [
        {
          "output_type": "stream",
          "name": "stdout",
          "text": [
            "scores_recall: 1.000 (0.000)\n"
          ]
        }
      ]
    },
    {
      "cell_type": "code",
      "source": [
        "#precision\n",
        "\n",
        "from numpy import mean\n",
        "from numpy import std\n",
        "from sklearn.model_selection import KFold\n",
        "from sklearn.model_selection import cross_val_score\n",
        "import warnings\n",
        "warnings.filterwarnings('ignore') \n",
        "\n",
        "cv = KFold(n_splits=10, shuffle=True)#, random_state=42\n",
        "scores_precision = cross_val_score(k, X, y, scoring='precision', cv=cv)#,n_jobs=-1\n",
        "\n",
        "print('scores_precision: %.3f (%.3f)' % (mean(scores_precision), std(scores_precision)))"
      ],
      "metadata": {
        "colab": {
          "base_uri": "https://localhost:8080/"
        },
        "id": "fbQlptUCPeI-",
        "outputId": "d2a68320-80ba-47c1-bc1f-615ee5a311ae"
      },
      "execution_count": 15,
      "outputs": [
        {
          "output_type": "stream",
          "name": "stdout",
          "text": [
            "scores_precision: 0.991 (0.001)\n"
          ]
        }
      ]
    },
    {
      "cell_type": "code",
      "source": [
        "from sklearn.datasets import make_classification\n",
        "from sklearn.linear_model import LogisticRegression\n",
        "from sklearn.model_selection import train_test_split\n",
        "from matplotlib import pyplot\n",
        "from sklearn.metrics import roc_auc_score\n",
        "from sklearn.metrics import roc_curve\n",
        "\n",
        "\n",
        "k=svm.SVC(kernel=\"rbf\", gamma=0.0001, C=10, probability=True)\n",
        "k.fit(x_train, y_train)\n",
        "yhat = k.predict_proba(x_test)\n",
        "pos_probs = yhat[:, 1]\n",
        "pyplot.plot([0, 1], [0, 1], linestyle='--')\n",
        "fpr, tpr, _ = roc_curve(y_test, pos_probs)\n",
        "pyplot.plot(fpr, tpr, marker='.', label='rbf')\n",
        "pyplot.xlabel('False Positive Rate')\n",
        "pyplot.ylabel('True Positive Rate')\n",
        "pyplot.legend()\n",
        "pyplot.show()\n",
        "\n",
        "roc_auc = roc_auc_score(y_test, pos_probs)\n",
        "print('\\n','Logistic ROC AUC %.3f' % roc_auc)"
      ],
      "metadata": {
        "colab": {
          "base_uri": "https://localhost:8080/",
          "height": 316
        },
        "id": "G1UMm6aiPvzA",
        "outputId": "763804ad-b75c-4d21-8106-e64c45acb01b"
      },
      "execution_count": 16,
      "outputs": [
        {
          "output_type": "display_data",
          "data": {
            "image/png": "[encoded data removed]",
            "text/plain": [
              "<Figure size 432x288 with 1 Axes>"
            ]
          },
          "metadata": {
            "needs_background": "light"
          }
        },
        {
          "output_type": "stream",
          "name": "stdout",
          "text": [
            "\n",
            " Logistic ROC AUC 0.528\n"
          ]
        }
      ]
    },
    {
      "cell_type": "code",
      "source": [
        "#Importing required libraries\n",
        "from sklearn.model_selection import KFold \n",
        "from sklearn.datasets import load_breast_cancer\n",
        "from sklearn.linear_model import LogisticRegression\n",
        "from sklearn.metrics import accuracy_score\n",
        "from sklearn.metrics import confusion_matrix\n",
        " \n",
        "#data = load_breast_cancer(as_frame = True)\n",
        "#df = result.frame\n",
        "#X = result.iloc[:,:-1]\n",
        "#y = result.iloc[:,-1]\n",
        " \n",
        "#Implementing cross validation\n",
        " \n",
        "#X = X.sample(frac = 1)\n",
        "#y= y.sample(frac = 1)\n",
        "kf = KFold(n_splits=10)#, random_state=None\n",
        "model = svm.SVC(kernel=\"rbf\", gamma=0.0001, C=10)\n",
        " \n",
        "acc_score = list()\n",
        "res_tpr = list()\n",
        "res_fpr = list()\n",
        "for train_index , test_index in kf.split(X):\n",
        "    #X_train , X_test = X.iloc[train_index,:],X.iloc[test_index,:]\n",
        "    #y_train , y_test = y[train_index] , y[test_index]\n",
        "    X_train, X_test, y_train, y_test = train_test_split(X, y, test_size=0.3)\n",
        "    model.fit(X_train,y_train)\n",
        "    pred_values = model.predict(X_test)\n",
        "    tn, fp, fn, tp = confusion_matrix(y_test, pred_values, labels=[0, 1]).ravel()\n",
        "    print(f'True Positives: {tp}')\n",
        "    print(f'False Positives: {fp}')\n",
        "    print(f'True Negatives: {tn}')\n",
        "    print(f'False Negatives: {fn}')\n",
        "    tpr=(np.divide(tp,(tp+fn)))\n",
        "    fpr=(np.divide(fp,(fp+tn)))\n",
        "    if tp==0:\n",
        "      tpr=0\n",
        "    if fp==0:\n",
        "      fpr=0\n",
        "\n",
        "    print('fpr=%.3f' % (mean(fpr)))#tpr=%.4f : mean(tpr), \n",
        "    print('x')\n",
        "    res_tpr.append(mean(tpr))\n",
        "    res_fpr.append(mean(fpr))\n",
        "    print('---------------------')\n",
        "\n",
        "    acc = accuracy_score(pred_values , y_test)\n",
        "    acc_score.append(acc)\n",
        "     \n",
        "avg_acc_score = np.sum(acc_score)/10\n",
        "total_tpr=np.sum(res_tpr)/10\n",
        "total_fpr=np.sum(res_fpr)/10\n",
        "print('\\n\\n','total_fpr=%.3f' % (total_fpr))# total_tpr=%.4f :total_tpr,\n"
      ],
      "metadata": {
        "colab": {
          "base_uri": "https://localhost:8080/"
        },
        "id": "OFs9WdPyP0RA",
        "outputId": "ec72f252-878b-490b-9a85-16450e59b967"
      },
      "execution_count": 17,
      "outputs": [
        {
          "output_type": "stream",
          "name": "stdout",
          "text": [
            "True Positives: 2970\n",
            "False Positives: 30\n",
            "True Negatives: 0\n",
            "False Negatives: 0\n",
            "fpr=1.000\n",
            "x\n",
            "---------------------\n",
            "True Positives: 2978\n",
            "False Positives: 22\n",
            "True Negatives: 0\n",
            "False Negatives: 0\n",
            "fpr=1.000\n",
            "x\n",
            "---------------------\n",
            "True Positives: 2970\n",
            "False Positives: 29\n",
            "True Negatives: 0\n",
            "False Negatives: 1\n",
            "fpr=1.000\n",
            "x\n",
            "---------------------\n",
            "True Positives: 2975\n",
            "False Positives: 25\n",
            "True Negatives: 0\n",
            "False Negatives: 0\n",
            "fpr=1.000\n",
            "x\n",
            "---------------------\n",
            "True Positives: 2975\n",
            "False Positives: 25\n",
            "True Negatives: 0\n",
            "False Negatives: 0\n",
            "fpr=1.000\n",
            "x\n",
            "---------------------\n",
            "True Positives: 2973\n",
            "False Positives: 27\n",
            "True Negatives: 0\n",
            "False Negatives: 0\n",
            "fpr=1.000\n",
            "x\n",
            "---------------------\n",
            "True Positives: 2979\n",
            "False Positives: 21\n",
            "True Negatives: 0\n",
            "False Negatives: 0\n",
            "fpr=1.000\n",
            "x\n",
            "---------------------\n",
            "True Positives: 2973\n",
            "False Positives: 26\n",
            "True Negatives: 0\n",
            "False Negatives: 1\n",
            "fpr=1.000\n",
            "x\n",
            "---------------------\n",
            "True Positives: 2967\n",
            "False Positives: 33\n",
            "True Negatives: 0\n",
            "False Negatives: 0\n",
            "fpr=1.000\n",
            "x\n",
            "---------------------\n",
            "True Positives: 2975\n",
            "False Positives: 25\n",
            "True Negatives: 0\n",
            "False Negatives: 0\n",
            "fpr=1.000\n",
            "x\n",
            "---------------------\n",
            "\n",
            "\n",
            " total_fpr=1.000\n"
          ]
        }
      ]
    }
  ]
}