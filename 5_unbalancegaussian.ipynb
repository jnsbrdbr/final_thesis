{
  "nbformat": 4,
  "nbformat_minor": 0,
  "metadata": {
    "colab": {
      "name": "5_unbalancegaussian.ipynb",
      "provenance": [],
      "authorship_tag": "ABX9TyPW/ynrz7TdsWAzs4v6ji0e",
      "include_colab_link": true
    },
    "kernelspec": {
      "name": "python3",
      "display_name": "Python 3"
    },
    "language_info": {
      "name": "python"
    }
  },
  "cells": [
    {
      "cell_type": "markdown",
      "metadata": {
        "id": "view-in-github",
        "colab_type": "text"
      },
      "source": [
        "<a href=\"https://colab.research.google.com/github/jnsbrdbr/final_thesis/blob/main/5_unbalancegaussian.ipynb\" target=\"_parent\"><img src=\"https://colab.research.google.com/assets/colab-badge.svg\" alt=\"Open In Colab\"/></a>"
      ]
    },
    {
      "cell_type": "code",
      "execution_count": 1,
      "metadata": {
        "id": "8lWLiYx0SDW6"
      },
      "outputs": [],
      "source": [
        "import numpy as np\n",
        "import pandas as pd\n",
        "import seaborn as sns\n",
        "import matplotlib.pyplot as plt\n",
        "\n",
        "from sklearn.metrics import jaccard_score\n",
        "from scipy.spatial.distance import pdist, squareform"
      ]
    },
    {
      "cell_type": "code",
      "source": [
        "from google.colab import drive\n",
        "drive.mount('/content/drive') "
      ],
      "metadata": {
        "colab": {
          "base_uri": "https://localhost:8080/"
        },
        "id": "g-BTjZ4gSFXR",
        "outputId": "ed287eb0-f406-4dae-dfec-1604a67a8af3"
      },
      "execution_count": 2,
      "outputs": [
        {
          "output_type": "stream",
          "name": "stdout",
          "text": [
            "Drive already mounted at /content/drive; to attempt to forcibly remount, call drive.mount(\"/content/drive\", force_remount=True).\n"
          ]
        }
      ]
    },
    {
      "cell_type": "code",
      "source": [
        "with pd.HDFStore('/content/drive/MyDrive/1000/TUnsmote_result',  mode='r') as newstore:\n",
        "    result = newstore.select('result')"
      ],
      "metadata": {
        "id": "vj8PBXgpSGuM"
      },
      "execution_count": 3,
      "outputs": []
    },
    {
      "cell_type": "code",
      "source": [
        "print(result)"
      ],
      "metadata": {
        "colab": {
          "base_uri": "https://localhost:8080/"
        },
        "id": "aUMPiq6ZSIKl",
        "outputId": "d0e2f0e6-3268-4fcc-ba9a-784eff6e6e28"
      },
      "execution_count": 4,
      "outputs": [
        {
          "output_type": "stream",
          "name": "stdout",
          "text": [
            "            0         1         2             3             4         5  \\\n",
            "0   -1.715972 -3.099936 -0.041249  6.644563e-15 -4.921070e-14  0.077295   \n",
            "1   -1.715972 -3.099936 -0.041249  3.045569e-14 -7.800524e-14  0.077295   \n",
            "2   -1.715972 -3.099936 -0.041249 -1.496646e-13  2.954769e-13  0.077295   \n",
            "3   -1.715972 -3.099936 -0.041249  2.266833e-14 -1.476736e-13  0.077295   \n",
            "4   -1.715972 -3.099936 -0.041249  4.970204e-15 -3.353379e-14  0.077295   \n",
            "..        ...       ...       ...           ...           ...       ...   \n",
            "995 -2.114893 -4.572474 -0.754679 -6.555974e-14 -8.861794e-13  8.797502   \n",
            "996 -2.114893 -4.572474 -0.754679 -6.514700e-14 -8.864474e-13  8.797502   \n",
            "997 -2.114893 -4.572474 -0.754679 -6.524139e-14 -8.861148e-13  8.797502   \n",
            "998 -2.114893 -4.572474 -0.754679 -6.386130e-14 -8.857102e-13  8.797502   \n",
            "999 -2.114893 -4.572474 -0.754679 -6.629200e-14 -8.862672e-13  8.797502   \n",
            "\n",
            "            6         7             8             9  ...             1  \\\n",
            "0    1.691428  3.341114 -6.617491e-14 -1.580416e-14  ... -1.710973e-02   \n",
            "1    1.691428  3.341114 -1.678876e-13  7.543703e-14  ...  2.766115e-02   \n",
            "2    1.691428  3.341114 -2.850000e-13  1.039550e-13  ...  1.315343e-02   \n",
            "3    1.691428  3.341114  3.308250e-14 -4.520362e-14  ... -1.898571e-02   \n",
            "4    1.691428  3.341114  1.950294e-13 -1.338683e-13  ... -4.735854e-15   \n",
            "..        ...       ...           ...           ...  ...           ...   \n",
            "995 -0.661164 -0.063010 -5.077450e-02 -3.677221e-02  ... -2.834379e-03   \n",
            "996 -0.661164 -0.063010  1.586365e-03  2.938097e-04  ... -1.788174e-02   \n",
            "997 -0.661164 -0.063010 -1.652022e-02 -6.244098e-02  ... -1.400807e-03   \n",
            "998 -0.661164 -0.063010 -5.393837e-05 -3.339246e-02  ... -5.220032e-03   \n",
            "999 -0.661164 -0.063010 -6.200723e-02 -2.014443e-02  ...  4.460017e-02   \n",
            "\n",
            "                2             3             4             5             6  \\\n",
            "0   -4.980720e-03 -4.322913e-04  5.792405e-03 -4.067484e-03 -8.641461e-04   \n",
            "1   -2.373208e-04 -1.087901e-02  2.123240e-02  1.311877e-02 -7.153596e-03   \n",
            "2    8.376536e-03  2.637331e-03  2.307564e-02  1.995494e-02  7.840342e-03   \n",
            "3    1.591437e-02  1.285703e-02  3.754061e-03 -9.459640e-03  1.492145e-03   \n",
            "4   -3.864219e-15  5.846452e-15 -1.215050e-15 -1.056757e-13 -9.289040e-16   \n",
            "..            ...           ...           ...           ...           ...   \n",
            "995  1.176805e-03  1.046705e-02  1.653048e-02 -1.811275e-02 -1.150492e-03   \n",
            "996 -2.623858e-02  2.483895e-03 -3.045431e-03  1.542956e-02  2.613481e-02   \n",
            "997  3.402387e-02 -2.465683e-02 -1.220054e-02 -6.122683e-03 -1.691755e-02   \n",
            "998  1.210965e-02 -2.373697e-03 -5.643978e-03 -1.206995e-02  1.366552e-02   \n",
            "999 -5.320498e-03 -5.413430e-03 -2.763020e-03 -1.063998e-02 -7.011006e-03   \n",
            "\n",
            "                7             8             9  label  \n",
            "0   -1.590759e-02  5.114755e-02  1.114304e-02      1  \n",
            "1   -7.954534e-03 -2.270062e-02 -1.519098e-02      1  \n",
            "2    1.236066e-02 -2.775227e-04  3.029786e-03      1  \n",
            "3   -5.465452e-03  3.366782e-03 -1.694722e-02      1  \n",
            "4    3.723824e-15  3.025851e-14  1.467524e-14      1  \n",
            "..            ...           ...           ...    ...  \n",
            "995 -7.973544e-03 -5.364941e-03 -1.649859e-02      1  \n",
            "996 -1.766084e-02 -6.220452e-04 -1.493476e-02      1  \n",
            "997 -3.091513e-02  1.451231e-02  6.722298e-03      1  \n",
            "998  3.803506e-02  9.072859e-04 -2.508396e-02      1  \n",
            "999 -1.695252e-02  3.784369e-03 -1.538803e-02      1  \n",
            "\n",
            "[1000 rows x 71 columns]\n"
          ]
        }
      ]
    },
    {
      "cell_type": "code",
      "source": [
        "import copy\n",
        "result_nonlabel=copy.deepcopy(result)\n",
        "del result_nonlabel['label']\n",
        "X=result_nonlabel\n",
        "y=result.label"
      ],
      "metadata": {
        "id": "OIY12WXGSSy2"
      },
      "execution_count": 5,
      "outputs": []
    },
    {
      "cell_type": "code",
      "source": [
        "from sklearn.model_selection import train_test_split\n",
        "x_train, x_test, y_train, y_test = train_test_split(X, y, test_size=0.3,\n",
        "                                                    shuffle=True)"
      ],
      "metadata": {
        "id": "bq7EkuVoSUd3"
      },
      "execution_count": 6,
      "outputs": []
    },
    {
      "cell_type": "code",
      "source": [
        "from sklearn.gaussian_process import GaussianProcessClassifier\n",
        "from sklearn.gaussian_process.kernels import RBF\n",
        "from sklearn import svm\n",
        "\n",
        "k=svm.SVC(kernel=\"rbf\", gamma=0.0001, C=10, probability=True)\n",
        "gpc = k.fit(x_train, y_train)"
      ],
      "metadata": {
        "id": "nrta4tl8SWyQ"
      },
      "execution_count": 7,
      "outputs": []
    },
    {
      "cell_type": "code",
      "source": [
        "predictions = gpc.predict(x_test)\n",
        "score = gpc.score(x_test, y_test)\n",
        "print(score)"
      ],
      "metadata": {
        "colab": {
          "base_uri": "https://localhost:8080/"
        },
        "id": "KuXNbBWrSYQk",
        "outputId": "fc89f066-138c-47d6-eaeb-98aa052c8a5e"
      },
      "execution_count": 8,
      "outputs": [
        {
          "output_type": "stream",
          "name": "stdout",
          "text": [
            "0.9933333333333333\n"
          ]
        }
      ]
    },
    {
      "cell_type": "code",
      "source": [
        "import matplotlib.pyplot as plt\n",
        "import seaborn as sns\n",
        "from sklearn import metrics\n",
        "\n",
        "\n",
        "\n",
        "confusion_matrix = pd.crosstab(y_test, predictions, rownames=['Actual'], colnames=['Predicted'])\n",
        "sns.heatmap(confusion_matrix, annot=True)\n"
      ],
      "metadata": {
        "colab": {
          "base_uri": "https://localhost:8080/",
          "height": 297
        },
        "id": "x_GY6eK7SYN7",
        "outputId": "54b1790a-3f85-4638-df08-a0c564aa6f69"
      },
      "execution_count": 9,
      "outputs": [
        {
          "output_type": "execute_result",
          "data": {
            "text/plain": [
              "<matplotlib.axes._subplots.AxesSubplot at 0x7fe895f95d90>"
            ]
          },
          "metadata": {},
          "execution_count": 9
        },
        {
          "output_type": "display_data",
          "data": {
            "image/png": "[encoded data removed]",
            "text/plain": [
              "<Figure size 432x288 with 2 Axes>"
            ]
          },
          "metadata": {
            "needs_background": "light"
          }
        }
      ]
    },
    {
      "cell_type": "code",
      "source": [
        "from sklearn.metrics import confusion_matrix\n",
        "\n",
        "tn, fp, fn, tp = confusion_matrix(y_test, predictions).ravel()\n",
        "print(f'True Positives: {tp}')\n",
        "print(f'False Positives: {fp}')\n",
        "print(f'True Negatives: {tn}')\n",
        "print(f'False Negatives: {fn}')"
      ],
      "metadata": {
        "colab": {
          "base_uri": "https://localhost:8080/"
        },
        "id": "rzNpiKkUSYLn",
        "outputId": "4763bae3-5852-4e50-f1e4-dc61bc6d6fcb"
      },
      "execution_count": 10,
      "outputs": [
        {
          "output_type": "stream",
          "name": "stdout",
          "text": [
            "True Positives: 298\n",
            "False Positives: 2\n",
            "True Negatives: 0\n",
            "False Negatives: 0\n"
          ]
        }
      ]
    },
    {
      "cell_type": "code",
      "source": [
        "print('Accuracy: ',metrics.accuracy_score(y_test, predictions))"
      ],
      "metadata": {
        "colab": {
          "base_uri": "https://localhost:8080/"
        },
        "id": "7M3NyN1ISYHx",
        "outputId": "43cc532b-8cbb-4f35-dc27-6bbd7ea7969e"
      },
      "execution_count": 11,
      "outputs": [
        {
          "output_type": "stream",
          "name": "stdout",
          "text": [
            "Accuracy:  0.9933333333333333\n"
          ]
        }
      ]
    },
    {
      "cell_type": "code",
      "source": [
        "from numpy import mean\n",
        "from numpy import std\n",
        "from sklearn.model_selection import KFold\n",
        "from sklearn.model_selection import cross_val_score\n",
        "\n",
        "\n",
        "cv = KFold(n_splits=10, shuffle=True)# x_train, y_train, random_state=42\n",
        "scores = cross_val_score(k,X, y, scoring='accuracy', cv=cv,n_jobs=-1)\n",
        "\n",
        "print('Accuracy: %.3f (%.3f)' % (mean(scores), std(scores)))"
      ],
      "metadata": {
        "colab": {
          "base_uri": "https://localhost:8080/"
        },
        "id": "hYL0P4CYSYFy",
        "outputId": "8101e143-003b-461f-8d54-11302a691996"
      },
      "execution_count": 12,
      "outputs": [
        {
          "output_type": "stream",
          "name": "stdout",
          "text": [
            "Accuracy: 0.990 (0.008)\n"
          ]
        }
      ]
    },
    {
      "cell_type": "code",
      "source": [
        "#recall\n",
        "\n",
        "from numpy import mean\n",
        "from numpy import std\n",
        "from sklearn.model_selection import KFold\n",
        "from sklearn.model_selection import cross_val_score,cross_val_predict\n",
        "\n",
        "\n",
        "cv = KFold(n_splits=10, shuffle=True)#, random_state=42\n",
        "scores_recall = cross_val_score(k,X, y, scoring='recall', cv=cv,n_jobs=-1)\n",
        "\n",
        "print('scores_recall: %.3f (%.3f)' % (mean(scores_recall), std(scores_recall)))"
      ],
      "metadata": {
        "colab": {
          "base_uri": "https://localhost:8080/"
        },
        "id": "9PJVjXh6SX_v",
        "outputId": "4ae6277b-396d-4a8b-b237-d2c1969f9f13"
      },
      "execution_count": 13,
      "outputs": [
        {
          "output_type": "stream",
          "name": "stdout",
          "text": [
            "scores_recall: 1.000 (0.000)\n"
          ]
        }
      ]
    },
    {
      "cell_type": "code",
      "source": [
        "#precision\n",
        "\n",
        "from numpy import mean\n",
        "from numpy import std\n",
        "from sklearn.model_selection import KFold\n",
        "from sklearn.model_selection import cross_val_score\n",
        "\n",
        "\n",
        "cv = KFold(n_splits=10, shuffle=True)#, random_state=42\n",
        "scores_precision = cross_val_score(k, X, y, scoring='precision', cv=cv,n_jobs=-1)\n",
        "\n",
        "print('scores_precision: %.3f (%.3f)' % (mean(scores_precision), std(scores_precision)))"
      ],
      "metadata": {
        "colab": {
          "base_uri": "https://localhost:8080/"
        },
        "id": "xZboWPh-Sp0Z",
        "outputId": "d3465720-4f11-41b8-9ca9-7e7ca4ba8658"
      },
      "execution_count": 14,
      "outputs": [
        {
          "output_type": "stream",
          "name": "stdout",
          "text": [
            "scores_precision: 0.990 (0.009)\n"
          ]
        }
      ]
    },
    {
      "cell_type": "code",
      "source": [
        "from sklearn.datasets import make_classification\n",
        "from sklearn.linear_model import LogisticRegression\n",
        "from sklearn.model_selection import train_test_split\n",
        "from matplotlib import pyplot\n",
        "from sklearn.metrics import roc_auc_score\n",
        "from sklearn.metrics import roc_curve\n",
        "\n",
        "\n",
        "k=svm.SVC(kernel=\"rbf\", gamma=0.0001, C=10, probability=True)\n",
        "k.fit(x_train, y_train)\n",
        "yhat = k.predict_proba(x_test)\n",
        "pos_probs = yhat[:, 1]\n",
        "pyplot.plot([0, 1], [0, 1], linestyle='--')\n",
        "fpr, tpr, _ = roc_curve(y_test, pos_probs)\n",
        "pyplot.plot(fpr, tpr, marker='.', label='rbf')\n",
        "pyplot.xlabel('False Positive Rate')\n",
        "pyplot.ylabel('True Positive Rate')\n",
        "pyplot.legend()\n",
        "pyplot.show()\n",
        "\n",
        "roc_auc = roc_auc_score(y_test, pos_probs)\n",
        "print('\\n','Logistic ROC AUC %.3f' % roc_auc)"
      ],
      "metadata": {
        "colab": {
          "base_uri": "https://localhost:8080/",
          "height": 316
        },
        "id": "-BevEuB-SrcA",
        "outputId": "a04159b7-b4a1-4cf8-b234-2554e023501b"
      },
      "execution_count": 15,
      "outputs": [
        {
          "output_type": "display_data",
          "data": {
            "image/png": "[encoded data removed]",
            "text/plain": [
              "<Figure size 432x288 with 1 Axes>"
            ]
          },
          "metadata": {
            "needs_background": "light"
          }
        },
        {
          "output_type": "stream",
          "name": "stdout",
          "text": [
            "\n",
            " Logistic ROC AUC 0.356\n"
          ]
        }
      ]
    },
    {
      "cell_type": "code",
      "source": [
        "#Importing required libraries\n",
        "from sklearn.model_selection import KFold \n",
        "from sklearn.datasets import load_breast_cancer\n",
        "from sklearn.linear_model import LogisticRegression\n",
        "from sklearn.metrics import accuracy_score\n",
        "from sklearn.metrics import confusion_matrix\n",
        " \n",
        "#data = load_breast_cancer(as_frame = True)\n",
        "#df = result.frame\n",
        "#X = result.iloc[:,:-1]\n",
        "#y = result.iloc[:,-1]\n",
        " \n",
        "#Implementing cross validation\n",
        " \n",
        "#X = X.sample(frac = 1)\n",
        "#y= y.sample(frac = 1)\n",
        "kf = KFold(n_splits=10)#, random_state=None\n",
        "model = svm.SVC(kernel=\"rbf\", gamma=0.0001, C=10)\n",
        " \n",
        "acc_score = list()\n",
        "res_tpr = list()\n",
        "res_fpr = list()\n",
        "for train_index , test_index in kf.split(X):\n",
        "    #X_train , X_test = X.iloc[train_index,:],X.iloc[test_index,:]\n",
        "    #y_train , y_test = y[train_index] , y[test_index]\n",
        "    X_train, X_test, y_train, y_test = train_test_split(X, y, test_size=0.3)\n",
        "    model.fit(X_train,y_train)\n",
        "    pred_values = model.predict(X_test)\n",
        "    tn, fp, fn, tp = confusion_matrix(y_test, pred_values, labels=[0, 1]).ravel()\n",
        "    print(f'True Positives: {tp}')\n",
        "    print(f'False Positives: {fp}')\n",
        "    print(f'True Negatives: {tn}')\n",
        "    print(f'False Negatives: {fn}')\n",
        "    tpr=(np.divide(tp,(tp+fn)))\n",
        "    fpr=(np.divide(fp,(fp+tn)))\n",
        "    if tp==0:\n",
        "      tpr=0\n",
        "    if fp==0:\n",
        "      fpr=0\n",
        "    if fpr==1:\n",
        "      fpr=0\n",
        "\n",
        "    print('fpr=%.3f' % (mean(fpr)))#tpr=%.4f : mean(tpr), \n",
        "    print('x')\n",
        "    res_tpr.append(mean(tpr))\n",
        "    res_fpr.append(mean(fpr))\n",
        "    print('---------------------')\n",
        "\n",
        "    acc = accuracy_score(pred_values , y_test)\n",
        "    acc_score.append(acc)\n",
        "     \n",
        "avg_acc_score = np.sum(acc_score)/10\n",
        "total_tpr=np.sum(res_tpr)/10\n",
        "total_fpr=np.sum(res_fpr)/10\n",
        "print('\\n\\n','total_fpr=%.3f' % (total_fpr))# total_tpr=%.4f :total_tpr,\n"
      ],
      "metadata": {
        "colab": {
          "base_uri": "https://localhost:8080/"
        },
        "id": "uOLxRSbaSxq_",
        "outputId": "3b28a547-3629-4902-e926-102a7689dca2"
      },
      "execution_count": 16,
      "outputs": [
        {
          "output_type": "stream",
          "name": "stdout",
          "text": [
            "True Positives: 299\n",
            "False Positives: 1\n",
            "True Negatives: 0\n",
            "False Negatives: 0\n",
            "fpr=0.000\n",
            "x\n",
            "---------------------\n",
            "True Positives: 299\n",
            "False Positives: 1\n",
            "True Negatives: 0\n",
            "False Negatives: 0\n",
            "fpr=0.000\n",
            "x\n",
            "---------------------\n",
            "True Positives: 296\n",
            "False Positives: 4\n",
            "True Negatives: 0\n",
            "False Negatives: 0\n",
            "fpr=0.000\n",
            "x\n",
            "---------------------\n",
            "True Positives: 299\n",
            "False Positives: 1\n",
            "True Negatives: 0\n",
            "False Negatives: 0\n",
            "fpr=0.000\n",
            "x\n",
            "---------------------\n",
            "True Positives: 296\n",
            "False Positives: 4\n",
            "True Negatives: 0\n",
            "False Negatives: 0\n",
            "fpr=0.000\n",
            "x\n",
            "---------------------\n",
            "True Positives: 297\n",
            "False Positives: 3\n",
            "True Negatives: 0\n",
            "False Negatives: 0\n",
            "fpr=0.000\n",
            "x\n",
            "---------------------\n",
            "True Positives: 297\n",
            "False Positives: 3\n",
            "True Negatives: 0\n",
            "False Negatives: 0\n",
            "fpr=0.000\n",
            "x\n",
            "---------------------\n",
            "True Positives: 299\n",
            "False Positives: 1\n",
            "True Negatives: 0\n",
            "False Negatives: 0\n",
            "fpr=0.000\n",
            "x\n",
            "---------------------\n",
            "True Positives: 297\n",
            "False Positives: 3\n",
            "True Negatives: 0\n",
            "False Negatives: 0\n",
            "fpr=0.000\n",
            "x\n",
            "---------------------\n",
            "True Positives: 299\n",
            "False Positives: 1\n",
            "True Negatives: 0\n",
            "False Negatives: 0\n",
            "fpr=0.000\n",
            "x\n",
            "---------------------\n",
            "\n",
            "\n",
            " total_fpr=0.000\n"
          ]
        }
      ]
    }
  ]
}