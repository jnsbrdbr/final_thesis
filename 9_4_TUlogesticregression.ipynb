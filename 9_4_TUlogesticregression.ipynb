{
  "nbformat": 4,
  "nbformat_minor": 0,
  "metadata": {
    "colab": {
      "name": "9.4_TUlogesticregression.ipynb",
      "provenance": [],
      "collapsed_sections": [],
      "authorship_tag": "ABX9TyOf0fGX1al3ZhEuXiZ/rZgx",
      "include_colab_link": true
    },
    "kernelspec": {
      "name": "python3",
      "display_name": "Python 3"
    },
    "language_info": {
      "name": "python"
    }
  },
  "cells": [
    {
      "cell_type": "markdown",
      "metadata": {
        "id": "view-in-github",
        "colab_type": "text"
      },
      "source": [
        "<a href=\"https://colab.research.google.com/github/jnsbrdbr/final_thesis/blob/main/9_4_TUlogesticregression.ipynb\" target=\"_parent\"><img src=\"https://colab.research.google.com/assets/colab-badge.svg\" alt=\"Open In Colab\"/></a>"
      ]
    },
    {
      "cell_type": "code",
      "execution_count": 1,
      "metadata": {
        "id": "JokyzoepAlDY"
      },
      "outputs": [],
      "source": [
        "import numpy as np\n",
        "import pandas as pd\n",
        "import seaborn as sns\n",
        "import matplotlib.pyplot as plt\n",
        "\n",
        "from sklearn.metrics import jaccard_score\n",
        "from scipy.spatial.distance import pdist, squareform\n"
      ]
    },
    {
      "cell_type": "code",
      "source": [
        "from google.colab import drive\n",
        "drive.mount('/content/drive') "
      ],
      "metadata": {
        "colab": {
          "base_uri": "https://localhost:8080/"
        },
        "id": "UwMuXNzeAmSy",
        "outputId": "5afd1af7-817d-4615-b21f-7d30f64388e0"
      },
      "execution_count": 2,
      "outputs": [
        {
          "output_type": "stream",
          "name": "stdout",
          "text": [
            "Mounted at /content/drive\n"
          ]
        }
      ]
    },
    {
      "cell_type": "code",
      "source": [
        "!pip3 install pickle5\n",
        "import pickle5 as pickle"
      ],
      "metadata": {
        "colab": {
          "base_uri": "https://localhost:8080/"
        },
        "id": "wMrmR1KAErLA",
        "outputId": "eb1b8cba-98c4-47f0-e566-6668b0dc88ac"
      },
      "execution_count": 3,
      "outputs": [
        {
          "output_type": "stream",
          "name": "stdout",
          "text": [
            "Collecting pickle5\n",
            "  Downloading pickle5-0.0.12-cp37-cp37m-manylinux_2_5_x86_64.manylinux1_x86_64.whl (256 kB)\n",
            "\u001b[?25l\r\u001b[K     |█▎                              | 10 kB 18.2 MB/s eta 0:00:01\r\u001b[K     |██▋                             | 20 kB 24.5 MB/s eta 0:00:01\r\u001b[K     |███▉                            | 30 kB 29.2 MB/s eta 0:00:01\r\u001b[K     |█████▏                          | 40 kB 31.6 MB/s eta 0:00:01\r\u001b[K     |██████▍                         | 51 kB 27.4 MB/s eta 0:00:01\r\u001b[K     |███████▊                        | 61 kB 30.7 MB/s eta 0:00:01\r\u001b[K     |█████████                       | 71 kB 22.7 MB/s eta 0:00:01\r\u001b[K     |██████████▎                     | 81 kB 21.6 MB/s eta 0:00:01\r\u001b[K     |███████████▌                    | 92 kB 23.0 MB/s eta 0:00:01\r\u001b[K     |████████████▉                   | 102 kB 24.7 MB/s eta 0:00:01\r\u001b[K     |██████████████                  | 112 kB 24.7 MB/s eta 0:00:01\r\u001b[K     |███████████████▍                | 122 kB 24.7 MB/s eta 0:00:01\r\u001b[K     |████████████████▋               | 133 kB 24.7 MB/s eta 0:00:01\r\u001b[K     |██████████████████              | 143 kB 24.7 MB/s eta 0:00:01\r\u001b[K     |███████████████████▏            | 153 kB 24.7 MB/s eta 0:00:01\r\u001b[K     |████████████████████▌           | 163 kB 24.7 MB/s eta 0:00:01\r\u001b[K     |█████████████████████▊          | 174 kB 24.7 MB/s eta 0:00:01\r\u001b[K     |███████████████████████         | 184 kB 24.7 MB/s eta 0:00:01\r\u001b[K     |████████████████████████▎       | 194 kB 24.7 MB/s eta 0:00:01\r\u001b[K     |█████████████████████████▋      | 204 kB 24.7 MB/s eta 0:00:01\r\u001b[K     |██████████████████████████▉     | 215 kB 24.7 MB/s eta 0:00:01\r\u001b[K     |████████████████████████████▏   | 225 kB 24.7 MB/s eta 0:00:01\r\u001b[K     |█████████████████████████████▍  | 235 kB 24.7 MB/s eta 0:00:01\r\u001b[K     |██████████████████████████████▊ | 245 kB 24.7 MB/s eta 0:00:01\r\u001b[K     |████████████████████████████████| 256 kB 24.7 MB/s eta 0:00:01\r\u001b[K     |████████████████████████████████| 256 kB 24.7 MB/s \n",
            "\u001b[?25hInstalling collected packages: pickle5\n",
            "Successfully installed pickle5-0.0.12\n"
          ]
        }
      ]
    },
    {
      "cell_type": "code",
      "source": [
        "with open('/content/drive/MyDrive/10000/unsmote/TUnsmote_Tresult.pkl', \"rb\") as fh:\n",
        "  result = pickle.load(fh)"
      ],
      "metadata": {
        "id": "NLzvKriTAvCW"
      },
      "execution_count": 4,
      "outputs": []
    },
    {
      "cell_type": "code",
      "source": [
        "#final data\n",
        "print(result)"
      ],
      "metadata": {
        "colab": {
          "base_uri": "https://localhost:8080/"
        },
        "id": "NNf0Cb4nAu_b",
        "outputId": "b92c26f2-6641-4468-8798-978db3e332b9"
      },
      "execution_count": 5,
      "outputs": [
        {
          "output_type": "stream",
          "name": "stdout",
          "text": [
            "             0         1         2         3         4          5         6  \\\n",
            "0    -0.018442 -4.220618 -0.916300 -0.715505 -0.868530  -1.348268 -0.474432   \n",
            "1    -0.018442 -4.220618 -0.916300 -0.715505 -0.868530  -1.348268 -0.474432   \n",
            "2    -0.018442 -4.220618 -0.916300 -0.715505 -0.868530  -1.348268 -0.474432   \n",
            "3    -0.018442 -4.220618 -0.916300 -0.715505 -0.868530  -1.348268 -0.474432   \n",
            "4    -0.018444 -4.221080 -0.916678 -0.715889 -0.869072  -1.349276 -0.475212   \n",
            "...        ...       ...       ...       ...       ...        ...       ...   \n",
            "9995 -0.264492 -4.771727 -2.334318 -2.416962 -8.513026  15.729413  0.366719   \n",
            "9996 -0.264492 -4.771727 -2.334318 -2.416962 -8.513026  15.729413  0.366719   \n",
            "9997 -0.264492 -4.771727 -2.334318 -2.416962 -8.513026  15.729413  0.366719   \n",
            "9998 -0.264492 -4.771727 -2.334318 -2.416962 -8.513026  15.729413  0.366719   \n",
            "9999 -0.264492 -4.771727 -2.334318 -2.416962 -8.513026  15.729413  0.366719   \n",
            "\n",
            "             7         8         9  ...          1          2          3  \\\n",
            "0    -0.004759 -0.581985 -0.079929  ...   2.287554   0.686930   0.100448   \n",
            "1    -0.004759 -0.581985 -0.079929  ...   2.287554   0.686930   0.100448   \n",
            "2    -0.004759 -0.581985 -0.079929  ...   2.287554   0.686930   0.100448   \n",
            "3    -0.004759 -0.581985 -0.079929  ...   2.287554   0.686930   0.100448   \n",
            "4    -0.004857 -0.583281 -0.080453  ...  16.547190  20.216481  11.292974   \n",
            "...        ...       ...       ...  ...        ...        ...        ...   \n",
            "9995 -0.128471  0.120291 -0.000607  ...   2.275919  -1.123127  -2.167888   \n",
            "9996 -0.128471  0.120291 -0.000607  ...   2.275919  -1.123127  -2.167888   \n",
            "9997 -0.128471  0.120291 -0.000607  ...   2.275919  -1.123127  -2.167888   \n",
            "9998 -0.128471  0.120291 -0.000607  ...   2.275919  -1.123127  -2.167888   \n",
            "9999 -0.128471  0.120291 -0.000607  ...   2.275919  -1.123127  -2.167888   \n",
            "\n",
            "             4         5         6         7         8         9  label  \n",
            "0    -0.062517  0.119028 -0.441208 -0.219285 -0.010241 -0.181514      1  \n",
            "1    -0.062517  0.119028 -0.441208 -0.219285 -0.010241 -0.181514      1  \n",
            "2    -0.062517  0.119028 -0.441208 -0.219285 -0.010241 -0.181514      1  \n",
            "3    -0.062517  0.119028 -0.441208 -0.219285 -0.010241 -0.181514      1  \n",
            "4     4.613619 -3.774325  6.601583  1.746854  0.057121  0.838856      1  \n",
            "...        ...       ...       ...       ...       ...       ...    ...  \n",
            "9995 -2.422360  8.098259  5.690624  0.623426  0.017370  0.231334      1  \n",
            "9996 -2.422360  8.098259  5.690624  0.623426  0.017370  0.231334      1  \n",
            "9997 -2.422360  8.098259  5.690624  0.623426  0.017370  0.231334      1  \n",
            "9998 -2.422360  8.098259  5.690624  0.623426  0.017370  0.231334      1  \n",
            "9999 -2.422360  8.098259  5.690624  0.623426  0.017370  0.231334      1  \n",
            "\n",
            "[10000 rows x 101 columns]\n"
          ]
        }
      ]
    },
    {
      "cell_type": "code",
      "source": [
        "#divide data in to data_label and non_data label\n",
        "\n",
        "import copy\n",
        "result_nonlabel=copy.deepcopy(result)\n",
        "del result_nonlabel['label']\n",
        "X=result_nonlabel\n",
        "y=result.label"
      ],
      "metadata": {
        "id": "c8qrXUrMA69x"
      },
      "execution_count": 6,
      "outputs": []
    },
    {
      "cell_type": "code",
      "source": [
        "#splitting data in to test and train...\n",
        "\n",
        "from sklearn.model_selection import train_test_split\n",
        "x_train, x_test, y_train, y_test = train_test_split(X, y, test_size=0.3,\n",
        "                                                    shuffle=True)#random_state=42"
      ],
      "metadata": {
        "id": "HxR6VekJA9o5"
      },
      "execution_count": 7,
      "outputs": []
    },
    {
      "cell_type": "code",
      "source": [
        "#train the data\n",
        "\n",
        "from sklearn.linear_model import LogisticRegression\n",
        "\n",
        "logisticRegr = LogisticRegression(max_iter=500000)#,solver= 'liblinear'\n",
        "logisticRegr.fit(x_train, y_train)"
      ],
      "metadata": {
        "colab": {
          "base_uri": "https://localhost:8080/"
        },
        "id": "Cso7rjPxBCYs",
        "outputId": "22330165-8193-4065-dd2f-306c945afd4e"
      },
      "execution_count": 8,
      "outputs": [
        {
          "output_type": "execute_result",
          "data": {
            "text/plain": [
              "LogisticRegression(max_iter=500000)"
            ]
          },
          "metadata": {},
          "execution_count": 8
        }
      ]
    },
    {
      "cell_type": "code",
      "source": [
        "#score of data by prediction at once\n",
        "\n",
        "predictions = logisticRegr.predict(x_test)\n",
        "score = logisticRegr.score(x_test, y_test)\n",
        "print(score)"
      ],
      "metadata": {
        "colab": {
          "base_uri": "https://localhost:8080/"
        },
        "id": "TlZKeI5YBG-z",
        "outputId": "ea0f1543-7317-4786-c179-53c70b2459bc"
      },
      "execution_count": 9,
      "outputs": [
        {
          "output_type": "stream",
          "name": "stdout",
          "text": [
            "0.9913333333333333\n"
          ]
        }
      ]
    },
    {
      "cell_type": "code",
      "source": [
        "#plotting confusion_matrix\n",
        "\n",
        "import matplotlib.pyplot as plt\n",
        "import seaborn as sns\n",
        "from sklearn import metrics\n",
        "\n",
        "confusion_matrix = pd.crosstab(y_test, predictions, rownames=['Actual'], colnames=['Predicted'])\n",
        "sns.heatmap(confusion_matrix, annot=True)"
      ],
      "metadata": {
        "colab": {
          "base_uri": "https://localhost:8080/",
          "height": 297
        },
        "id": "61pEJ_lpBTOM",
        "outputId": "0d2767e9-2b20-457a-e0c7-1b9eee6d693f"
      },
      "execution_count": 10,
      "outputs": [
        {
          "output_type": "execute_result",
          "data": {
            "text/plain": [
              "<matplotlib.axes._subplots.AxesSubplot at 0x7f698b964250>"
            ]
          },
          "metadata": {},
          "execution_count": 10
        },
        {
          "output_type": "display_data",
          "data": {
            "image/png": "[encoded data removed]",
            "text/plain": [
              "<Figure size 432x288 with 2 Axes>"
            ]
          },
          "metadata": {
            "needs_background": "light"
          }
        }
      ]
    },
    {
      "cell_type": "code",
      "source": [
        "#Accuracy by prediction in once\n",
        "\n",
        "print('Accuracy: ',metrics.accuracy_score(y_test, predictions))"
      ],
      "metadata": {
        "colab": {
          "base_uri": "https://localhost:8080/"
        },
        "id": "Vyd0g6l6BXNu",
        "outputId": "736ed792-ba4e-4381-97a2-1235dcb0b343"
      },
      "execution_count": 11,
      "outputs": [
        {
          "output_type": "stream",
          "name": "stdout",
          "text": [
            "Accuracy:  0.9913333333333333\n"
          ]
        }
      ]
    },
    {
      "cell_type": "code",
      "source": [
        "from sklearn.metrics import confusion_matrix\n",
        "\n",
        "tn, fp, fn, tp = confusion_matrix(y_test, predictions).ravel()\n",
        "print(f'True Positives: {tp}')\n",
        "print(f'False Positives: {fp}')\n",
        "print(f'True Negatives: {tn}')\n",
        "print(f'False Negatives: {fn}')"
      ],
      "metadata": {
        "colab": {
          "base_uri": "https://localhost:8080/"
        },
        "id": "9dv_L_x8BZPR",
        "outputId": "003fb8a2-0fae-4efe-f508-3e7bbe50caa5"
      },
      "execution_count": 12,
      "outputs": [
        {
          "output_type": "stream",
          "name": "stdout",
          "text": [
            "True Positives: 2974\n",
            "False Positives: 24\n",
            "True Negatives: 0\n",
            "False Negatives: 2\n"
          ]
        }
      ]
    },
    {
      "cell_type": "code",
      "source": [
        "#cross_validation and accuracy\n",
        "\n",
        "from numpy import mean\n",
        "from numpy import std\n",
        "from sklearn.model_selection import KFold\n",
        "from sklearn.model_selection import cross_val_score\n",
        "\n",
        "\n",
        "cv = KFold(n_splits=10,shuffle=True)#, random_state=42,shuffle=True\n",
        "scores = cross_val_score(logisticRegr, X, y, scoring='accuracy', cv=cv)# ,n_jobs=None,n_jobs=-1\n",
        "\n",
        "\n",
        "print('Accuracy: %.3f (%.3f)' % (mean(scores), std(scores)))"
      ],
      "metadata": {
        "id": "hM8m9qeABb7m",
        "colab": {
          "base_uri": "https://localhost:8080/"
        },
        "outputId": "28be145b-5434-4fe9-9ef5-389780135165"
      },
      "execution_count": 13,
      "outputs": [
        {
          "output_type": "stream",
          "name": "stdout",
          "text": [
            "Accuracy: 0.990 (0.004)\n"
          ]
        }
      ]
    },
    {
      "cell_type": "code",
      "source": [
        "#recall\n",
        "\n",
        "from numpy import mean\n",
        "from numpy import std\n",
        "from sklearn.model_selection import KFold\n",
        "from sklearn.model_selection import cross_val_score,cross_val_predict\n",
        "import warnings\n",
        "warnings.filterwarnings('ignore')  # \"error\", \"ignore\", \"always\", \"default\", \"module\" or \"once\"\n",
        "\n",
        "\n",
        "cv = KFold(n_splits=10, shuffle=True)#, random_state=42, shuffle=True\n",
        "scores_recall = cross_val_score(logisticRegr,X, y, scoring='recall', cv=cv)#,n_jobs=-1\n",
        "\n",
        "print('scores_recall: %.3f (%.3f)' % (mean(scores_recall), std(scores_recall)))"
      ],
      "metadata": {
        "id": "JvCfXQt6Bh0R",
        "colab": {
          "base_uri": "https://localhost:8080/"
        },
        "outputId": "437af378-e8e3-4233-828e-09451ad2e1a7"
      },
      "execution_count": 14,
      "outputs": [
        {
          "output_type": "stream",
          "name": "stdout",
          "text": [
            "scores_recall: 0.999 (0.001)\n"
          ]
        }
      ]
    },
    {
      "cell_type": "code",
      "source": [
        "#precision\n",
        "\n",
        "from numpy import mean\n",
        "from numpy import std\n",
        "from sklearn.model_selection import KFold\n",
        "from sklearn.model_selection import cross_val_score\n",
        "import warnings\n",
        "warnings.filterwarnings('ignore')\n",
        "\n",
        "cv = KFold(n_splits=10, shuffle=True)#, random_state=42\n",
        "scores_precision = cross_val_score(logisticRegr, X, y, scoring='precision', cv=cv,pre_dispatch=2)#,n_jobs=-1,pre_dispatch\n",
        "\n",
        "print('scores_precision: %.3f (%.3f)' % (mean(scores_precision), std(scores_precision)))"
      ],
      "metadata": {
        "id": "rA-5PhWdLV6I",
        "colab": {
          "base_uri": "https://localhost:8080/"
        },
        "outputId": "0bc15ab5-72bd-45be-80f1-4fb7f87fb86c"
      },
      "execution_count": 15,
      "outputs": [
        {
          "output_type": "stream",
          "name": "stdout",
          "text": [
            "scores_precision: 0.991 (0.002)\n"
          ]
        }
      ]
    },
    {
      "cell_type": "code",
      "source": [
        "from sklearn.datasets import make_classification\n",
        "from sklearn.linear_model import LogisticRegression\n",
        "from sklearn.model_selection import train_test_split\n",
        "from matplotlib import pyplot\n",
        "from sklearn.metrics import roc_auc_score\n",
        "from sklearn.metrics import roc_curve\n",
        "\n",
        "\n",
        "logisticRegr = LogisticRegression(max_iter=500000)#max_iter=10000,solver= 'liblinear',\n",
        "logisticRegr.fit(x_train, y_train)\n",
        "yhat = logisticRegr.predict_proba(x_test)\n",
        "pos_probs = yhat[:, 1]\n",
        "pyplot.plot([0, 1], [0, 1], linestyle='--')\n",
        "fpr, tpr, _ = roc_curve(y_test, pos_probs)\n",
        "pyplot.plot(fpr, tpr, marker='.', label='logestc_regression')\n",
        "pyplot.xlabel('False Positive Rate')\n",
        "pyplot.ylabel('True Positive Rate')\n",
        "pyplot.legend()\n",
        "pyplot.show()\n",
        "roc_auc = roc_auc_score(y_test, yhat[:, 1])\n",
        "print('\\n','Logistic ROC AUC %.3f' % roc_auc)"
      ],
      "metadata": {
        "id": "7s6t6xNuLciS",
        "colab": {
          "base_uri": "https://localhost:8080/",
          "height": 316
        },
        "outputId": "31d6544e-6e0f-4524-df28-77a5288b7217"
      },
      "execution_count": 16,
      "outputs": [
        {
          "output_type": "display_data",
          "data": {
            "image/png": "[encoded data removed]",
            "text/plain": [
              "<Figure size 432x288 with 1 Axes>"
            ]
          },
          "metadata": {
            "needs_background": "light"
          }
        },
        {
          "output_type": "stream",
          "name": "stdout",
          "text": [
            "\n",
            " Logistic ROC AUC 0.658\n"
          ]
        }
      ]
    },
    {
      "cell_type": "code",
      "source": [
        "#Importing required libraries\n",
        "from sklearn.model_selection import KFold \n",
        "from sklearn.datasets import load_breast_cancer\n",
        "from sklearn.linear_model import LogisticRegression\n",
        "from sklearn.metrics import accuracy_score\n",
        "from sklearn.metrics import confusion_matrix\n",
        " \n",
        " \n",
        "#Implementing cross validation\n",
        " \n",
        "#X = X.sample(frac = 1)\n",
        "#y= y.sample(frac = 1)\n",
        "kf = KFold(n_splits=10)#, random_state=None\n",
        "model = LogisticRegression()#(solver= 'liblinear'),max_iter=1000000\n",
        " \n",
        "acc_score = list()\n",
        "res_tpr = list()\n",
        "res_fpr = list()\n",
        "for train_index , test_index in kf.split(X):\n",
        "    #X_train , X_test = X.iloc[train_index,:],X.iloc[test_index,:]\n",
        "    #y_train , y_test = y[train_index] , y[test_index]\n",
        "    X_train, X_test, y_train, y_test = train_test_split(X, y, test_size=0.3)\n",
        "    model.fit(X_train,y_train)\n",
        "    pred_values = model.predict(X_test)\n",
        "    tn, fp, fn, tp = confusion_matrix(y_test, pred_values, labels=[0, 1]).ravel()\n",
        "    print(f'True Positives: {tp}')\n",
        "    print(f'False Positives: {fp}')\n",
        "    print(f'True Negatives: {tn}')\n",
        "    print(f'False Negatives: {fn}')\n",
        "    tpr=(np.divide(tp,(tp+fn)))\n",
        "    fpr=(np.divide(fp,(fp+tn)))\n",
        "    if tp==0:\n",
        "      tpr=0\n",
        "    if fp==0:\n",
        "      fpr=0\n",
        "\n",
        "    print('tpr=%.4f fpr=%.3f' % ( mean(tpr), mean(fpr)))\n",
        "    print('x')\n",
        "    res_tpr.append(mean(tpr))\n",
        "    res_fpr.append(mean(fpr))\n",
        "    print('---------------------')\n",
        "\n",
        "    acc = accuracy_score(pred_values , y_test)\n",
        "    acc_score.append(acc)\n",
        "     \n",
        "avg_acc_score = np.sum(acc_score)/10\n",
        "total_tpr=np.sum(res_tpr)/10\n",
        "total_fpr=np.sum(res_fpr)/10\n",
        "print('\\n\\n','total_fpr=%.3f' % (total_fpr))#total_tpr=%.4f(total_tpr,)"
      ],
      "metadata": {
        "id": "gQy8o6JOLfyo",
        "colab": {
          "base_uri": "https://localhost:8080/"
        },
        "outputId": "eb3b73a2-a858-42c1-9077-963e5ef65f6f"
      },
      "execution_count": 17,
      "outputs": [
        {
          "output_type": "stream",
          "name": "stdout",
          "text": [
            "True Positives: 2975\n",
            "False Positives: 23\n",
            "True Negatives: 0\n",
            "False Negatives: 2\n",
            "tpr=0.9993 fpr=1.000\n",
            "x\n",
            "---------------------\n",
            "True Positives: 2963\n",
            "False Positives: 28\n",
            "True Negatives: 1\n",
            "False Negatives: 8\n",
            "tpr=0.9973 fpr=0.966\n",
            "x\n",
            "---------------------\n",
            "True Positives: 2967\n",
            "False Positives: 28\n",
            "True Negatives: 0\n",
            "False Negatives: 5\n",
            "tpr=0.9983 fpr=1.000\n",
            "x\n",
            "---------------------\n",
            "True Positives: 2977\n",
            "False Positives: 19\n",
            "True Negatives: 1\n",
            "False Negatives: 3\n",
            "tpr=0.9990 fpr=0.950\n",
            "x\n",
            "---------------------\n",
            "True Positives: 2969\n",
            "False Positives: 26\n",
            "True Negatives: 1\n",
            "False Negatives: 4\n",
            "tpr=0.9987 fpr=0.963\n",
            "x\n",
            "---------------------\n",
            "True Positives: 2970\n",
            "False Positives: 26\n",
            "True Negatives: 0\n",
            "False Negatives: 4\n",
            "tpr=0.9987 fpr=1.000\n",
            "x\n",
            "---------------------\n",
            "True Positives: 2967\n",
            "False Positives: 29\n",
            "True Negatives: 1\n",
            "False Negatives: 3\n",
            "tpr=0.9990 fpr=0.967\n",
            "x\n",
            "---------------------\n",
            "True Positives: 2960\n",
            "False Positives: 38\n",
            "True Negatives: 0\n",
            "False Negatives: 2\n",
            "tpr=0.9993 fpr=1.000\n",
            "x\n",
            "---------------------\n",
            "True Positives: 2963\n",
            "False Positives: 32\n",
            "True Negatives: 0\n",
            "False Negatives: 5\n",
            "tpr=0.9983 fpr=1.000\n",
            "x\n",
            "---------------------\n",
            "True Positives: 2963\n",
            "False Positives: 32\n",
            "True Negatives: 0\n",
            "False Negatives: 5\n",
            "tpr=0.9983 fpr=1.000\n",
            "x\n",
            "---------------------\n",
            "\n",
            "\n",
            " total_fpr=0.985\n"
          ]
        }
      ]
    }
  ]
}