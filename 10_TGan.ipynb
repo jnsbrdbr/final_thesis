{
  "cells": [
    {
      "cell_type": "markdown",
      "metadata": {
        "id": "view-in-github",
        "colab_type": "text"
      },
      "source": [
        "<a href=\"https://colab.research.google.com/github/jnsbrdbr/final_thesis/blob/main/10_TGan.ipynb\" target=\"_parent\"><img src=\"https://colab.research.google.com/assets/colab-badge.svg\" alt=\"Open In Colab\"/></a>"
      ]
    },
    {
      "cell_type": "code",
      "execution_count": 1,
      "metadata": {
        "colab": {
          "base_uri": "https://localhost:8080/"
        },
        "id": "j70DTmCCYMm3",
        "outputId": "70426391-8974-49ce-ec79-4c6dbde84dca"
      },
      "outputs": [
        {
          "output_type": "stream",
          "name": "stdout",
          "text": [
            "`%tensorflow_version` only switches the major version: 1.x or 2.x.\n",
            "You set: `2.x  # Colab only.`. This will be interpreted as: `2.x`.\n",
            "\n",
            "\n",
            "TensorFlow 2.x selected.\n",
            "2.8.0\n"
          ]
        }
      ],
      "source": [
        "# Install TensorFlow\n",
        "# !pip install -q tensorflow-gpu==2.0.0-rc0\n",
        "\n",
        "try:\n",
        "  %tensorflow_version 2.x  # Colab only.\n",
        "except Exception:\n",
        "  pass\n",
        "\n",
        "import tensorflow as tf\n",
        "print(tf.__version__)"
      ]
    },
    {
      "cell_type": "code",
      "execution_count": 2,
      "metadata": {
        "id": "7i01N6ZIYXzE"
      },
      "outputs": [],
      "source": [
        "import keras\n",
        "from keras.layers import Input, Dense, Activation, LeakyReLU, BatchNormalization\n",
        "from keras.models import Sequential\n",
        "from tensorflow.keras.optimizers import Adam\n",
        "from sklearn.model_selection import train_test_split\n",
        "from tensorflow.keras.models import Model\n",
        "import keras.backend as K\n",
        "import numpy as np\n",
        "import pandas as pd\n",
        "import matplotlib.pyplot as plt\n",
        "import sys, os\n",
        "\n",
        "%matplotlib inline"
      ]
    },
    {
      "cell_type": "code",
      "execution_count": 3,
      "metadata": {
        "colab": {
          "base_uri": "https://localhost:8080/"
        },
        "id": "ThkdPVsmYauJ",
        "outputId": "feba8697-1bc1-43af-b335-4b7b8d24c97c"
      },
      "outputs": [
        {
          "output_type": "stream",
          "name": "stdout",
          "text": [
            "Mounted at /content/drive\n"
          ]
        }
      ],
      "source": [
        "from google.colab import drive\n",
        "drive.mount('/content/drive') "
      ]
    },
    {
      "cell_type": "code",
      "execution_count": 4,
      "metadata": {
        "colab": {
          "base_uri": "https://localhost:8080/"
        },
        "id": "5hfNf56TYyWQ",
        "outputId": "09f58b04-c165-4fde-dac1-2130abf6b02b"
      },
      "outputs": [
        {
          "output_type": "stream",
          "name": "stdout",
          "text": [
            "Collecting pickle5\n",
            "  Downloading pickle5-0.0.12-cp37-cp37m-manylinux_2_5_x86_64.manylinux1_x86_64.whl (256 kB)\n",
            "\u001b[?25l\r\u001b[K     |█▎                              | 10 kB 8.2 MB/s eta 0:00:01\r\u001b[K     |██▋                             | 20 kB 11.7 MB/s eta 0:00:01\r\u001b[K     |███▉                            | 30 kB 14.4 MB/s eta 0:00:01\r\u001b[K     |█████▏                          | 40 kB 15.1 MB/s eta 0:00:01\r\u001b[K     |██████▍                         | 51 kB 13.8 MB/s eta 0:00:01\r\u001b[K     |███████▊                        | 61 kB 15.9 MB/s eta 0:00:01\r\u001b[K     |█████████                       | 71 kB 12.3 MB/s eta 0:00:01\r\u001b[K     |██████████▎                     | 81 kB 11.1 MB/s eta 0:00:01\r\u001b[K     |███████████▌                    | 92 kB 12.2 MB/s eta 0:00:01\r\u001b[K     |████████████▉                   | 102 kB 13.2 MB/s eta 0:00:01\r\u001b[K     |██████████████                  | 112 kB 13.2 MB/s eta 0:00:01\r\u001b[K     |███████████████▍                | 122 kB 13.2 MB/s eta 0:00:01\r\u001b[K     |████████████████▋               | 133 kB 13.2 MB/s eta 0:00:01\r\u001b[K     |██████████████████              | 143 kB 13.2 MB/s eta 0:00:01\r\u001b[K     |███████████████████▏            | 153 kB 13.2 MB/s eta 0:00:01\r\u001b[K     |████████████████████▌           | 163 kB 13.2 MB/s eta 0:00:01\r\u001b[K     |█████████████████████▊          | 174 kB 13.2 MB/s eta 0:00:01\r\u001b[K     |███████████████████████         | 184 kB 13.2 MB/s eta 0:00:01\r\u001b[K     |████████████████████████▎       | 194 kB 13.2 MB/s eta 0:00:01\r\u001b[K     |█████████████████████████▋      | 204 kB 13.2 MB/s eta 0:00:01\r\u001b[K     |██████████████████████████▉     | 215 kB 13.2 MB/s eta 0:00:01\r\u001b[K     |████████████████████████████▏   | 225 kB 13.2 MB/s eta 0:00:01\r\u001b[K     |█████████████████████████████▍  | 235 kB 13.2 MB/s eta 0:00:01\r\u001b[K     |██████████████████████████████▊ | 245 kB 13.2 MB/s eta 0:00:01\r\u001b[K     |████████████████████████████████| 256 kB 13.2 MB/s eta 0:00:01\r\u001b[K     |████████████████████████████████| 256 kB 13.2 MB/s \n",
            "\u001b[?25hInstalling collected packages: pickle5\n",
            "Successfully installed pickle5-0.0.12\n"
          ]
        }
      ],
      "source": [
        "!pip3 install pickle5\n",
        "import pickle5 as pickle"
      ]
    },
    {
      "cell_type": "code",
      "execution_count": 5,
      "metadata": {
        "id": "Z2blfCcpYkug"
      },
      "outputs": [],
      "source": [
        "with open('/content/drive/MyDrive/10000/Tresult.pkl', \"rb\") as fh:\n",
        "  result = pickle.load(fh)"
      ]
    },
    {
      "cell_type": "code",
      "execution_count": 6,
      "metadata": {
        "id": "m0lk-Uz1Y2yl",
        "colab": {
          "base_uri": "https://localhost:8080/"
        },
        "outputId": "50916aba-7a23-4578-dd3d-f1d84b89903b"
      },
      "outputs": [
        {
          "output_type": "stream",
          "name": "stdout",
          "text": [
            "               0         1         2         3         4         5         6  \\\n",
            "0      -2.178515 -3.260148 -0.698552 -1.030417 -0.723180 -1.027433 -0.405889   \n",
            "1      -2.178515 -3.260148 -0.698552 -1.030417 -0.723180 -1.027433 -0.405889   \n",
            "2      -2.178515 -3.260148 -0.698552 -1.030417 -0.723180 -1.027433 -0.405889   \n",
            "3      -2.178515 -3.260148 -0.698552 -1.030417 -0.723180 -1.027433 -0.405889   \n",
            "4      -2.178710 -3.260547 -0.698874 -1.030967 -0.723695 -1.028303 -0.406622   \n",
            "...          ...       ...       ...       ...       ...       ...       ...   \n",
            "13209  -2.178515 -3.260148 -0.698552 -1.030417 -0.723180 -1.027433 -0.405889   \n",
            "13210  -2.178515 -3.260148 -0.698552 -1.030417 -0.723180 -1.027433 -0.405889   \n",
            "13211  -2.178515 -3.260148 -0.698552 -1.030417 -0.723180 -1.027433 -0.405889   \n",
            "13212  -2.178515 -3.260148 -0.698552 -1.030417 -0.723180 -1.027433 -0.405889   \n",
            "13213  27.606119  6.905609  0.154864  0.191890  0.097248  0.114301  0.021144   \n",
            "\n",
            "              7         8         9  ...          1         2         3  \\\n",
            "0     -0.059185 -0.526790 -0.190040  ...   0.452139 -1.203407 -0.183899   \n",
            "1     -0.059185 -0.526790 -0.190040  ...   0.452139 -1.203407 -0.183899   \n",
            "2     -0.059185 -0.526790 -0.190040  ...   0.452139 -1.203407 -0.183899   \n",
            "3     -0.059185 -0.526790 -0.190040  ...   0.452139 -1.203407 -0.183899   \n",
            "4     -0.059394 -0.528048 -0.191038  ...  -7.508892  7.994602  0.226101   \n",
            "...         ...       ...       ...  ...        ...       ...       ...   \n",
            "13209 -0.059185 -0.526790 -0.190040  ...   1.554089 -4.346298  9.404540   \n",
            "13210 -0.059185 -0.526790 -0.190040  ...   0.599942 -1.505019 -0.218230   \n",
            "13211 -0.059185 -0.526790 -0.190040  ...  -8.533632  9.178701  0.278730   \n",
            "13212 -0.059185 -0.526790 -0.190040  ...  -8.533631  9.178698  0.278730   \n",
            "13213  0.002302  0.020160  0.004991  ... -11.890588  4.271539  0.100003   \n",
            "\n",
            "              4         5         6         7         8         9  label  \n",
            "0     -0.438911 -0.266164 -0.544673 -0.224884 -0.068575 -0.230930      1  \n",
            "1     -0.438911 -0.266164 -0.544673 -0.224884 -0.068575 -0.230930      1  \n",
            "2     -0.438911 -0.266164 -0.544673 -0.224884 -0.068575 -0.230930      1  \n",
            "3     -0.438911 -0.266164 -0.544673 -0.224884 -0.068575 -0.230930      1  \n",
            "4      0.991238  0.482262  0.829106  0.246306  0.048557  0.160622      1  \n",
            "...         ...       ...       ...       ...       ...       ...    ...  \n",
            "13209  4.676083  1.038614  1.272721  0.249463  0.046943  0.150109      0  \n",
            "13210 -0.586787 -0.370000 -0.787776 -0.380601 -0.129873 -0.451315      0  \n",
            "13211  1.177091  0.579516  1.007372  0.308708  0.063843  0.211098      0  \n",
            "13212  1.177090  0.579515  1.007370  0.308707  0.063843  0.211097      0  \n",
            "13213  0.324583  0.150424  0.249943  0.068055  0.013998  0.046459      0  \n",
            "\n",
            "[13214 rows x 101 columns]\n"
          ]
        }
      ],
      "source": [
        "#final data\n",
        "print(result)"
      ]
    },
    {
      "cell_type": "code",
      "execution_count": 7,
      "metadata": {
        "id": "QKmLf4jlY6LZ"
      },
      "outputs": [],
      "source": [
        "#divide data in to data_label and non_data label\n",
        "\n",
        "import copy\n",
        "result_nonlabel=copy.deepcopy(result)\n",
        "del result_nonlabel['label']\n",
        "X=result_nonlabel\n",
        "y=result.label"
      ]
    },
    {
      "cell_type": "code",
      "execution_count": 8,
      "metadata": {
        "id": "XqPz3htaY8ZG"
      },
      "outputs": [],
      "source": [
        "#splitting data in to test and train...\n",
        "\n",
        "from sklearn.model_selection import train_test_split\n",
        "X_train, X_test, y_train, y_test = train_test_split(X, y ,test_size=0.3,shuffle=True)#random_state=42,"
      ]
    },
    {
      "cell_type": "code",
      "execution_count": 9,
      "metadata": {
        "id": "vmtUmOHcY-ZD",
        "colab": {
          "base_uri": "https://localhost:8080/"
        },
        "outputId": "9936563c-127d-4b41-f481-b0bf52705447"
      },
      "outputs": [
        {
          "output_type": "stream",
          "name": "stdout",
          "text": [
            "shape of x_train is: (9249, 100)\n",
            "shape of x_test is: (3965, 100)\n"
          ]
        }
      ],
      "source": [
        "print('shape of x_train is:',X_train.shape)\n",
        "print('shape of x_test is:',X_test.shape)"
      ]
    },
    {
      "cell_type": "code",
      "execution_count": 10,
      "metadata": {
        "id": "4l1ZAOeBZGSw"
      },
      "outputs": [],
      "source": [
        "def make_latent_samples(n_samples, sample_size):\n",
        "    #return np.random.uniform(-1, 1, size=(n_samples, sample_size))\n",
        "    return np.random.normal(loc=0, scale=1, size=(n_samples, sample_size))"
      ]
    },
    {
      "cell_type": "code",
      "execution_count": 11,
      "metadata": {
        "id": "ekh00To4ZHnF",
        "colab": {
          "base_uri": "https://localhost:8080/"
        },
        "outputId": "5488d707-1777-4fc6-aec3-22210df53b45"
      },
      "outputs": [
        {
          "output_type": "execute_result",
          "data": {
            "text/plain": [
              "array([[-0.65003981, -0.30945836,  0.29472699,  1.94144284, -0.49775997,\n",
              "         1.05396519,  0.6048613 , -0.35782074,  2.16797835,  0.47840799,\n",
              "         0.60889958, -0.34169356, -0.56986445, -0.01670234,  0.38713914,\n",
              "        -0.89892519, -2.26516813,  0.02996119,  0.74587511, -1.67846299,\n",
              "         0.36335938,  0.08181677, -1.42160447, -0.08329756,  0.02564879,\n",
              "         0.51645771,  0.90155019, -1.60958357,  0.75285112, -1.43675976,\n",
              "        -1.35337106,  1.14333561, -0.67927816, -0.17022213, -0.67669169,\n",
              "        -0.33558046,  0.25759354,  0.7072464 ,  0.74367456,  1.47896783,\n",
              "         0.25258028,  1.18780947, -0.27228898, -0.91200216,  0.89295826,\n",
              "        -1.39854464, -1.1450266 , -0.46016574,  0.85881881, -0.88630623,\n",
              "         0.61681976, -0.16748309,  0.59535563, -1.1622491 , -0.10313304,\n",
              "        -0.41388085, -1.68453543,  0.64062382, -0.66556432, -1.46808861,\n",
              "         1.66089586, -0.9037443 ,  0.04928967, -0.09012583, -0.86915964,\n",
              "        -0.33764172, -0.27548704,  1.48236296, -1.8092745 , -0.2558328 ,\n",
              "        -0.03111727,  0.65315195, -0.0813709 , -0.07351228,  0.62193082,\n",
              "         0.89675174, -0.58831227, -1.46563069, -0.25483167,  0.41332713,\n",
              "         1.17941243,  1.15218378, -0.62757818,  0.0550881 ,  1.16830103,\n",
              "        -1.37874184,  0.3438309 , -2.2679241 , -1.43062004,  1.65673513,\n",
              "        -0.05366383, -0.11575368, -0.58773578, -0.62810156,  0.18504027,\n",
              "        -0.58759703, -1.14206354,  2.10241736,  1.35375221,  1.01054222]])"
            ]
          },
          "metadata": {},
          "execution_count": 11
        }
      ],
      "source": [
        "make_latent_samples(1, 100) # generates one sample"
      ]
    },
    {
      "cell_type": "code",
      "execution_count": 12,
      "metadata": {
        "id": "6WhpSDsvthq9",
        "colab": {
          "base_uri": "https://localhost:8080/"
        },
        "outputId": "a05f6bfe-6bd7-4006-9953-70c3a9d16c3e"
      },
      "outputs": [
        {
          "output_type": "stream",
          "name": "stdout",
          "text": [
            "Model: \"generator\"\n",
            "_________________________________________________________________\n",
            " Layer (type)                Output Shape              Param #   \n",
            "=================================================================\n",
            " dense (Dense)               (None, 128)               12928     \n",
            "                                                                 \n",
            " leaky_re_lu (LeakyReLU)     (None, 128)               0         \n",
            "                                                                 \n",
            " batch_normalization (BatchN  (None, 128)              512       \n",
            " ormalization)                                                   \n",
            "                                                                 \n",
            " dense_1 (Dense)             (None, 100)               12900     \n",
            "                                                                 \n",
            " activation (Activation)     (None, 100)               0         \n",
            "                                                                 \n",
            "=================================================================\n",
            "Total params: 26,340\n",
            "Trainable params: 26,084\n",
            "Non-trainable params: 256\n",
            "_________________________________________________________________\n"
          ]
        }
      ],
      "source": [
        "generator = Sequential([\n",
        "    Dense(128, input_shape=(100,)),\n",
        "    LeakyReLU(alpha=0.2),\n",
        "    BatchNormalization(momentum=0.7),\n",
        "\n",
        "    #Dense(100),\n",
        "    #LeakyReLU(alpha=0.2),\n",
        "    #BatchNormalization(momentum=0.7),\n",
        "\n",
        "    #Dense(1024),\n",
        "    #LeakyReLU(alpha=0.2),\n",
        "    #BatchNormalization(momentum=0.7),\n",
        "\n",
        "    #Dense(2048),\n",
        "    #LeakyReLU(alpha=0.2),\n",
        "    #BatchNormalization(momentum=0.7),\n",
        "\n",
        "    Dense(100),\n",
        "    Activation('tanh')\n",
        "], name='generator')\n",
        "\n",
        "generator.summary()"
      ]
    },
    {
      "cell_type": "code",
      "execution_count": 13,
      "metadata": {
        "id": "ifDOM8XEtpTu",
        "colab": {
          "base_uri": "https://localhost:8080/"
        },
        "outputId": "9b969c0d-5da0-4ebe-fddf-c766d4c30c2c"
      },
      "outputs": [
        {
          "output_type": "stream",
          "name": "stdout",
          "text": [
            "Model: \"discriminator\"\n",
            "_________________________________________________________________\n",
            " Layer (type)                Output Shape              Param #   \n",
            "=================================================================\n",
            " dense_2 (Dense)             (None, 64)                6464      \n",
            "                                                                 \n",
            " leaky_re_lu_1 (LeakyReLU)   (None, 64)                0         \n",
            "                                                                 \n",
            " dense_3 (Dense)             (None, 32)                2080      \n",
            "                                                                 \n",
            " leaky_re_lu_2 (LeakyReLU)   (None, 32)                0         \n",
            "                                                                 \n",
            " dense_4 (Dense)             (None, 1)                 33        \n",
            "                                                                 \n",
            " activation_1 (Activation)   (None, 1)                 0         \n",
            "                                                                 \n",
            "=================================================================\n",
            "Total params: 8,577\n",
            "Trainable params: 8,577\n",
            "Non-trainable params: 0\n",
            "_________________________________________________________________\n"
          ]
        }
      ],
      "source": [
        "discriminator = Sequential([\n",
        "    Dense(64, input_shape=(100,)),\n",
        "    LeakyReLU(alpha=0.2),\n",
        "    #BatchNormalization(momentum=0.7),\n",
        "\n",
        "    Dense(32),\n",
        "    LeakyReLU(alpha=0.2),\n",
        "    #BatchNormalization(momentum=0.7),\n",
        "\n",
        "    #Dense(128),\n",
        "    #LeakyReLU(alpha=0.2),\n",
        "    #BatchNormalization(momentum=0.7),\n",
        "    #Dense(64),\n",
        "    #LeakyReLU(alpha=0.2),\n",
        "    #BatchNormalization(momentum=0.7),\n",
        "\n",
        "    #Dense(32),\n",
        "    #LeakyReLU(alpha=0.2),\n",
        "    #BatchNormalization(momentum=0.7),\n",
        "\n",
        "    #Dense(16),\n",
        "    #LeakyReLU(alpha=0.2),\n",
        "    #BatchNormalization(momentum=0.7),\n",
        "\n",
        "    Dense(1),\n",
        "    Activation('sigmoid')\n",
        "], name='discriminator')\n",
        "\n",
        "discriminator.summary()"
      ]
    },
    {
      "cell_type": "code",
      "execution_count": 14,
      "metadata": {
        "id": "xBOAGHy9tstz",
        "colab": {
          "base_uri": "https://localhost:8080/"
        },
        "outputId": "a1c02b3a-5a08-4070-d719-595e6182d275"
      },
      "outputs": [
        {
          "output_type": "stream",
          "name": "stdout",
          "text": [
            "Model: \"sequential\"\n",
            "_________________________________________________________________\n",
            " Layer (type)                Output Shape              Param #   \n",
            "=================================================================\n",
            " generator (Sequential)      (None, 100)               26340     \n",
            "                                                                 \n",
            " discriminator (Sequential)  (None, 1)                 8577      \n",
            "                                                                 \n",
            "=================================================================\n",
            "Total params: 34,917\n",
            "Trainable params: 34,661\n",
            "Non-trainable params: 256\n",
            "_________________________________________________________________\n"
          ]
        }
      ],
      "source": [
        "# maintain the same shared weights with the generator and the discriminator.\n",
        "gan = Sequential([\n",
        "    generator,\n",
        "    discriminator\n",
        "])\n",
        "\n",
        "gan.summary()"
      ]
    },
    {
      "cell_type": "code",
      "execution_count": 15,
      "metadata": {
        "id": "Bx2JFuiLtx1E"
      },
      "outputs": [],
      "source": [
        "def make_trainable(model, trainable):\n",
        "    for layer in model.layers:\n",
        "        layer.trainable = trainable"
      ]
    },
    {
      "cell_type": "code",
      "execution_count": 16,
      "metadata": {
        "id": "X4hA_QQFtzxF",
        "colab": {
          "base_uri": "https://localhost:8080/"
        },
        "outputId": "574e0cb2-9ff9-470f-d71f-6ba9fd0141f0"
      },
      "outputs": [
        {
          "output_type": "stream",
          "name": "stdout",
          "text": [
            "Model: \"discriminator\"\n",
            "_________________________________________________________________\n",
            " Layer (type)                Output Shape              Param #   \n",
            "=================================================================\n",
            " dense_2 (Dense)             (None, 64)                6464      \n",
            "                                                                 \n",
            " leaky_re_lu_1 (LeakyReLU)   (None, 64)                0         \n",
            "                                                                 \n",
            " dense_3 (Dense)             (None, 32)                2080      \n",
            "                                                                 \n",
            " leaky_re_lu_2 (LeakyReLU)   (None, 32)                0         \n",
            "                                                                 \n",
            " dense_4 (Dense)             (None, 1)                 33        \n",
            "                                                                 \n",
            " activation_1 (Activation)   (None, 1)                 0         \n",
            "                                                                 \n",
            "=================================================================\n",
            "Total params: 8,577\n",
            "Trainable params: 0\n",
            "Non-trainable params: 8,577\n",
            "_________________________________________________________________\n"
          ]
        }
      ],
      "source": [
        "make_trainable(discriminator, False)\n",
        "discriminator.summary()"
      ]
    },
    {
      "cell_type": "code",
      "execution_count": 17,
      "metadata": {
        "id": "X2qL4BJ6t1Rr",
        "colab": {
          "base_uri": "https://localhost:8080/"
        },
        "outputId": "72d2ead7-c85e-4586-ca4b-54173cab6bec"
      },
      "outputs": [
        {
          "output_type": "stream",
          "name": "stdout",
          "text": [
            "Model: \"discriminator\"\n",
            "_________________________________________________________________\n",
            " Layer (type)                Output Shape              Param #   \n",
            "=================================================================\n",
            " dense_2 (Dense)             (None, 64)                6464      \n",
            "                                                                 \n",
            " leaky_re_lu_1 (LeakyReLU)   (None, 64)                0         \n",
            "                                                                 \n",
            " dense_3 (Dense)             (None, 32)                2080      \n",
            "                                                                 \n",
            " leaky_re_lu_2 (LeakyReLU)   (None, 32)                0         \n",
            "                                                                 \n",
            " dense_4 (Dense)             (None, 1)                 33        \n",
            "                                                                 \n",
            " activation_1 (Activation)   (None, 1)                 0         \n",
            "                                                                 \n",
            "=================================================================\n",
            "Total params: 8,577\n",
            "Trainable params: 8,577\n",
            "Non-trainable params: 0\n",
            "_________________________________________________________________\n"
          ]
        }
      ],
      "source": [
        "make_trainable(discriminator, True)\n",
        "discriminator.summary()"
      ]
    },
    {
      "cell_type": "code",
      "execution_count": 18,
      "metadata": {
        "id": "6AdYzOnguNYG"
      },
      "outputs": [],
      "source": [
        "def make_simple_GAN(sample_size, \n",
        "                    g_hidden_size_1,\n",
        "                    g_hidden_size_2,\n",
        "                    g_hidden_size_3,\n",
        "                    g_hidden_size_4,\n",
        "                    d_hidden_size_1,\n",
        "                    d_hidden_size_2, \n",
        "                    d_hidden_size_3,\n",
        "                    d_hidden_size_4,\n",
        "                    d_hidden_size_5,\n",
        "                    d_hidden_size_6,\n",
        "                    leaky_alpha, \n",
        "                    g_learning_rate,\n",
        "                    d_learning_rate):\n",
        "    K.clear_session()\n",
        "    \n",
        "    generator = Sequential([\n",
        "        Dense(g_hidden_size_1, input_shape=(sample_size,)),\n",
        "        LeakyReLU(alpha=leaky_alpha),\n",
        "        BatchNormalization(momentum=0.7),\n",
        "\n",
        "        #Dense(g_hidden_size_2),\n",
        "        #LeakyReLU(alpha=leaky_alpha),\n",
        "        #BatchNormalization(momentum=0.7),\n",
        "\n",
        "        #Dense(g_hidden_size_3),\n",
        "        #LeakyReLU(alpha=leaky_alpha),\n",
        "        #BatchNormalization(momentum=0.7),\n",
        "\n",
        "        #Dense(g_hidden_size_4),\n",
        "        #LeakyReLU(alpha=leaky_alpha),\n",
        "        #BatchNormalization(momentum=0.7),\n",
        "\n",
        "        Dense(100),        \n",
        "        Activation('tanh')\n",
        "    ], name='generator')    \n",
        "\n",
        "    discriminator = Sequential([\n",
        "        Dense(d_hidden_size_1, input_shape=(100,)),\n",
        "        LeakyReLU(alpha=leaky_alpha),\n",
        "        #BatchNormalization(momentum=0.7),\n",
        "\n",
        "        Dense(d_hidden_size_2),\n",
        "        LeakyReLU(alpha=leaky_alpha),\n",
        "        #BatchNormalization(momentum=0.7),\n",
        "\n",
        "        #Dense(d_hidden_size_3),\n",
        "        #LeakyReLU(alpha=leaky_alpha),\n",
        "        #BatchNormalization(momentum=0.7),\n",
        "\n",
        "        #Dense(d_hidden_size_4),\n",
        "        #LeakyReLU(alpha=leaky_alpha),\n",
        "        #BatchNormalization(momentum=0.7),\n",
        "\n",
        "        #Dense(d_hidden_size_5),\n",
        "        #LeakyReLU(alpha=leaky_alpha),\n",
        "        #BatchNormalization(momentum=0.7),\n",
        "\n",
        "        #Dense(d_hidden_size_6),\n",
        "        #LeakyReLU(alpha=leaky_alpha),\n",
        "        #BatchNormalization(momentum=0.7),\n",
        "\n",
        "        Dense(1),\n",
        "        Activation('sigmoid')\n",
        "    ], name='discriminator')    \n",
        "    \n",
        "    gan = Sequential([\n",
        "        generator,\n",
        "        discriminator\n",
        "    ])\n",
        "    \n",
        "    discriminator.compile(optimizer=Adam(lr=d_learning_rate), loss='binary_crossentropy')\n",
        "    gan.compile(optimizer=Adam(lr=g_learning_rate), loss='binary_crossentropy')\n",
        "    \n",
        "    return gan, generator, discriminator "
      ]
    },
    {
      "cell_type": "code",
      "execution_count": 19,
      "metadata": {
        "id": "mYPaeZWCuQcN"
      },
      "outputs": [],
      "source": [
        "from sklearn import preprocessing\n",
        "def preprocess(x):\n",
        "   x = preprocessing.scale(x)\n",
        "   return x"
      ]
    },
    {
      "cell_type": "code",
      "execution_count": 20,
      "metadata": {
        "id": "ECK1ZNgvuUDE"
      },
      "outputs": [],
      "source": [
        "X_train_real = np.array(preprocess(X_train))\n",
        "X_test_real  = np.array(preprocess(X_test))"
      ]
    },
    {
      "cell_type": "code",
      "execution_count": 21,
      "metadata": {
        "id": "IEehFs-uuWu-"
      },
      "outputs": [],
      "source": [
        "while(False):\n",
        "\n",
        "  def deprocess(x):\n",
        "    x = (x / 2 + 1) * 7454.516836076623\n",
        "    x = np.clip(x, -127.3838709715454, 7454.516836076623)\n",
        "    x = np.uint8(x)\n",
        "    x = x.reshape(-1, 70)\n",
        "    return x"
      ]
    },
    {
      "cell_type": "code",
      "execution_count": 22,
      "metadata": {
        "id": "pkBEmfCuuZVn"
      },
      "outputs": [],
      "source": [
        "def make_labels(size):\n",
        "    return np.ones([size, 1]), np.zeros([size, 1])"
      ]
    },
    {
      "cell_type": "code",
      "execution_count": 23,
      "metadata": {
        "id": "fRn7LdmDub8I",
        "colab": {
          "base_uri": "https://localhost:8080/"
        },
        "outputId": "5d21927c-e7e1-475d-f54e-0d7dbfee17d7"
      },
      "outputs": [
        {
          "output_type": "execute_result",
          "data": {
            "text/plain": [
              "(array([[1.],\n",
              "        [1.],\n",
              "        [1.],\n",
              "        [1.],\n",
              "        [1.],\n",
              "        [1.],\n",
              "        [1.],\n",
              "        [1.],\n",
              "        [1.],\n",
              "        [1.]]), array([[0.],\n",
              "        [0.],\n",
              "        [0.],\n",
              "        [0.],\n",
              "        [0.],\n",
              "        [0.],\n",
              "        [0.],\n",
              "        [0.],\n",
              "        [0.],\n",
              "        [0.]]))"
            ]
          },
          "metadata": {},
          "execution_count": 23
        }
      ],
      "source": [
        "y_real_10, y_fake_10 = make_labels(10)\n",
        "\n",
        "y_real_10, y_fake_10"
      ]
    },
    {
      "cell_type": "code",
      "execution_count": 24,
      "metadata": {
        "id": "lCK87MXyue6-"
      },
      "outputs": [],
      "source": [
        "# hyperparameters\n",
        "sample_size     = 100     # latent sample size (i.e., 100 random numbers)\n",
        "g_hidden_size_1 = 128\n",
        "g_hidden_size_2 = 0\n",
        "g_hidden_size_3 = 0\n",
        "g_hidden_size_4 = 0\n",
        "d_hidden_size_1 = 64\n",
        "d_hidden_size_2 = 32\n",
        "d_hidden_size_3 = 0\n",
        "d_hidden_size_4 = 0\n",
        "d_hidden_size_5 = 0\n",
        "d_hidden_size_6 = 0\n",
        "leaky_alpha     = 0.2\n",
        "g_learning_rate = 0.0001  # learning rate for the generator\n",
        "d_learning_rate = 0.0001   # learning rate for the discriminator\n",
        "epochs          = 100\n",
        "batch_size      = 64      # train batch size\n",
        "eval_size       = 16      # evaluate size\n",
        "smooth          = 0.1\n"
      ]
    },
    {
      "cell_type": "code",
      "execution_count": 25,
      "metadata": {
        "id": "Tuk6T1qqujjW",
        "colab": {
          "base_uri": "https://localhost:8080/"
        },
        "outputId": "19c2482f-abe6-410a-e5c0-98bdd323ab59"
      },
      "outputs": [
        {
          "output_type": "stream",
          "name": "stderr",
          "text": [
            "/usr/local/lib/python3.7/dist-packages/keras/optimizer_v2/adam.py:105: UserWarning: The `lr` argument is deprecated, use `learning_rate` instead.\n",
            "  super(Adam, self).__init__(name, **kwargs)\n"
          ]
        },
        {
          "output_type": "stream",
          "name": "stdout",
          "text": [
            "Epoch:   1/100 Discriminator Loss: 1.3397 Generator Loss: 0.4852 Discriminator acc:0.7845\n",
            "Epoch:   2/100 Discriminator Loss: 1.4596 Generator Loss: 0.4006 Discriminator acc:0.8165\n",
            "Epoch:   3/100 Discriminator Loss: 1.4984 Generator Loss: 0.3735 Discriminator acc:0.8174\n",
            "Epoch:   4/100 Discriminator Loss: 1.5171 Generator Loss: 0.3477 Discriminator acc:0.8469\n",
            "Epoch:   5/100 Discriminator Loss: 1.4812 Generator Loss: 0.3612 Discriminator acc:0.8422\n",
            "Epoch:   6/100 Discriminator Loss: 1.5786 Generator Loss: 0.3297 Discriminator acc:0.8207\n",
            "Epoch:   7/100 Discriminator Loss: 1.7050 Generator Loss: 0.2918 Discriminator acc:0.8597\n",
            "Epoch:   8/100 Discriminator Loss: 1.7129 Generator Loss: 0.3000 Discriminator acc:0.8997\n",
            "Epoch:   9/100 Discriminator Loss: 1.6441 Generator Loss: 0.3037 Discriminator acc:0.8711\n",
            "Epoch:  10/100 Discriminator Loss: 1.6556 Generator Loss: 0.3143 Discriminator acc:0.8763\n",
            "Epoch:  11/100 Discriminator Loss: 1.6742 Generator Loss: 0.3231 Discriminator acc:0.8847\n",
            "Epoch:  12/100 Discriminator Loss: 1.7545 Generator Loss: 0.2990 Discriminator acc:0.8636\n",
            "Epoch:  13/100 Discriminator Loss: 1.7136 Generator Loss: 0.2967 Discriminator acc:0.8650\n",
            "Epoch:  14/100 Discriminator Loss: 1.5918 Generator Loss: 0.3407 Discriminator acc:0.8524\n",
            "Epoch:  15/100 Discriminator Loss: 1.5153 Generator Loss: 0.3643 Discriminator acc:0.8385\n",
            "Epoch:  16/100 Discriminator Loss: 1.5669 Generator Loss: 0.3509 Discriminator acc:0.8459\n",
            "Epoch:  17/100 Discriminator Loss: 1.5821 Generator Loss: 0.3285 Discriminator acc:0.8440\n",
            "Epoch:  18/100 Discriminator Loss: 1.7182 Generator Loss: 0.2996 Discriminator acc:0.8257\n",
            "Epoch:  19/100 Discriminator Loss: 1.5372 Generator Loss: 0.3480 Discriminator acc:0.8491\n",
            "Epoch:  20/100 Discriminator Loss: 1.5435 Generator Loss: 0.3353 Discriminator acc:0.8234\n",
            "Epoch:  21/100 Discriminator Loss: 1.6271 Generator Loss: 0.3250 Discriminator acc:0.8395\n",
            "Epoch:  22/100 Discriminator Loss: 1.5695 Generator Loss: 0.3451 Discriminator acc:0.8246\n",
            "Epoch:  23/100 Discriminator Loss: 1.4793 Generator Loss: 0.3655 Discriminator acc:0.8204\n",
            "Epoch:  24/100 Discriminator Loss: 1.5641 Generator Loss: 0.3554 Discriminator acc:0.8017\n",
            "Epoch:  25/100 Discriminator Loss: 1.4523 Generator Loss: 0.3776 Discriminator acc:0.7927\n",
            "Epoch:  26/100 Discriminator Loss: 1.5348 Generator Loss: 0.3551 Discriminator acc:0.8124\n",
            "Epoch:  27/100 Discriminator Loss: 1.4865 Generator Loss: 0.3843 Discriminator acc:0.7772\n",
            "Epoch:  28/100 Discriminator Loss: 1.5046 Generator Loss: 0.3668 Discriminator acc:0.7813\n",
            "Epoch:  29/100 Discriminator Loss: 1.4304 Generator Loss: 0.3823 Discriminator acc:0.7721\n",
            "Epoch:  30/100 Discriminator Loss: 1.4194 Generator Loss: 0.3738 Discriminator acc:0.7728\n",
            "Epoch:  31/100 Discriminator Loss: 1.4572 Generator Loss: 0.4086 Discriminator acc:0.7418\n",
            "Epoch:  32/100 Discriminator Loss: 1.4142 Generator Loss: 0.4165 Discriminator acc:0.7409\n",
            "Epoch:  33/100 Discriminator Loss: 1.3283 Generator Loss: 0.4224 Discriminator acc:0.7606\n",
            "Epoch:  34/100 Discriminator Loss: 1.3683 Generator Loss: 0.4142 Discriminator acc:0.7416\n",
            "Epoch:  35/100 Discriminator Loss: 1.3331 Generator Loss: 0.4421 Discriminator acc:0.7255\n",
            "Epoch:  36/100 Discriminator Loss: 1.3036 Generator Loss: 0.4625 Discriminator acc:0.7107\n",
            "Epoch:  37/100 Discriminator Loss: 1.2297 Generator Loss: 0.4772 Discriminator acc:0.7435\n",
            "Epoch:  38/100 Discriminator Loss: 1.2951 Generator Loss: 0.4315 Discriminator acc:0.7189\n",
            "Epoch:  39/100 Discriminator Loss: 1.2545 Generator Loss: 0.4680 Discriminator acc:0.6986\n",
            "Epoch:  40/100 Discriminator Loss: 1.2566 Generator Loss: 0.4864 Discriminator acc:0.6901\n",
            "Epoch:  41/100 Discriminator Loss: 1.2450 Generator Loss: 0.4528 Discriminator acc:0.6977\n",
            "Epoch:  42/100 Discriminator Loss: 1.2610 Generator Loss: 0.4892 Discriminator acc:0.6866\n",
            "Epoch:  43/100 Discriminator Loss: 1.2919 Generator Loss: 0.5138 Discriminator acc:0.6842\n",
            "Epoch:  44/100 Discriminator Loss: 1.1819 Generator Loss: 0.5157 Discriminator acc:0.6717\n",
            "Epoch:  45/100 Discriminator Loss: 1.3226 Generator Loss: 0.4763 Discriminator acc:0.6536\n",
            "Epoch:  46/100 Discriminator Loss: 1.3209 Generator Loss: 0.4674 Discriminator acc:0.6668\n",
            "Epoch:  47/100 Discriminator Loss: 1.1838 Generator Loss: 0.5156 Discriminator acc:0.6517\n",
            "Epoch:  48/100 Discriminator Loss: 1.1029 Generator Loss: 0.5491 Discriminator acc:0.6375\n",
            "Epoch:  49/100 Discriminator Loss: 1.1391 Generator Loss: 0.5373 Discriminator acc:0.6476\n",
            "Epoch:  50/100 Discriminator Loss: 1.1834 Generator Loss: 0.5078 Discriminator acc:0.6307\n",
            "Epoch:  51/100 Discriminator Loss: 1.1184 Generator Loss: 0.5813 Discriminator acc:0.6104\n",
            "Epoch:  52/100 Discriminator Loss: 1.0762 Generator Loss: 0.6141 Discriminator acc:0.5962\n",
            "Epoch:  53/100 Discriminator Loss: 1.1035 Generator Loss: 0.5794 Discriminator acc:0.6055\n",
            "Epoch:  54/100 Discriminator Loss: 1.1895 Generator Loss: 0.5441 Discriminator acc:0.5904\n",
            "Epoch:  55/100 Discriminator Loss: 0.9959 Generator Loss: 0.6300 Discriminator acc:0.6320\n",
            "Epoch:  56/100 Discriminator Loss: 1.0890 Generator Loss: 0.5502 Discriminator acc:0.6138\n",
            "Epoch:  57/100 Discriminator Loss: 1.0915 Generator Loss: 0.5623 Discriminator acc:0.6056\n",
            "Epoch:  58/100 Discriminator Loss: 1.1606 Generator Loss: 0.5476 Discriminator acc:0.5995\n",
            "Epoch:  59/100 Discriminator Loss: 1.0767 Generator Loss: 0.5689 Discriminator acc:0.6246\n",
            "Epoch:  60/100 Discriminator Loss: 1.1430 Generator Loss: 0.5783 Discriminator acc:0.5894\n",
            "Epoch:  61/100 Discriminator Loss: 1.0090 Generator Loss: 0.5990 Discriminator acc:0.5911\n",
            "Epoch:  62/100 Discriminator Loss: 1.1197 Generator Loss: 0.5413 Discriminator acc:0.6014\n",
            "Epoch:  63/100 Discriminator Loss: 1.0769 Generator Loss: 0.5971 Discriminator acc:0.5821\n",
            "Epoch:  64/100 Discriminator Loss: 1.0530 Generator Loss: 0.5636 Discriminator acc:0.6041\n",
            "Epoch:  65/100 Discriminator Loss: 1.1090 Generator Loss: 0.5575 Discriminator acc:0.5954\n",
            "Epoch:  66/100 Discriminator Loss: 1.0760 Generator Loss: 0.5549 Discriminator acc:0.6053\n",
            "Epoch:  67/100 Discriminator Loss: 1.0063 Generator Loss: 0.6112 Discriminator acc:0.5932\n",
            "Epoch:  68/100 Discriminator Loss: 1.1378 Generator Loss: 0.5244 Discriminator acc:0.6244\n",
            "Epoch:  69/100 Discriminator Loss: 1.1160 Generator Loss: 0.5721 Discriminator acc:0.6164\n",
            "Epoch:  70/100 Discriminator Loss: 1.0911 Generator Loss: 0.5788 Discriminator acc:0.6259\n",
            "Epoch:  71/100 Discriminator Loss: 1.1839 Generator Loss: 0.5426 Discriminator acc:0.6340\n",
            "Epoch:  72/100 Discriminator Loss: 1.1747 Generator Loss: 0.5187 Discriminator acc:0.6186\n",
            "Epoch:  73/100 Discriminator Loss: 1.0912 Generator Loss: 0.5463 Discriminator acc:0.6149\n",
            "Epoch:  74/100 Discriminator Loss: 1.1107 Generator Loss: 0.6002 Discriminator acc:0.6305\n",
            "Epoch:  75/100 Discriminator Loss: 0.9874 Generator Loss: 0.6601 Discriminator acc:0.6136\n",
            "Epoch:  76/100 Discriminator Loss: 1.0472 Generator Loss: 0.6131 Discriminator acc:0.6143\n",
            "Epoch:  77/100 Discriminator Loss: 1.1132 Generator Loss: 0.5901 Discriminator acc:0.6110\n",
            "Epoch:  78/100 Discriminator Loss: 1.1183 Generator Loss: 0.6008 Discriminator acc:0.5944\n",
            "Epoch:  79/100 Discriminator Loss: 1.0343 Generator Loss: 0.5691 Discriminator acc:0.5977\n",
            "Epoch:  80/100 Discriminator Loss: 1.0961 Generator Loss: 0.6250 Discriminator acc:0.6052\n",
            "Epoch:  81/100 Discriminator Loss: 1.0931 Generator Loss: 0.5866 Discriminator acc:0.6049\n",
            "Epoch:  82/100 Discriminator Loss: 1.1384 Generator Loss: 0.5791 Discriminator acc:0.6052\n",
            "Epoch:  83/100 Discriminator Loss: 0.9952 Generator Loss: 0.5647 Discriminator acc:0.5853\n",
            "Epoch:  84/100 Discriminator Loss: 0.9120 Generator Loss: 0.6170 Discriminator acc:0.6093\n",
            "Epoch:  85/100 Discriminator Loss: 1.0950 Generator Loss: 0.5993 Discriminator acc:0.5990\n",
            "Epoch:  86/100 Discriminator Loss: 1.0825 Generator Loss: 0.5908 Discriminator acc:0.5953\n",
            "Epoch:  87/100 Discriminator Loss: 1.0233 Generator Loss: 0.5729 Discriminator acc:0.5969\n",
            "Epoch:  88/100 Discriminator Loss: 1.0612 Generator Loss: 0.6203 Discriminator acc:0.5910\n",
            "Epoch:  89/100 Discriminator Loss: 1.0330 Generator Loss: 0.6339 Discriminator acc:0.5937\n",
            "Epoch:  90/100 Discriminator Loss: 1.1217 Generator Loss: 0.5824 Discriminator acc:0.5926\n",
            "Epoch:  91/100 Discriminator Loss: 0.8843 Generator Loss: 0.6554 Discriminator acc:0.5752\n",
            "Epoch:  92/100 Discriminator Loss: 1.0012 Generator Loss: 0.6490 Discriminator acc:0.5861\n",
            "Epoch:  93/100 Discriminator Loss: 0.9750 Generator Loss: 0.6247 Discriminator acc:0.5872\n",
            "Epoch:  94/100 Discriminator Loss: 1.0186 Generator Loss: 0.5854 Discriminator acc:0.5755\n",
            "Epoch:  95/100 Discriminator Loss: 0.9157 Generator Loss: 0.6718 Discriminator acc:0.5781\n",
            "Epoch:  96/100 Discriminator Loss: 0.9748 Generator Loss: 0.6584 Discriminator acc:0.5787\n",
            "Epoch:  97/100 Discriminator Loss: 1.1308 Generator Loss: 0.6060 Discriminator acc:0.5609\n",
            "Epoch:  98/100 Discriminator Loss: 0.8758 Generator Loss: 0.7027 Discriminator acc:0.5554\n",
            "Epoch:  99/100 Discriminator Loss: 0.9286 Generator Loss: 0.6873 Discriminator acc:0.5653\n",
            "Epoch: 100/100 Discriminator Loss: 1.0560 Generator Loss: 0.6152 Discriminator acc:0.5603\n"
          ]
        }
      ],
      "source": [
        "## labels for the batch size and the test size\n",
        "y_train_real, y_train_fake = make_labels(batch_size)\n",
        "y_eval_real,  y_eval_fake  = make_labels(eval_size)\n",
        "\n",
        "# create a GAN, a generator and a discriminator\n",
        "gan, generator, discriminator = make_simple_GAN(\n",
        "    sample_size, \n",
        "    g_hidden_size_1, \n",
        "    g_hidden_size_2,\n",
        "    g_hidden_size_3,\n",
        "    g_hidden_size_4, \n",
        "    d_hidden_size_1, \n",
        "    d_hidden_size_2,\n",
        "    d_hidden_size_3,\n",
        "    d_hidden_size_4,\n",
        "    d_hidden_size_5,\n",
        "    d_hidden_size_6,\n",
        "    leaky_alpha, \n",
        "    g_learning_rate,\n",
        "    d_learning_rate)\n",
        "\n",
        "\n",
        "losses = []\n",
        "losses1 = []\n",
        "for e in range(epochs):\n",
        "    for i in range(len(X_train_real)//batch_size):\n",
        "        # real MNIST digit images\n",
        "        X_batch_real = X_train_real[i*batch_size:(i+1)*batch_size]\n",
        "        \n",
        "        # latent samples and the generated digit images\n",
        "        latent_samples = make_latent_samples(batch_size, sample_size)\n",
        "        X_batch_fake = generator.predict_on_batch(latent_samples)\n",
        "        \n",
        "        # train the discriminator to detect real and fake images\n",
        "        make_trainable(discriminator, True)\n",
        "        discriminator.train_on_batch(X_batch_real, y_train_real * (1 - smooth))\n",
        "        discriminator.train_on_batch(X_batch_fake, y_train_fake)\n",
        "\n",
        "        # train the generator via GAN\n",
        "        make_trainable(discriminator, False)\n",
        "        gan.train_on_batch(latent_samples, y_train_real)\n",
        "   # evaluate\n",
        "    X_eval_real = X_test_real[np.random.choice(len(X_test_real), eval_size, replace=False)]\n",
        "    \n",
        "    latent_samples = make_latent_samples(eval_size, sample_size)\n",
        "    X_eval_fake = generator.predict_on_batch(latent_samples)\n",
        "\n",
        "    d_loss  = discriminator.test_on_batch(X_eval_real, y_eval_real)\n",
        "    d_loss += discriminator.test_on_batch(X_eval_fake, y_eval_fake)\n",
        "    g_loss  = gan.test_on_batch(latent_samples, y_eval_real) # we want the fake to be realistic!\n",
        "    \n",
        "    losses.append((d_loss, g_loss))\n",
        "\n",
        "    d_acc_real = discriminator.train_on_batch(X_batch_real, y_train_real * (1 - smooth))\n",
        "    d_acc_fake = discriminator.train_on_batch(X_batch_fake, y_train_fake)\n",
        "    d_acc  = 0.5 * (d_acc_real + d_acc_fake)\n",
        "\n",
        "    #losses1.append(( d_acc))\n",
        "    print(\"Epoch: {:>3}/{} Discriminator Loss: {:>6.4f} Generator Loss: {:>6.4f} Discriminator acc:{:>6.4f}\".format(\n",
        "        e+1, epochs, d_loss, g_loss,d_acc)) #Discriminator acc: {:>6.4f}:,d_acc"
      ]
    },
    {
      "cell_type": "code",
      "execution_count": 26,
      "metadata": {
        "id": "_if6yg9SuoTQ",
        "colab": {
          "base_uri": "https://localhost:8080/",
          "height": 281
        },
        "outputId": "7a74ef13-e5b8-4c03-b4fc-a9dcf7f9a1a2"
      },
      "outputs": [
        {
          "output_type": "display_data",
          "data": {
            "image/png": "[encoded data removed]",
            "text/plain": [
              "<Figure size 432x288 with 1 Axes>"
            ]
          },
          "metadata": {
            "needs_background": "light"
          }
        }
      ],
      "source": [
        "losses = np.array(losses)\n",
        "\n",
        "fig, ax = plt.subplots()\n",
        "plt.plot(losses.T[0], label='Discriminator')\n",
        "plt.plot(losses.T[1], label='Generator')\n",
        "plt.title(\"Training Losses\")\n",
        "plt.legend()\n",
        "plt.show()"
      ]
    },
    {
      "cell_type": "code",
      "execution_count": 27,
      "metadata": {
        "id": "w0je2222Q0Y-"
      },
      "outputs": [],
      "source": [
        "rr = discriminator.predict_on_batch(X_test_real)"
      ]
    },
    {
      "cell_type": "code",
      "execution_count": 28,
      "metadata": {
        "id": "qYZfeRR5Z3Iu",
        "colab": {
          "base_uri": "https://localhost:8080/"
        },
        "outputId": "e71af628-a785-4241-d8ef-3b2fd21f36cf"
      },
      "outputs": [
        {
          "output_type": "execute_result",
          "data": {
            "text/plain": [
              "7677     1\n",
              "12777    0\n",
              "5052     1\n",
              "11436    0\n",
              "2688     1\n",
              "        ..\n",
              "180      1\n",
              "3785     1\n",
              "8930     1\n",
              "6869     1\n",
              "10789    0\n",
              "Name: label, Length: 3965, dtype: int64"
            ]
          },
          "metadata": {},
          "execution_count": 28
        }
      ],
      "source": [
        "y_test"
      ]
    },
    {
      "cell_type": "code",
      "execution_count": 29,
      "metadata": {
        "id": "6GdJtSctZ5jm",
        "colab": {
          "base_uri": "https://localhost:8080/"
        },
        "outputId": "a7365686-b790-40bc-d347-52369a52377c"
      },
      "outputs": [
        {
          "output_type": "execute_result",
          "data": {
            "text/plain": [
              "array([[0.9002612 ],\n",
              "       [0.5683676 ],\n",
              "       [0.90081835],\n",
              "       ...,\n",
              "       [0.8973993 ],\n",
              "       [0.8969132 ],\n",
              "       [0.718343  ]], dtype=float32)"
            ]
          },
          "metadata": {},
          "execution_count": 29
        }
      ],
      "source": [
        "rr"
      ]
    },
    {
      "cell_type": "code",
      "execution_count": 30,
      "metadata": {
        "id": "RkBPmhkdQ31J",
        "colab": {
          "base_uri": "https://localhost:8080/"
        },
        "outputId": "c02862ce-f191-4bd7-fe04-12826f2569f7"
      },
      "outputs": [
        {
          "output_type": "execute_result",
          "data": {
            "text/plain": [
              "0.99900264"
            ]
          },
          "metadata": {},
          "execution_count": 30
        }
      ],
      "source": [
        "import keras\n",
        "#import keras_metrics\n",
        "\n",
        "r = tf.keras.metrics.Recall()#thresholds=rr.min())\n",
        "r.update_state(y_test,rr )\n",
        "r.result().numpy()\n"
      ]
    },
    {
      "cell_type": "code",
      "execution_count": 31,
      "metadata": {
        "id": "cFiQ5wINQ-19",
        "colab": {
          "base_uri": "https://localhost:8080/"
        },
        "outputId": "87a42b53-39e6-44b4-95ec-66f9e3e50ef3"
      },
      "outputs": [
        {
          "output_type": "execute_result",
          "data": {
            "text/plain": [
              "0.8377474"
            ]
          },
          "metadata": {},
          "execution_count": 31
        }
      ],
      "source": [
        "p=tf.keras.metrics.Precision()#thresholds=rr.min())\n",
        "p.update_state(y_test,rr )\n",
        "p.result().numpy()"
      ]
    },
    {
      "cell_type": "code",
      "source": [
        "from sklearn.datasets import make_classification\n",
        "from sklearn.linear_model import LogisticRegression\n",
        "from sklearn.model_selection import train_test_split\n",
        "from matplotlib import pyplot\n",
        "from sklearn.metrics import roc_auc_score\n",
        "from sklearn.metrics import roc_curve\n",
        "\n",
        "\n",
        "\n",
        "yhat = discriminator.predict_on_batch(X_test_real)\n",
        "pos_probs = yhat[:, :]\n",
        "pyplot.plot([0, 1], [0, 1], linestyle='--')\n",
        "fpr, tpr, _ = roc_curve(y_test, pos_probs)\n",
        "pyplot.plot(fpr, tpr, marker='.', label='GAN')\n",
        "pyplot.xlabel('False Positive Rate')\n",
        "pyplot.ylabel('True Positive Rate')\n",
        "pyplot.legend()\n",
        "pyplot.show()\n",
        "\n",
        "roc_auc = roc_auc_score(y_test, pos_probs)\n",
        "print('\\n','Logistic ROC AUC %.3f' % roc_auc)"
      ],
      "metadata": {
        "colab": {
          "base_uri": "https://localhost:8080/",
          "height": 316
        },
        "id": "DgscwWtSnM_e",
        "outputId": "d0dd68da-2be2-4e07-e794-0472e2e7bbb5"
      },
      "execution_count": 34,
      "outputs": [
        {
          "output_type": "display_data",
          "data": {
            "image/png": "[encoded data removed]",
            "text/plain": [
              "<Figure size 432x288 with 1 Axes>"
            ]
          },
          "metadata": {
            "needs_background": "light"
          }
        },
        {
          "output_type": "stream",
          "name": "stdout",
          "text": [
            "\n",
            " Logistic ROC AUC 0.970\n"
          ]
        }
      ]
    }
  ],
  "metadata": {
    "accelerator": "GPU",
    "colab": {
      "collapsed_sections": [],
      "name": "10_TGan.ipynb",
      "provenance": [],
      "authorship_tag": "ABX9TyPOiiHzYe5j7E8QsgrwqR/A",
      "include_colab_link": true
    },
    "kernelspec": {
      "display_name": "Python 3",
      "name": "python3"
    },
    "language_info": {
      "name": "python"
    }
  },
  "nbformat": 4,
  "nbformat_minor": 0
}