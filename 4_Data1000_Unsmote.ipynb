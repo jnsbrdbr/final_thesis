{
  "nbformat": 4,
  "nbformat_minor": 0,
  "metadata": {
    "colab": {
      "name": "4_Unsmote.ipynb",
      "provenance": [],
      "authorship_tag": "ABX9TyPnAvtMBkT8jK7d9sGx6SsX",
      "include_colab_link": true
    },
    "kernelspec": {
      "name": "python3",
      "display_name": "Python 3"
    },
    "language_info": {
      "name": "python"
    }
  },
  "cells": [
    {
      "cell_type": "markdown",
      "metadata": {
        "id": "view-in-github",
        "colab_type": "text"
      },
      "source": [
        "<a href=\"https://colab.research.google.com/github/jnsbrdbr/final_thesis/blob/main/4_Unsmote.ipynb\" target=\"_parent\"><img src=\"https://colab.research.google.com/assets/colab-badge.svg\" alt=\"Open In Colab\"/></a>"
      ]
    },
    {
      "cell_type": "code",
      "execution_count": 1,
      "metadata": {
        "id": "kO5Aju3g407x"
      },
      "outputs": [],
      "source": [
        "import numpy as np\n",
        "import pandas as pd\n",
        "import seaborn as sns\n",
        "import matplotlib.pyplot as plt\n",
        "\n",
        "from sklearn.metrics import jaccard_score\n",
        "from scipy.spatial.distance import pdist, squareform"
      ]
    },
    {
      "cell_type": "code",
      "source": [
        "from google.colab import drive\n",
        "drive.mount('/content/drive')"
      ],
      "metadata": {
        "colab": {
          "base_uri": "https://localhost:8080/"
        },
        "id": "yZURsE6H5lR8",
        "outputId": "0820e641-0ea1-4c9a-9734-fb16605232a2"
      },
      "execution_count": 2,
      "outputs": [
        {
          "output_type": "stream",
          "name": "stdout",
          "text": [
            "Drive already mounted at /content/drive; to attempt to forcibly remount, call drive.mount(\"/content/drive\", force_remount=True).\n"
          ]
        }
      ]
    },
    {
      "cell_type": "code",
      "source": [
        "import pandas as pd\n",
        "store = pd.HDFStore('/content/drive/MyDrive/1000/Tdata.h5')\n",
        "\n",
        "adj=store['adj']\n",
        "store.close()"
      ],
      "metadata": {
        "id": "kvL6VPza5wuD"
      },
      "execution_count": 3,
      "outputs": []
    },
    {
      "cell_type": "code",
      "source": [
        "store = pd.HDFStore('/content/drive/MyDrive/1000/TCFdf.h5')\n",
        "CF=store['CFdf']\n",
        "store.close()\n",
        "#with pd.HDFStore('/content/drive/MyDrive/1000/TCFdf.h5',  mode='r') as newstore:\n",
        "#    CF = newstore.select('CFdf')"
      ],
      "metadata": {
        "id": "NYrX2xxX5yiQ"
      },
      "execution_count": 4,
      "outputs": []
    },
    {
      "cell_type": "code",
      "source": [
        "store = pd.HDFStore('/content/drive/MyDrive/1000/TTFdf.h5')\n",
        "TF=store['TFdf']\n",
        "store.close()\n",
        "#with pd.HDFStore('/content/drive/MyDrive/1000/TTFdf.h5',  mode='r') as newstore:\n",
        "#    TF = newstore.select('TFdf')"
      ],
      "metadata": {
        "id": "QICYMzmm51wT"
      },
      "execution_count": 5,
      "outputs": []
    },
    {
      "cell_type": "code",
      "source": [
        "with pd.HDFStore('/content/drive/MyDrive/1000/TjaccardsimilaritydfR.h5',  mode='r') as newstore:\n",
        "    jaccardsimilarity = newstore.select('jaccardsimilaritydfR')"
      ],
      "metadata": {
        "id": "KIrXiagJ54bI"
      },
      "execution_count": 6,
      "outputs": []
    },
    {
      "cell_type": "code",
      "source": [
        "store = pd.HDFStore('/content/drive/MyDrive/1000/TcosinesimilaritydfR.h5')\n",
        "cosine=store['cosine_similaritydfR']"
      ],
      "metadata": {
        "id": "Ieqb_Sb759Cn"
      },
      "execution_count": 7,
      "outputs": []
    },
    {
      "cell_type": "code",
      "source": [
        "store = pd.HDFStore('/content/drive/MyDrive/1000/TL1normdf.h5')\n",
        "L1_normdf=store['L1_normdf']\n",
        "store.close()"
      ],
      "metadata": {
        "id": "ceHsdCsY5-4g"
      },
      "execution_count": 8,
      "outputs": []
    },
    {
      "cell_type": "code",
      "source": [
        "store = pd.HDFStore('/content/drive/MyDrive/1000/Tsum.h5')\n",
        "wsumdf=store['wsumdf']\n",
        "store.close()"
      ],
      "metadata": {
        "id": "uYIMJaWF6A5M"
      },
      "execution_count": 9,
      "outputs": []
    },
    {
      "cell_type": "code",
      "source": [
        "with pd.HDFStore('/content/drive/MyDrive/1000/Tmul.h5',  mode='r') as newstore:\n",
        "    wmuldf = newstore.select('wmuldf')"
      ],
      "metadata": {
        "id": "gppuDmgy6Cjq"
      },
      "execution_count": 10,
      "outputs": []
    },
    {
      "cell_type": "code",
      "source": [
        "#store = pd.HDFStore('/content/drive/MyDrive/1000/TLdata.h5')\n",
        "#adjl=store['adjl']\n",
        "#store.close()\n",
        "with pd.HDFStore('/content/drive/MyDrive/1000/TLdata.h5',  mode='r') as newstore:\n",
        "    adjl = newstore.select('adjl')"
      ],
      "metadata": {
        "id": "fSIF1MxT6FGo"
      },
      "execution_count": 11,
      "outputs": []
    },
    {
      "cell_type": "markdown",
      "source": [
        "# **PCa**"
      ],
      "metadata": {
        "id": "Lzt86bj06Maj"
      }
    },
    {
      "cell_type": "code",
      "source": [
        "from sklearn.decomposition import PCA\n",
        "\n",
        "\n",
        "pca = PCA(n_components=10)\n",
        "CF_pca = pca.fit_transform(CF)\n",
        "CF_pca_df=pd.DataFrame(CF_pca)"
      ],
      "metadata": {
        "id": "QQQXlqCD6ICL"
      },
      "execution_count": 12,
      "outputs": []
    },
    {
      "cell_type": "code",
      "source": [
        "pca = PCA(n_components=10)\n",
        "TF_pca = pca.fit_transform(TF)\n",
        "TF_pca_df=pd.DataFrame(TF_pca)"
      ],
      "metadata": {
        "id": "Zk2VJxlv6YQC"
      },
      "execution_count": 13,
      "outputs": []
    },
    {
      "cell_type": "code",
      "source": [
        "pca = PCA(n_components=10)\n",
        "jaccard_similarity_pca = pca.fit_transform(jaccardsimilarity)\n",
        "jaccard_similarity_pca_df=pd.DataFrame(jaccard_similarity_pca)"
      ],
      "metadata": {
        "id": "Dmj9A5gN6fsh"
      },
      "execution_count": 14,
      "outputs": []
    },
    {
      "cell_type": "code",
      "source": [
        "pca = PCA(n_components=10)\n",
        "cosine_similarity_pca = pca.fit_transform(cosine)\n",
        "cosine_similarity_pca_df=pd.DataFrame(cosine_similarity_pca)"
      ],
      "metadata": {
        "id": "h06hw7DO6kaV"
      },
      "execution_count": 15,
      "outputs": []
    },
    {
      "cell_type": "code",
      "source": [
        "pca = PCA(n_components=10)\n",
        "L1_normdf_similarity_pca = pca.fit_transform(L1_normdf)\n",
        "L1_normdf_similarity_pca_df=pd.DataFrame(L1_normdf_similarity_pca)"
      ],
      "metadata": {
        "id": "Y2TtCHBg6q6g"
      },
      "execution_count": 16,
      "outputs": []
    },
    {
      "cell_type": "code",
      "source": [
        "pca = PCA(n_components=10)\n",
        "wsumdf_similarity_pca = pca.fit_transform(wsumdf)\n",
        "wsumdf_similarity_pca_df=pd.DataFrame(wsumdf_similarity_pca)"
      ],
      "metadata": {
        "id": "tzPLyYYh6vqE"
      },
      "execution_count": 17,
      "outputs": []
    },
    {
      "cell_type": "code",
      "source": [
        "pca = PCA(n_components=10)\n",
        "wmuldf_similarity_pca = pca.fit_transform(wmuldf)\n",
        "wmuldf_similarity_pca_df=pd.DataFrame(wmuldf_similarity_pca)"
      ],
      "metadata": {
        "id": "aRVootqa60DF"
      },
      "execution_count": 18,
      "outputs": []
    },
    {
      "cell_type": "code",
      "source": [
        "l=adjl['label']\n",
        "l_n=np.array(l)\n",
        "l_df=pd.DataFrame(l_n)\n",
        "l_df.columns=['label']"
      ],
      "metadata": {
        "id": "5v9VW_r_F9iR"
      },
      "execution_count": 19,
      "outputs": []
    },
    {
      "cell_type": "code",
      "source": [
        "#concat\n",
        "frames = [CF_pca_df, TF_pca_df, jaccard_similarity_pca_df,cosine_similarity_pca_df,\n",
        "          L1_normdf_similarity_pca_df,wsumdf_similarity_pca_df,wmuldf_similarity_pca_df,l_df]\n",
        "result = pd.concat(frames,axis=1)"
      ],
      "metadata": {
        "id": "K19r-JC-66CP"
      },
      "execution_count": 20,
      "outputs": []
    },
    {
      "cell_type": "code",
      "source": [
        "result"
      ],
      "metadata": {
        "colab": {
          "base_uri": "https://localhost:8080/",
          "height": 488
        },
        "id": "ykD2PbVX68HS",
        "outputId": "db468677-c53f-4b97-d7a4-89bce6626df1"
      },
      "execution_count": 21,
      "outputs": [
        {
          "output_type": "execute_result",
          "data": {
            "text/html": [
              "\n",
              "  <div id=\"df-5f42019d-3434-4a18-b0c4-bc96854b6f76\">\n",
              "    <div class=\"colab-df-container\">\n",
              "      <div>\n",
              "<style scoped>\n",
              "    .dataframe tbody tr th:only-of-type {\n",
              "        vertical-align: middle;\n",
              "    }\n",
              "\n",
              "    .dataframe tbody tr th {\n",
              "        vertical-align: top;\n",
              "    }\n",
              "\n",
              "    .dataframe thead th {\n",
              "        text-align: right;\n",
              "    }\n",
              "</style>\n",
              "<table border=\"1\" class=\"dataframe\">\n",
              "  <thead>\n",
              "    <tr style=\"text-align: right;\">\n",
              "      <th></th>\n",
              "      <th>0</th>\n",
              "      <th>1</th>\n",
              "      <th>2</th>\n",
              "      <th>3</th>\n",
              "      <th>4</th>\n",
              "      <th>5</th>\n",
              "      <th>6</th>\n",
              "      <th>7</th>\n",
              "      <th>8</th>\n",
              "      <th>9</th>\n",
              "      <th>...</th>\n",
              "      <th>1</th>\n",
              "      <th>2</th>\n",
              "      <th>3</th>\n",
              "      <th>4</th>\n",
              "      <th>5</th>\n",
              "      <th>6</th>\n",
              "      <th>7</th>\n",
              "      <th>8</th>\n",
              "      <th>9</th>\n",
              "      <th>label</th>\n",
              "    </tr>\n",
              "  </thead>\n",
              "  <tbody>\n",
              "    <tr>\n",
              "      <th>0</th>\n",
              "      <td>-1.715972</td>\n",
              "      <td>-3.099936</td>\n",
              "      <td>-0.041249</td>\n",
              "      <td>6.644563e-15</td>\n",
              "      <td>-4.921070e-14</td>\n",
              "      <td>0.077295</td>\n",
              "      <td>1.691428</td>\n",
              "      <td>3.341114</td>\n",
              "      <td>-6.617491e-14</td>\n",
              "      <td>-1.580416e-14</td>\n",
              "      <td>...</td>\n",
              "      <td>-1.710973e-02</td>\n",
              "      <td>-4.980720e-03</td>\n",
              "      <td>-4.322913e-04</td>\n",
              "      <td>5.792405e-03</td>\n",
              "      <td>-4.067484e-03</td>\n",
              "      <td>-8.641461e-04</td>\n",
              "      <td>-1.590759e-02</td>\n",
              "      <td>5.114755e-02</td>\n",
              "      <td>1.114304e-02</td>\n",
              "      <td>1</td>\n",
              "    </tr>\n",
              "    <tr>\n",
              "      <th>1</th>\n",
              "      <td>-1.715972</td>\n",
              "      <td>-3.099936</td>\n",
              "      <td>-0.041249</td>\n",
              "      <td>3.045569e-14</td>\n",
              "      <td>-7.800524e-14</td>\n",
              "      <td>0.077295</td>\n",
              "      <td>1.691428</td>\n",
              "      <td>3.341114</td>\n",
              "      <td>-1.678876e-13</td>\n",
              "      <td>7.543703e-14</td>\n",
              "      <td>...</td>\n",
              "      <td>2.766115e-02</td>\n",
              "      <td>-2.373208e-04</td>\n",
              "      <td>-1.087901e-02</td>\n",
              "      <td>2.123240e-02</td>\n",
              "      <td>1.311877e-02</td>\n",
              "      <td>-7.153596e-03</td>\n",
              "      <td>-7.954534e-03</td>\n",
              "      <td>-2.270062e-02</td>\n",
              "      <td>-1.519098e-02</td>\n",
              "      <td>1</td>\n",
              "    </tr>\n",
              "    <tr>\n",
              "      <th>2</th>\n",
              "      <td>-1.715972</td>\n",
              "      <td>-3.099936</td>\n",
              "      <td>-0.041249</td>\n",
              "      <td>-1.496646e-13</td>\n",
              "      <td>2.954769e-13</td>\n",
              "      <td>0.077295</td>\n",
              "      <td>1.691428</td>\n",
              "      <td>3.341114</td>\n",
              "      <td>-2.850000e-13</td>\n",
              "      <td>1.039550e-13</td>\n",
              "      <td>...</td>\n",
              "      <td>1.315343e-02</td>\n",
              "      <td>8.376536e-03</td>\n",
              "      <td>2.637331e-03</td>\n",
              "      <td>2.307564e-02</td>\n",
              "      <td>1.995494e-02</td>\n",
              "      <td>7.840342e-03</td>\n",
              "      <td>1.236066e-02</td>\n",
              "      <td>-2.775227e-04</td>\n",
              "      <td>3.029786e-03</td>\n",
              "      <td>1</td>\n",
              "    </tr>\n",
              "    <tr>\n",
              "      <th>3</th>\n",
              "      <td>-1.715972</td>\n",
              "      <td>-3.099936</td>\n",
              "      <td>-0.041249</td>\n",
              "      <td>2.266833e-14</td>\n",
              "      <td>-1.476736e-13</td>\n",
              "      <td>0.077295</td>\n",
              "      <td>1.691428</td>\n",
              "      <td>3.341114</td>\n",
              "      <td>3.308250e-14</td>\n",
              "      <td>-4.520362e-14</td>\n",
              "      <td>...</td>\n",
              "      <td>-1.898571e-02</td>\n",
              "      <td>1.591437e-02</td>\n",
              "      <td>1.285703e-02</td>\n",
              "      <td>3.754061e-03</td>\n",
              "      <td>-9.459640e-03</td>\n",
              "      <td>1.492145e-03</td>\n",
              "      <td>-5.465452e-03</td>\n",
              "      <td>3.366782e-03</td>\n",
              "      <td>-1.694722e-02</td>\n",
              "      <td>1</td>\n",
              "    </tr>\n",
              "    <tr>\n",
              "      <th>4</th>\n",
              "      <td>-1.715972</td>\n",
              "      <td>-3.099936</td>\n",
              "      <td>-0.041249</td>\n",
              "      <td>4.970204e-15</td>\n",
              "      <td>-3.353379e-14</td>\n",
              "      <td>0.077295</td>\n",
              "      <td>1.691428</td>\n",
              "      <td>3.341114</td>\n",
              "      <td>1.950294e-13</td>\n",
              "      <td>-1.338683e-13</td>\n",
              "      <td>...</td>\n",
              "      <td>-4.735854e-15</td>\n",
              "      <td>-3.864219e-15</td>\n",
              "      <td>5.846452e-15</td>\n",
              "      <td>-1.215050e-15</td>\n",
              "      <td>-1.056757e-13</td>\n",
              "      <td>-9.289040e-16</td>\n",
              "      <td>3.723824e-15</td>\n",
              "      <td>3.025851e-14</td>\n",
              "      <td>1.467524e-14</td>\n",
              "      <td>1</td>\n",
              "    </tr>\n",
              "    <tr>\n",
              "      <th>...</th>\n",
              "      <td>...</td>\n",
              "      <td>...</td>\n",
              "      <td>...</td>\n",
              "      <td>...</td>\n",
              "      <td>...</td>\n",
              "      <td>...</td>\n",
              "      <td>...</td>\n",
              "      <td>...</td>\n",
              "      <td>...</td>\n",
              "      <td>...</td>\n",
              "      <td>...</td>\n",
              "      <td>...</td>\n",
              "      <td>...</td>\n",
              "      <td>...</td>\n",
              "      <td>...</td>\n",
              "      <td>...</td>\n",
              "      <td>...</td>\n",
              "      <td>...</td>\n",
              "      <td>...</td>\n",
              "      <td>...</td>\n",
              "      <td>...</td>\n",
              "    </tr>\n",
              "    <tr>\n",
              "      <th>995</th>\n",
              "      <td>-2.114893</td>\n",
              "      <td>-4.572474</td>\n",
              "      <td>-0.754679</td>\n",
              "      <td>-6.555974e-14</td>\n",
              "      <td>-8.861794e-13</td>\n",
              "      <td>8.797502</td>\n",
              "      <td>-0.661164</td>\n",
              "      <td>-0.063010</td>\n",
              "      <td>-5.077450e-02</td>\n",
              "      <td>-3.677221e-02</td>\n",
              "      <td>...</td>\n",
              "      <td>-2.834379e-03</td>\n",
              "      <td>1.176805e-03</td>\n",
              "      <td>1.046705e-02</td>\n",
              "      <td>1.653048e-02</td>\n",
              "      <td>-1.811275e-02</td>\n",
              "      <td>-1.150492e-03</td>\n",
              "      <td>-7.973544e-03</td>\n",
              "      <td>-5.364941e-03</td>\n",
              "      <td>-1.649859e-02</td>\n",
              "      <td>1</td>\n",
              "    </tr>\n",
              "    <tr>\n",
              "      <th>996</th>\n",
              "      <td>-2.114893</td>\n",
              "      <td>-4.572474</td>\n",
              "      <td>-0.754679</td>\n",
              "      <td>-6.514700e-14</td>\n",
              "      <td>-8.864474e-13</td>\n",
              "      <td>8.797502</td>\n",
              "      <td>-0.661164</td>\n",
              "      <td>-0.063010</td>\n",
              "      <td>1.586365e-03</td>\n",
              "      <td>2.938097e-04</td>\n",
              "      <td>...</td>\n",
              "      <td>-1.788174e-02</td>\n",
              "      <td>-2.623858e-02</td>\n",
              "      <td>2.483895e-03</td>\n",
              "      <td>-3.045431e-03</td>\n",
              "      <td>1.542956e-02</td>\n",
              "      <td>2.613481e-02</td>\n",
              "      <td>-1.766084e-02</td>\n",
              "      <td>-6.220452e-04</td>\n",
              "      <td>-1.493476e-02</td>\n",
              "      <td>1</td>\n",
              "    </tr>\n",
              "    <tr>\n",
              "      <th>997</th>\n",
              "      <td>-2.114893</td>\n",
              "      <td>-4.572474</td>\n",
              "      <td>-0.754679</td>\n",
              "      <td>-6.524139e-14</td>\n",
              "      <td>-8.861148e-13</td>\n",
              "      <td>8.797502</td>\n",
              "      <td>-0.661164</td>\n",
              "      <td>-0.063010</td>\n",
              "      <td>-1.652022e-02</td>\n",
              "      <td>-6.244098e-02</td>\n",
              "      <td>...</td>\n",
              "      <td>-1.400807e-03</td>\n",
              "      <td>3.402387e-02</td>\n",
              "      <td>-2.465683e-02</td>\n",
              "      <td>-1.220054e-02</td>\n",
              "      <td>-6.122683e-03</td>\n",
              "      <td>-1.691755e-02</td>\n",
              "      <td>-3.091513e-02</td>\n",
              "      <td>1.451231e-02</td>\n",
              "      <td>6.722298e-03</td>\n",
              "      <td>1</td>\n",
              "    </tr>\n",
              "    <tr>\n",
              "      <th>998</th>\n",
              "      <td>-2.114893</td>\n",
              "      <td>-4.572474</td>\n",
              "      <td>-0.754679</td>\n",
              "      <td>-6.386130e-14</td>\n",
              "      <td>-8.857102e-13</td>\n",
              "      <td>8.797502</td>\n",
              "      <td>-0.661164</td>\n",
              "      <td>-0.063010</td>\n",
              "      <td>-5.393837e-05</td>\n",
              "      <td>-3.339246e-02</td>\n",
              "      <td>...</td>\n",
              "      <td>-5.220032e-03</td>\n",
              "      <td>1.210965e-02</td>\n",
              "      <td>-2.373697e-03</td>\n",
              "      <td>-5.643978e-03</td>\n",
              "      <td>-1.206995e-02</td>\n",
              "      <td>1.366552e-02</td>\n",
              "      <td>3.803506e-02</td>\n",
              "      <td>9.072859e-04</td>\n",
              "      <td>-2.508396e-02</td>\n",
              "      <td>1</td>\n",
              "    </tr>\n",
              "    <tr>\n",
              "      <th>999</th>\n",
              "      <td>-2.114893</td>\n",
              "      <td>-4.572474</td>\n",
              "      <td>-0.754679</td>\n",
              "      <td>-6.629200e-14</td>\n",
              "      <td>-8.862672e-13</td>\n",
              "      <td>8.797502</td>\n",
              "      <td>-0.661164</td>\n",
              "      <td>-0.063010</td>\n",
              "      <td>-6.200723e-02</td>\n",
              "      <td>-2.014443e-02</td>\n",
              "      <td>...</td>\n",
              "      <td>4.460017e-02</td>\n",
              "      <td>-5.320498e-03</td>\n",
              "      <td>-5.413430e-03</td>\n",
              "      <td>-2.763020e-03</td>\n",
              "      <td>-1.063998e-02</td>\n",
              "      <td>-7.011006e-03</td>\n",
              "      <td>-1.695252e-02</td>\n",
              "      <td>3.784369e-03</td>\n",
              "      <td>-1.538803e-02</td>\n",
              "      <td>1</td>\n",
              "    </tr>\n",
              "  </tbody>\n",
              "</table>\n",
              "<p>1000 rows × 71 columns</p>\n",
              "</div>\n",
              "      <button class=\"colab-df-convert\" onclick=\"convertToInteractive('df-5f42019d-3434-4a18-b0c4-bc96854b6f76')\"\n",
              "              title=\"Convert this dataframe to an interactive table.\"\n",
              "              style=\"display:none;\">\n",
              "        \n",
              "  <svg xmlns=\"http://www.w3.org/2000/svg\" height=\"24px\"viewBox=\"0 0 24 24\"\n",
              "       width=\"24px\">\n",
              "    <path d=\"M0 0h24v24H0V0z\" fill=\"none\"/>\n",
              "    <path d=\"M18.56 5.44l.94 2.06.94-2.06 2.06-.94-2.06-.94-.94-2.06-.94 2.06-2.06.94zm-11 1L8.5 8.5l.94-2.06 2.06-.94-2.06-.94L8.5 2.5l-.94 2.06-2.06.94zm10 10l.94 2.06.94-2.06 2.06-.94-2.06-.94-.94-2.06-.94 2.06-2.06.94z\"/><path d=\"M17.41 7.96l-1.37-1.37c-.4-.4-.92-.59-1.43-.59-.52 0-1.04.2-1.43.59L10.3 9.45l-7.72 7.72c-.78.78-.78 2.05 0 2.83L4 21.41c.39.39.9.59 1.41.59.51 0 1.02-.2 1.41-.59l7.78-7.78 2.81-2.81c.8-.78.8-2.07 0-2.86zM5.41 20L4 18.59l7.72-7.72 1.47 1.35L5.41 20z\"/>\n",
              "  </svg>\n",
              "      </button>\n",
              "      \n",
              "  <style>\n",
              "    .colab-df-container {\n",
              "      display:flex;\n",
              "      flex-wrap:wrap;\n",
              "      gap: 12px;\n",
              "    }\n",
              "\n",
              "    .colab-df-convert {\n",
              "      background-color: #E8F0FE;\n",
              "      border: none;\n",
              "      border-radius: 50%;\n",
              "      cursor: pointer;\n",
              "      display: none;\n",
              "      fill: #1967D2;\n",
              "      height: 32px;\n",
              "      padding: 0 0 0 0;\n",
              "      width: 32px;\n",
              "    }\n",
              "\n",
              "    .colab-df-convert:hover {\n",
              "      background-color: #E2EBFA;\n",
              "      box-shadow: 0px 1px 2px rgba(60, 64, 67, 0.3), 0px 1px 3px 1px rgba(60, 64, 67, 0.15);\n",
              "      fill: #174EA6;\n",
              "    }\n",
              "\n",
              "    [theme=dark] .colab-df-convert {\n",
              "      background-color: #3B4455;\n",
              "      fill: #D2E3FC;\n",
              "    }\n",
              "\n",
              "    [theme=dark] .colab-df-convert:hover {\n",
              "      background-color: #434B5C;\n",
              "      box-shadow: 0px 1px 3px 1px rgba(0, 0, 0, 0.15);\n",
              "      filter: drop-shadow(0px 1px 2px rgba(0, 0, 0, 0.3));\n",
              "      fill: #FFFFFF;\n",
              "    }\n",
              "  </style>\n",
              "\n",
              "      <script>\n",
              "        const buttonEl =\n",
              "          document.querySelector('#df-5f42019d-3434-4a18-b0c4-bc96854b6f76 button.colab-df-convert');\n",
              "        buttonEl.style.display =\n",
              "          google.colab.kernel.accessAllowed ? 'block' : 'none';\n",
              "\n",
              "        async function convertToInteractive(key) {\n",
              "          const element = document.querySelector('#df-5f42019d-3434-4a18-b0c4-bc96854b6f76');\n",
              "          const dataTable =\n",
              "            await google.colab.kernel.invokeFunction('convertToInteractive',\n",
              "                                                     [key], {});\n",
              "          if (!dataTable) return;\n",
              "\n",
              "          const docLinkHtml = 'Like what you see? Visit the ' +\n",
              "            '<a target=\"_blank\" href=https://colab.research.google.com/notebooks/data_table.ipynb>data table notebook</a>'\n",
              "            + ' to learn more about interactive tables.';\n",
              "          element.innerHTML = '';\n",
              "          dataTable['output_type'] = 'display_data';\n",
              "          await google.colab.output.renderOutput(dataTable, element);\n",
              "          const docLink = document.createElement('div');\n",
              "          docLink.innerHTML = docLinkHtml;\n",
              "          element.appendChild(docLink);\n",
              "        }\n",
              "      </script>\n",
              "    </div>\n",
              "  </div>\n",
              "  "
            ],
            "text/plain": [
              "            0         1         2             3             4         5  \\\n",
              "0   -1.715972 -3.099936 -0.041249  6.644563e-15 -4.921070e-14  0.077295   \n",
              "1   -1.715972 -3.099936 -0.041249  3.045569e-14 -7.800524e-14  0.077295   \n",
              "2   -1.715972 -3.099936 -0.041249 -1.496646e-13  2.954769e-13  0.077295   \n",
              "3   -1.715972 -3.099936 -0.041249  2.266833e-14 -1.476736e-13  0.077295   \n",
              "4   -1.715972 -3.099936 -0.041249  4.970204e-15 -3.353379e-14  0.077295   \n",
              "..        ...       ...       ...           ...           ...       ...   \n",
              "995 -2.114893 -4.572474 -0.754679 -6.555974e-14 -8.861794e-13  8.797502   \n",
              "996 -2.114893 -4.572474 -0.754679 -6.514700e-14 -8.864474e-13  8.797502   \n",
              "997 -2.114893 -4.572474 -0.754679 -6.524139e-14 -8.861148e-13  8.797502   \n",
              "998 -2.114893 -4.572474 -0.754679 -6.386130e-14 -8.857102e-13  8.797502   \n",
              "999 -2.114893 -4.572474 -0.754679 -6.629200e-14 -8.862672e-13  8.797502   \n",
              "\n",
              "            6         7             8             9  ...             1  \\\n",
              "0    1.691428  3.341114 -6.617491e-14 -1.580416e-14  ... -1.710973e-02   \n",
              "1    1.691428  3.341114 -1.678876e-13  7.543703e-14  ...  2.766115e-02   \n",
              "2    1.691428  3.341114 -2.850000e-13  1.039550e-13  ...  1.315343e-02   \n",
              "3    1.691428  3.341114  3.308250e-14 -4.520362e-14  ... -1.898571e-02   \n",
              "4    1.691428  3.341114  1.950294e-13 -1.338683e-13  ... -4.735854e-15   \n",
              "..        ...       ...           ...           ...  ...           ...   \n",
              "995 -0.661164 -0.063010 -5.077450e-02 -3.677221e-02  ... -2.834379e-03   \n",
              "996 -0.661164 -0.063010  1.586365e-03  2.938097e-04  ... -1.788174e-02   \n",
              "997 -0.661164 -0.063010 -1.652022e-02 -6.244098e-02  ... -1.400807e-03   \n",
              "998 -0.661164 -0.063010 -5.393837e-05 -3.339246e-02  ... -5.220032e-03   \n",
              "999 -0.661164 -0.063010 -6.200723e-02 -2.014443e-02  ...  4.460017e-02   \n",
              "\n",
              "                2             3             4             5             6  \\\n",
              "0   -4.980720e-03 -4.322913e-04  5.792405e-03 -4.067484e-03 -8.641461e-04   \n",
              "1   -2.373208e-04 -1.087901e-02  2.123240e-02  1.311877e-02 -7.153596e-03   \n",
              "2    8.376536e-03  2.637331e-03  2.307564e-02  1.995494e-02  7.840342e-03   \n",
              "3    1.591437e-02  1.285703e-02  3.754061e-03 -9.459640e-03  1.492145e-03   \n",
              "4   -3.864219e-15  5.846452e-15 -1.215050e-15 -1.056757e-13 -9.289040e-16   \n",
              "..            ...           ...           ...           ...           ...   \n",
              "995  1.176805e-03  1.046705e-02  1.653048e-02 -1.811275e-02 -1.150492e-03   \n",
              "996 -2.623858e-02  2.483895e-03 -3.045431e-03  1.542956e-02  2.613481e-02   \n",
              "997  3.402387e-02 -2.465683e-02 -1.220054e-02 -6.122683e-03 -1.691755e-02   \n",
              "998  1.210965e-02 -2.373697e-03 -5.643978e-03 -1.206995e-02  1.366552e-02   \n",
              "999 -5.320498e-03 -5.413430e-03 -2.763020e-03 -1.063998e-02 -7.011006e-03   \n",
              "\n",
              "                7             8             9  label  \n",
              "0   -1.590759e-02  5.114755e-02  1.114304e-02      1  \n",
              "1   -7.954534e-03 -2.270062e-02 -1.519098e-02      1  \n",
              "2    1.236066e-02 -2.775227e-04  3.029786e-03      1  \n",
              "3   -5.465452e-03  3.366782e-03 -1.694722e-02      1  \n",
              "4    3.723824e-15  3.025851e-14  1.467524e-14      1  \n",
              "..            ...           ...           ...    ...  \n",
              "995 -7.973544e-03 -5.364941e-03 -1.649859e-02      1  \n",
              "996 -1.766084e-02 -6.220452e-04 -1.493476e-02      1  \n",
              "997 -3.091513e-02  1.451231e-02  6.722298e-03      1  \n",
              "998  3.803506e-02  9.072859e-04 -2.508396e-02      1  \n",
              "999 -1.695252e-02  3.784369e-03 -1.538803e-02      1  \n",
              "\n",
              "[1000 rows x 71 columns]"
            ]
          },
          "metadata": {},
          "execution_count": 21
        }
      ]
    },
    {
      "cell_type": "code",
      "source": [
        "with pd.HDFStore('/content/drive/MyDrive/1000/TUnsmote_result',  mode='w') as store:\n",
        "      store.append('result', result,format='table')"
      ],
      "metadata": {
        "id": "rACRHiPh8ANc"
      },
      "execution_count": 22,
      "outputs": []
    }
  ]
}
