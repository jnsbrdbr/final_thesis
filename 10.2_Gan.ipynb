{
  "nbformat": 4,
  "nbformat_minor": 0,
  "metadata": {
    "colab": {
      "name": "Copy of realTTUNbalance/Gan.ipynb",
      "provenance": [],
      "authorship_tag": "ABX9TyMnt2MyRwugraNr0yMKcPl8",
      "include_colab_link": true
    },
    "kernelspec": {
      "name": "python3",
      "display_name": "Python 3"
    },
    "language_info": {
      "name": "python"
    }
  },
  "cells": [
    {
      "cell_type": "markdown",
      "metadata": {
        "id": "view-in-github",
        "colab_type": "text"
      },
      "source": [
        "<a href=\"https://colab.research.google.com/github/jnsbrdbr/final_thesis/blob/main/10.2_Gan.ipynb\" target=\"_parent\"><img src=\"https://colab.research.google.com/assets/colab-badge.svg\" alt=\"Open In Colab\"/></a>"
      ]
    },
    {
      "cell_type": "code",
      "source": [
        "# Install TensorFlow\n",
        "# !pip install -q tensorflow-gpu==2.0.0-rc0\n",
        "\n",
        "try:\n",
        "  %tensorflow_version 2.x  # Colab only.\n",
        "except Exception:\n",
        "  pass\n",
        "\n",
        "import tensorflow as tf\n",
        "print(tf.__version__)"
      ],
      "metadata": {
        "colab": {
          "base_uri": "https://localhost:8080/"
        },
        "id": "abdIzWBE5huQ",
        "outputId": "0bb85f35-e272-4196-eee2-ea29d9dfcfa4"
      },
      "execution_count": null,
      "outputs": [
        {
          "output_type": "stream",
          "name": "stdout",
          "text": [
            "`%tensorflow_version` only switches the major version: 1.x or 2.x.\n",
            "You set: `2.x  # Colab only.`. This will be interpreted as: `2.x`.\n",
            "\n",
            "\n",
            "TensorFlow 2.x selected.\n",
            "2.8.0\n"
          ]
        }
      ]
    },
    {
      "cell_type": "code",
      "source": [
        "import keras\n",
        "from keras.layers import Input, Dense, Activation, LeakyReLU, BatchNormalization\n",
        "from keras.models import Sequential\n",
        "from tensorflow.keras.optimizers import Adam\n",
        "from sklearn.model_selection import train_test_split\n",
        "from tensorflow.keras.models import Model\n",
        "import keras.backend as K\n",
        "import numpy as np\n",
        "import pandas as pd\n",
        "import matplotlib.pyplot as plt\n",
        "import sys, os\n",
        "\n",
        "%matplotlib inline"
      ],
      "metadata": {
        "id": "XUYwPCYj5jUF"
      },
      "execution_count": null,
      "outputs": []
    },
    {
      "cell_type": "code",
      "execution_count": null,
      "metadata": {
        "id": "GKlDgK6F9ptY"
      },
      "outputs": [],
      "source": [
        "import numpy as np\n",
        "import pandas as pd\n",
        "import seaborn as sns\n",
        "import matplotlib.pyplot as plt\n",
        "\n",
        "from sklearn.metrics import jaccard_score\n",
        "from scipy.spatial.distance import pdist, squareform"
      ]
    },
    {
      "cell_type": "code",
      "source": [
        "from google.colab import drive\n",
        "drive.mount('/content/drive') "
      ],
      "metadata": {
        "colab": {
          "base_uri": "https://localhost:8080/"
        },
        "id": "ST85dANC9wON",
        "outputId": "43ebeba6-73fb-47b2-c016-b6f1283a0dd4"
      },
      "execution_count": null,
      "outputs": [
        {
          "output_type": "stream",
          "name": "stdout",
          "text": [
            "Mounted at /content/drive\n"
          ]
        }
      ]
    },
    {
      "cell_type": "code",
      "source": [
        "!pip3 install pickle5\n",
        "import pickle5 as pickle"
      ],
      "metadata": {
        "colab": {
          "base_uri": "https://localhost:8080/"
        },
        "id": "KCVhZNHT9xrH",
        "outputId": "86176811-0794-4a0a-8197-08277625ef12"
      },
      "execution_count": null,
      "outputs": [
        {
          "output_type": "stream",
          "name": "stdout",
          "text": [
            "Collecting pickle5\n",
            "  Downloading pickle5-0.0.12-cp37-cp37m-manylinux_2_5_x86_64.manylinux1_x86_64.whl (256 kB)\n",
            "\u001b[K     |████████████████████████████████| 256 kB 4.1 MB/s \n",
            "\u001b[?25hInstalling collected packages: pickle5\n",
            "Successfully installed pickle5-0.0.12\n"
          ]
        }
      ]
    },
    {
      "cell_type": "code",
      "source": [
        "with open('/content/drive/MyDrive/10000/unsmote/TUnsmote_Tresult.pkl', \"rb\") as fh:\n",
        "  result = pickle.load(fh)"
      ],
      "metadata": {
        "id": "qqF4vEiT9y9M"
      },
      "execution_count": null,
      "outputs": []
    },
    {
      "cell_type": "code",
      "source": [
        "#final data\n",
        "print(result)"
      ],
      "metadata": {
        "colab": {
          "base_uri": "https://localhost:8080/"
        },
        "id": "yfk93Wjq91AB",
        "outputId": "615eb214-968c-4b98-e25b-0eabe998cc54"
      },
      "execution_count": null,
      "outputs": [
        {
          "output_type": "stream",
          "name": "stdout",
          "text": [
            "             0         1         2         3         4          5         6  \\\n",
            "0    -0.018442 -4.220618 -0.916300 -0.715505 -0.868530  -1.348268 -0.474432   \n",
            "1    -0.018442 -4.220618 -0.916300 -0.715505 -0.868530  -1.348268 -0.474432   \n",
            "2    -0.018442 -4.220618 -0.916300 -0.715505 -0.868530  -1.348268 -0.474432   \n",
            "3    -0.018442 -4.220618 -0.916300 -0.715505 -0.868530  -1.348268 -0.474432   \n",
            "4    -0.018444 -4.221080 -0.916678 -0.715889 -0.869072  -1.349276 -0.475212   \n",
            "...        ...       ...       ...       ...       ...        ...       ...   \n",
            "9995 -0.264492 -4.771727 -2.334318 -2.416962 -8.513026  15.729413  0.366719   \n",
            "9996 -0.264492 -4.771727 -2.334318 -2.416962 -8.513026  15.729413  0.366719   \n",
            "9997 -0.264492 -4.771727 -2.334318 -2.416962 -8.513026  15.729413  0.366719   \n",
            "9998 -0.264492 -4.771727 -2.334318 -2.416962 -8.513026  15.729413  0.366719   \n",
            "9999 -0.264492 -4.771727 -2.334318 -2.416962 -8.513026  15.729413  0.366719   \n",
            "\n",
            "             7         8         9  ...          1          2          3  \\\n",
            "0    -0.004759 -0.581985 -0.079929  ...   2.287554   0.686930   0.100448   \n",
            "1    -0.004759 -0.581985 -0.079929  ...   2.287554   0.686930   0.100448   \n",
            "2    -0.004759 -0.581985 -0.079929  ...   2.287554   0.686930   0.100448   \n",
            "3    -0.004759 -0.581985 -0.079929  ...   2.287554   0.686930   0.100448   \n",
            "4    -0.004857 -0.583281 -0.080453  ...  16.547190  20.216481  11.292974   \n",
            "...        ...       ...       ...  ...        ...        ...        ...   \n",
            "9995 -0.128471  0.120291 -0.000607  ...   2.275919  -1.123127  -2.167888   \n",
            "9996 -0.128471  0.120291 -0.000607  ...   2.275919  -1.123127  -2.167888   \n",
            "9997 -0.128471  0.120291 -0.000607  ...   2.275919  -1.123127  -2.167888   \n",
            "9998 -0.128471  0.120291 -0.000607  ...   2.275919  -1.123127  -2.167888   \n",
            "9999 -0.128471  0.120291 -0.000607  ...   2.275919  -1.123127  -2.167888   \n",
            "\n",
            "             4         5         6         7         8         9  label  \n",
            "0    -0.062517  0.119028 -0.441208 -0.219285 -0.010241 -0.181514      1  \n",
            "1    -0.062517  0.119028 -0.441208 -0.219285 -0.010241 -0.181514      1  \n",
            "2    -0.062517  0.119028 -0.441208 -0.219285 -0.010241 -0.181514      1  \n",
            "3    -0.062517  0.119028 -0.441208 -0.219285 -0.010241 -0.181514      1  \n",
            "4     4.613619 -3.774325  6.601583  1.746854  0.057121  0.838856      1  \n",
            "...        ...       ...       ...       ...       ...       ...    ...  \n",
            "9995 -2.422360  8.098259  5.690624  0.623426  0.017370  0.231334      1  \n",
            "9996 -2.422360  8.098259  5.690624  0.623426  0.017370  0.231334      1  \n",
            "9997 -2.422360  8.098259  5.690624  0.623426  0.017370  0.231334      1  \n",
            "9998 -2.422360  8.098259  5.690624  0.623426  0.017370  0.231334      1  \n",
            "9999 -2.422360  8.098259  5.690624  0.623426  0.017370  0.231334      1  \n",
            "\n",
            "[10000 rows x 101 columns]\n"
          ]
        }
      ]
    },
    {
      "cell_type": "code",
      "source": [
        "#divide data in to data_label and non_data label\n",
        "\n",
        "import copy\n",
        "result_nonlabel=copy.deepcopy(result)\n",
        "del result_nonlabel['label']\n",
        "X=result_nonlabel\n",
        "y=result.label"
      ],
      "metadata": {
        "id": "rLR7_ut75mtR"
      },
      "execution_count": null,
      "outputs": []
    },
    {
      "cell_type": "code",
      "source": [
        "#splitting data in to test and train...\n",
        "\n",
        "from sklearn.model_selection import train_test_split\n",
        "X_train, X_test, y_train, y_test = train_test_split(X, y ,random_state=42,test_size=0.3)#"
      ],
      "metadata": {
        "id": "Y7Ghx2vX5oWb"
      },
      "execution_count": null,
      "outputs": []
    },
    {
      "cell_type": "code",
      "source": [
        "print('shape of x_train is:',X_train.shape)\n",
        "print('shape of x_test is:',X_test.shape)"
      ],
      "metadata": {
        "colab": {
          "base_uri": "https://localhost:8080/"
        },
        "id": "pxdm-sqU5qt5",
        "outputId": "c1afe261-500c-402f-c7d8-52fd7d84a46a"
      },
      "execution_count": null,
      "outputs": [
        {
          "output_type": "stream",
          "name": "stdout",
          "text": [
            "shape of x_train is: (7000, 100)\n",
            "shape of x_test is: (3000, 100)\n"
          ]
        }
      ]
    },
    {
      "cell_type": "code",
      "source": [
        "def make_latent_samples(n_samples, sample_size):\n",
        "    #return np.random.uniform(-1, 1, size=(n_samples, sample_size))\n",
        "    return np.random.normal(loc=0, scale=1, size=(n_samples, sample_size))"
      ],
      "metadata": {
        "id": "WVA8ra6m5tyf"
      },
      "execution_count": null,
      "outputs": []
    },
    {
      "cell_type": "code",
      "source": [
        "make_latent_samples(1, 100) # generates one sample"
      ],
      "metadata": {
        "colab": {
          "base_uri": "https://localhost:8080/"
        },
        "id": "-Q51JZ685vSq",
        "outputId": "eaafcbb6-0bd0-4416-ba22-56170c9247c4"
      },
      "execution_count": null,
      "outputs": [
        {
          "output_type": "execute_result",
          "data": {
            "text/plain": [
              "array([[-0.8982477 ,  2.35302517,  0.35166554,  0.39692148, -0.25068744,\n",
              "        -1.65662659, -2.00798683, -1.89677194,  1.054887  , -0.14622594,\n",
              "        -1.04774052,  0.34839819, -0.05166076,  0.2922187 , -2.06638957,\n",
              "         0.67579241, -0.68389381,  0.45036627, -0.11857444,  1.21849103,\n",
              "         0.11298713,  1.9005577 ,  0.60432969, -0.72158457,  0.08232877,\n",
              "         0.7304263 ,  0.02702208,  0.56912174,  0.63641915, -0.44678222,\n",
              "        -1.57061595, -0.69427779,  0.32746577, -0.22453257, -0.31019642,\n",
              "         0.15929082, -0.32056147, -0.55069812, -1.00904299,  1.22225074,\n",
              "        -0.06916408, -0.87199065, -0.51926133,  0.64905166, -0.05290067,\n",
              "         0.57421742,  1.50773653, -0.84035054, -0.33786852,  0.67208458,\n",
              "         0.8885282 ,  0.13852644,  0.83029647,  1.28820095, -0.75367209,\n",
              "         1.12721429, -2.08467822, -0.09075825,  0.30603254, -2.02123886,\n",
              "        -1.08053499,  0.1286728 , -0.1321325 ,  0.35329156, -0.38188814,\n",
              "        -0.14082353, -0.39814826, -0.60888942, -0.59868172,  0.49910776,\n",
              "        -0.79864542, -0.59629824, -0.20192752, -0.53105347, -0.82724367,\n",
              "        -2.02249133, -1.38840601,  1.35422119, -0.4917762 , -0.02135212,\n",
              "         0.84614939,  0.8207536 , -0.83870727,  0.11258762, -1.16470953,\n",
              "        -0.36334999, -0.68667985, -0.27578053,  0.0262971 ,  0.66606147,\n",
              "        -0.93289154,  0.00961993, -0.90787016, -1.50434722,  1.0043032 ,\n",
              "         1.42817496, -2.93377298,  1.11260784, -0.00948344,  1.72765507]])"
            ]
          },
          "metadata": {},
          "execution_count": 12
        }
      ]
    },
    {
      "cell_type": "code",
      "source": [
        "generator = Sequential([\n",
        "    Dense(512, input_shape=(100,)),\n",
        "    LeakyReLU(alpha=0.2),\n",
        "    BatchNormalization(momentum=0.7),\n",
        "\n",
        "    #Dense(100),\n",
        "    #LeakyReLU(alpha=0.2),\n",
        "    #BatchNormalization(momentum=0.7),\n",
        "\n",
        "    #Dense(1024),\n",
        "    #LeakyReLU(alpha=0.2),\n",
        "    #BatchNormalization(momentum=0.7),\n",
        "\n",
        "    #Dense(2048),\n",
        "    #LeakyReLU(alpha=0.2),\n",
        "    #BatchNormalization(momentum=0.7),\n",
        "\n",
        "    Dense(100),\n",
        "    Activation('tanh')\n",
        "], name='generator')\n",
        "\n",
        "generator.summary()"
      ],
      "metadata": {
        "colab": {
          "base_uri": "https://localhost:8080/"
        },
        "id": "j5Jw1bgL5xvt",
        "outputId": "79130604-5079-43c4-ee6e-613029755c47"
      },
      "execution_count": null,
      "outputs": [
        {
          "output_type": "stream",
          "name": "stdout",
          "text": [
            "Model: \"generator\"\n",
            "_________________________________________________________________\n",
            " Layer (type)                Output Shape              Param #   \n",
            "=================================================================\n",
            " dense (Dense)               (None, 512)               51712     \n",
            "                                                                 \n",
            " leaky_re_lu (LeakyReLU)     (None, 512)               0         \n",
            "                                                                 \n",
            " batch_normalization (BatchN  (None, 512)              2048      \n",
            " ormalization)                                                   \n",
            "                                                                 \n",
            " dense_1 (Dense)             (None, 100)               51300     \n",
            "                                                                 \n",
            " activation (Activation)     (None, 100)               0         \n",
            "                                                                 \n",
            "=================================================================\n",
            "Total params: 105,060\n",
            "Trainable params: 104,036\n",
            "Non-trainable params: 1,024\n",
            "_________________________________________________________________\n"
          ]
        }
      ]
    },
    {
      "cell_type": "code",
      "source": [
        "discriminator = Sequential([\n",
        "    Dense(64, input_shape=(100,)),\n",
        "    LeakyReLU(alpha=0.2),\n",
        "    #BatchNormalization(momentum=0.7),\n",
        "\n",
        "    Dense(32),\n",
        "    LeakyReLU(alpha=0.2),\n",
        "    #BatchNormalization(momentum=0.7),\n",
        "\n",
        "    #Dense(128),\n",
        "    #LeakyReLU(alpha=0.2),\n",
        "    #BatchNormalization(momentum=0.7),\n",
        "    #Dense(64),\n",
        "    #LeakyReLU(alpha=0.2),\n",
        "    #BatchNormalization(momentum=0.7),\n",
        "\n",
        "    #Dense(32),\n",
        "    #LeakyReLU(alpha=0.2),\n",
        "    #BatchNormalization(momentum=0.7),\n",
        "\n",
        "    #Dense(16),\n",
        "    #LeakyReLU(alpha=0.2),\n",
        "    #BatchNormalization(momentum=0.7),\n",
        "\n",
        "    Dense(1),\n",
        "    Activation('sigmoid')\n",
        "], name='discriminator')\n",
        "\n",
        "discriminator.summary()"
      ],
      "metadata": {
        "colab": {
          "base_uri": "https://localhost:8080/"
        },
        "id": "azG0blQ950Ft",
        "outputId": "5f67d928-2f9e-4603-f44a-ccf325987cdf"
      },
      "execution_count": null,
      "outputs": [
        {
          "output_type": "stream",
          "name": "stdout",
          "text": [
            "Model: \"discriminator\"\n",
            "_________________________________________________________________\n",
            " Layer (type)                Output Shape              Param #   \n",
            "=================================================================\n",
            " dense_2 (Dense)             (None, 64)                6464      \n",
            "                                                                 \n",
            " leaky_re_lu_1 (LeakyReLU)   (None, 64)                0         \n",
            "                                                                 \n",
            " dense_3 (Dense)             (None, 32)                2080      \n",
            "                                                                 \n",
            " leaky_re_lu_2 (LeakyReLU)   (None, 32)                0         \n",
            "                                                                 \n",
            " dense_4 (Dense)             (None, 1)                 33        \n",
            "                                                                 \n",
            " activation_1 (Activation)   (None, 1)                 0         \n",
            "                                                                 \n",
            "=================================================================\n",
            "Total params: 8,577\n",
            "Trainable params: 8,577\n",
            "Non-trainable params: 0\n",
            "_________________________________________________________________\n"
          ]
        }
      ]
    },
    {
      "cell_type": "code",
      "source": [
        "# maintain the same shared weights with the generator and the discriminator.\n",
        "gan = Sequential([\n",
        "    generator,\n",
        "    discriminator\n",
        "])\n",
        "\n",
        "gan.summary()"
      ],
      "metadata": {
        "colab": {
          "base_uri": "https://localhost:8080/"
        },
        "id": "z49wvPe952vf",
        "outputId": "e3d99d0f-ab88-4a93-b657-0e9cdc678cbc"
      },
      "execution_count": null,
      "outputs": [
        {
          "output_type": "stream",
          "name": "stdout",
          "text": [
            "Model: \"sequential\"\n",
            "_________________________________________________________________\n",
            " Layer (type)                Output Shape              Param #   \n",
            "=================================================================\n",
            " generator (Sequential)      (None, 100)               105060    \n",
            "                                                                 \n",
            " discriminator (Sequential)  (None, 1)                 8577      \n",
            "                                                                 \n",
            "=================================================================\n",
            "Total params: 113,637\n",
            "Trainable params: 112,613\n",
            "Non-trainable params: 1,024\n",
            "_________________________________________________________________\n"
          ]
        }
      ]
    },
    {
      "cell_type": "code",
      "source": [
        "def make_trainable(model, trainable):\n",
        "    for layer in model.layers:\n",
        "        layer.trainable = trainable"
      ],
      "metadata": {
        "id": "EOMYKVZm54wX"
      },
      "execution_count": null,
      "outputs": []
    },
    {
      "cell_type": "code",
      "source": [
        "make_trainable(discriminator, False)\n",
        "discriminator.summary()"
      ],
      "metadata": {
        "colab": {
          "base_uri": "https://localhost:8080/"
        },
        "id": "hyriEuDg563B",
        "outputId": "d4d9b270-0a13-49e2-edb9-7144220d58d6"
      },
      "execution_count": null,
      "outputs": [
        {
          "output_type": "stream",
          "name": "stdout",
          "text": [
            "Model: \"discriminator\"\n",
            "_________________________________________________________________\n",
            " Layer (type)                Output Shape              Param #   \n",
            "=================================================================\n",
            " dense_2 (Dense)             (None, 64)                6464      \n",
            "                                                                 \n",
            " leaky_re_lu_1 (LeakyReLU)   (None, 64)                0         \n",
            "                                                                 \n",
            " dense_3 (Dense)             (None, 32)                2080      \n",
            "                                                                 \n",
            " leaky_re_lu_2 (LeakyReLU)   (None, 32)                0         \n",
            "                                                                 \n",
            " dense_4 (Dense)             (None, 1)                 33        \n",
            "                                                                 \n",
            " activation_1 (Activation)   (None, 1)                 0         \n",
            "                                                                 \n",
            "=================================================================\n",
            "Total params: 8,577\n",
            "Trainable params: 0\n",
            "Non-trainable params: 8,577\n",
            "_________________________________________________________________\n"
          ]
        }
      ]
    },
    {
      "cell_type": "code",
      "source": [
        "make_trainable(discriminator, True)\n",
        "discriminator.summary()"
      ],
      "metadata": {
        "colab": {
          "base_uri": "https://localhost:8080/"
        },
        "id": "unT_tS3458wP",
        "outputId": "6273c33f-da82-498b-a3d3-ba28dd0adb1c"
      },
      "execution_count": null,
      "outputs": [
        {
          "output_type": "stream",
          "name": "stdout",
          "text": [
            "Model: \"discriminator\"\n",
            "_________________________________________________________________\n",
            " Layer (type)                Output Shape              Param #   \n",
            "=================================================================\n",
            " dense_2 (Dense)             (None, 64)                6464      \n",
            "                                                                 \n",
            " leaky_re_lu_1 (LeakyReLU)   (None, 64)                0         \n",
            "                                                                 \n",
            " dense_3 (Dense)             (None, 32)                2080      \n",
            "                                                                 \n",
            " leaky_re_lu_2 (LeakyReLU)   (None, 32)                0         \n",
            "                                                                 \n",
            " dense_4 (Dense)             (None, 1)                 33        \n",
            "                                                                 \n",
            " activation_1 (Activation)   (None, 1)                 0         \n",
            "                                                                 \n",
            "=================================================================\n",
            "Total params: 8,577\n",
            "Trainable params: 8,577\n",
            "Non-trainable params: 0\n",
            "_________________________________________________________________\n"
          ]
        }
      ]
    },
    {
      "cell_type": "code",
      "source": [
        "def make_simple_GAN(sample_size, \n",
        "                    g_hidden_size_1,\n",
        "                    g_hidden_size_2,\n",
        "                    g_hidden_size_3,\n",
        "                    g_hidden_size_4,\n",
        "                    d_hidden_size_1,\n",
        "                    d_hidden_size_2, \n",
        "                    d_hidden_size_3,\n",
        "                    d_hidden_size_4,\n",
        "                    d_hidden_size_5,\n",
        "                    d_hidden_size_6,\n",
        "                    leaky_alpha, \n",
        "                    g_learning_rate,\n",
        "                    d_learning_rate):\n",
        "    K.clear_session()\n",
        "    \n",
        "    generator = Sequential([\n",
        "        Dense(g_hidden_size_1, input_shape=(sample_size,)),\n",
        "        LeakyReLU(alpha=leaky_alpha),\n",
        "        BatchNormalization(momentum=0.7),\n",
        "\n",
        "        #Dense(g_hidden_size_2),\n",
        "        #LeakyReLU(alpha=leaky_alpha),\n",
        "        #BatchNormalization(momentum=0.7),\n",
        "\n",
        "        #Dense(g_hidden_size_3),\n",
        "        #LeakyReLU(alpha=leaky_alpha),\n",
        "        #BatchNormalization(momentum=0.7),\n",
        "\n",
        "        #Dense(g_hidden_size_4),\n",
        "        #LeakyReLU(alpha=leaky_alpha),\n",
        "        #BatchNormalization(momentum=0.7),\n",
        "\n",
        "        Dense(100),        \n",
        "        Activation('tanh')\n",
        "    ], name='generator')    \n",
        "\n",
        "    discriminator = Sequential([\n",
        "        Dense(d_hidden_size_1, input_shape=(100,)),\n",
        "        LeakyReLU(alpha=leaky_alpha),\n",
        "        #BatchNormalization(momentum=0.7),\n",
        "\n",
        "        Dense(d_hidden_size_2),\n",
        "        LeakyReLU(alpha=leaky_alpha),\n",
        "        #BatchNormalization(momentum=0.7),\n",
        "\n",
        "        #Dense(d_hidden_size_3),\n",
        "        #LeakyReLU(alpha=leaky_alpha),\n",
        "        #BatchNormalization(momentum=0.7),\n",
        "\n",
        "        #Dense(d_hidden_size_4),\n",
        "        #LeakyReLU(alpha=leaky_alpha),\n",
        "        #BatchNormalization(momentum=0.7),\n",
        "\n",
        "        #Dense(d_hidden_size_5),\n",
        "        #LeakyReLU(alpha=leaky_alpha),\n",
        "        #BatchNormalization(momentum=0.7),\n",
        "\n",
        "        #Dense(d_hidden_size_6),\n",
        "        #LeakyReLU(alpha=leaky_alpha),\n",
        "        #BatchNormalization(momentum=0.7),\n",
        "\n",
        "        Dense(1),\n",
        "        Activation('sigmoid')\n",
        "    ], name='discriminator')    \n",
        "    \n",
        "    gan = Sequential([\n",
        "        generator,\n",
        "        discriminator\n",
        "    ])\n",
        "    \n",
        "    discriminator.compile(optimizer=Adam(lr=d_learning_rate), loss='binary_crossentropy')\n",
        "    gan.compile(optimizer=Adam(lr=g_learning_rate), loss='binary_crossentropy')\n",
        "    \n",
        "    return gan, generator, discriminator "
      ],
      "metadata": {
        "id": "8jAObXv95-lc"
      },
      "execution_count": null,
      "outputs": []
    },
    {
      "cell_type": "code",
      "source": [
        "from sklearn import preprocessing\n",
        "def preprocess(x):\n",
        "   x = preprocessing.scale(x)\n",
        "   return x"
      ],
      "metadata": {
        "id": "SD5Wze666At_"
      },
      "execution_count": null,
      "outputs": []
    },
    {
      "cell_type": "code",
      "source": [
        "X_train_real = np.array(preprocess(X_train))\n",
        "X_test_real  = np.array(preprocess(X_test))"
      ],
      "metadata": {
        "id": "GNNm0QkH6B1v"
      },
      "execution_count": null,
      "outputs": []
    },
    {
      "cell_type": "code",
      "source": [
        "def make_labels(size):\n",
        "    return np.ones([size, 1]), np.zeros([size, 1])"
      ],
      "metadata": {
        "id": "yk3QMkXb6ESr"
      },
      "execution_count": null,
      "outputs": []
    },
    {
      "cell_type": "code",
      "source": [
        "y_real_10, y_fake_10 = make_labels(10)\n",
        "\n",
        "y_real_10, y_fake_10"
      ],
      "metadata": {
        "colab": {
          "base_uri": "https://localhost:8080/"
        },
        "id": "pE5mnb926Fi-",
        "outputId": "a90fe52f-98bc-44ef-8338-1034c0411432"
      },
      "execution_count": null,
      "outputs": [
        {
          "output_type": "execute_result",
          "data": {
            "text/plain": [
              "(array([[1.],\n",
              "        [1.],\n",
              "        [1.],\n",
              "        [1.],\n",
              "        [1.],\n",
              "        [1.],\n",
              "        [1.],\n",
              "        [1.],\n",
              "        [1.],\n",
              "        [1.]]), array([[0.],\n",
              "        [0.],\n",
              "        [0.],\n",
              "        [0.],\n",
              "        [0.],\n",
              "        [0.],\n",
              "        [0.],\n",
              "        [0.],\n",
              "        [0.],\n",
              "        [0.]]))"
            ]
          },
          "metadata": {},
          "execution_count": 23
        }
      ]
    },
    {
      "cell_type": "code",
      "source": [
        "# hyperparameters\n",
        "sample_size     = 100     # latent sample size (i.e., 100 random numbers)\n",
        "g_hidden_size_1 = 512\n",
        "g_hidden_size_2 = 0\n",
        "g_hidden_size_3 = 0\n",
        "g_hidden_size_4 = 0\n",
        "d_hidden_size_1 = 64\n",
        "d_hidden_size_2 = 32\n",
        "d_hidden_size_3 = 0\n",
        "d_hidden_size_4 = 0\n",
        "d_hidden_size_5 = 0\n",
        "d_hidden_size_6 = 0\n",
        "leaky_alpha     = 0.2\n",
        "g_learning_rate = 0.0001  # learning rate for the generator\n",
        "d_learning_rate = 0.0001   # learning rate for the discriminator\n",
        "epochs          = 100\n",
        "batch_size      = 64      # train batch size\n",
        "eval_size       = 16      # evaluate size\n",
        "smooth          = 0.1\n"
      ],
      "metadata": {
        "id": "CPRYA-M86HYW"
      },
      "execution_count": null,
      "outputs": []
    },
    {
      "cell_type": "code",
      "source": [
        "## labels for the batch size and the test size\n",
        "y_train_real, y_train_fake = make_labels(batch_size)\n",
        "y_eval_real,  y_eval_fake  = make_labels(eval_size)\n",
        "\n",
        "# create a GAN, a generator and a discriminator\n",
        "gan, generator, discriminator = make_simple_GAN(\n",
        "    sample_size, \n",
        "    g_hidden_size_1, \n",
        "    g_hidden_size_2,\n",
        "    g_hidden_size_3,\n",
        "    g_hidden_size_4, \n",
        "    d_hidden_size_1, \n",
        "    d_hidden_size_2,\n",
        "    d_hidden_size_3,\n",
        "    d_hidden_size_4,\n",
        "    d_hidden_size_5,\n",
        "    d_hidden_size_6,\n",
        "    leaky_alpha, \n",
        "    g_learning_rate,\n",
        "    d_learning_rate)\n",
        "\n",
        "\n",
        "losses = []\n",
        "losses1 = []\n",
        "for e in range(epochs):\n",
        "    for i in range(len(X_train_real)//batch_size):\n",
        "        # real MNIST digit images\n",
        "        X_batch_real = X_train_real[i*batch_size:(i+1)*batch_size]\n",
        "        \n",
        "        # latent samples and the generated digit images\n",
        "        latent_samples = make_latent_samples(batch_size, sample_size)\n",
        "        X_batch_fake = generator.predict_on_batch(latent_samples)\n",
        "        \n",
        "        # train the discriminator to detect real and fake images\n",
        "        make_trainable(discriminator, True)\n",
        "        discriminator.train_on_batch(X_batch_real, y_train_real * (1 - smooth))\n",
        "        discriminator.train_on_batch(X_batch_fake, y_train_fake)\n",
        "\n",
        "        # train the generator via GAN\n",
        "        make_trainable(discriminator, False)\n",
        "        gan.train_on_batch(latent_samples, y_train_real)\n",
        "   # evaluate\n",
        "    X_eval_real = X_test_real[np.random.choice(len(X_test_real), eval_size, replace=False)]\n",
        "    \n",
        "    latent_samples = make_latent_samples(eval_size, sample_size)\n",
        "    X_eval_fake = generator.predict_on_batch(latent_samples)\n",
        "\n",
        "    d_loss  = discriminator.test_on_batch(X_eval_real, y_eval_real)\n",
        "    d_loss += discriminator.test_on_batch(X_eval_fake, y_eval_fake)\n",
        "    g_loss  = gan.test_on_batch(latent_samples, y_eval_real) # we want the fake to be realistic!\n",
        "    \n",
        "    losses.append((d_loss, g_loss))\n",
        "\n",
        "    d_acc_real = discriminator.train_on_batch(X_batch_real, y_train_real * (1 - smooth))\n",
        "    d_acc_fake = discriminator.train_on_batch(X_batch_fake, y_train_fake)\n",
        "    d_acc  = 0.5 * (d_acc_real + d_acc_fake)\n",
        "\n",
        "    #losses1.append(( d_acc))\n",
        "    print(\"Epoch: {:>3}/{} Discriminator Loss: {:>6.4f} Generator Loss: {:>6.4f} Discriminator acc:{:>6.4f}\".format(\n",
        "        e+1, epochs, d_loss, g_loss,d_acc)) #Discriminator acc: {:>6.4f}:,d_acc"
      ],
      "metadata": {
        "colab": {
          "base_uri": "https://localhost:8080/"
        },
        "id": "6PeYo64w6IVN",
        "outputId": "3b9c1e9b-4d8d-41aa-be26-9c3ed282a9c7"
      },
      "execution_count": null,
      "outputs": [
        {
          "output_type": "stream",
          "name": "stderr",
          "text": [
            "/usr/local/lib/python3.7/dist-packages/keras/optimizer_v2/adam.py:105: UserWarning: The `lr` argument is deprecated, use `learning_rate` instead.\n",
            "  super(Adam, self).__init__(name, **kwargs)\n"
          ]
        },
        {
          "output_type": "stream",
          "name": "stdout",
          "text": [
            "Epoch:   1/100 Discriminator Loss: 1.8677 Generator Loss: 0.2897 Discriminator acc:0.9060\n",
            "Epoch:   2/100 Discriminator Loss: 1.8834 Generator Loss: 0.2623 Discriminator acc:1.0195\n",
            "Epoch:   3/100 Discriminator Loss: 1.9770 Generator Loss: 0.2432 Discriminator acc:1.0147\n",
            "Epoch:   4/100 Discriminator Loss: 1.9084 Generator Loss: 0.2524 Discriminator acc:0.9768\n",
            "Epoch:   5/100 Discriminator Loss: 1.8951 Generator Loss: 0.2491 Discriminator acc:0.9835\n",
            "Epoch:   6/100 Discriminator Loss: 1.8482 Generator Loss: 0.2512 Discriminator acc:0.9752\n",
            "Epoch:   7/100 Discriminator Loss: 1.9283 Generator Loss: 0.2533 Discriminator acc:0.9720\n",
            "Epoch:   8/100 Discriminator Loss: 1.7628 Generator Loss: 0.2779 Discriminator acc:0.9604\n",
            "Epoch:   9/100 Discriminator Loss: 1.8540 Generator Loss: 0.2553 Discriminator acc:0.9708\n",
            "Epoch:  10/100 Discriminator Loss: 1.9450 Generator Loss: 0.2319 Discriminator acc:0.9951\n",
            "Epoch:  11/100 Discriminator Loss: 1.9139 Generator Loss: 0.2497 Discriminator acc:0.9615\n",
            "Epoch:  12/100 Discriminator Loss: 1.8041 Generator Loss: 0.2747 Discriminator acc:0.9782\n",
            "Epoch:  13/100 Discriminator Loss: 1.8287 Generator Loss: 0.2505 Discriminator acc:0.9465\n",
            "Epoch:  14/100 Discriminator Loss: 1.8185 Generator Loss: 0.2637 Discriminator acc:0.9483\n",
            "Epoch:  15/100 Discriminator Loss: 1.7686 Generator Loss: 0.2970 Discriminator acc:0.9478\n",
            "Epoch:  16/100 Discriminator Loss: 1.8398 Generator Loss: 0.2552 Discriminator acc:0.9149\n",
            "Epoch:  17/100 Discriminator Loss: 1.8383 Generator Loss: 0.2667 Discriminator acc:0.9236\n",
            "Epoch:  18/100 Discriminator Loss: 1.8253 Generator Loss: 0.2680 Discriminator acc:0.9197\n",
            "Epoch:  19/100 Discriminator Loss: 1.7596 Generator Loss: 0.2992 Discriminator acc:0.9113\n",
            "Epoch:  20/100 Discriminator Loss: 1.7222 Generator Loss: 0.2728 Discriminator acc:0.9065\n",
            "Epoch:  21/100 Discriminator Loss: 1.7802 Generator Loss: 0.2805 Discriminator acc:0.9203\n",
            "Epoch:  22/100 Discriminator Loss: 1.6273 Generator Loss: 0.3136 Discriminator acc:0.9000\n",
            "Epoch:  23/100 Discriminator Loss: 1.6243 Generator Loss: 0.2924 Discriminator acc:0.8941\n",
            "Epoch:  24/100 Discriminator Loss: 1.7445 Generator Loss: 0.3025 Discriminator acc:0.8698\n",
            "Epoch:  25/100 Discriminator Loss: 1.7553 Generator Loss: 0.2839 Discriminator acc:0.8980\n",
            "Epoch:  26/100 Discriminator Loss: 1.6310 Generator Loss: 0.3217 Discriminator acc:0.8827\n",
            "Epoch:  27/100 Discriminator Loss: 1.6382 Generator Loss: 0.3282 Discriminator acc:0.8770\n",
            "Epoch:  28/100 Discriminator Loss: 1.5738 Generator Loss: 0.3386 Discriminator acc:0.8672\n",
            "Epoch:  29/100 Discriminator Loss: 1.5573 Generator Loss: 0.3412 Discriminator acc:0.8515\n",
            "Epoch:  30/100 Discriminator Loss: 1.5416 Generator Loss: 0.3635 Discriminator acc:0.8501\n",
            "Epoch:  31/100 Discriminator Loss: 1.6054 Generator Loss: 0.3070 Discriminator acc:0.8624\n",
            "Epoch:  32/100 Discriminator Loss: 1.5651 Generator Loss: 0.3334 Discriminator acc:0.8571\n",
            "Epoch:  33/100 Discriminator Loss: 1.5999 Generator Loss: 0.3380 Discriminator acc:0.8555\n",
            "Epoch:  34/100 Discriminator Loss: 1.5418 Generator Loss: 0.3181 Discriminator acc:0.8400\n",
            "Epoch:  35/100 Discriminator Loss: 1.5238 Generator Loss: 0.3437 Discriminator acc:0.8455\n",
            "Epoch:  36/100 Discriminator Loss: 1.5638 Generator Loss: 0.3350 Discriminator acc:0.8270\n",
            "Epoch:  37/100 Discriminator Loss: 1.5394 Generator Loss: 0.3452 Discriminator acc:0.8239\n",
            "Epoch:  38/100 Discriminator Loss: 1.5734 Generator Loss: 0.3560 Discriminator acc:0.8204\n",
            "Epoch:  39/100 Discriminator Loss: 1.4906 Generator Loss: 0.3615 Discriminator acc:0.8043\n",
            "Epoch:  40/100 Discriminator Loss: 1.5723 Generator Loss: 0.3516 Discriminator acc:0.8099\n",
            "Epoch:  41/100 Discriminator Loss: 1.5037 Generator Loss: 0.3608 Discriminator acc:0.8004\n",
            "Epoch:  42/100 Discriminator Loss: 1.5233 Generator Loss: 0.3528 Discriminator acc:0.7958\n",
            "Epoch:  43/100 Discriminator Loss: 1.5087 Generator Loss: 0.3662 Discriminator acc:0.7987\n",
            "Epoch:  44/100 Discriminator Loss: 1.4749 Generator Loss: 0.3641 Discriminator acc:0.7741\n",
            "Epoch:  45/100 Discriminator Loss: 1.5030 Generator Loss: 0.3869 Discriminator acc:0.7698\n",
            "Epoch:  46/100 Discriminator Loss: 1.4985 Generator Loss: 0.3833 Discriminator acc:0.7760\n",
            "Epoch:  47/100 Discriminator Loss: 1.4687 Generator Loss: 0.3996 Discriminator acc:0.7478\n",
            "Epoch:  48/100 Discriminator Loss: 1.3629 Generator Loss: 0.4100 Discriminator acc:0.7540\n",
            "Epoch:  49/100 Discriminator Loss: 1.4781 Generator Loss: 0.3956 Discriminator acc:0.7494\n",
            "Epoch:  50/100 Discriminator Loss: 1.4678 Generator Loss: 0.4250 Discriminator acc:0.7380\n",
            "Epoch:  51/100 Discriminator Loss: 1.4192 Generator Loss: 0.4419 Discriminator acc:0.7422\n",
            "Epoch:  52/100 Discriminator Loss: 1.3432 Generator Loss: 0.4226 Discriminator acc:0.7313\n",
            "Epoch:  53/100 Discriminator Loss: 1.3098 Generator Loss: 0.4420 Discriminator acc:0.7194\n",
            "Epoch:  54/100 Discriminator Loss: 1.3731 Generator Loss: 0.4572 Discriminator acc:0.7271\n",
            "Epoch:  55/100 Discriminator Loss: 1.2942 Generator Loss: 0.4427 Discriminator acc:0.7186\n",
            "Epoch:  56/100 Discriminator Loss: 1.3615 Generator Loss: 0.4526 Discriminator acc:0.7099\n",
            "Epoch:  57/100 Discriminator Loss: 1.2831 Generator Loss: 0.4648 Discriminator acc:0.7030\n",
            "Epoch:  58/100 Discriminator Loss: 1.3279 Generator Loss: 0.4524 Discriminator acc:0.6872\n",
            "Epoch:  59/100 Discriminator Loss: 1.2653 Generator Loss: 0.4656 Discriminator acc:0.7010\n",
            "Epoch:  60/100 Discriminator Loss: 1.3253 Generator Loss: 0.4685 Discriminator acc:0.7014\n",
            "Epoch:  61/100 Discriminator Loss: 1.3500 Generator Loss: 0.4623 Discriminator acc:0.6856\n",
            "Epoch:  62/100 Discriminator Loss: 1.3404 Generator Loss: 0.4603 Discriminator acc:0.7076\n",
            "Epoch:  63/100 Discriminator Loss: 1.2397 Generator Loss: 0.5072 Discriminator acc:0.6956\n",
            "Epoch:  64/100 Discriminator Loss: 1.2535 Generator Loss: 0.4842 Discriminator acc:0.6864\n",
            "Epoch:  65/100 Discriminator Loss: 1.3605 Generator Loss: 0.4394 Discriminator acc:0.6904\n",
            "Epoch:  66/100 Discriminator Loss: 1.3487 Generator Loss: 0.4670 Discriminator acc:0.6908\n",
            "Epoch:  67/100 Discriminator Loss: 1.3136 Generator Loss: 0.4483 Discriminator acc:0.6900\n",
            "Epoch:  68/100 Discriminator Loss: 1.2781 Generator Loss: 0.4773 Discriminator acc:0.6884\n",
            "Epoch:  69/100 Discriminator Loss: 1.3465 Generator Loss: 0.4547 Discriminator acc:0.7016\n",
            "Epoch:  70/100 Discriminator Loss: 1.1954 Generator Loss: 0.4724 Discriminator acc:0.7049\n",
            "Epoch:  71/100 Discriminator Loss: 1.2791 Generator Loss: 0.4857 Discriminator acc:0.6782\n",
            "Epoch:  72/100 Discriminator Loss: 1.2470 Generator Loss: 0.4455 Discriminator acc:0.6880\n",
            "Epoch:  73/100 Discriminator Loss: 1.3213 Generator Loss: 0.5144 Discriminator acc:0.6819\n",
            "Epoch:  74/100 Discriminator Loss: 1.2170 Generator Loss: 0.4931 Discriminator acc:0.6903\n",
            "Epoch:  75/100 Discriminator Loss: 1.2451 Generator Loss: 0.5017 Discriminator acc:0.6690\n",
            "Epoch:  76/100 Discriminator Loss: 1.3244 Generator Loss: 0.4787 Discriminator acc:0.6528\n",
            "Epoch:  77/100 Discriminator Loss: 1.2057 Generator Loss: 0.5022 Discriminator acc:0.6591\n",
            "Epoch:  78/100 Discriminator Loss: 1.2139 Generator Loss: 0.4941 Discriminator acc:0.6633\n",
            "Epoch:  79/100 Discriminator Loss: 1.2016 Generator Loss: 0.5266 Discriminator acc:0.6525\n",
            "Epoch:  80/100 Discriminator Loss: 1.1661 Generator Loss: 0.5041 Discriminator acc:0.6563\n",
            "Epoch:  81/100 Discriminator Loss: 1.2581 Generator Loss: 0.5012 Discriminator acc:0.6566\n",
            "Epoch:  82/100 Discriminator Loss: 1.1934 Generator Loss: 0.5048 Discriminator acc:0.6615\n",
            "Epoch:  83/100 Discriminator Loss: 1.2726 Generator Loss: 0.4846 Discriminator acc:0.6649\n",
            "Epoch:  84/100 Discriminator Loss: 1.2819 Generator Loss: 0.4997 Discriminator acc:0.6647\n",
            "Epoch:  85/100 Discriminator Loss: 1.2771 Generator Loss: 0.4852 Discriminator acc:0.6709\n",
            "Epoch:  86/100 Discriminator Loss: 1.2764 Generator Loss: 0.5038 Discriminator acc:0.6650\n",
            "Epoch:  87/100 Discriminator Loss: 1.2477 Generator Loss: 0.4984 Discriminator acc:0.6660\n",
            "Epoch:  88/100 Discriminator Loss: 1.3145 Generator Loss: 0.4717 Discriminator acc:0.6686\n",
            "Epoch:  89/100 Discriminator Loss: 1.2141 Generator Loss: 0.4896 Discriminator acc:0.6686\n",
            "Epoch:  90/100 Discriminator Loss: 1.2341 Generator Loss: 0.4854 Discriminator acc:0.6686\n",
            "Epoch:  91/100 Discriminator Loss: 1.2467 Generator Loss: 0.4965 Discriminator acc:0.6676\n",
            "Epoch:  92/100 Discriminator Loss: 1.3643 Generator Loss: 0.4745 Discriminator acc:0.6702\n",
            "Epoch:  93/100 Discriminator Loss: 1.2920 Generator Loss: 0.4694 Discriminator acc:0.6809\n",
            "Epoch:  94/100 Discriminator Loss: 1.3013 Generator Loss: 0.4906 Discriminator acc:0.6741\n",
            "Epoch:  95/100 Discriminator Loss: 1.2566 Generator Loss: 0.4807 Discriminator acc:0.6852\n",
            "Epoch:  96/100 Discriminator Loss: 1.2731 Generator Loss: 0.4881 Discriminator acc:0.6729\n",
            "Epoch:  97/100 Discriminator Loss: 1.3294 Generator Loss: 0.4846 Discriminator acc:0.6839\n",
            "Epoch:  98/100 Discriminator Loss: 1.2987 Generator Loss: 0.4902 Discriminator acc:0.6719\n",
            "Epoch:  99/100 Discriminator Loss: 1.2598 Generator Loss: 0.4863 Discriminator acc:0.6713\n",
            "Epoch: 100/100 Discriminator Loss: 1.2389 Generator Loss: 0.4880 Discriminator acc:0.6777\n"
          ]
        }
      ]
    },
    {
      "cell_type": "code",
      "source": [
        "losses = np.array(losses)\n",
        "\n",
        "fig, ax = plt.subplots()\n",
        "plt.plot(losses.T[0], label='Discriminator')\n",
        "plt.plot(losses.T[1], label='Generator')\n",
        "plt.title(\"Training Losses\")\n",
        "plt.legend()\n",
        "plt.show()"
      ],
      "metadata": {
        "colab": {
          "base_uri": "https://localhost:8080/",
          "height": 281
        },
        "id": "j9SxzBMk6NWq",
        "outputId": "e10f0900-1eeb-4c78-9790-52ba7d822eb9"
      },
      "execution_count": null,
      "outputs": [
        {
          "output_type": "display_data",
          "data": {
            "image/png": "[encoded data removed]",
            "text/plain": [
              "<Figure size 432x288 with 1 Axes>"
            ]
          },
          "metadata": {
            "needs_background": "light"
          }
        }
      ]
    },
    {
      "cell_type": "code",
      "source": [
        "rr = discriminator.predict_on_batch(X_test_real)"
      ],
      "metadata": {
        "id": "zXXEOVwV6PIA"
      },
      "execution_count": null,
      "outputs": []
    },
    {
      "cell_type": "code",
      "source": [
        "import keras\n",
        "#import keras_metrics\n",
        "\n",
        "r = tf.keras.metrics.Recall()#thresholds=rr.min())\n",
        "r.update_state(y_test,rr )\n",
        "r.result().numpy()\n"
      ],
      "metadata": {
        "colab": {
          "base_uri": "https://localhost:8080/"
        },
        "id": "XLluSyTA6Q8F",
        "outputId": "d0b17d3a-0bc4-4e74-ce62-54b266a76e8f"
      },
      "execution_count": null,
      "outputs": [
        {
          "output_type": "execute_result",
          "data": {
            "text/plain": [
              "0.99529254"
            ]
          },
          "metadata": {},
          "execution_count": 28
        }
      ]
    },
    {
      "cell_type": "code",
      "source": [
        "p=tf.keras.metrics.Precision()#thresholds=rr.min())\n",
        "p.update_state(y_test,rr )\n",
        "p.result().numpy()"
      ],
      "metadata": {
        "colab": {
          "base_uri": "https://localhost:8080/"
        },
        "id": "HjPrcKZp6SRd",
        "outputId": "3dd248fd-8319-4175-cff2-af1a61fa9524"
      },
      "execution_count": null,
      "outputs": [
        {
          "output_type": "execute_result",
          "data": {
            "text/plain": [
              "0.9912927"
            ]
          },
          "metadata": {},
          "execution_count": 29
        }
      ]
    },
    {
      "cell_type": "code",
      "source": [
        "from sklearn.datasets import make_classification\n",
        "from sklearn.linear_model import LogisticRegression\n",
        "from sklearn.model_selection import train_test_split\n",
        "from matplotlib import pyplot\n",
        "from sklearn.metrics import roc_auc_score\n",
        "from sklearn.metrics import roc_curve\n",
        "\n",
        "\n",
        "\n",
        "yhat = discriminator.predict_on_batch(X_test_real)\n",
        "pos_probs = yhat[:, :]\n",
        "pyplot.plot([0, 1], [0, 1], linestyle='--')\n",
        "fpr, tpr, _ = roc_curve(y_test, pos_probs)\n",
        "pyplot.plot(fpr, tpr, marker='.', label='GAN')\n",
        "pyplot.xlabel('False Positive Rate')\n",
        "pyplot.ylabel('True Positive Rate')\n",
        "pyplot.legend()\n",
        "pyplot.show()\n",
        "\n",
        "roc_auc = roc_auc_score(y_test, pos_probs)\n",
        "print('\\n','Logistic ROC AUC %.3f' % roc_auc)"
      ],
      "metadata": {
        "colab": {
          "base_uri": "https://localhost:8080/",
          "height": 316
        },
        "id": "h4UR4YSuMXRz",
        "outputId": "c5b9ea78-1a99-415e-e7e9-7f4ae52632da"
      },
      "execution_count": null,
      "outputs": [
        {
          "output_type": "display_data",
          "data": {
            "image/png": "[encoded data removed]",
            "text/plain": [
              "<Figure size 432x288 with 1 Axes>"
            ]
          },
          "metadata": {
            "needs_background": "light"
          }
        },
        {
          "output_type": "stream",
          "name": "stdout",
          "text": [
            "\n",
            " Logistic ROC AUC 0.473\n"
          ]
        }
      ]
    }
  ]
}