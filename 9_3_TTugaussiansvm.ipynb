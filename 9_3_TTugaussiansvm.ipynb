{
  "nbformat": 4,
  "nbformat_minor": 0,
  "metadata": {
    "colab": {
      "name": "9.3/TTugaussiansvm.ipynb",
      "provenance": [],
      "authorship_tag": "ABX9TyOKVd7XEX1lctPzLzIw6BK5",
      "include_colab_link": true
    },
    "kernelspec": {
      "name": "python3",
      "display_name": "Python 3"
    },
    "language_info": {
      "name": "python"
    }
  },
  "cells": [
    {
      "cell_type": "markdown",
      "metadata": {
        "id": "view-in-github",
        "colab_type": "text"
      },
      "source": [
        "<a href=\"https://colab.research.google.com/github/jnsbrdbr/final_thesis/blob/main/9_3_TTugaussiansvm.ipynb\" target=\"_parent\"><img src=\"https://colab.research.google.com/assets/colab-badge.svg\" alt=\"Open In Colab\"/></a>"
      ]
    },
    {
      "cell_type": "code",
      "execution_count": 1,
      "metadata": {
        "id": "tjbLzBiDCCdd"
      },
      "outputs": [],
      "source": [
        "import numpy as np\n",
        "import pandas as pd\n",
        "import seaborn as sns\n",
        "import matplotlib.pyplot as plt\n",
        "\n",
        "from sklearn.metrics import jaccard_score\n",
        "from scipy.spatial.distance import pdist, squareform"
      ]
    },
    {
      "cell_type": "code",
      "source": [
        "from google.colab import drive\n",
        "drive.mount('/content/drive') "
      ],
      "metadata": {
        "colab": {
          "base_uri": "https://localhost:8080/"
        },
        "id": "jMW6ZH-NNjG6",
        "outputId": "5f50fcea-0cb6-485f-dd1a-e374be3d6ed8"
      },
      "execution_count": 2,
      "outputs": [
        {
          "output_type": "stream",
          "name": "stdout",
          "text": [
            "Drive already mounted at /content/drive; to attempt to forcibly remount, call drive.mount(\"/content/drive\", force_remount=True).\n"
          ]
        }
      ]
    },
    {
      "cell_type": "code",
      "source": [
        "!pip3 install pickle5\n",
        "import pickle5 as pickle"
      ],
      "metadata": {
        "colab": {
          "base_uri": "https://localhost:8080/"
        },
        "id": "1ORF3K52Nq1f",
        "outputId": "b51f3252-4216-4cc1-fac7-7885f79f6858"
      },
      "execution_count": 3,
      "outputs": [
        {
          "output_type": "stream",
          "name": "stdout",
          "text": [
            "Requirement already satisfied: pickle5 in /usr/local/lib/python3.7/dist-packages (0.0.12)\n"
          ]
        }
      ]
    },
    {
      "cell_type": "code",
      "source": [
        "with open('/content/drive/MyDrive/10000/Tresult.pkl', \"rb\") as fh:\n",
        "  result = pickle.load(fh)"
      ],
      "metadata": {
        "id": "mQcj7zNKNtjj"
      },
      "execution_count": 4,
      "outputs": []
    },
    {
      "cell_type": "code",
      "source": [
        "#final data\n",
        "print(result)"
      ],
      "metadata": {
        "colab": {
          "base_uri": "https://localhost:8080/"
        },
        "id": "wmFVzXWlNvY3",
        "outputId": "d1e0f406-a800-4902-ab78-065df7882586"
      },
      "execution_count": 5,
      "outputs": [
        {
          "output_type": "stream",
          "name": "stdout",
          "text": [
            "               0         1         2         3         4         5         6  \\\n",
            "0      -2.178515 -3.260148 -0.698552 -1.030417 -0.723180 -1.027433 -0.405889   \n",
            "1      -2.178515 -3.260148 -0.698552 -1.030417 -0.723180 -1.027433 -0.405889   \n",
            "2      -2.178515 -3.260148 -0.698552 -1.030417 -0.723180 -1.027433 -0.405889   \n",
            "3      -2.178515 -3.260148 -0.698552 -1.030417 -0.723180 -1.027433 -0.405889   \n",
            "4      -2.178710 -3.260547 -0.698874 -1.030967 -0.723695 -1.028303 -0.406622   \n",
            "...          ...       ...       ...       ...       ...       ...       ...   \n",
            "13209  -2.178515 -3.260148 -0.698552 -1.030417 -0.723180 -1.027433 -0.405889   \n",
            "13210  -2.178515 -3.260148 -0.698552 -1.030417 -0.723180 -1.027433 -0.405889   \n",
            "13211  -2.178515 -3.260148 -0.698552 -1.030417 -0.723180 -1.027433 -0.405889   \n",
            "13212  -2.178515 -3.260148 -0.698552 -1.030417 -0.723180 -1.027433 -0.405889   \n",
            "13213  27.606119  6.905609  0.154864  0.191890  0.097248  0.114301  0.021144   \n",
            "\n",
            "              7         8         9  ...          1         2         3  \\\n",
            "0     -0.059185 -0.526790 -0.190040  ...   0.452139 -1.203407 -0.183899   \n",
            "1     -0.059185 -0.526790 -0.190040  ...   0.452139 -1.203407 -0.183899   \n",
            "2     -0.059185 -0.526790 -0.190040  ...   0.452139 -1.203407 -0.183899   \n",
            "3     -0.059185 -0.526790 -0.190040  ...   0.452139 -1.203407 -0.183899   \n",
            "4     -0.059394 -0.528048 -0.191038  ...  -7.508892  7.994602  0.226101   \n",
            "...         ...       ...       ...  ...        ...       ...       ...   \n",
            "13209 -0.059185 -0.526790 -0.190040  ...   1.554089 -4.346298  9.404540   \n",
            "13210 -0.059185 -0.526790 -0.190040  ...   0.599942 -1.505019 -0.218230   \n",
            "13211 -0.059185 -0.526790 -0.190040  ...  -8.533632  9.178701  0.278730   \n",
            "13212 -0.059185 -0.526790 -0.190040  ...  -8.533631  9.178698  0.278730   \n",
            "13213  0.002302  0.020160  0.004991  ... -11.890588  4.271539  0.100003   \n",
            "\n",
            "              4         5         6         7         8         9  label  \n",
            "0     -0.438911 -0.266164 -0.544673 -0.224884 -0.068575 -0.230930      1  \n",
            "1     -0.438911 -0.266164 -0.544673 -0.224884 -0.068575 -0.230930      1  \n",
            "2     -0.438911 -0.266164 -0.544673 -0.224884 -0.068575 -0.230930      1  \n",
            "3     -0.438911 -0.266164 -0.544673 -0.224884 -0.068575 -0.230930      1  \n",
            "4      0.991238  0.482262  0.829106  0.246306  0.048557  0.160622      1  \n",
            "...         ...       ...       ...       ...       ...       ...    ...  \n",
            "13209  4.676083  1.038614  1.272721  0.249463  0.046943  0.150109      0  \n",
            "13210 -0.586787 -0.370000 -0.787776 -0.380601 -0.129873 -0.451315      0  \n",
            "13211  1.177091  0.579516  1.007372  0.308708  0.063843  0.211098      0  \n",
            "13212  1.177090  0.579515  1.007370  0.308707  0.063843  0.211097      0  \n",
            "13213  0.324583  0.150424  0.249943  0.068055  0.013998  0.046459      0  \n",
            "\n",
            "[13214 rows x 101 columns]\n"
          ]
        }
      ]
    },
    {
      "cell_type": "code",
      "source": [
        "import copy\n",
        "result_nonlabel=copy.deepcopy(result)\n",
        "del result_nonlabel['label']\n",
        "X=result_nonlabel\n",
        "y=result.label"
      ],
      "metadata": {
        "id": "u_zBIzwNN5tE"
      },
      "execution_count": 6,
      "outputs": []
    },
    {
      "cell_type": "code",
      "source": [
        "from sklearn.model_selection import train_test_split\n",
        "x_train, x_test, y_train, y_test = train_test_split(X, y, test_size=0.3,\n",
        "                                                    shuffle=True)"
      ],
      "metadata": {
        "id": "NjqqJyHnN8t9"
      },
      "execution_count": 7,
      "outputs": []
    },
    {
      "cell_type": "code",
      "source": [
        "from sklearn.gaussian_process import GaussianProcessClassifier\n",
        "from sklearn.gaussian_process.kernels import RBF\n",
        "from sklearn import svm\n",
        "\n",
        "k=svm.SVC(kernel=\"rbf\", gamma=0.0001, C=10, probability=True)\n",
        "gpc = k.fit(x_train, y_train)"
      ],
      "metadata": {
        "id": "i7boPREdN-1l"
      },
      "execution_count": 8,
      "outputs": []
    },
    {
      "cell_type": "code",
      "source": [
        "predictions = gpc.predict(x_test)\n",
        "score = gpc.score(x_test, y_test)\n",
        "print(score)"
      ],
      "metadata": {
        "colab": {
          "base_uri": "https://localhost:8080/"
        },
        "id": "0nLQ18ygOBz1",
        "outputId": "f4a79373-a988-498b-9f86-c526cf31a2bc"
      },
      "execution_count": 9,
      "outputs": [
        {
          "output_type": "stream",
          "name": "stdout",
          "text": [
            "0.9679697351828499\n"
          ]
        }
      ]
    },
    {
      "cell_type": "code",
      "source": [
        "import matplotlib.pyplot as plt\n",
        "import seaborn as sns\n",
        "from sklearn import metrics\n",
        "\n",
        "\n",
        "\n",
        "confusion_matrix = pd.crosstab(y_test, predictions, rownames=['Actual'], colnames=['Predicted'])\n",
        "sns.heatmap(confusion_matrix, annot=True)\n"
      ],
      "metadata": {
        "colab": {
          "base_uri": "https://localhost:8080/",
          "height": 297
        },
        "id": "Y3Vo9sYOOERO",
        "outputId": "def2f887-3b42-4568-8792-4b182fbd6b5d"
      },
      "execution_count": 10,
      "outputs": [
        {
          "output_type": "execute_result",
          "data": {
            "text/plain": [
              "<matplotlib.axes._subplots.AxesSubplot at 0x7fe59aac8d50>"
            ]
          },
          "metadata": {},
          "execution_count": 10
        },
        {
          "output_type": "display_data",
          "data": {
            "image/png": "[encoded data removed]",
            "text/plain": [
              "<Figure size 432x288 with 2 Axes>"
            ]
          },
          "metadata": {
            "needs_background": "light"
          }
        }
      ]
    },
    {
      "cell_type": "code",
      "source": [
        "from sklearn.metrics import confusion_matrix\n",
        "\n",
        "tn, fp, fn, tp = confusion_matrix(y_test, predictions).ravel()\n",
        "print(f'True Positives: {tp}')\n",
        "print(f'False Positives: {fp}')\n",
        "print(f'True Negatives: {tn}')\n",
        "print(f'False Negatives: {fn}')"
      ],
      "metadata": {
        "colab": {
          "base_uri": "https://localhost:8080/"
        },
        "id": "2gXt9oc8OF5B",
        "outputId": "c6f77eab-a468-4531-8e0a-221aa30735b8"
      },
      "execution_count": 11,
      "outputs": [
        {
          "output_type": "stream",
          "name": "stdout",
          "text": [
            "True Positives: 2983\n",
            "False Positives: 120\n",
            "True Negatives: 855\n",
            "False Negatives: 7\n"
          ]
        }
      ]
    },
    {
      "cell_type": "code",
      "source": [
        "print('Accuracy: ',metrics.accuracy_score(y_test, predictions))"
      ],
      "metadata": {
        "colab": {
          "base_uri": "https://localhost:8080/"
        },
        "id": "ppy0N96IOK11",
        "outputId": "d03ecf99-b630-4add-97d6-3cb2ba7f07bb"
      },
      "execution_count": 12,
      "outputs": [
        {
          "output_type": "stream",
          "name": "stdout",
          "text": [
            "Accuracy:  0.9679697351828499\n"
          ]
        }
      ]
    },
    {
      "cell_type": "code",
      "source": [
        "from numpy import mean\n",
        "from numpy import std\n",
        "from sklearn.model_selection import KFold\n",
        "from sklearn.model_selection import cross_val_score\n",
        "import warnings\n",
        "warnings.filterwarnings('ignore') \n",
        "\n",
        "cv = KFold(n_splits=10, shuffle=True)# x_train, y_train, random_state=42\n",
        "scores = cross_val_score(k,X, y, scoring='accuracy', cv=cv)#,n_jobs=-1\n",
        "\n",
        "print('Accuracy: %.3f (%.3f)' % (mean(scores), std(scores)))"
      ],
      "metadata": {
        "colab": {
          "base_uri": "https://localhost:8080/"
        },
        "id": "JICx42I8ONVa",
        "outputId": "ac53e94e-3eda-4e74-8d7d-92f4d40c75cf"
      },
      "execution_count": 13,
      "outputs": [
        {
          "output_type": "stream",
          "name": "stdout",
          "text": [
            "Accuracy: 0.972 (0.006)\n"
          ]
        }
      ]
    },
    {
      "cell_type": "code",
      "source": [
        "#recall\n",
        "\n",
        "from numpy import mean\n",
        "from numpy import std\n",
        "from sklearn.model_selection import KFold\n",
        "from sklearn.model_selection import cross_val_score,cross_val_predict\n",
        "import warnings\n",
        "warnings.filterwarnings('ignore') \n",
        "\n",
        "cv = KFold(n_splits=10, shuffle=True)#, random_state=42\n",
        "scores_recall = cross_val_score(k,X, y, scoring='recall', cv=cv)#,n_jobs=-1\n",
        "\n",
        "print('scores_recall: %.3f (%.3f)' % (mean(scores_recall), std(scores_recall)))"
      ],
      "metadata": {
        "colab": {
          "base_uri": "https://localhost:8080/"
        },
        "id": "1O_xtPFjPQgY",
        "outputId": "3675eacb-f881-489d-c2b3-087469a76104"
      },
      "execution_count": 14,
      "outputs": [
        {
          "output_type": "stream",
          "name": "stdout",
          "text": [
            "scores_recall: 0.998 (0.002)\n"
          ]
        }
      ]
    },
    {
      "cell_type": "code",
      "source": [
        "#precision\n",
        "\n",
        "from numpy import mean\n",
        "from numpy import std\n",
        "from sklearn.model_selection import KFold\n",
        "from sklearn.model_selection import cross_val_score\n",
        "import warnings\n",
        "warnings.filterwarnings('ignore') \n",
        "\n",
        "cv = KFold(n_splits=10, shuffle=True)#, random_state=42\n",
        "scores_precision = cross_val_score(k, X, y, scoring='precision', cv=cv)#,n_jobs=-1\n",
        "\n",
        "print('scores_precision: %.3f (%.3f)' % (mean(scores_precision), std(scores_precision)))"
      ],
      "metadata": {
        "colab": {
          "base_uri": "https://localhost:8080/"
        },
        "id": "fbQlptUCPeI-",
        "outputId": "f332cef0-db49-4c75-f153-3ebff14fbbce"
      },
      "execution_count": 15,
      "outputs": [
        {
          "output_type": "stream",
          "name": "stdout",
          "text": [
            "scores_precision: 0.965 (0.004)\n"
          ]
        }
      ]
    },
    {
      "cell_type": "code",
      "source": [
        "from sklearn.datasets import make_classification\n",
        "from sklearn.linear_model import LogisticRegression\n",
        "from sklearn.model_selection import train_test_split\n",
        "from matplotlib import pyplot\n",
        "from sklearn.metrics import roc_auc_score\n",
        "from sklearn.metrics import roc_curve\n",
        "\n",
        "\n",
        "k=svm.SVC(kernel=\"rbf\", gamma=0.0001, C=10, probability=True)\n",
        "k.fit(x_train, y_train)\n",
        "yhat = k.predict_proba(x_test)\n",
        "pos_probs = yhat[:, 1]\n",
        "pyplot.plot([0, 1], [0, 1], linestyle='--')\n",
        "fpr, tpr, _ = roc_curve(y_test, pos_probs)\n",
        "pyplot.plot(fpr, tpr, marker='.', label='rbf')\n",
        "pyplot.xlabel('False Positive Rate')\n",
        "pyplot.ylabel('True Positive Rate')\n",
        "pyplot.legend()\n",
        "pyplot.show()\n",
        "\n",
        "roc_auc = roc_auc_score(y_test, pos_probs)\n",
        "print('\\n','Logistic ROC AUC %.3f' % roc_auc)"
      ],
      "metadata": {
        "colab": {
          "base_uri": "https://localhost:8080/",
          "height": 316
        },
        "id": "G1UMm6aiPvzA",
        "outputId": "de3f673d-adcc-49d3-9101-eaa4e2ee674c"
      },
      "execution_count": 16,
      "outputs": [
        {
          "output_type": "display_data",
          "data": {
            "image/png": "[encoded data removed]",
            "text/plain": [
              "<Figure size 432x288 with 1 Axes>"
            ]
          },
          "metadata": {
            "needs_background": "light"
          }
        },
        {
          "output_type": "stream",
          "name": "stdout",
          "text": [
            "\n",
            " Logistic ROC AUC 0.985\n"
          ]
        }
      ]
    },
    {
      "cell_type": "code",
      "source": [
        "#Importing required libraries\n",
        "from sklearn.model_selection import KFold \n",
        "from sklearn.datasets import load_breast_cancer\n",
        "from sklearn.linear_model import LogisticRegression\n",
        "from sklearn.metrics import accuracy_score\n",
        "from sklearn.metrics import confusion_matrix\n",
        " \n",
        "#data = load_breast_cancer(as_frame = True)\n",
        "#df = result.frame\n",
        "#X = result.iloc[:,:-1]\n",
        "#y = result.iloc[:,-1]\n",
        " \n",
        "#Implementing cross validation\n",
        " \n",
        "#X = X.sample(frac = 1)\n",
        "#y= y.sample(frac = 1)\n",
        "kf = KFold(n_splits=10)#, random_state=None\n",
        "model = svm.SVC(kernel=\"rbf\", gamma=0.0001, C=10)\n",
        " \n",
        "acc_score = list()\n",
        "res_tpr = list()\n",
        "res_fpr = list()\n",
        "for train_index , test_index in kf.split(X):\n",
        "    #X_train , X_test = X.iloc[train_index,:],X.iloc[test_index,:]\n",
        "    #y_train , y_test = y[train_index] , y[test_index]\n",
        "    X_train, X_test, y_train, y_test = train_test_split(X, y, test_size=0.3)\n",
        "    model.fit(X_train,y_train)\n",
        "    pred_values = model.predict(X_test)\n",
        "    tn, fp, fn, tp = confusion_matrix(y_test, pred_values, labels=[0, 1]).ravel()\n",
        "    print(f'True Positives: {tp}')\n",
        "    print(f'False Positives: {fp}')\n",
        "    print(f'True Negatives: {tn}')\n",
        "    print(f'False Negatives: {fn}')\n",
        "    tpr=(np.divide(tp,(tp+fn)))\n",
        "    fpr=(np.divide(fp,(fp+tn)))\n",
        "    if tp==0:\n",
        "      tpr=0\n",
        "    if fp==0:\n",
        "      fpr=0\n",
        "\n",
        "    print('fpr=%.3f' % (mean(fpr)))#tpr=%.4f : mean(tpr), \n",
        "    print('x')\n",
        "    res_tpr.append(mean(tpr))\n",
        "    res_fpr.append(mean(fpr))\n",
        "    print('---------------------')\n",
        "\n",
        "    acc = accuracy_score(pred_values , y_test)\n",
        "    acc_score.append(acc)\n",
        "     \n",
        "avg_acc_score = np.sum(acc_score)/10\n",
        "total_tpr=np.sum(res_tpr)/10\n",
        "total_fpr=np.sum(res_fpr)/10\n",
        "print('\\n\\n','total_fpr=%.3f' % (total_fpr))# total_tpr=%.4f :total_tpr,\n"
      ],
      "metadata": {
        "colab": {
          "base_uri": "https://localhost:8080/"
        },
        "id": "OFs9WdPyP0RA",
        "outputId": "1a0d3473-80c6-41c1-ce62-bb3abc8b2dd0"
      },
      "execution_count": 17,
      "outputs": [
        {
          "output_type": "stream",
          "name": "stdout",
          "text": [
            "True Positives: 2986\n",
            "False Positives: 128\n",
            "True Negatives: 844\n",
            "False Negatives: 7\n",
            "fpr=0.132\n",
            "x\n",
            "---------------------\n",
            "True Positives: 3012\n",
            "False Positives: 119\n",
            "True Negatives: 828\n",
            "False Negatives: 6\n",
            "fpr=0.126\n",
            "x\n",
            "---------------------\n",
            "True Positives: 2960\n",
            "False Positives: 107\n",
            "True Negatives: 893\n",
            "False Negatives: 5\n",
            "fpr=0.107\n",
            "x\n",
            "---------------------\n",
            "True Positives: 2967\n",
            "False Positives: 94\n",
            "True Negatives: 899\n",
            "False Negatives: 5\n",
            "fpr=0.095\n",
            "x\n",
            "---------------------\n",
            "True Positives: 2957\n",
            "False Positives: 125\n",
            "True Negatives: 880\n",
            "False Negatives: 3\n",
            "fpr=0.124\n",
            "x\n",
            "---------------------\n",
            "True Positives: 2995\n",
            "False Positives: 104\n",
            "True Negatives: 860\n",
            "False Negatives: 6\n",
            "fpr=0.108\n",
            "x\n",
            "---------------------\n",
            "True Positives: 2937\n",
            "False Positives: 108\n",
            "True Negatives: 916\n",
            "False Negatives: 4\n",
            "fpr=0.105\n",
            "x\n",
            "---------------------\n",
            "True Positives: 3004\n",
            "False Positives: 102\n",
            "True Negatives: 855\n",
            "False Negatives: 4\n",
            "fpr=0.107\n",
            "x\n",
            "---------------------\n",
            "True Positives: 2953\n",
            "False Positives: 113\n",
            "True Negatives: 894\n",
            "False Negatives: 5\n",
            "fpr=0.112\n",
            "x\n",
            "---------------------\n",
            "True Positives: 2958\n",
            "False Positives: 98\n",
            "True Negatives: 900\n",
            "False Negatives: 9\n",
            "fpr=0.098\n",
            "x\n",
            "---------------------\n",
            "\n",
            "\n",
            " total_fpr=0.111\n"
          ]
        }
      ]
    }
  ]
}