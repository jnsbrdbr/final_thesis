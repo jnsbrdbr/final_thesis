{
  "nbformat": 4,
  "nbformat_minor": 0,
  "metadata": {
    "colab": {
      "name": "7.2_GanUnsmote.ipynb",
      "provenance": [],
      "authorship_tag": "ABX9TyOHo06IN5dFsTCKHmJbOOw8",
      "include_colab_link": true
    },
    "kernelspec": {
      "name": "python3",
      "display_name": "Python 3"
    },
    "language_info": {
      "name": "python"
    }
  },
  "cells": [
    {
      "cell_type": "markdown",
      "metadata": {
        "id": "view-in-github",
        "colab_type": "text"
      },
      "source": [
        "<a href=\"https://colab.research.google.com/github/jnsbrdbr/final_thesis/blob/main/7_2_GanUnsmote.ipynb\" target=\"_parent\"><img src=\"https://colab.research.google.com/assets/colab-badge.svg\" alt=\"Open In Colab\"/></a>"
      ]
    },
    {
      "cell_type": "code",
      "execution_count": 1,
      "metadata": {
        "colab": {
          "base_uri": "https://localhost:8080/"
        },
        "id": "TedFoYnP5Wjt",
        "outputId": "ad32f837-d31e-430d-996d-7f8b70c44a3c"
      },
      "outputs": [
        {
          "output_type": "stream",
          "name": "stdout",
          "text": [
            "`%tensorflow_version` only switches the major version: 1.x or 2.x.\n",
            "You set: `2.x  # Colab only.`. This will be interpreted as: `2.x`.\n",
            "\n",
            "\n",
            "TensorFlow 2.x selected.\n",
            "2.8.0\n"
          ]
        }
      ],
      "source": [
        "# Install TensorFlow\n",
        "# !pip install -q tensorflow-gpu==2.0.0-rc0\n",
        "\n",
        "try:\n",
        "  %tensorflow_version 2.x  # Colab only.\n",
        "except Exception:\n",
        "  pass\n",
        "\n",
        "import tensorflow as tf\n",
        "print(tf.__version__)"
      ]
    },
    {
      "cell_type": "code",
      "source": [
        "import keras\n",
        "from keras.layers import Input, Dense, Activation, LeakyReLU, BatchNormalization\n",
        "from keras.models import Sequential\n",
        "from tensorflow.keras.optimizers import Adam\n",
        "from sklearn.model_selection import train_test_split\n",
        "from tensorflow.keras.models import Model\n",
        "import keras.backend as K\n",
        "import numpy as np\n",
        "import pandas as pd\n",
        "import matplotlib.pyplot as plt\n",
        "import sys, os\n",
        "\n",
        "%matplotlib inline"
      ],
      "metadata": {
        "id": "dVJbVj-27-iL"
      },
      "execution_count": 2,
      "outputs": []
    },
    {
      "cell_type": "code",
      "source": [
        "from google.colab import drive\n",
        "drive.mount('/content/drive') "
      ],
      "metadata": {
        "colab": {
          "base_uri": "https://localhost:8080/"
        },
        "id": "hHyGZgXT8A6q",
        "outputId": "2067f598-a5dc-4c7c-ca73-ce9be7b8cbe7"
      },
      "execution_count": 3,
      "outputs": [
        {
          "output_type": "stream",
          "name": "stdout",
          "text": [
            "Mounted at /content/drive\n"
          ]
        }
      ]
    },
    {
      "cell_type": "code",
      "source": [
        "!pip3 install pickle5\n",
        "import pickle5 as pickle"
      ],
      "metadata": {
        "colab": {
          "base_uri": "https://localhost:8080/"
        },
        "id": "VaqFN78G8Hdv",
        "outputId": "9620bd02-8eb6-41ca-fcd7-22574e9c7d52"
      },
      "execution_count": 4,
      "outputs": [
        {
          "output_type": "stream",
          "name": "stdout",
          "text": [
            "Collecting pickle5\n",
            "  Downloading pickle5-0.0.12-cp37-cp37m-manylinux_2_5_x86_64.manylinux1_x86_64.whl (256 kB)\n",
            "\u001b[?25l\r\u001b[K     |█▎                              | 10 kB 16.6 MB/s eta 0:00:01\r\u001b[K     |██▋                             | 20 kB 8.9 MB/s eta 0:00:01\r\u001b[K     |███▉                            | 30 kB 7.5 MB/s eta 0:00:01\r\u001b[K     |█████▏                          | 40 kB 3.6 MB/s eta 0:00:01\r\u001b[K     |██████▍                         | 51 kB 3.5 MB/s eta 0:00:01\r\u001b[K     |███████▊                        | 61 kB 4.2 MB/s eta 0:00:01\r\u001b[K     |█████████                       | 71 kB 4.4 MB/s eta 0:00:01\r\u001b[K     |██████████▎                     | 81 kB 3.4 MB/s eta 0:00:01\r\u001b[K     |███████████▌                    | 92 kB 3.7 MB/s eta 0:00:01\r\u001b[K     |████████████▉                   | 102 kB 4.1 MB/s eta 0:00:01\r\u001b[K     |██████████████                  | 112 kB 4.1 MB/s eta 0:00:01\r\u001b[K     |███████████████▍                | 122 kB 4.1 MB/s eta 0:00:01\r\u001b[K     |████████████████▋               | 133 kB 4.1 MB/s eta 0:00:01\r\u001b[K     |██████████████████              | 143 kB 4.1 MB/s eta 0:00:01\r\u001b[K     |███████████████████▏            | 153 kB 4.1 MB/s eta 0:00:01\r\u001b[K     |████████████████████▌           | 163 kB 4.1 MB/s eta 0:00:01\r\u001b[K     |█████████████████████▊          | 174 kB 4.1 MB/s eta 0:00:01\r\u001b[K     |███████████████████████         | 184 kB 4.1 MB/s eta 0:00:01\r\u001b[K     |████████████████████████▎       | 194 kB 4.1 MB/s eta 0:00:01\r\u001b[K     |█████████████████████████▋      | 204 kB 4.1 MB/s eta 0:00:01\r\u001b[K     |██████████████████████████▉     | 215 kB 4.1 MB/s eta 0:00:01\r\u001b[K     |████████████████████████████▏   | 225 kB 4.1 MB/s eta 0:00:01\r\u001b[K     |█████████████████████████████▍  | 235 kB 4.1 MB/s eta 0:00:01\r\u001b[K     |██████████████████████████████▊ | 245 kB 4.1 MB/s eta 0:00:01\r\u001b[K     |████████████████████████████████| 256 kB 4.1 MB/s eta 0:00:01\r\u001b[K     |████████████████████████████████| 256 kB 4.1 MB/s \n",
            "\u001b[?25hInstalling collected packages: pickle5\n",
            "Successfully installed pickle5-0.0.12\n"
          ]
        }
      ]
    },
    {
      "cell_type": "code",
      "source": [
        "with pd.HDFStore('/content/drive/MyDrive/1000/TUnsmote_result',  mode='r') as newstore:\n",
        "    result = newstore.select('result')"
      ],
      "metadata": {
        "id": "1IwapRcQ8JSH"
      },
      "execution_count": 5,
      "outputs": []
    },
    {
      "cell_type": "code",
      "source": [
        "#final data\n",
        "print(result)"
      ],
      "metadata": {
        "colab": {
          "base_uri": "https://localhost:8080/"
        },
        "id": "hmuSpxOu8gll",
        "outputId": "7f9de55f-998d-4897-e6f1-2f9f827d69dc"
      },
      "execution_count": 6,
      "outputs": [
        {
          "output_type": "stream",
          "name": "stdout",
          "text": [
            "            0         1         2             3             4         5  \\\n",
            "0   -1.715972 -3.099936 -0.041249  6.644563e-15 -4.921070e-14  0.077295   \n",
            "1   -1.715972 -3.099936 -0.041249  3.045569e-14 -7.800524e-14  0.077295   \n",
            "2   -1.715972 -3.099936 -0.041249 -1.496646e-13  2.954769e-13  0.077295   \n",
            "3   -1.715972 -3.099936 -0.041249  2.266833e-14 -1.476736e-13  0.077295   \n",
            "4   -1.715972 -3.099936 -0.041249  4.970204e-15 -3.353379e-14  0.077295   \n",
            "..        ...       ...       ...           ...           ...       ...   \n",
            "995 -2.114893 -4.572474 -0.754679 -6.555974e-14 -8.861794e-13  8.797502   \n",
            "996 -2.114893 -4.572474 -0.754679 -6.514700e-14 -8.864474e-13  8.797502   \n",
            "997 -2.114893 -4.572474 -0.754679 -6.524139e-14 -8.861148e-13  8.797502   \n",
            "998 -2.114893 -4.572474 -0.754679 -6.386130e-14 -8.857102e-13  8.797502   \n",
            "999 -2.114893 -4.572474 -0.754679 -6.629200e-14 -8.862672e-13  8.797502   \n",
            "\n",
            "            6         7             8             9  ...             1  \\\n",
            "0    1.691428  3.341114 -6.617491e-14 -1.580416e-14  ... -1.710973e-02   \n",
            "1    1.691428  3.341114 -1.678876e-13  7.543703e-14  ...  2.766115e-02   \n",
            "2    1.691428  3.341114 -2.850000e-13  1.039550e-13  ...  1.315343e-02   \n",
            "3    1.691428  3.341114  3.308250e-14 -4.520362e-14  ... -1.898571e-02   \n",
            "4    1.691428  3.341114  1.950294e-13 -1.338683e-13  ... -4.735854e-15   \n",
            "..        ...       ...           ...           ...  ...           ...   \n",
            "995 -0.661164 -0.063010 -5.077450e-02 -3.677221e-02  ... -2.834379e-03   \n",
            "996 -0.661164 -0.063010  1.586365e-03  2.938097e-04  ... -1.788174e-02   \n",
            "997 -0.661164 -0.063010 -1.652022e-02 -6.244098e-02  ... -1.400807e-03   \n",
            "998 -0.661164 -0.063010 -5.393837e-05 -3.339246e-02  ... -5.220032e-03   \n",
            "999 -0.661164 -0.063010 -6.200723e-02 -2.014443e-02  ...  4.460017e-02   \n",
            "\n",
            "                2             3             4             5             6  \\\n",
            "0   -4.980720e-03 -4.322913e-04  5.792405e-03 -4.067484e-03 -8.641461e-04   \n",
            "1   -2.373208e-04 -1.087901e-02  2.123240e-02  1.311877e-02 -7.153596e-03   \n",
            "2    8.376536e-03  2.637331e-03  2.307564e-02  1.995494e-02  7.840342e-03   \n",
            "3    1.591437e-02  1.285703e-02  3.754061e-03 -9.459640e-03  1.492145e-03   \n",
            "4   -3.864219e-15  5.846452e-15 -1.215050e-15 -1.056757e-13 -9.289040e-16   \n",
            "..            ...           ...           ...           ...           ...   \n",
            "995  1.176805e-03  1.046705e-02  1.653048e-02 -1.811275e-02 -1.150492e-03   \n",
            "996 -2.623858e-02  2.483895e-03 -3.045431e-03  1.542956e-02  2.613481e-02   \n",
            "997  3.402387e-02 -2.465683e-02 -1.220054e-02 -6.122683e-03 -1.691755e-02   \n",
            "998  1.210965e-02 -2.373697e-03 -5.643978e-03 -1.206995e-02  1.366552e-02   \n",
            "999 -5.320498e-03 -5.413430e-03 -2.763020e-03 -1.063998e-02 -7.011006e-03   \n",
            "\n",
            "                7             8             9  label  \n",
            "0   -1.590759e-02  5.114755e-02  1.114304e-02      1  \n",
            "1   -7.954534e-03 -2.270062e-02 -1.519098e-02      1  \n",
            "2    1.236066e-02 -2.775227e-04  3.029786e-03      1  \n",
            "3   -5.465452e-03  3.366782e-03 -1.694722e-02      1  \n",
            "4    3.723824e-15  3.025851e-14  1.467524e-14      1  \n",
            "..            ...           ...           ...    ...  \n",
            "995 -7.973544e-03 -5.364941e-03 -1.649859e-02      1  \n",
            "996 -1.766084e-02 -6.220452e-04 -1.493476e-02      1  \n",
            "997 -3.091513e-02  1.451231e-02  6.722298e-03      1  \n",
            "998  3.803506e-02  9.072859e-04 -2.508396e-02      1  \n",
            "999 -1.695252e-02  3.784369e-03 -1.538803e-02      1  \n",
            "\n",
            "[1000 rows x 71 columns]\n"
          ]
        }
      ]
    },
    {
      "cell_type": "code",
      "source": [
        "#divide data in to data_label and non_data label\n",
        "\n",
        "import copy\n",
        "result_nonlabel=copy.deepcopy(result)\n",
        "del result_nonlabel['label']\n",
        "X=result_nonlabel\n",
        "y=result.label"
      ],
      "metadata": {
        "id": "YOs9Xc_aCj1V"
      },
      "execution_count": 7,
      "outputs": []
    },
    {
      "cell_type": "code",
      "source": [
        "#splitting data in to test and train...\n",
        "\n",
        "from sklearn.model_selection import train_test_split\n",
        "X_train, X_test, y_train, y_test = train_test_split(X, y ,random_state=42,test_size=0.3)#"
      ],
      "metadata": {
        "id": "KDFNMGJPCz_J"
      },
      "execution_count": 8,
      "outputs": []
    },
    {
      "cell_type": "code",
      "source": [
        "print('shape of x_train is:',X_train.shape)\n",
        "print('shape of x_test is:',X_test.shape)"
      ],
      "metadata": {
        "colab": {
          "base_uri": "https://localhost:8080/"
        },
        "id": "GFfz077yC1az",
        "outputId": "0ebb8792-42fa-44d7-d33a-300c935cc795"
      },
      "execution_count": 9,
      "outputs": [
        {
          "output_type": "stream",
          "name": "stdout",
          "text": [
            "shape of x_train is: (700, 70)\n",
            "shape of x_test is: (300, 70)\n"
          ]
        }
      ]
    },
    {
      "cell_type": "code",
      "source": [
        "def make_latent_samples(n_samples, sample_size):\n",
        "    #return np.random.uniform(-1, 1, size=(n_samples, sample_size))\n",
        "    return np.random.normal(loc=0, scale=1, size=(n_samples, sample_size))"
      ],
      "metadata": {
        "id": "1F0ZTSg7C3hA"
      },
      "execution_count": 10,
      "outputs": []
    },
    {
      "cell_type": "code",
      "source": [
        "make_latent_samples(1, 100) # generates one sample"
      ],
      "metadata": {
        "colab": {
          "base_uri": "https://localhost:8080/"
        },
        "id": "gQyJU64cC44_",
        "outputId": "ddf62582-8b7f-4dc9-deb7-fe3bf815d57a"
      },
      "execution_count": 11,
      "outputs": [
        {
          "output_type": "execute_result",
          "data": {
            "text/plain": [
              "array([[-0.27505305, -0.27982449,  1.91941817,  1.42267057,  1.22771675,\n",
              "         2.0003184 , -0.31980377, -1.60777904,  0.21114484, -1.41362061,\n",
              "         1.2425782 , -1.2924744 , -0.25986534,  1.3911619 , -0.33621047,\n",
              "         0.11846988, -0.32541221,  1.29158215,  1.87883679, -1.56292483,\n",
              "        -1.66091912,  0.3922683 , -0.82848804,  0.10857984, -0.86924361,\n",
              "        -0.21938866,  1.01533006, -1.37488603, -2.25627041, -1.82127767,\n",
              "         1.91486301,  0.11619433, -2.00820304, -0.23686143, -1.31610396,\n",
              "        -0.93817384,  0.65484384,  1.32360811,  1.75691389, -0.57040343,\n",
              "        -1.06677889,  0.05773368,  0.51422233, -0.90390583, -0.42118635,\n",
              "         1.17299389,  0.24591989, -0.28293853,  0.74131307,  0.05408056,\n",
              "        -1.4576113 , -0.23630594,  0.5543312 ,  0.32946848, -0.26492815,\n",
              "         0.2731723 , -1.49079283, -1.19097918,  0.16651259,  0.98792024,\n",
              "        -0.80968229, -0.90615497, -0.98510311, -1.31523464,  0.90559126,\n",
              "        -0.5834124 ,  0.41459076, -0.19153228,  1.20180361, -0.34276974,\n",
              "         1.39544191,  0.59645057, -1.30743631,  1.17544088, -0.19349689,\n",
              "         0.26250856, -0.74483573, -1.24292944, -0.63490142,  0.57899484,\n",
              "        -0.11622119,  0.58162876, -0.02851589, -0.59697903, -2.11571321,\n",
              "        -0.81938824, -1.15332078,  0.87596936,  0.66534885,  0.21618016,\n",
              "        -0.39901216,  0.7783385 , -0.02765613, -0.88754597,  0.07013401,\n",
              "         0.57573041, -0.57583483,  1.75570633, -0.56604851,  0.52680081]])"
            ]
          },
          "metadata": {},
          "execution_count": 11
        }
      ]
    },
    {
      "cell_type": "code",
      "source": [
        "generator = Sequential([\n",
        "    Dense(128, input_shape=(100,)),\n",
        "    LeakyReLU(alpha=0.2),\n",
        "    BatchNormalization(momentum=0.7),\n",
        "\n",
        "    #Dense(100),\n",
        "    #LeakyReLU(alpha=0.2),\n",
        "    #BatchNormalization(momentum=0.7),\n",
        "\n",
        "    #Dense(1024),\n",
        "    #LeakyReLU(alpha=0.2),\n",
        "    #BatchNormalization(momentum=0.7),\n",
        "\n",
        "    #Dense(2048),\n",
        "    #LeakyReLU(alpha=0.2),\n",
        "    #BatchNormalization(momentum=0.7),\n",
        "\n",
        "    Dense(70),\n",
        "    Activation('tanh')\n",
        "], name='generator')\n",
        "\n",
        "generator.summary()"
      ],
      "metadata": {
        "colab": {
          "base_uri": "https://localhost:8080/"
        },
        "id": "MedUL6ngC72k",
        "outputId": "8f8041c2-1874-43da-e61d-2cc0f679a0f8"
      },
      "execution_count": 12,
      "outputs": [
        {
          "output_type": "stream",
          "name": "stdout",
          "text": [
            "Model: \"generator\"\n",
            "_________________________________________________________________\n",
            " Layer (type)                Output Shape              Param #   \n",
            "=================================================================\n",
            " dense (Dense)               (None, 128)               12928     \n",
            "                                                                 \n",
            " leaky_re_lu (LeakyReLU)     (None, 128)               0         \n",
            "                                                                 \n",
            " batch_normalization (BatchN  (None, 128)              512       \n",
            " ormalization)                                                   \n",
            "                                                                 \n",
            " dense_1 (Dense)             (None, 70)                9030      \n",
            "                                                                 \n",
            " activation (Activation)     (None, 70)                0         \n",
            "                                                                 \n",
            "=================================================================\n",
            "Total params: 22,470\n",
            "Trainable params: 22,214\n",
            "Non-trainable params: 256\n",
            "_________________________________________________________________\n"
          ]
        }
      ]
    },
    {
      "cell_type": "code",
      "source": [
        "discriminator = Sequential([\n",
        "    Dense(64, input_shape=(70,)),\n",
        "    LeakyReLU(alpha=0.2),\n",
        "    #BatchNormalization(momentum=0.7),\n",
        "\n",
        "    Dense(32),\n",
        "    LeakyReLU(alpha=0.2),\n",
        "    #BatchNormalization(momentum=0.7),\n",
        "\n",
        "    #Dense(128),\n",
        "    #LeakyReLU(alpha=0.2),\n",
        "    #BatchNormalization(momentum=0.7),\n",
        "    #Dense(64),\n",
        "    #LeakyReLU(alpha=0.2),\n",
        "    #BatchNormalization(momentum=0.7),\n",
        "\n",
        "    #Dense(32),\n",
        "    #LeakyReLU(alpha=0.2),\n",
        "    #BatchNormalization(momentum=0.7),\n",
        "\n",
        "    #Dense(16),\n",
        "    #LeakyReLU(alpha=0.2),\n",
        "    #BatchNormalization(momentum=0.7),\n",
        "\n",
        "    Dense(1),\n",
        "    Activation('sigmoid')\n",
        "], name='discriminator')\n",
        "\n",
        "discriminator.summary()"
      ],
      "metadata": {
        "colab": {
          "base_uri": "https://localhost:8080/"
        },
        "id": "aQ_AFOBWC9DM",
        "outputId": "7af759f7-66f9-4cce-9f77-00b5375d2269"
      },
      "execution_count": 13,
      "outputs": [
        {
          "output_type": "stream",
          "name": "stdout",
          "text": [
            "Model: \"discriminator\"\n",
            "_________________________________________________________________\n",
            " Layer (type)                Output Shape              Param #   \n",
            "=================================================================\n",
            " dense_2 (Dense)             (None, 64)                4544      \n",
            "                                                                 \n",
            " leaky_re_lu_1 (LeakyReLU)   (None, 64)                0         \n",
            "                                                                 \n",
            " dense_3 (Dense)             (None, 32)                2080      \n",
            "                                                                 \n",
            " leaky_re_lu_2 (LeakyReLU)   (None, 32)                0         \n",
            "                                                                 \n",
            " dense_4 (Dense)             (None, 1)                 33        \n",
            "                                                                 \n",
            " activation_1 (Activation)   (None, 1)                 0         \n",
            "                                                                 \n",
            "=================================================================\n",
            "Total params: 6,657\n",
            "Trainable params: 6,657\n",
            "Non-trainable params: 0\n",
            "_________________________________________________________________\n"
          ]
        }
      ]
    },
    {
      "cell_type": "code",
      "source": [
        "# maintain the same shared weights with the generator and the discriminator.\n",
        "gan = Sequential([\n",
        "    generator,\n",
        "    discriminator\n",
        "])\n",
        "\n",
        "gan.summary()"
      ],
      "metadata": {
        "colab": {
          "base_uri": "https://localhost:8080/"
        },
        "id": "nzpglarWDA5p",
        "outputId": "ad5a57f2-b909-48f8-a409-a310ecfaf3bc"
      },
      "execution_count": 14,
      "outputs": [
        {
          "output_type": "stream",
          "name": "stdout",
          "text": [
            "Model: \"sequential\"\n",
            "_________________________________________________________________\n",
            " Layer (type)                Output Shape              Param #   \n",
            "=================================================================\n",
            " generator (Sequential)      (None, 70)                22470     \n",
            "                                                                 \n",
            " discriminator (Sequential)  (None, 1)                 6657      \n",
            "                                                                 \n",
            "=================================================================\n",
            "Total params: 29,127\n",
            "Trainable params: 28,871\n",
            "Non-trainable params: 256\n",
            "_________________________________________________________________\n"
          ]
        }
      ]
    },
    {
      "cell_type": "code",
      "source": [
        "def make_trainable(model, trainable):\n",
        "    for layer in model.layers:\n",
        "        layer.trainable = trainable"
      ],
      "metadata": {
        "id": "jcQFa2llDDb9"
      },
      "execution_count": 15,
      "outputs": []
    },
    {
      "cell_type": "code",
      "source": [
        "make_trainable(discriminator, False)\n",
        "discriminator.summary()"
      ],
      "metadata": {
        "colab": {
          "base_uri": "https://localhost:8080/"
        },
        "id": "rmNw2ufIDEuQ",
        "outputId": "95bb59ae-9851-41e3-e92a-72ed5016980a"
      },
      "execution_count": 16,
      "outputs": [
        {
          "output_type": "stream",
          "name": "stdout",
          "text": [
            "Model: \"discriminator\"\n",
            "_________________________________________________________________\n",
            " Layer (type)                Output Shape              Param #   \n",
            "=================================================================\n",
            " dense_2 (Dense)             (None, 64)                4544      \n",
            "                                                                 \n",
            " leaky_re_lu_1 (LeakyReLU)   (None, 64)                0         \n",
            "                                                                 \n",
            " dense_3 (Dense)             (None, 32)                2080      \n",
            "                                                                 \n",
            " leaky_re_lu_2 (LeakyReLU)   (None, 32)                0         \n",
            "                                                                 \n",
            " dense_4 (Dense)             (None, 1)                 33        \n",
            "                                                                 \n",
            " activation_1 (Activation)   (None, 1)                 0         \n",
            "                                                                 \n",
            "=================================================================\n",
            "Total params: 6,657\n",
            "Trainable params: 0\n",
            "Non-trainable params: 6,657\n",
            "_________________________________________________________________\n"
          ]
        }
      ]
    },
    {
      "cell_type": "code",
      "source": [
        "make_trainable(discriminator, True)\n",
        "discriminator.summary()"
      ],
      "metadata": {
        "colab": {
          "base_uri": "https://localhost:8080/"
        },
        "id": "LTgogN-IDGjL",
        "outputId": "551a49bc-d8ce-44d1-c38f-309477d3acb7"
      },
      "execution_count": 17,
      "outputs": [
        {
          "output_type": "stream",
          "name": "stdout",
          "text": [
            "Model: \"discriminator\"\n",
            "_________________________________________________________________\n",
            " Layer (type)                Output Shape              Param #   \n",
            "=================================================================\n",
            " dense_2 (Dense)             (None, 64)                4544      \n",
            "                                                                 \n",
            " leaky_re_lu_1 (LeakyReLU)   (None, 64)                0         \n",
            "                                                                 \n",
            " dense_3 (Dense)             (None, 32)                2080      \n",
            "                                                                 \n",
            " leaky_re_lu_2 (LeakyReLU)   (None, 32)                0         \n",
            "                                                                 \n",
            " dense_4 (Dense)             (None, 1)                 33        \n",
            "                                                                 \n",
            " activation_1 (Activation)   (None, 1)                 0         \n",
            "                                                                 \n",
            "=================================================================\n",
            "Total params: 6,657\n",
            "Trainable params: 6,657\n",
            "Non-trainable params: 0\n",
            "_________________________________________________________________\n"
          ]
        }
      ]
    },
    {
      "cell_type": "code",
      "source": [
        "def make_simple_GAN(sample_size, \n",
        "                    g_hidden_size_1,\n",
        "                    g_hidden_size_2,\n",
        "                    g_hidden_size_3,\n",
        "                    g_hidden_size_4,\n",
        "                    d_hidden_size_1,\n",
        "                    d_hidden_size_2, \n",
        "                    d_hidden_size_3,\n",
        "                    d_hidden_size_4,\n",
        "                    d_hidden_size_5,\n",
        "                    d_hidden_size_6,\n",
        "                    leaky_alpha, \n",
        "                    g_learning_rate,\n",
        "                    d_learning_rate):\n",
        "    K.clear_session()\n",
        "    \n",
        "    generator = Sequential([\n",
        "        Dense(g_hidden_size_1, input_shape=(sample_size,)),\n",
        "        LeakyReLU(alpha=leaky_alpha),\n",
        "        BatchNormalization(momentum=0.7),\n",
        "\n",
        "        #Dense(g_hidden_size_2),\n",
        "        #LeakyReLU(alpha=leaky_alpha),\n",
        "        #BatchNormalization(momentum=0.7),\n",
        "\n",
        "        #Dense(g_hidden_size_3),\n",
        "        #LeakyReLU(alpha=leaky_alpha),\n",
        "        #BatchNormalization(momentum=0.7),\n",
        "\n",
        "        #Dense(g_hidden_size_4),\n",
        "        #LeakyReLU(alpha=leaky_alpha),\n",
        "        #BatchNormalization(momentum=0.7),\n",
        "\n",
        "        Dense(70),        \n",
        "        Activation('tanh')\n",
        "    ], name='generator')    \n",
        "\n",
        "    discriminator = Sequential([\n",
        "        Dense(d_hidden_size_1, input_shape=(70,)),\n",
        "        LeakyReLU(alpha=leaky_alpha),\n",
        "        #BatchNormalization(momentum=0.7),\n",
        "\n",
        "        Dense(d_hidden_size_2),\n",
        "        LeakyReLU(alpha=leaky_alpha),\n",
        "        #BatchNormalization(momentum=0.7),\n",
        "\n",
        "        #Dense(d_hidden_size_3),\n",
        "        #LeakyReLU(alpha=leaky_alpha),\n",
        "        #BatchNormalization(momentum=0.7),\n",
        "\n",
        "        #Dense(d_hidden_size_4),\n",
        "        #LeakyReLU(alpha=leaky_alpha),\n",
        "        #BatchNormalization(momentum=0.7),\n",
        "\n",
        "        #Dense(d_hidden_size_5),\n",
        "        #LeakyReLU(alpha=leaky_alpha),\n",
        "        #BatchNormalization(momentum=0.7),\n",
        "\n",
        "        #Dense(d_hidden_size_6),\n",
        "        #LeakyReLU(alpha=leaky_alpha),\n",
        "        #BatchNormalization(momentum=0.7),\n",
        "\n",
        "        Dense(1),\n",
        "        Activation('sigmoid')\n",
        "    ], name='discriminator')    \n",
        "    \n",
        "    gan = Sequential([\n",
        "        generator,\n",
        "        discriminator\n",
        "    ])\n",
        "    \n",
        "    discriminator.compile(optimizer=Adam(lr=d_learning_rate), loss='binary_crossentropy')\n",
        "    gan.compile(optimizer=Adam(lr=g_learning_rate), loss='binary_crossentropy')\n",
        "    \n",
        "    return gan, generator, discriminator "
      ],
      "metadata": {
        "id": "Y1NR5ScFDINq"
      },
      "execution_count": 18,
      "outputs": []
    },
    {
      "cell_type": "code",
      "source": [
        "from sklearn import preprocessing\n",
        "def preprocess(x):\n",
        "   x = preprocessing.scale(x)\n",
        "   return x"
      ],
      "metadata": {
        "id": "pTB_Cw2xDMgm"
      },
      "execution_count": 19,
      "outputs": []
    },
    {
      "cell_type": "code",
      "source": [
        "X_train_real = np.array(preprocess(X_train))\n",
        "X_test_real  = np.array(preprocess(X_test))"
      ],
      "metadata": {
        "id": "Ip_EsmkHDNjL"
      },
      "execution_count": 20,
      "outputs": []
    },
    {
      "cell_type": "code",
      "source": [
        "def make_labels(size):\n",
        "    return np.ones([size, 1]), np.zeros([size, 1])"
      ],
      "metadata": {
        "id": "rH90M0ypDT64"
      },
      "execution_count": 21,
      "outputs": []
    },
    {
      "cell_type": "code",
      "source": [
        "y_real_10, y_fake_10 = make_labels(10)\n",
        "\n",
        "y_real_10, y_fake_10"
      ],
      "metadata": {
        "colab": {
          "base_uri": "https://localhost:8080/"
        },
        "id": "JAMwQybFDVQq",
        "outputId": "557f8698-7e96-4f57-a826-54214951264c"
      },
      "execution_count": 22,
      "outputs": [
        {
          "output_type": "execute_result",
          "data": {
            "text/plain": [
              "(array([[1.],\n",
              "        [1.],\n",
              "        [1.],\n",
              "        [1.],\n",
              "        [1.],\n",
              "        [1.],\n",
              "        [1.],\n",
              "        [1.],\n",
              "        [1.],\n",
              "        [1.]]), array([[0.],\n",
              "        [0.],\n",
              "        [0.],\n",
              "        [0.],\n",
              "        [0.],\n",
              "        [0.],\n",
              "        [0.],\n",
              "        [0.],\n",
              "        [0.],\n",
              "        [0.]]))"
            ]
          },
          "metadata": {},
          "execution_count": 22
        }
      ]
    },
    {
      "cell_type": "code",
      "source": [
        "# hyperparameters\n",
        "sample_size     = 100     # latent sample size (i.e., 100 random numbers)\n",
        "g_hidden_size_1 = 128\n",
        "g_hidden_size_2 = 0\n",
        "g_hidden_size_3 = 0\n",
        "g_hidden_size_4 = 0\n",
        "d_hidden_size_1 = 64\n",
        "d_hidden_size_2 = 32\n",
        "d_hidden_size_3 = 0\n",
        "d_hidden_size_4 = 0\n",
        "d_hidden_size_5 = 0\n",
        "d_hidden_size_6 = 0\n",
        "leaky_alpha     = 0.2\n",
        "g_learning_rate = 0.0001  # learning rate for the generator\n",
        "d_learning_rate = 0.0001   # learning rate for the discriminator\n",
        "epochs          = 100\n",
        "batch_size      = 64      # train batch size\n",
        "eval_size       = 16      # evaluate size\n",
        "smooth          = 0.1\n"
      ],
      "metadata": {
        "id": "zjBaUGf2DVoP"
      },
      "execution_count": 23,
      "outputs": []
    },
    {
      "cell_type": "code",
      "source": [
        "## labels for the batch size and the test size\n",
        "y_train_real, y_train_fake = make_labels(batch_size)\n",
        "y_eval_real,  y_eval_fake  = make_labels(eval_size)\n",
        "\n",
        "# create a GAN, a generator and a discriminator\n",
        "gan, generator, discriminator = make_simple_GAN(\n",
        "    sample_size, \n",
        "    g_hidden_size_1, \n",
        "    g_hidden_size_2,\n",
        "    g_hidden_size_3,\n",
        "    g_hidden_size_4, \n",
        "    d_hidden_size_1, \n",
        "    d_hidden_size_2,\n",
        "    d_hidden_size_3,\n",
        "    d_hidden_size_4,\n",
        "    d_hidden_size_5,\n",
        "    d_hidden_size_6,\n",
        "    leaky_alpha, \n",
        "    g_learning_rate,\n",
        "    d_learning_rate)\n",
        "\n",
        "\n",
        "losses = []\n",
        "losses1 = []\n",
        "for e in range(epochs):\n",
        "    for i in range(len(X_train_real)//batch_size):\n",
        "        # real MNIST digit images\n",
        "        X_batch_real = X_train_real[i*batch_size:(i+1)*batch_size]\n",
        "        \n",
        "        # latent samples and the generated digit images\n",
        "        latent_samples = make_latent_samples(batch_size, sample_size)\n",
        "        X_batch_fake = generator.predict_on_batch(latent_samples)\n",
        "        \n",
        "        # train the discriminator to detect real and fake images\n",
        "        make_trainable(discriminator, True)\n",
        "        discriminator.train_on_batch(X_batch_real, y_train_real * (1 - smooth))\n",
        "        discriminator.train_on_batch(X_batch_fake, y_train_fake)\n",
        "\n",
        "        # train the generator via GAN\n",
        "        make_trainable(discriminator, False)\n",
        "        gan.train_on_batch(latent_samples, y_train_real)\n",
        "   # evaluate\n",
        "    X_eval_real = X_test_real[np.random.choice(len(X_test_real), eval_size, replace=False)]\n",
        "    \n",
        "    latent_samples = make_latent_samples(eval_size, sample_size)\n",
        "    X_eval_fake = generator.predict_on_batch(latent_samples)\n",
        "\n",
        "    d_loss  = discriminator.test_on_batch(X_eval_real, y_eval_real)\n",
        "    d_loss += discriminator.test_on_batch(X_eval_fake, y_eval_fake)\n",
        "    g_loss  = gan.test_on_batch(latent_samples, y_eval_real) # we want the fake to be realistic!\n",
        "    \n",
        "    losses.append((d_loss, g_loss))\n",
        "\n",
        "    d_acc_real = discriminator.train_on_batch(X_batch_real, y_train_real * (1 - smooth))\n",
        "    d_acc_fake = discriminator.train_on_batch(X_batch_fake, y_train_fake)\n",
        "    d_acc  = 0.5 * (d_acc_real + d_acc_fake)\n",
        "\n",
        "    #losses1.append(( d_acc))\n",
        "    print(\"Epoch: {:>3}/{} Discriminator Loss: {:>6.4f} Generator Loss: {:>6.4f} Discriminator acc:{:>6.4f}\".format(\n",
        "        e+1, epochs, d_loss, g_loss,d_acc)) #Discriminator acc: {:>6.4f}:,d_acc"
      ],
      "metadata": {
        "colab": {
          "base_uri": "https://localhost:8080/"
        },
        "id": "U2gEPAnODX5R",
        "outputId": "47baab2e-01e1-426e-c56f-2e8b543f9c77"
      },
      "execution_count": 24,
      "outputs": [
        {
          "output_type": "stream",
          "name": "stderr",
          "text": [
            "/usr/local/lib/python3.7/dist-packages/keras/optimizer_v2/adam.py:105: UserWarning: The `lr` argument is deprecated, use `learning_rate` instead.\n",
            "  super(Adam, self).__init__(name, **kwargs)\n"
          ]
        },
        {
          "output_type": "stream",
          "name": "stdout",
          "text": [
            "Epoch:   1/100 Discriminator Loss: 1.6708 Generator Loss: 0.7653 Discriminator acc:0.7448\n",
            "Epoch:   2/100 Discriminator Loss: 1.5684 Generator Loss: 0.7602 Discriminator acc:0.7233\n",
            "Epoch:   3/100 Discriminator Loss: 1.5621 Generator Loss: 0.6897 Discriminator acc:0.7041\n",
            "Epoch:   4/100 Discriminator Loss: 1.4927 Generator Loss: 0.6469 Discriminator acc:0.7271\n",
            "Epoch:   5/100 Discriminator Loss: 1.5624 Generator Loss: 0.5664 Discriminator acc:0.7287\n",
            "Epoch:   6/100 Discriminator Loss: 1.4017 Generator Loss: 0.5965 Discriminator acc:0.7282\n",
            "Epoch:   7/100 Discriminator Loss: 1.3542 Generator Loss: 0.5871 Discriminator acc:0.7324\n",
            "Epoch:   8/100 Discriminator Loss: 1.5264 Generator Loss: 0.5223 Discriminator acc:0.7335\n",
            "Epoch:   9/100 Discriminator Loss: 1.4588 Generator Loss: 0.5231 Discriminator acc:0.7562\n",
            "Epoch:  10/100 Discriminator Loss: 1.4802 Generator Loss: 0.4839 Discriminator acc:0.7546\n",
            "Epoch:  11/100 Discriminator Loss: 1.4975 Generator Loss: 0.4840 Discriminator acc:0.7483\n",
            "Epoch:  12/100 Discriminator Loss: 1.5128 Generator Loss: 0.4375 Discriminator acc:0.7531\n",
            "Epoch:  13/100 Discriminator Loss: 1.5849 Generator Loss: 0.4598 Discriminator acc:0.7754\n",
            "Epoch:  14/100 Discriminator Loss: 1.5569 Generator Loss: 0.4048 Discriminator acc:0.7622\n",
            "Epoch:  15/100 Discriminator Loss: 1.5224 Generator Loss: 0.4227 Discriminator acc:0.7936\n",
            "Epoch:  16/100 Discriminator Loss: 1.4988 Generator Loss: 0.4274 Discriminator acc:0.7873\n",
            "Epoch:  17/100 Discriminator Loss: 1.4481 Generator Loss: 0.4466 Discriminator acc:0.7673\n",
            "Epoch:  18/100 Discriminator Loss: 1.5423 Generator Loss: 0.4163 Discriminator acc:0.7528\n",
            "Epoch:  19/100 Discriminator Loss: 1.4102 Generator Loss: 0.4772 Discriminator acc:0.7658\n",
            "Epoch:  20/100 Discriminator Loss: 1.4502 Generator Loss: 0.4108 Discriminator acc:0.7783\n",
            "Epoch:  21/100 Discriminator Loss: 1.4585 Generator Loss: 0.4428 Discriminator acc:0.7782\n",
            "Epoch:  22/100 Discriminator Loss: 1.5280 Generator Loss: 0.3828 Discriminator acc:0.7805\n",
            "Epoch:  23/100 Discriminator Loss: 1.5244 Generator Loss: 0.4037 Discriminator acc:0.7811\n",
            "Epoch:  24/100 Discriminator Loss: 1.6177 Generator Loss: 0.3438 Discriminator acc:0.7731\n",
            "Epoch:  25/100 Discriminator Loss: 1.4877 Generator Loss: 0.4322 Discriminator acc:0.7675\n",
            "Epoch:  26/100 Discriminator Loss: 1.4360 Generator Loss: 0.4375 Discriminator acc:0.7798\n",
            "Epoch:  27/100 Discriminator Loss: 1.6605 Generator Loss: 0.3490 Discriminator acc:0.7883\n",
            "Epoch:  28/100 Discriminator Loss: 1.4714 Generator Loss: 0.4165 Discriminator acc:0.7726\n",
            "Epoch:  29/100 Discriminator Loss: 1.5439 Generator Loss: 0.3954 Discriminator acc:0.7744\n",
            "Epoch:  30/100 Discriminator Loss: 1.4871 Generator Loss: 0.3936 Discriminator acc:0.7801\n",
            "Epoch:  31/100 Discriminator Loss: 1.5423 Generator Loss: 0.4069 Discriminator acc:0.7646\n",
            "Epoch:  32/100 Discriminator Loss: 1.4216 Generator Loss: 0.4257 Discriminator acc:0.7745\n",
            "Epoch:  33/100 Discriminator Loss: 1.5453 Generator Loss: 0.3929 Discriminator acc:0.7803\n",
            "Epoch:  34/100 Discriminator Loss: 1.5506 Generator Loss: 0.3688 Discriminator acc:0.7972\n",
            "Epoch:  35/100 Discriminator Loss: 1.5385 Generator Loss: 0.3781 Discriminator acc:0.8023\n",
            "Epoch:  36/100 Discriminator Loss: 1.5255 Generator Loss: 0.3982 Discriminator acc:0.7861\n",
            "Epoch:  37/100 Discriminator Loss: 1.3662 Generator Loss: 0.4435 Discriminator acc:0.7604\n",
            "Epoch:  38/100 Discriminator Loss: 1.5046 Generator Loss: 0.4085 Discriminator acc:0.7909\n",
            "Epoch:  39/100 Discriminator Loss: 1.5791 Generator Loss: 0.3791 Discriminator acc:0.7895\n",
            "Epoch:  40/100 Discriminator Loss: 1.5607 Generator Loss: 0.3654 Discriminator acc:0.7823\n",
            "Epoch:  41/100 Discriminator Loss: 1.4501 Generator Loss: 0.4321 Discriminator acc:0.7969\n",
            "Epoch:  42/100 Discriminator Loss: 1.4744 Generator Loss: 0.4180 Discriminator acc:0.7905\n",
            "Epoch:  43/100 Discriminator Loss: 1.5833 Generator Loss: 0.3733 Discriminator acc:0.7939\n",
            "Epoch:  44/100 Discriminator Loss: 1.4694 Generator Loss: 0.3836 Discriminator acc:0.7617\n",
            "Epoch:  45/100 Discriminator Loss: 1.4243 Generator Loss: 0.4127 Discriminator acc:0.7892\n",
            "Epoch:  46/100 Discriminator Loss: 1.5187 Generator Loss: 0.3797 Discriminator acc:0.7835\n",
            "Epoch:  47/100 Discriminator Loss: 1.5267 Generator Loss: 0.3837 Discriminator acc:0.7693\n",
            "Epoch:  48/100 Discriminator Loss: 1.5137 Generator Loss: 0.3921 Discriminator acc:0.7687\n",
            "Epoch:  49/100 Discriminator Loss: 1.5574 Generator Loss: 0.3728 Discriminator acc:0.7889\n",
            "Epoch:  50/100 Discriminator Loss: 1.5417 Generator Loss: 0.3701 Discriminator acc:0.7807\n",
            "Epoch:  51/100 Discriminator Loss: 1.5073 Generator Loss: 0.4065 Discriminator acc:0.7760\n",
            "Epoch:  52/100 Discriminator Loss: 1.4797 Generator Loss: 0.4061 Discriminator acc:0.7985\n",
            "Epoch:  53/100 Discriminator Loss: 1.5150 Generator Loss: 0.3762 Discriminator acc:0.7875\n",
            "Epoch:  54/100 Discriminator Loss: 1.4810 Generator Loss: 0.4000 Discriminator acc:0.7977\n",
            "Epoch:  55/100 Discriminator Loss: 1.4623 Generator Loss: 0.3905 Discriminator acc:0.7647\n",
            "Epoch:  56/100 Discriminator Loss: 1.5191 Generator Loss: 0.3688 Discriminator acc:0.7710\n",
            "Epoch:  57/100 Discriminator Loss: 1.4469 Generator Loss: 0.4035 Discriminator acc:0.7661\n",
            "Epoch:  58/100 Discriminator Loss: 1.5148 Generator Loss: 0.3855 Discriminator acc:0.7613\n",
            "Epoch:  59/100 Discriminator Loss: 1.5328 Generator Loss: 0.3891 Discriminator acc:0.7708\n",
            "Epoch:  60/100 Discriminator Loss: 1.5189 Generator Loss: 0.3905 Discriminator acc:0.7714\n",
            "Epoch:  61/100 Discriminator Loss: 1.4897 Generator Loss: 0.3927 Discriminator acc:0.7748\n",
            "Epoch:  62/100 Discriminator Loss: 1.4388 Generator Loss: 0.4133 Discriminator acc:0.7839\n",
            "Epoch:  63/100 Discriminator Loss: 1.5670 Generator Loss: 0.3558 Discriminator acc:0.7702\n",
            "Epoch:  64/100 Discriminator Loss: 1.5163 Generator Loss: 0.3735 Discriminator acc:0.7769\n",
            "Epoch:  65/100 Discriminator Loss: 1.4354 Generator Loss: 0.4214 Discriminator acc:0.7705\n",
            "Epoch:  66/100 Discriminator Loss: 1.4682 Generator Loss: 0.3923 Discriminator acc:0.7877\n",
            "Epoch:  67/100 Discriminator Loss: 1.5110 Generator Loss: 0.3645 Discriminator acc:0.7780\n",
            "Epoch:  68/100 Discriminator Loss: 1.3683 Generator Loss: 0.4408 Discriminator acc:0.7763\n",
            "Epoch:  69/100 Discriminator Loss: 1.4728 Generator Loss: 0.3809 Discriminator acc:0.7738\n",
            "Epoch:  70/100 Discriminator Loss: 1.5297 Generator Loss: 0.3788 Discriminator acc:0.7521\n",
            "Epoch:  71/100 Discriminator Loss: 1.5044 Generator Loss: 0.3674 Discriminator acc:0.7849\n",
            "Epoch:  72/100 Discriminator Loss: 1.5247 Generator Loss: 0.3715 Discriminator acc:0.7609\n",
            "Epoch:  73/100 Discriminator Loss: 1.4722 Generator Loss: 0.4034 Discriminator acc:0.7585\n",
            "Epoch:  74/100 Discriminator Loss: 1.4578 Generator Loss: 0.3962 Discriminator acc:0.7657\n",
            "Epoch:  75/100 Discriminator Loss: 1.3806 Generator Loss: 0.4484 Discriminator acc:0.7850\n",
            "Epoch:  76/100 Discriminator Loss: 1.4476 Generator Loss: 0.4048 Discriminator acc:0.7733\n",
            "Epoch:  77/100 Discriminator Loss: 1.5093 Generator Loss: 0.3814 Discriminator acc:0.7709\n",
            "Epoch:  78/100 Discriminator Loss: 1.4991 Generator Loss: 0.3758 Discriminator acc:0.7727\n",
            "Epoch:  79/100 Discriminator Loss: 1.4305 Generator Loss: 0.4180 Discriminator acc:0.7696\n",
            "Epoch:  80/100 Discriminator Loss: 1.5203 Generator Loss: 0.3734 Discriminator acc:0.7690\n",
            "Epoch:  81/100 Discriminator Loss: 1.4770 Generator Loss: 0.3834 Discriminator acc:0.7768\n",
            "Epoch:  82/100 Discriminator Loss: 1.4303 Generator Loss: 0.4171 Discriminator acc:0.7529\n",
            "Epoch:  83/100 Discriminator Loss: 1.4549 Generator Loss: 0.3969 Discriminator acc:0.7704\n",
            "Epoch:  84/100 Discriminator Loss: 1.4428 Generator Loss: 0.3905 Discriminator acc:0.7601\n",
            "Epoch:  85/100 Discriminator Loss: 1.4918 Generator Loss: 0.3781 Discriminator acc:0.7692\n",
            "Epoch:  86/100 Discriminator Loss: 1.4802 Generator Loss: 0.3851 Discriminator acc:0.7636\n",
            "Epoch:  87/100 Discriminator Loss: 1.4452 Generator Loss: 0.3805 Discriminator acc:0.7336\n",
            "Epoch:  88/100 Discriminator Loss: 1.4354 Generator Loss: 0.3983 Discriminator acc:0.7473\n",
            "Epoch:  89/100 Discriminator Loss: 1.4174 Generator Loss: 0.4119 Discriminator acc:0.7601\n",
            "Epoch:  90/100 Discriminator Loss: 1.4199 Generator Loss: 0.4101 Discriminator acc:0.7636\n",
            "Epoch:  91/100 Discriminator Loss: 1.4450 Generator Loss: 0.3988 Discriminator acc:0.7504\n",
            "Epoch:  92/100 Discriminator Loss: 1.4138 Generator Loss: 0.4118 Discriminator acc:0.7557\n",
            "Epoch:  93/100 Discriminator Loss: 1.4693 Generator Loss: 0.4063 Discriminator acc:0.7532\n",
            "Epoch:  94/100 Discriminator Loss: 1.3921 Generator Loss: 0.4134 Discriminator acc:0.7669\n",
            "Epoch:  95/100 Discriminator Loss: 1.4695 Generator Loss: 0.3941 Discriminator acc:0.7703\n",
            "Epoch:  96/100 Discriminator Loss: 1.4540 Generator Loss: 0.4051 Discriminator acc:0.7538\n",
            "Epoch:  97/100 Discriminator Loss: 1.4253 Generator Loss: 0.4081 Discriminator acc:0.7737\n",
            "Epoch:  98/100 Discriminator Loss: 1.5184 Generator Loss: 0.3801 Discriminator acc:0.7622\n",
            "Epoch:  99/100 Discriminator Loss: 1.4489 Generator Loss: 0.3953 Discriminator acc:0.7385\n",
            "Epoch: 100/100 Discriminator Loss: 1.4797 Generator Loss: 0.3755 Discriminator acc:0.7541\n"
          ]
        }
      ]
    },
    {
      "cell_type": "code",
      "source": [
        "losses = np.array(losses)\n",
        "\n",
        "fig, ax = plt.subplots()\n",
        "plt.plot(losses.T[0], label='Discriminator')\n",
        "plt.plot(losses.T[1], label='Generator')\n",
        "plt.title(\"Training Losses\")\n",
        "plt.legend()\n",
        "plt.show()"
      ],
      "metadata": {
        "colab": {
          "base_uri": "https://localhost:8080/",
          "height": 281
        },
        "id": "PggCTTOGDgna",
        "outputId": "d08925e4-23a1-4516-b325-c8a3b6c52bd1"
      },
      "execution_count": 25,
      "outputs": [
        {
          "output_type": "display_data",
          "data": {
            "image/png": "[encoded data removed]",
            "text/plain": [
              "<Figure size 432x288 with 1 Axes>"
            ]
          },
          "metadata": {
            "needs_background": "light"
          }
        }
      ]
    },
    {
      "cell_type": "code",
      "source": [
        "rr = discriminator.predict_on_batch(X_test_real)"
      ],
      "metadata": {
        "id": "YZIu_ZtmDhef"
      },
      "execution_count": 26,
      "outputs": []
    },
    {
      "cell_type": "code",
      "source": [
        "import keras\n",
        "#import keras_metrics\n",
        "\n",
        "r = tf.keras.metrics.Recall()#thresholds=rr.min())\n",
        "r.update_state(y_test,rr )\n",
        "r.result().numpy()\n"
      ],
      "metadata": {
        "colab": {
          "base_uri": "https://localhost:8080/"
        },
        "id": "9aiuPNLfDkQu",
        "outputId": "0e773210-8a55-472c-ef99-0f9a135ec364"
      },
      "execution_count": 27,
      "outputs": [
        {
          "output_type": "execute_result",
          "data": {
            "text/plain": [
              "0.996633"
            ]
          },
          "metadata": {},
          "execution_count": 27
        }
      ]
    },
    {
      "cell_type": "code",
      "source": [
        "p=tf.keras.metrics.Precision()#thresholds=rr.min())\n",
        "p.update_state(y_test,rr )\n",
        "p.result().numpy()"
      ],
      "metadata": {
        "colab": {
          "base_uri": "https://localhost:8080/"
        },
        "id": "0lNCrQ-HDln4",
        "outputId": "75c66afb-4055-4f89-99d0-b260d913defc"
      },
      "execution_count": 28,
      "outputs": [
        {
          "output_type": "execute_result",
          "data": {
            "text/plain": [
              "0.9899666"
            ]
          },
          "metadata": {},
          "execution_count": 28
        }
      ]
    },
    {
      "cell_type": "code",
      "source": [
        "from sklearn.datasets import make_classification\n",
        "from sklearn.linear_model import LogisticRegression\n",
        "from sklearn.model_selection import train_test_split\n",
        "from matplotlib import pyplot\n",
        "from sklearn.metrics import roc_auc_score\n",
        "from sklearn.metrics import roc_curve\n",
        "\n",
        "\n",
        "\n",
        "yhat = discriminator.predict_on_batch(X_test_real)\n",
        "pos_probs = yhat[:, :]\n",
        "pyplot.plot([0, 1], [0, 1], linestyle='--')\n",
        "fpr, tpr, _ = roc_curve(y_test, pos_probs)\n",
        "pyplot.plot(fpr, tpr, marker='.', label='GAN')\n",
        "pyplot.xlabel('False Positive Rate')\n",
        "pyplot.ylabel('True Positive Rate')\n",
        "pyplot.legend()\n",
        "pyplot.show()\n",
        "\n",
        "roc_auc = roc_auc_score(y_test, pos_probs)\n",
        "print('\\n','Logistic ROC AUC %.3f' % roc_auc)"
      ],
      "metadata": {
        "id": "mWySnqndvnxw",
        "outputId": "8ea8d511-feb0-43e8-aa3f-ac3a8f6e2e25",
        "colab": {
          "base_uri": "https://localhost:8080/",
          "height": 316
        }
      },
      "execution_count": 29,
      "outputs": [
        {
          "output_type": "display_data",
          "data": {
            "image/png": "[encoded data removed]",
            "text/plain": [
              "<Figure size 432x288 with 1 Axes>"
            ]
          },
          "metadata": {
            "needs_background": "light"
          }
        },
        {
          "output_type": "stream",
          "name": "stdout",
          "text": [
            "\n",
            " Logistic ROC AUC 0.418\n"
          ]
        }
      ]
    }
  ]
}